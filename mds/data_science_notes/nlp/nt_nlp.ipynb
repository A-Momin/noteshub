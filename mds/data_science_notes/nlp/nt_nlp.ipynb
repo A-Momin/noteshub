{
 "cells": [
  {
   "cell_type": "markdown",
   "id": "f388e24d",
   "metadata": {
    "toc": true
   },
   "source": [
    "<h1>Table of Contents<span class=\"tocSkip\"></span></h1>\n",
    "<div class=\"toc\"><ul class=\"toc-item\"><li><span><a href=\"#Text-Processing\" data-toc-modified-id=\"Text-Processing-1\">Text Processing</a></span><ul class=\"toc-item\"><li><span><a href=\"#Text-cleaning\" data-toc-modified-id=\"Text-cleaning-1.1\">Text cleaning</a></span></li><li><span><a href=\"#Normalization,-tokenization,-and-stop-words-removal\" data-toc-modified-id=\"Normalization,-tokenization,-and-stop-words-removal-1.2\">Normalization, tokenization, and stop words removal</a></span></li><li><span><a href=\"#Part-of-speech-tagging,-named-entity-recognition,-and-conference-resolution\" data-toc-modified-id=\"Part-of-speech-tagging,-named-entity-recognition,-and-conference-resolution-1.3\">Part of speech tagging, named entity recognition, and conference resolution</a></span></li><li><span><a href=\"#Stemming-and-Lemmatization\" data-toc-modified-id=\"Stemming-and-Lemmatization-1.4\">Stemming and Lemmatization</a></span></li></ul></li><li><span><a href=\"#Feature-Extraction\" data-toc-modified-id=\"Feature-Extraction-2\">Feature Extraction</a></span><ul class=\"toc-item\"><li><span><a href=\"#Bag-of-Words\" data-toc-modified-id=\"Bag-of-Words-2.1\">Bag of Words</a></span></li><li><span><a href=\"#TF-IDF\" data-toc-modified-id=\"TF-IDF-2.2\">TF-IDF</a></span></li><li><span><a href=\"#Word-Embeddings\" data-toc-modified-id=\"Word-Embeddings-2.3\">Word Embeddings</a></span></li></ul></li><li><span><a href=\"#Modeling\" data-toc-modified-id=\"Modeling-3\">Modeling</a></span></li></ul></div>"
   ]
  },
  {
   "cell_type": "markdown",
   "id": "8de7db1a",
   "metadata": {},
   "source": [
    "## Text Processing\n",
    "\n",
    "Take raw input text, clean it, normalize it, and convert it into a form that is suitable for feature extraction. The goal is to (1) extract plain text that is free of any source specific markup or constructs that are not relevant to your task, and (2) to reduce complexity."
   ]
  },
  {
   "cell_type": "markdown",
   "id": "919c4359",
   "metadata": {},
   "source": [
    "### Text cleaning"
   ]
  },
  {
   "cell_type": "markdown",
   "id": "3265d801",
   "metadata": {},
   "source": [
    "- **Encoding check**\n",
    "\n",
    "  Check encoding in order to work with and display everything, and to avoid losing some information as we move and analyze the data."
   ]
  },
  {
   "cell_type": "code",
   "execution_count": 16,
   "id": "4af2f10c",
   "metadata": {},
   "outputs": [],
   "source": [
    "# Use chardet if cannot find encoding from formal means\n",
    "import chardet\n",
    "\n",
    "string_one = \"What kind of funny business is this? 🤨\"\n",
    "encoded_one = string_one.encode(\"utf-32\")"
   ]
  },
  {
   "cell_type": "code",
   "execution_count": 17,
   "id": "96a42a65",
   "metadata": {},
   "outputs": [
    {
     "name": "stdout",
     "output_type": "stream",
     "text": [
      "{'encoding': 'UTF-32', 'confidence': 1.0, 'language': ''}\n"
     ]
    }
   ],
   "source": [
    "# Detect encoding\n",
    "print(chardet.detect(encoded_one))"
   ]
  },
  {
   "cell_type": "code",
   "execution_count": 18,
   "id": "1ecf9584",
   "metadata": {},
   "outputs": [
    {
     "data": {
      "text/plain": [
       "'What kind of funny business is this? 🤨'"
      ]
     },
     "execution_count": 18,
     "metadata": {},
     "output_type": "execute_result"
    }
   ],
   "source": [
    "# Then decode\n",
    "encoded_one.decode(\"utf-32\")"
   ]
  },
  {
   "cell_type": "markdown",
   "id": "6e04e30e",
   "metadata": {},
   "source": [
    "- **Foreign language detection**\n",
    "\n",
    "  Know the language of each document, because the algorithms of quantitative approaches may not work with mixed-language corpora and we might not realize the results are rubbish for a long time."
   ]
  },
  {
   "cell_type": "code",
   "execution_count": 19,
   "id": "4d527015",
   "metadata": {},
   "outputs": [],
   "source": [
    "# ! pip install spacy"
   ]
  },
  {
   "cell_type": "code",
   "execution_count": 20,
   "id": "7d894973",
   "metadata": {},
   "outputs": [
    {
     "data": {
      "text/plain": [
       "'en'"
      ]
     },
     "execution_count": 20,
     "metadata": {},
     "output_type": "execute_result"
    }
   ],
   "source": [
    "# A library by Google\n",
    "import langdetect\n",
    "# Detect language\n",
    "langdetect.detect(string_one) # returns the ISO 639 code for the language\n",
    "  "
   ]
  },
  {
   "cell_type": "markdown",
   "id": "041ed2b7",
   "metadata": {},
   "source": [
    "- **Cleaning non-text entity**\n",
    "\n",
    "  Remove irrelevant items, such as HTML tags, url, metadata."
   ]
  },
  {
   "cell_type": "code",
   "execution_count": 21,
   "id": "e4530e12",
   "metadata": {},
   "outputs": [],
   "source": [
    "# Example to fetch html data\n",
    "import requests\n",
    "from bs4 import BeautifulSoup\n",
    "# Fetch web page\n",
    "response = requests.get(\"https://www.udacity.com/courses/all\")\n",
    "# Use BeautifulSoup to remove HTML tags\n",
    "soup = BeautifulSoup(response.text, 'lxml')\n",
    "# Find all course summaries\n",
    "summaries = soup.find_all('div', class_=\"course-summary-card\")\n",
    "# Extract course title\n",
    "courses = []\n",
    "for summary in summaries:\n",
    "    courses.append(summary.select_one(\"h4\").text)"
   ]
  },
  {
   "cell_type": "markdown",
   "id": "5e73b272",
   "metadata": {},
   "source": [
    "### Normalization, tokenization, and stop words removal"
   ]
  },
  {
   "cell_type": "markdown",
   "id": "68bdb919",
   "metadata": {},
   "source": [
    "- **Normalization**\n",
    "\n",
    "  Convert to all lowercase and remove punctuation."
   ]
  },
  {
   "cell_type": "code",
   "execution_count": 22,
   "id": "bd4ebc15",
   "metadata": {},
   "outputs": [
    {
     "data": {
      "text/plain": [
       "'are the human people the ones who started the war  is ai a bad thing '"
      ]
     },
     "execution_count": 22,
     "metadata": {},
     "output_type": "execute_result"
    }
   ],
   "source": [
    "import re\n",
    "text = \"Are the human people the ones who started the war? Is AI a bad thing?\"\n",
    "# Normalize text\n",
    "text = re.sub(r\"[^a-zA-Z0-9]\", \" \", text.lower())\n",
    "text"
   ]
  },
  {
   "cell_type": "markdown",
   "id": "b0ef5de1",
   "metadata": {},
   "source": [
    "- **Tokenization**\n",
    "\n",
    "  Split text into words or tokens.\n",
    "\n",
    "    <img src=\"resources/nlp_tokenization.png\" width=500>\n",
    "\n",
    "  **N-grams** is a group of n words appearing in sequence from a text.\n",
    "\n",
    "    <img src=\"resources/nlp_tokenization_ngrams.png\" width=400>"
   ]
  },
  {
   "cell_type": "code",
   "execution_count": 23,
   "id": "53281275",
   "metadata": {},
   "outputs": [
    {
     "name": "stderr",
     "output_type": "stream",
     "text": [
      "[nltk_data] Downloading package punkt to /Users/a.momin/nltk_data...\n",
      "[nltk_data]   Package punkt is already up-to-date!\n"
     ]
    }
   ],
   "source": [
    "import nltk\n",
    "nltk.download('punkt')\n",
    "\n",
    "# Tokenize text\n",
    "words = nltk.word_tokenize(text)"
   ]
  },
  {
   "cell_type": "code",
   "execution_count": 24,
   "id": "190b5fcb",
   "metadata": {},
   "outputs": [],
   "source": [
    "# Spacy\n",
    "# !{sys.executable} -m pip install spacy\n",
    "# !{sys.executable} -m pip install https://github.com/huggingface/neuralcoref-models/releases/download/en_coref_md-3.0.0/en_coref_md-3.0.0.tar.gz"
   ]
  },
  {
   "cell_type": "code",
   "execution_count": 25,
   "id": "550b2306",
   "metadata": {},
   "outputs": [],
   "source": [
    "import spacy"
   ]
  },
  {
   "cell_type": "code",
   "execution_count": null,
   "id": "528e82a7",
   "metadata": {},
   "outputs": [],
   "source": []
  },
  {
   "cell_type": "code",
   "execution_count": 28,
   "id": "1ae19a50",
   "metadata": {},
   "outputs": [],
   "source": [
    "# Load the trained model of the English language\n",
    "# nlp = spacy.load('en_coref_md')\n",
    "nlp = spacy.load('en_core_web_sm')\n",
    "\n",
    "# Perform neural net magics\n",
    "doc = nlp(text)\n",
    "\n",
    "# Tokenize text\n",
    "words = [token for token in doc]"
   ]
  },
  {
   "cell_type": "code",
   "execution_count": 29,
   "id": "f37d1be5",
   "metadata": {},
   "outputs": [
    {
     "data": {
      "text/plain": [
       "[are,\n",
       " the,\n",
       " human,\n",
       " people,\n",
       " the,\n",
       " ones,\n",
       " who,\n",
       " started,\n",
       " the,\n",
       " war,\n",
       "  ,\n",
       " is,\n",
       " ai,\n",
       " a,\n",
       " bad,\n",
       " thing]"
      ]
     },
     "execution_count": 29,
     "metadata": {},
     "output_type": "execute_result"
    }
   ],
   "source": [
    "words"
   ]
  },
  {
   "cell_type": "markdown",
   "id": "509013e1",
   "metadata": {},
   "source": [
    "- **Stop Word Removal**\n",
    "\n",
    "  Remove words that are too common. **Stop words** are words that are useful for grammar and syntax, but don’t contain any important content."
   ]
  },
  {
   "cell_type": "code",
   "execution_count": 40,
   "id": "c34c2144",
   "metadata": {},
   "outputs": [],
   "source": [
    "# NLTK\n",
    "import nltk"
   ]
  },
  {
   "cell_type": "code",
   "execution_count": 77,
   "id": "c2fbd1b1",
   "metadata": {},
   "outputs": [
    {
     "name": "stderr",
     "output_type": "stream",
     "text": [
      "[nltk_data] Downloading package stopwords to\n",
      "[nltk_data]     /Users/a.momin/nltk_data...\n",
      "[nltk_data]   Package stopwords is already up-to-date!\n",
      "[nltk_data] Downloading package averaged_perceptron_tagger to\n",
      "[nltk_data]     /Users/a.momin/nltk_data...\n",
      "[nltk_data]   Package averaged_perceptron_tagger is already up-to-\n",
      "[nltk_data]       date!\n",
      "[nltk_data] Downloading package maxent_ne_chunker to\n",
      "[nltk_data]     /Users/a.momin/nltk_data...\n",
      "[nltk_data]   Package maxent_ne_chunker is already up-to-date!\n",
      "[nltk_data] Downloading package words to /Users/a.momin/nltk_data...\n",
      "[nltk_data]   Unzipping corpora/words.zip.\n"
     ]
    },
    {
     "data": {
      "text/plain": [
       "True"
      ]
     },
     "execution_count": 77,
     "metadata": {},
     "output_type": "execute_result"
    }
   ],
   "source": [
    "nltk.download('stopwords')\n",
    "nltk.download('averaged_perceptron_tagger')\n",
    "nltk.download('maxent_ne_chunker')\n",
    "nltk.download('words')"
   ]
  },
  {
   "cell_type": "code",
   "execution_count": 66,
   "id": "a9777bce",
   "metadata": {},
   "outputs": [],
   "source": [
    "from nltk.corpus import stopwords"
   ]
  },
  {
   "cell_type": "code",
   "execution_count": 67,
   "id": "d3677265",
   "metadata": {},
   "outputs": [],
   "source": [
    "stop_words = set(stopwords.words('english'))\n",
    "# Remove stop words\n",
    "words = [word for word in words if word not in stop_words]"
   ]
  },
  {
   "cell_type": "code",
   "execution_count": 68,
   "id": "fb2d8a8f",
   "metadata": {},
   "outputs": [],
   "source": [
    "# Spacy\n",
    "import spacy\n",
    "# Load the trained model of the English language\n",
    "nlp = spacy.load('en_core_web_sm')\n",
    "# Remove stop words\n",
    "stoplisted = [token for token in doc if token.text not in nlp.Defaults.stop_words]"
   ]
  },
  {
   "cell_type": "markdown",
   "id": "782548a7",
   "metadata": {},
   "source": [
    "### Part of speech tagging, named entity recognition, and conference resolution"
   ]
  },
  {
   "cell_type": "markdown",
   "id": "d36fe7e8",
   "metadata": {},
   "source": [
    "- **Part of Speech Tagging**\n",
    "\n",
    "  Identify different parts of speech."
   ]
  },
  {
   "cell_type": "code",
   "execution_count": 69,
   "id": "af6a58c7",
   "metadata": {},
   "outputs": [],
   "source": [
    "from nltk.tokenize import sent_tokenize, word_tokenize\n",
    "from nltk.tag import pos_tag"
   ]
  },
  {
   "cell_type": "code",
   "execution_count": 122,
   "id": "06eac146",
   "metadata": {},
   "outputs": [
    {
     "data": {
      "text/plain": [
       "['I', 'always', 'lie', 'down', 'to', 'tell', 'a', 'lie', '.']"
      ]
     },
     "execution_count": 122,
     "metadata": {},
     "output_type": "execute_result"
    }
   ],
   "source": [
    "text = \"I always lie down to tell a lie.\"\n",
    "my_tokens = word_tokenize(text)\n",
    "my_tokens"
   ]
  },
  {
   "cell_type": "code",
   "execution_count": 71,
   "id": "15598f29",
   "metadata": {},
   "outputs": [
    {
     "data": {
      "text/plain": [
       "[('I', 'PRP'),\n",
       " ('always', 'RB'),\n",
       " ('lie', 'VBP'),\n",
       " ('down', 'RP'),\n",
       " ('to', 'TO'),\n",
       " ('tell', 'VB'),\n",
       " ('a', 'DT'),\n",
       " ('lie', 'NN'),\n",
       " ('.', '.')]"
      ]
     },
     "execution_count": 71,
     "metadata": {},
     "output_type": "execute_result"
    }
   ],
   "source": [
    "# Tag parts of speech\n",
    "pos_tag(my_tokens) # Outputs [('I', 'PRP'), ('always', 'RB'), ...]"
   ]
  },
  {
   "cell_type": "code",
   "execution_count": 73,
   "id": "3e8e59cc",
   "metadata": {},
   "outputs": [],
   "source": [
    "# Spacy\n",
    "# Keep only nouns and verbs\n",
    "noun_verbs = [token.text for token in stoplisted if token.pos_ == \"NOUN\" or token.pos_ == \"VERB\"]"
   ]
  },
  {
   "cell_type": "markdown",
   "id": "a92dbb09",
   "metadata": {},
   "source": [
    "- **Named Entity Recognition**\n",
    "\n",
    "  Identify named entities."
   ]
  },
  {
   "cell_type": "code",
   "execution_count": 79,
   "id": "91d2e2a4",
   "metadata": {},
   "outputs": [],
   "source": [
    "from nltk import ne_chunk\n",
    "text = \"Antonio joined Udacity Inc. in California.\"\n",
    "# Recognize named entities in a tagged sentence\n",
    "# ne_chunk(pos_tag(word_tokenize(text))) # need to tokenize and tag beforehand"
   ]
  },
  {
   "cell_type": "markdown",
   "id": "0b50746b",
   "metadata": {},
   "source": [
    "- **Conference resolution**\n",
    "\n",
    "  Identify the original reference of pronouns (she, he, it, that, her, him, etc)."
   ]
  },
  {
   "cell_type": "code",
   "execution_count": 81,
   "id": "60834f88",
   "metadata": {},
   "outputs": [],
   "source": [
    "# Spacy\n",
    "import spacy\n",
    "# Load the trained model of the English language\n",
    "nlp = spacy.load('en_core_web_sm')\n",
    "# Perform neural net magic\n",
    "test_doc = nlp(u\"My brother lives in a basement apartment. He really loves it.\")\n",
    "# Print the original reference of pronouns\n",
    "# print(\"The coreferences are {}\".format(test_doc._.coref_clusters))\n",
    "# print(\"The new sentence is \\\"{}\\\"\".format(test_doc._.coref_resolved))"
   ]
  },
  {
   "cell_type": "markdown",
   "id": "ba207008",
   "metadata": {},
   "source": [
    "### Stemming and Lemmatization\n",
    "\n",
    "- **Stemming and Lemmatization**\n",
    "\n",
    "  Convert words into their dictionary forms. A **lemma** is the core stem of a concept and/or word. **Lemmatization** is the process of stripping a word down to its root word so that different forms of the word are identified as having the same significance in text analysis."
   ]
  },
  {
   "cell_type": "code",
   "execution_count": 89,
   "id": "c1a9ac27",
   "metadata": {},
   "outputs": [],
   "source": [
    "# NLTK\n",
    "from nltk.stem.porter import PorterStemmer\n",
    "from nltk.stem.wordnet import WordNetLemmatizer\n"
   ]
  },
  {
   "cell_type": "code",
   "execution_count": 109,
   "id": "1b6fe4c4",
   "metadata": {},
   "outputs": [],
   "source": [
    "?? PorterStemmer"
   ]
  },
  {
   "cell_type": "code",
   "execution_count": 121,
   "id": "447b2d88",
   "metadata": {},
   "outputs": [],
   "source": [
    "# Reduce words to their stems\n",
    "# stemmed = [PorterStemmer().stem(w) for w in words]"
   ]
  },
  {
   "cell_type": "code",
   "execution_count": 112,
   "id": "5bbd9b99",
   "metadata": {},
   "outputs": [],
   "source": [
    "# Reduce words to their root forms\n",
    "# lemmed = [WordNetLemmatizer().lemmatize(w) for w in words]"
   ]
  },
  {
   "cell_type": "code",
   "execution_count": 113,
   "id": "3fd36c35",
   "metadata": {},
   "outputs": [],
   "source": [
    "# Lemmatize verbs by specifying pos\n",
    "# lemmed = [WordNetLemmatizer().lemmatize(w, pos='v') for w in lemmed]"
   ]
  },
  {
   "cell_type": "code",
   "execution_count": 86,
   "id": "f1b01121",
   "metadata": {},
   "outputs": [],
   "source": [
    "# Spacy\n",
    "import spacy\n",
    "# Load the trained model of the English language\n",
    "nlp = spacy.load('en_core_web_sm')\n",
    "# Perform neural net magics\n",
    "doc = nlp(text)\n",
    "# Put in the lemmas, except for pronoun because they don't really have lemmas\n",
    "resolved_doc = [token.lemma_  if token.lemma_ != \"-PRON-\" else token for token in doc]"
   ]
  },
  {
   "cell_type": "markdown",
   "id": "670e9946",
   "metadata": {},
   "source": [
    "## Feature Extraction\n",
    "\n",
    "Extract and produce feature representations that are appropriate for the type of NLP task you are trying to accomplish and the type of model you are planning to use.\n",
    "\n",
    "Feature extraction depends on the goal\n",
    "\n",
    "- Graphic model: symbolic nodes with relationship between them, e.g., WordNet\n",
    "- Statistic model at document level: spam detection or sentiment analysis, use a per document representation, e.g., bag-of-words or doc2vec\n",
    "- Statistic model at word or phrase level: text generation or machine translation, use a word level representation, e.g., word2vec or glove"
   ]
  },
  {
   "cell_type": "markdown",
   "id": "d8fab1b5",
   "metadata": {},
   "source": [
    "### Bag of Words"
   ]
  },
  {
   "cell_type": "markdown",
   "id": "64103302",
   "metadata": {},
   "source": [
    "- **Bag of words**\n",
    "\n",
    "  Document-term matrix<br>\n",
    "  <img src=\"resources/nlp_bow_eg0.png\" width=500>\n",
    "\n",
    "  To compare similarity between 2 documents\n",
    "\n",
    "  - Initialize a collection of documents"
   ]
  },
  {
   "cell_type": "code",
   "execution_count": 114,
   "id": "014630c6",
   "metadata": {},
   "outputs": [],
   "source": [
    "import re\n",
    "import nltk\n",
    "from nltk.corpus import stopwords\n",
    "from nltk.stem.wordnet import WordNetLemmatizer\n",
    "from nltk.tokenize import word_tokenize"
   ]
  },
  {
   "cell_type": "code",
   "execution_count": 115,
   "id": "216847b5",
   "metadata": {},
   "outputs": [
    {
     "name": "stderr",
     "output_type": "stream",
     "text": [
      "[nltk_data] Downloading package punkt to /Users/a.momin/nltk_data...\n",
      "[nltk_data]   Package punkt is already up-to-date!\n",
      "[nltk_data] Downloading package stopwords to\n",
      "[nltk_data]     /Users/a.momin/nltk_data...\n",
      "[nltk_data]   Package stopwords is already up-to-date!\n",
      "[nltk_data] Downloading package wordnet to /Users/a.momin/nltk_data...\n",
      "[nltk_data]   Package wordnet is already up-to-date!\n"
     ]
    },
    {
     "data": {
      "text/plain": [
       "True"
      ]
     },
     "execution_count": 115,
     "metadata": {},
     "output_type": "execute_result"
    }
   ],
   "source": [
    "nltk.download('punkt')\n",
    "nltk.download('stopwords')\n",
    "nltk.download('wordnet')"
   ]
  },
  {
   "cell_type": "code",
   "execution_count": 116,
   "id": "f4542876",
   "metadata": {},
   "outputs": [],
   "source": [
    "corpus = [\n",
    "    \"The first time you see The Second Renaissance it may look boring.\",\n",
    "    \"Look at it at least twice and definitely watch part 2.\",\n",
    "    \"It will change your view of the matrix.\",\n",
    "    \"Are the human people the ones who started the war?\",\n",
    "    \"Is AI a bad thing ?\"\n",
    "]"
   ]
  },
  {
   "cell_type": "code",
   "execution_count": 117,
   "id": "20b36b5e",
   "metadata": {},
   "outputs": [],
   "source": [
    "stop_words = stopwords.words(\"english\")\n",
    "lemmatizer = WordNetLemmatizer()"
   ]
  },
  {
   "cell_type": "markdown",
   "id": "dd087a33",
   "metadata": {},
   "source": [
    "  - Define tokenizer"
   ]
  },
  {
   "cell_type": "code",
   "execution_count": 105,
   "id": "493d52a8",
   "metadata": {},
   "outputs": [],
   "source": [
    "def tokenize(text):\n",
    "    # normalize case and remove punctuation\n",
    "    text = re.sub(r\"[^a-zA-Z0-9]\", \" \", text.lower())\n",
    "    \n",
    "    # tokenize text\n",
    "    tokens = word_tokenize(text)\n",
    "    \n",
    "    # lemmatize andremove stop words\n",
    "    tokens = [lemmatizer.lemmatize(word) for word in tokens if word not in stop_words]\n",
    "    return tokens"
   ]
  },
  {
   "cell_type": "markdown",
   "id": "b164c45d",
   "metadata": {},
   "source": [
    "  - Use defined tokenizer"
   ]
  },
  {
   "cell_type": "code",
   "execution_count": null,
   "id": "cb81ec5c",
   "metadata": {},
   "outputs": [],
   "source": [
    "from sklearn.feature_extraction.text import CountVectorizer"
   ]
  },
  {
   "cell_type": "code",
   "execution_count": 125,
   "id": "e90f5a3c",
   "metadata": {},
   "outputs": [],
   "source": [
    "?? CountVectorizer"
   ]
  },
  {
   "cell_type": "code",
   "execution_count": 124,
   "id": "50c93ace",
   "metadata": {},
   "outputs": [
    {
     "data": {
      "text/plain": [
       "{'first': 6,\n",
       " 'time': 20,\n",
       " 'see': 17,\n",
       " 'second': 16,\n",
       " 'renaissance': 15,\n",
       " 'may': 11,\n",
       " 'look': 9,\n",
       " 'boring': 3,\n",
       " 'least': 8,\n",
       " 'twice': 21,\n",
       " 'definitely': 5,\n",
       " 'watch': 24,\n",
       " 'part': 13,\n",
       " '2': 0,\n",
       " 'change': 4,\n",
       " 'view': 22,\n",
       " 'matrix': 10,\n",
       " 'human': 7,\n",
       " 'people': 14,\n",
       " 'one': 12,\n",
       " 'started': 18,\n",
       " 'war': 23,\n",
       " 'ai': 1,\n",
       " 'bad': 2,\n",
       " 'thing': 19}"
      ]
     },
     "execution_count": 124,
     "metadata": {},
     "output_type": "execute_result"
    }
   ],
   "source": [
    "# initialize count vectorizer object\n",
    "vect = CountVectorizer(tokenizer=tokenize)\n",
    "# vect = CountVectorizer()\n",
    "\n",
    "# get counts of each token (word) in text data\n",
    "X = vect.fit_transform(corpus)\n",
    "\n",
    "# convert sparse matrix to numpy array to view\n",
    "X.toarray() # outputs array([[0, 1, ...], ..., [...]]\n",
    "\n",
    "# view token vocabulary and counts\n",
    "vect.vocabulary_ # outputs {'first': 6, 'time': 20, ...}"
   ]
  },
  {
   "cell_type": "markdown",
   "id": "ffc6c6b3",
   "metadata": {},
   "source": [
    "- **Dot product**\n",
    "\n",
    "  - Formula: <br>\n",
    "    $$a \\cdot b = \\sum a_0b_0 + a_1b_1 + \\cdots$$\n",
    "  - Higher value means more similar\n",
    "  - (-) Only captures the portion of overlap and not affected by other values that are not in common, so very different pairs can have same value as identical pairs.\n",
    "  - (-) Treats every word as being equally important\n",
    "\n",
    "- **Cosine similarity**\n",
    "\n",
    "  - Formula: <br>\n",
    "    $$cos(\\theta) = \\frac{a \\cdot b}{\\left\\|a\\right\\| \\cdot \\left\\|b\\right\\|}$$\n",
    "  - Values ranges between -1 (dissimilar) and 1 (most similar)\n",
    "  - (-) Treats every word as being equally important"
   ]
  },
  {
   "cell_type": "markdown",
   "id": "810492a4",
   "metadata": {},
   "source": [
    "### TF-IDF"
   ]
  },
  {
   "cell_type": "markdown",
   "id": "8b58a200",
   "metadata": {},
   "source": [
    "Term Frequency – Inverse Document Frequency (TF-IDF) is a measure intended to reflect the relative importance of a word in a document."
   ]
  },
  {
   "cell_type": "markdown",
   "id": "3af7b869",
   "metadata": {},
   "source": [
    "- **TF (Term Frequency)**\n",
    "\n",
    "  - Commonly used definition: The count of the term _t_ in a document _d_, divided by the total number of terms in the document\n",
    "\n",
    "    $$\\frac{count(t, d)}{\\left\\| d \\right\\|}$$\n",
    "\n",
    "    TF uses a “bag of words” approach, where each document is represented by a “bag of words” where grammar and word order are disregarded but multiplicity is kept.\n",
    "\n",
    "  - `CountVectorizer`: Convert a collection of text to vectors of token counts\n",
    "  - `HashingTF`: Hashing is the process of transforming data of arbitrary size to a fixed size. Each word is input in a hash function to give it a number. The same words result in the same hash ID. Each hash is counted returning the term frequency for each word\n",
    "\n",
    "      <img src=\"resources/nlp_tfidf_hashing.png\" width=300 height=260>"
   ]
  },
  {
   "cell_type": "markdown",
   "id": "67473a75",
   "metadata": {},
   "source": [
    "- **IDF (Inverse Document Frequency)**\n",
    "\n",
    "  - Commonly used definition: Logarithm of the total number of documents in the colection _D_ divided by the number of documents where _t_ is present.\n",
    "\n",
    "\\begin{split}\n",
    "    & log\\left( \\frac{|D|}{|d \\in D: t \\in d|} \\right) \\\\\n",
    "    &= log\\left( \\frac{\\text{Total Number of Documents}}{\\text{Number of Documents containing target word}} \\right)\n",
    "\\end{split}\n",
    "\n",
    "\n",
    "  - he more documents that include the term the the lower the IDF score\n",
    "\n",
    "  - `IDFModel`: Scales each column based on feature vectors which decreases weights on words found in multiple documents"
   ]
  },
  {
   "cell_type": "markdown",
   "id": "33a7403f",
   "metadata": {},
   "source": [
    "- **TF-IDF**\n",
    "\n",
    "  - The product of TF and IDF\n",
    "\n",
    "    $$TF(t, d) \\cdot IDF(t, D)$$\n",
    "\n",
    "  - TF-IDF using bag of words results\n"
   ]
  },
  {
   "cell_type": "code",
   "execution_count": 107,
   "id": "4a5bfc3d",
   "metadata": {},
   "outputs": [
    {
     "data": {
      "text/plain": [
       "array([[0.        , 0.        , 0.        , 0.36419547, 0.        ,\n",
       "        0.        , 0.36419547, 0.        , 0.        , 0.26745392,\n",
       "        0.        , 0.36419547, 0.        , 0.        , 0.        ,\n",
       "        0.36419547, 0.36419547, 0.36419547, 0.        , 0.        ,\n",
       "        0.36419547, 0.        , 0.        , 0.        , 0.        ],\n",
       "       [0.39105193, 0.        , 0.        , 0.        , 0.        ,\n",
       "        0.39105193, 0.        , 0.        , 0.39105193, 0.28717648,\n",
       "        0.        , 0.        , 0.        , 0.39105193, 0.        ,\n",
       "        0.        , 0.        , 0.        , 0.        , 0.        ,\n",
       "        0.        , 0.39105193, 0.        , 0.        , 0.39105193],\n",
       "       [0.        , 0.        , 0.        , 0.        , 0.57735027,\n",
       "        0.        , 0.        , 0.        , 0.        , 0.        ,\n",
       "        0.57735027, 0.        , 0.        , 0.        , 0.        ,\n",
       "        0.        , 0.        , 0.        , 0.        , 0.        ,\n",
       "        0.        , 0.        , 0.57735027, 0.        , 0.        ],\n",
       "       [0.        , 0.        , 0.        , 0.        , 0.        ,\n",
       "        0.        , 0.        , 0.4472136 , 0.        , 0.        ,\n",
       "        0.        , 0.        , 0.4472136 , 0.        , 0.4472136 ,\n",
       "        0.        , 0.        , 0.        , 0.4472136 , 0.        ,\n",
       "        0.        , 0.        , 0.        , 0.4472136 , 0.        ],\n",
       "       [0.        , 0.57735027, 0.57735027, 0.        , 0.        ,\n",
       "        0.        , 0.        , 0.        , 0.        , 0.        ,\n",
       "        0.        , 0.        , 0.        , 0.        , 0.        ,\n",
       "        0.        , 0.        , 0.        , 0.        , 0.57735027,\n",
       "        0.        , 0.        , 0.        , 0.        , 0.        ]])"
      ]
     },
     "execution_count": 107,
     "metadata": {},
     "output_type": "execute_result"
    }
   ],
   "source": [
    "from sklearn.feature_extraction.text import TfidfTransformer\n",
    "\n",
    "# initialize tf-idf transformer object\n",
    "transformer = TfidfTransformer(smooth_idf=False)\n",
    "\n",
    "# use counts from count vectorizer results to compute tf-idf values\n",
    "tfidf = transformer.fit_transform(X)\n",
    "\n",
    "# convert sparse matrix to numpy array to view\n",
    "tfidf.toarray()"
   ]
  },
  {
   "cell_type": "markdown",
   "id": "a28d31a2",
   "metadata": {},
   "source": [
    "  - TF-IDF"
   ]
  },
  {
   "cell_type": "code",
   "execution_count": 108,
   "id": "10cdc2b4",
   "metadata": {},
   "outputs": [
    {
     "data": {
      "text/plain": [
       "array([[0.        , 0.        , 0.        , 0.        , 0.        ,\n",
       "        0.30298183, 0.        , 0.        , 0.30298183, 0.        ,\n",
       "        0.        , 0.20291046, 0.        , 0.24444384, 0.        ,\n",
       "        0.30298183, 0.        , 0.        , 0.        , 0.        ,\n",
       "        0.30298183, 0.30298183, 0.30298183, 0.        , 0.40582093,\n",
       "        0.        , 0.30298183, 0.        , 0.        , 0.        ,\n",
       "        0.        , 0.        , 0.        , 0.30298183, 0.        ],\n",
       "       [0.        , 0.30015782, 0.        , 0.60031564, 0.        ,\n",
       "        0.        , 0.        , 0.30015782, 0.        , 0.        ,\n",
       "        0.        , 0.20101919, 0.30015782, 0.24216544, 0.        ,\n",
       "        0.        , 0.        , 0.        , 0.30015782, 0.        ,\n",
       "        0.        , 0.        , 0.        , 0.        , 0.        ,\n",
       "        0.        , 0.        , 0.30015782, 0.        , 0.        ,\n",
       "        0.30015782, 0.        , 0.        , 0.        , 0.        ],\n",
       "       [0.        , 0.        , 0.        , 0.        , 0.        ,\n",
       "        0.        , 0.38077552, 0.        , 0.        , 0.        ,\n",
       "        0.        , 0.25500981, 0.        , 0.        , 0.38077552,\n",
       "        0.        , 0.38077552, 0.        , 0.        , 0.        ,\n",
       "        0.        , 0.        , 0.        , 0.        , 0.25500981,\n",
       "        0.        , 0.        , 0.        , 0.38077552, 0.        ,\n",
       "        0.        , 0.        , 0.38077552, 0.        , 0.38077552],\n",
       "       [0.        , 0.        , 0.30101067, 0.        , 0.        ,\n",
       "        0.        , 0.        , 0.        , 0.        , 0.30101067,\n",
       "        0.        , 0.        , 0.        , 0.        , 0.        ,\n",
       "        0.        , 0.        , 0.30101067, 0.        , 0.30101067,\n",
       "        0.        , 0.        , 0.        , 0.30101067, 0.60477106,\n",
       "        0.        , 0.        , 0.        , 0.        , 0.30101067,\n",
       "        0.        , 0.30101067, 0.        , 0.        , 0.        ],\n",
       "       [0.5       , 0.        , 0.        , 0.        , 0.5       ,\n",
       "        0.        , 0.        , 0.        , 0.        , 0.        ,\n",
       "        0.5       , 0.        , 0.        , 0.        , 0.        ,\n",
       "        0.        , 0.        , 0.        , 0.        , 0.        ,\n",
       "        0.        , 0.        , 0.        , 0.        , 0.        ,\n",
       "        0.5       , 0.        , 0.        , 0.        , 0.        ,\n",
       "        0.        , 0.        , 0.        , 0.        , 0.        ]])"
      ]
     },
     "execution_count": 108,
     "metadata": {},
     "output_type": "execute_result"
    }
   ],
   "source": [
    "from sklearn.feature_extraction.text import TfidfVectorizer\n",
    "\n",
    "# initialize tf-idf vectorizer object\n",
    "vectorizer = TfidfVectorizer()\n",
    "\n",
    "# compute bag of word counts and tf-idf values\n",
    "X = vectorizer.fit_transform(corpus)\n",
    "\n",
    "# convert sparse matrix to numpy array to view\n",
    "X.toarray()"
   ]
  },
  {
   "cell_type": "markdown",
   "id": "3af257e8",
   "metadata": {},
   "source": [
    "### Word Embeddings"
   ]
  },
  {
   "cell_type": "markdown",
   "id": "ea6a655d",
   "metadata": {},
   "source": [
    "To control the size of the word representation, find an embedding for each word in some vector space and exhibit some desired properties. Embedding can be used for different purposes, e.g., find synonyms and analogies, identify concepts along which words are clustered, classifying words as +, -, or neutral."
   ]
  },
  {
   "cell_type": "markdown",
   "id": "8531d791",
   "metadata": {},
   "source": [
    "- **Word2Vec**\n",
    "\n",
    "  Word2vec is a combination of two techniques. Both of these are shallow neural networks which map word(s) to the target variable which is also a word(s). Both of these techniques learn weights which act as word vector representations.\n",
    "\n",
    "    <img src=\"resources/word2vec.png\" width=400>\n",
    "\n",
    "  - Continuous bag of words (CBOW)\n",
    "\n",
    "    - CBOW predicts the probability of a word given a context. A context may be a single word or a group of words.\n",
    "\n",
    "  - Skip-gram model\n",
    "\n",
    "    - Skip-gram model predicts the context given a word.\n",
    "\n",
    "      <img src=\"resources/word2vec_sgm.png\" width=400>\n",
    "\n",
    "  - Word2Vec properties\n",
    "\n",
    "    - (+) Robust, distributed representation\n",
    "    - (+) Vector size independent of vocab\n",
    "    - (+) Train one, store in lookup table\n",
    "    - (+) Deep learning ready"
   ]
  },
  {
   "cell_type": "markdown",
   "id": "426d1b57",
   "metadata": {},
   "source": [
    "- **GloVe**\n",
    "\n",
    "  Global vectors for word representation (GloVe) learns vector representations for words by doing dimensionality reduction on the co-occurrence counts matrix. A large matrix of (context x words) co-occurrence information was constructed, i.e. for each \"word\" (the column), the probability to see this word in some \"context\" (the rows) in a large corpus.\n",
    "\n",
    "    <img src=\"resources/glove.png\" width=500>\n",
    "\n",
    "  - (+) Compared to Word2Vec, easier to parallelize the implementation which means it's easier to train over more data."
   ]
  },
  {
   "cell_type": "markdown",
   "id": "43bdf0b7",
   "metadata": {},
   "source": [
    "- **Embeddings for deep learning**\n",
    "\n",
    "  Can use embedding lookup (transfer learning)\n",
    "\n",
    "    <img src=\"resources/embedding_deep_learning.png\" width=300>"
   ]
  },
  {
   "cell_type": "markdown",
   "id": "a5d1311d",
   "metadata": {},
   "source": [
    "- **t-SNE for visualizing word embedding**\n",
    "\n",
    "  t-distributed stochastic neighbor embedding (t-SNE) is a dimensionality reduction technique to map higher dimensional vectors into lower dimensional space, while maintaining relative distances between objects.s\n",
    "\n",
    "    <img src=\"resources/t-sne.png\" width=400>"
   ]
  },
  {
   "cell_type": "markdown",
   "id": "f50d8f1e",
   "metadata": {},
   "source": [
    "## Modeling\n",
    "\n",
    "Design a statistical or machine learning model, fit its parameters to training data, use an optimization procedure, and then use it to make predictions about unseen data."
   ]
  },
  {
   "cell_type": "code",
   "execution_count": null,
   "id": "3d192d08",
   "metadata": {},
   "outputs": [],
   "source": []
  },
  {
   "cell_type": "code",
   "execution_count": null,
   "id": "bcedc310",
   "metadata": {},
   "outputs": [],
   "source": []
  }
 ],
 "metadata": {
  "kernelspec": {
   "display_name": "Python 3",
   "language": "python",
   "name": "python3"
  },
  "language_info": {
   "codemirror_mode": {
    "name": "ipython",
    "version": 3
   },
   "file_extension": ".py",
   "mimetype": "text/x-python",
   "name": "python",
   "nbconvert_exporter": "python",
   "pygments_lexer": "ipython3",
   "version": "3.8.2"
  },
  "toc": {
   "base_numbering": 1,
   "nav_menu": {},
   "number_sections": false,
   "sideBar": true,
   "skip_h1_title": true,
   "title_cell": "Table of Contents",
   "title_sidebar": "Contents",
   "toc_cell": true,
   "toc_position": {},
   "toc_section_display": true,
   "toc_window_display": true
  }
 },
 "nbformat": 4,
 "nbformat_minor": 5
}
