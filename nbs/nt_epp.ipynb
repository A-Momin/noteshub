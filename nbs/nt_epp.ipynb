{
 "cells": [
  {
   "cell_type": "markdown",
   "metadata": {
    "toc": true
   },
   "source": [
    "<h1>Table of Contents<span class=\"tocSkip\"></span></h1>\n",
    "<div class=\"toc\"><ul class=\"toc-item\"><li><span><a href=\"#Built-in-Functions\" data-toc-modified-id=\"Built-in-Functions-1\"><b style=\"color: #ff4500\">Built-in Functions</b></a></span><ul class=\"toc-item\"><li><ul class=\"toc-item\"><li><span><a href=\"#range(...)-==>-iterator\" data-toc-modified-id=\"range(...)-==>-iterator-1.0.1\"><code>range(...) ==&gt; iterator</code></a></span></li><li><span><a href=\"#enumerate(...)-==>-iterator\" data-toc-modified-id=\"enumerate(...)-==>-iterator-1.0.2\"><code>enumerate(...) ==&gt; iterator</code></a></span></li><li><span><a href=\"#reversed(...)-==>-iterator\" data-toc-modified-id=\"reversed(...)-==>-iterator-1.0.3\"><code>reversed(...) ==&gt; iterator</code></a></span></li><li><span><a href=\"#sorted(...)-==>-new-list:\" data-toc-modified-id=\"sorted(...)-==>-new-list:-1.0.4\"><code>sorted(...) ==&gt; new list</code>:</a></span></li><li><span><a href=\"#zip(..)-==>-iterator\" data-toc-modified-id=\"zip(..)-==>-iterator-1.0.5\"><code>zip(..) ==&gt; iterator</code></a></span></li><li><span><a href=\"#filter(truthy_func,-iterable)-==->-iterator\" data-toc-modified-id=\"filter(truthy_func,-iterable)-==->-iterator-1.0.6\"><b style=\"color: #c71585\">filter(truthy_func, iterable)</b> == &gt; iterator</a></span></li><li><span><a href=\"#map(func,-*iterables)-==>-iterator\" data-toc-modified-id=\"map(func,-*iterables)-==>-iterator-1.0.7\"><b style=\"color: #c71585\">map(func, *iterables)</b> ==&gt; iterator</a></span></li><li><span><a href=\"#functools.reduce(function,-iterable[,-initializer])-==>-number\" data-toc-modified-id=\"functools.reduce(function,-iterable[,-initializer])-==>-number-1.0.8\"><b style=\"color: #c71585\">functools.reduce(function, iterable[, initializer])</b> ==&gt; number</a></span></li><li><span><a href=\"#itertools.accumulate(iterable[,-func,-*,-initial=None])-==>-iterator\" data-toc-modified-id=\"itertools.accumulate(iterable[,-func,-*,-initial=None])-==>-iterator-1.0.9\"><a href=\"https://docs.python.org/3/library/itertools.html#itertools.accumulate\" target=\"_blank\"><code>itertools.accumulate(iterable[, func, *, initial=None])</code></a> ==&gt; <code>iterator</code></a></span></li><li><span><a href=\"#itertools.groupby(...)\" data-toc-modified-id=\"itertools.groupby(...)-1.0.10\"><b style=\"color: #c71585\">itertools.groupby(...)</b></a></span></li><li><span><a href=\"#bytes():\" data-toc-modified-id=\"bytes():-1.0.11\"><code>bytes()</code>:</a></span></li><li><span><a href=\"#bytearray(...)\" data-toc-modified-id=\"bytearray(...)-1.0.12\"><code>bytearray(...)</code></a></span></li><li><span><a href=\"#any()-/-all():-References\" data-toc-modified-id=\"any()-/-all():-References-1.0.13\"><code>any()</code> / <code>all()</code>: <a href=\"https://www.w3schools.com/python/ref_func_all.asp\" target=\"_blank\">References</a></a></span></li><li><span><a href=\"#dir(...):\" data-toc-modified-id=\"dir(...):-1.0.14\"><code>dir(...)</code>:</a></span></li><li><span><a href=\"#format(...)\" data-toc-modified-id=\"format(...)-1.0.15\"><code>format(...)</code></a></span></li><li><span><a href=\"#help():\" data-toc-modified-id=\"help():-1.0.16\"><code>help()</code>:</a></span></li><li><span><a href=\"#object():\" data-toc-modified-id=\"object():-1.0.17\"><code>object()</code>:</a></span></li><li><span><a href=\"#divmod(a,-b)\" data-toc-modified-id=\"divmod(a,-b)-1.0.18\"><code>divmod(a, b)</code></a></span></li><li><span><a href=\"#print(...)\" data-toc-modified-id=\"print(...)-1.0.19\"><code>print(...)</code></a></span></li><li><span><a href=\"#functools.lru_cache(..)\" data-toc-modified-id=\"functools.lru_cache(..)-1.0.20\"><code>functools.lru_cache(..)</code></a></span></li><li><span><a href=\"#slice(..):\" data-toc-modified-id=\"slice(..):-1.0.21\"><code>slice(..)</code>:</a></span></li><li><span><a href=\"#iter(..):\" data-toc-modified-id=\"iter(..):-1.0.22\"><code>iter(..)</code>:</a></span><ul class=\"toc-item\"><li><span><a href=\"#Create-a-generator-of-Fibonacci\" data-toc-modified-id=\"Create-a-generator-of-Fibonacci-1.0.22.1\">Create a generator of Fibonacci</a></span></li></ul></li><li><span><a href=\"#open(...)\" data-toc-modified-id=\"open(...)-1.0.23\"><b style=\"color: #c71585\">open(...)</b></a></span></li><li><span><a href=\"#min(...)-/-max(...)-/-sum(...)\" data-toc-modified-id=\"min(...)-/-max(...)-/-sum(...)-1.0.24\"><b style=\"color: #c71585\">min(...)</b> / <b style=\"color: #c71585\">max(...)</b> / <b style=\"color: #c71585\">sum(...)</b></a></span></li><li><span><a href=\"#sum(...)\" data-toc-modified-id=\"sum(...)-1.0.25\"><b style=\"color: #c71585\">sum(...)</b></a></span></li><li><span><a href=\"#ord(...)-/-chr(...)-/-id(...)\" data-toc-modified-id=\"ord(...)-/-chr(...)-/-id(...)-1.0.26\"><b style=\"color: #c71585\">ord(...)</b> / <b style=\"color: #c71585\">chr(...)</b> / <b style=\"color: #c71585\">id(...)</b></a></span></li><li><span><a href=\"#setattr(...)-/-getattr(...)\" data-toc-modified-id=\"setattr(...)-/-getattr(...)-1.0.27\"><b style=\"color: #c71585\">setattr(...)</b> / <b style=\"color: #c71585\">getattr(...)</b></a></span></li><li><span><a href=\"#isinstance(object,-classinfo)-/-issubclass(class,-classinfo)\" data-toc-modified-id=\"isinstance(object,-classinfo)-/-issubclass(class,-classinfo)-1.0.28\"><b style=\"color: #c71585\">isinstance(object, classinfo)</b> / <b style=\"color: #c71585\">issubclass(class, classinfo)</b></a></span></li><li><span><a href=\"#locals(...)-/-globals(...)\" data-toc-modified-id=\"locals(...)-/-globals(...)-1.0.29\"><b style=\"color: #c71585\">locals(...)</b> / <b style=\"color: #c71585\">globals(...)</b></a></span></li><li><span><a href=\"#super(...)\" data-toc-modified-id=\"super(...)-1.0.30\"><b style=\"color: #c71585\">super(...)</b></a></span></li></ul></li></ul></li><li><span><a href=\"#Collection-Interface\" data-toc-modified-id=\"Collection-Interface-2\"><b style=\"color: #ff4500\">Collection Interface</b></a></span><ul class=\"toc-item\"><li><span><a href=\"#list:\" data-toc-modified-id=\"list:-2.1\">list:</a></span></li><li><span><a href=\"#dict\" data-toc-modified-id=\"dict-2.2\">dict</a></span><ul class=\"toc-item\"><li><span><a href=\"#Demo\" data-toc-modified-id=\"Demo-2.2.1\"><b style=\"color: #fa8072\">Demo</b></a></span></li><li><span><a href=\"#collections.Counter()-vs-collections.OrderedDict()-vs-collections.defaultdict()\" data-toc-modified-id=\"collections.Counter()-vs-collections.OrderedDict()-vs-collections.defaultdict()-2.2.2\"><b style=\"color: #fa8072\">collections.Counter()</b> vs <b style=\"color: #fa8072\">collections.OrderedDict()</b> vs <b style=\"color: #fa8072\">collections.defaultdict()</b></a></span></li></ul></li><li><span><a href=\"#set:\" data-toc-modified-id=\"set:-2.3\">set:</a></span></li><li><span><a href=\"#tuple\" data-toc-modified-id=\"tuple-2.4\">tuple</a></span></li><li><span><a href=\"#string:\" data-toc-modified-id=\"string:-2.5\">string:</a></span><ul class=\"toc-item\"><li><ul class=\"toc-item\"><li><span><a href=\"#String-Formating\" data-toc-modified-id=\"String-Formating-2.5.0.1\">String Formating</a></span></li><li><span><a href=\"#str-API\" data-toc-modified-id=\"str-API-2.5.0.2\"><code>str</code> API</a></span></li></ul></li></ul></li><li><span><a href=\"#collections.namedtuple:\" data-toc-modified-id=\"collections.namedtuple:-2.6\">collections.namedtuple:</a></span></li><li><span><a href=\"#collections.deque:\" data-toc-modified-id=\"collections.deque:-2.7\">collections.deque:</a></span></li><li><span><a href=\"#heapq-(PriorityQueue)\" data-toc-modified-id=\"heapq-(PriorityQueue)-2.8\">heapq (PriorityQueue)</a></span><ul class=\"toc-item\"><li><span><a href=\"#Min-Priority-Queue\" data-toc-modified-id=\"Min-Priority-Queue-2.8.1\">Min Priority Queue</a></span></li><li><span><a href=\"#Max-Priority-Queue-out-of-Min-Priority-Queue:\" data-toc-modified-id=\"Max-Priority-Queue-out-of-Min-Priority-Queue:-2.8.2\">Max Priority Queue out of Min Priority Queue:</a></span></li></ul></li></ul></li><li><span><a href=\"#Pythonic-Concepts\" data-toc-modified-id=\"Pythonic-Concepts-3\"><b style=\"color: #ff4500\">Pythonic Concepts</b></a></span><ul class=\"toc-item\"><li><ul class=\"toc-item\"><li><ul class=\"toc-item\"><li><span><a href=\"#Comprehension\" data-toc-modified-id=\"Comprehension-3.0.0.1\">Comprehension</a></span></li><li><span><a href=\"#Parameters\" data-toc-modified-id=\"Parameters-3.0.0.2\">Parameters</a></span></li><li><span><a href=\"#Decorator\" data-toc-modified-id=\"Decorator-3.0.0.3\">Decorator</a></span></li><li><span><a href=\"#Context-Manager\" data-toc-modified-id=\"Context-Manager-3.0.0.4\">Context Manager</a></span></li><li><span><a href=\"#Iterator\" data-toc-modified-id=\"Iterator-3.0.0.5\">Iterator</a></span></li><li><span><a href=\"#Generator\" data-toc-modified-id=\"Generator-3.0.0.6\">Generator</a></span></li><li><span><a href=\"#Itertools,-Functools-and-Operators\" data-toc-modified-id=\"Itertools,-Functools-and-Operators-3.0.0.7\">Itertools, Functools and Operators</a></span></li></ul></li></ul></li></ul></li><li><span><a href=\"#MISC\" data-toc-modified-id=\"MISC-4\"><b style=\"color: #ff4500\">MISC</b></a></span><ul class=\"toc-item\"><li><ul class=\"toc-item\"><li><span><a href=\"#Exception-Handling\" data-toc-modified-id=\"Exception-Handling-4.0.1\">Exception Handling</a></span></li><li><span><a href=\"#Sliceing-in-Python\" data-toc-modified-id=\"Sliceing-in-Python-4.0.2\">Sliceing in Python</a></span></li><li><span><a href=\"#Randomaization\" data-toc-modified-id=\"Randomaization-4.0.3\">Randomaization</a></span><ul class=\"toc-item\"><li><span><a href=\"#random.randint(a,-b)\" data-toc-modified-id=\"random.randint(a,-b)-4.0.3.1\"><code>random.randint(a, b)</code></a></span></li><li><span><a href=\"#random.randrange(start,-stop=None,-step=1)\" data-toc-modified-id=\"random.randrange(start,-stop=None,-step=1)-4.0.3.2\"><code>random.randrange(start, stop=None, step=1)</code></a></span></li><li><span><a href=\"#random.shuffle(population,-k)-==>-None\" data-toc-modified-id=\"random.shuffle(population,-k)-==>-None-4.0.3.3\"><code>random.shuffle(population, k)</code> ==&gt; None</a></span></li><li><span><a href=\"#random.choices(population,-k)-==>-[...]\" data-toc-modified-id=\"random.choices(population,-k)-==>-[...]-4.0.3.4\"><code>random.choices(population, k)</code> ==&gt; [...]</a></span></li><li><span><a href=\"#random.sample(population,-k)==>-[...]\" data-toc-modified-id=\"random.sample(population,-k)==>-[...]-4.0.3.5\"><code>random.sample(population, k)</code>==&gt; [...]</a></span></li></ul></li><li><span><a href=\"#operator-API\" data-toc-modified-id=\"operator-API-4.0.4\">operator API</a></span><ul class=\"toc-item\"><li><span><a href=\"#operator.attrgetter\" data-toc-modified-id=\"operator.attrgetter-4.0.4.1\">operator.<code>attrgetter</code></a></span></li><li><span><a href=\"#operator.lt-/-operator.le\" data-toc-modified-id=\"operator.lt-/-operator.le-4.0.4.2\">operator.<code>lt</code> / operator.<code>le</code></a></span></li><li><span><a href=\"#operator.gt-/-operator.ge\" data-toc-modified-id=\"operator.gt-/-operator.ge-4.0.4.3\">operator.<code>gt</code> / operator.<code>ge</code></a></span></li></ul></li></ul></li></ul></li></ul></div>"
   ]
  },
  {
   "cell_type": "code",
   "execution_count": null,
   "metadata": {
    "tags": []
   },
   "outputs": [],
   "source": [
    "from random import randint, randrange, choice, choices, sample, shuffle\n",
    "from collections import Counter, namedtuple, deque, OrderedDict, defaultdict\n",
    "import collections\n",
    "from abc import abstractmethod\n",
    "import collections.abc as abc\n",
    "from collections.abc import Iterable, Iterator\n",
    "from itertools import accumulate, groupby, product, permutations, combinations\n",
    "from functools import reduce\n",
    "from math import *\n",
    "import os, string, pickle, time, builtins, math, shutil, re, heapq\n",
    "from matplotlib import pyplot as plt\n"
   ]
  },
  {
   "cell_type": "code",
   "execution_count": null,
   "metadata": {},
   "outputs": [],
   "source": [
    "import pandas as pd\n",
    "pd.set_option(\"display.max_rows\", 100)\n",
    "pd.set_option(\"display.max_columns\", 100)"
   ]
  },
  {
   "cell_type": "code",
   "execution_count": null,
   "metadata": {},
   "outputs": [],
   "source": [
    "from ads.utils import *\n",
    "import inspect\n",
    "ADS = os.environ['ADS']\n",
    "DATA = os.environ['DATA']\n",
    "UTILS = os.environ['UTILS']"
   ]
  },
  {
   "cell_type": "code",
   "execution_count": null,
   "metadata": {
    "tags": []
   },
   "outputs": [],
   "source": [
    "# sys.path.append(DS_UTILS)\n",
    "# sys.path.insert(0, '../Util')  # add Util package at begining of your python path.\n",
    "# %run -i './util.py'\n",
    "# %run -i '/Users/am/mydocs/Software_Development/Algorithms_and_Data_Structures/ads/utils/utils.py'"
   ]
  },
  {
   "cell_type": "code",
   "execution_count": null,
   "metadata": {},
   "outputs": [],
   "source": [
    "# !ls {ADS}/data"
   ]
  },
  {
   "cell_type": "code",
   "execution_count": null,
   "metadata": {},
   "outputs": [],
   "source": [
    "# inspect.signature(namedtuple)"
   ]
  },
  {
   "cell_type": "markdown",
   "metadata": {},
   "source": [
    "- [PYTHON-101](https://python101.pythonlibrary.org/index.html)\n",
    "- [Glossary](https://docs.python.org/3/glossary.html#term-qualified-name)\n",
    "- [Python 3.10.4 documentation](https://docs.python.org/3/)\n",
    "- [Generic Fundamentals of Python](https://www.interviewbit.com/python-interview-questions/)\n",
    "- [Corey: Preparing for a Python Interview: 10 Things You Should Know](https://www.youtube.com/watch?v=DEwgZNC-KyE&list=RDCMUCCezIgC97PvUuR4_gbFUs5g&index=4)\n",
    "- [InterviewBit: Python Interview Questions](https://www.interviewbit.com/python-interview-questions/)\n",
    "- [InterviewBit: Django Interview Questions](https://www.interviewbit.com/django-interview-questions/)"
   ]
  },
  {
   "cell_type": "markdown",
   "metadata": {},
   "source": []
  },
  {
   "cell_type": "markdown",
   "metadata": {
    "heading_collapsed": true,
    "jp-MarkdownHeadingCollapsed": true
   },
   "source": [
    "## <a href=\"https://docs.python.org/3/library/functions.html\"><b style='color:#FF4500'>Built-in Functions</b></a>"
   ]
  },
  {
   "cell_type": "code",
   "execution_count": null,
   "metadata": {
    "hidden": true
   },
   "outputs": [],
   "source": [
    "# print(dir(object), dir(type), sep='\\n')"
   ]
  },
  {
   "cell_type": "code",
   "execution_count": null,
   "metadata": {
    "hidden": true
   },
   "outputs": [],
   "source": [
    "# help(hasattr)"
   ]
  },
  {
   "cell_type": "code",
   "execution_count": null,
   "metadata": {
    "hidden": true
   },
   "outputs": [],
   "source": [
    "issubclass(type, object)"
   ]
  },
  {
   "cell_type": "code",
   "execution_count": null,
   "metadata": {
    "hidden": true,
    "scrolled": true
   },
   "outputs": [],
   "source": [
    "getattr(object, '__class__')"
   ]
  },
  {
   "cell_type": "code",
   "execution_count": null,
   "metadata": {
    "hidden": true,
    "scrolled": true
   },
   "outputs": [],
   "source": [
    "object.__class__"
   ]
  },
  {
   "cell_type": "markdown",
   "metadata": {
    "heading_collapsed": true,
    "hidden": true,
    "jp-MarkdownHeadingCollapsed": true,
    "tags": []
   },
   "source": [
    "#### `range(...) ==> iterator`"
   ]
  },
  {
   "cell_type": "code",
   "execution_count": null,
   "metadata": {
    "hidden": true
   },
   "outputs": [],
   "source": [
    "type(range(5))"
   ]
  },
  {
   "cell_type": "code",
   "execution_count": null,
   "metadata": {
    "hidden": true
   },
   "outputs": [],
   "source": [
    "print(range(10))\n",
    "print([*range(10)])\n",
    "print([*range(1, 5)])\n",
    "print([i for i in range(10, 21, 2)])\n",
    "print([i for i in range(10, 0, -1)])\n",
    "print([i for i in range(10, -1, -1)])\n",
    "print([i for i in range(-10, -20, -1)])\n",
    "print([i for i in range(-20, -10, 1)])"
   ]
  },
  {
   "cell_type": "markdown",
   "metadata": {
    "heading_collapsed": true,
    "hidden": true,
    "jp-MarkdownHeadingCollapsed": true,
    "tags": []
   },
   "source": [
    "#### `enumerate(...) ==> iterator`"
   ]
  },
  {
   "cell_type": "markdown",
   "metadata": {
    "hidden": true
   },
   "source": [
    "- `enumerate` object is not reversable, meaning, `reversed(enumerate(range(5)))` generates error !\n",
    "- To Achive the same effect, you can do: `reversed(list(enumerate(range(5))))`"
   ]
  },
  {
   "cell_type": "code",
   "execution_count": null,
   "metadata": {
    "hidden": true
   },
   "outputs": [],
   "source": [
    "enum = enumerate([*range(5)], 3)"
   ]
  },
  {
   "cell_type": "code",
   "execution_count": null,
   "metadata": {
    "hidden": true
   },
   "outputs": [],
   "source": [
    "type(enum)"
   ]
  },
  {
   "cell_type": "code",
   "execution_count": null,
   "metadata": {
    "hidden": true
   },
   "outputs": [],
   "source": [
    "L = [*enum]; L"
   ]
  },
  {
   "cell_type": "code",
   "execution_count": null,
   "metadata": {
    "hidden": true
   },
   "outputs": [],
   "source": [
    "isinstance(enum, Iterator)"
   ]
  },
  {
   "cell_type": "code",
   "execution_count": null,
   "metadata": {
    "hidden": true
   },
   "outputs": [],
   "source": [
    "# issubclass(enum, (object, Iterator))"
   ]
  },
  {
   "cell_type": "code",
   "execution_count": null,
   "metadata": {
    "hidden": true
   },
   "outputs": [],
   "source": [
    "for key, val in enumerate([*range(50, 110, 10)], 3): print(f\"{key}: {val}\")"
   ]
  },
  {
   "cell_type": "code",
   "execution_count": null,
   "metadata": {
    "hidden": true
   },
   "outputs": [],
   "source": [
    "[*enumerate(zip([*range(5)], [*range(5,0,-1)]), 2)]"
   ]
  },
  {
   "cell_type": "code",
   "execution_count": null,
   "metadata": {
    "code_folding": [],
    "hidden": true
   },
   "outputs": [],
   "source": [
    "S = [*enumerate(NUMBERS)]; print(S)"
   ]
  },
  {
   "cell_type": "code",
   "execution_count": null,
   "metadata": {
    "hidden": true
   },
   "outputs": [],
   "source": [
    "dictionary = {val: key for key, val in NUMBERS.items()}"
   ]
  },
  {
   "cell_type": "code",
   "execution_count": null,
   "metadata": {
    "hidden": true
   },
   "outputs": [],
   "source": [
    "{*enumerate(dictionary)}"
   ]
  },
  {
   "cell_type": "code",
   "execution_count": null,
   "metadata": {
    "code_folding": [],
    "hidden": true
   },
   "outputs": [],
   "source": [
    "T = {*enumerate(sorted(S))}  # type(T) -> <class 'set'>\n",
    "T = (*enumerate(reversed(S)), )  # type(T) -> <class 'tuple'>"
   ]
  },
  {
   "cell_type": "markdown",
   "metadata": {
    "heading_collapsed": true,
    "hidden": true,
    "jp-MarkdownHeadingCollapsed": true,
    "tags": []
   },
   "source": [
    "#### `reversed(...) ==> iterator`"
   ]
  },
  {
   "cell_type": "code",
   "execution_count": null,
   "metadata": {
    "hidden": true
   },
   "outputs": [],
   "source": [
    "# help(reversed)"
   ]
  },
  {
   "cell_type": "code",
   "execution_count": null,
   "metadata": {
    "hidden": true
   },
   "outputs": [],
   "source": [
    "rev = [*reversed([*range(5)])]; rev"
   ]
  },
  {
   "cell_type": "code",
   "execution_count": null,
   "metadata": {
    "hidden": true
   },
   "outputs": [],
   "source": [
    "type(reversed([*range(5)]))"
   ]
  },
  {
   "cell_type": "markdown",
   "metadata": {
    "hidden": true
   },
   "source": [
    "- **Taking reverse of enumerate object is not possible directly!**"
   ]
  },
  {
   "cell_type": "code",
   "execution_count": null,
   "metadata": {
    "hidden": true
   },
   "outputs": [],
   "source": [
    "# print([*reversed(enumerate(L))]) # TypeError: 'enumerate' object is not reversible\n",
    "print([*reversed(list(enumerate(L)))])"
   ]
  },
  {
   "cell_type": "code",
   "execution_count": null,
   "metadata": {
    "hidden": true
   },
   "outputs": [],
   "source": [
    "reversed(list(enumerate(L)))"
   ]
  },
  {
   "cell_type": "code",
   "execution_count": null,
   "metadata": {
    "hidden": true
   },
   "outputs": [],
   "source": [
    "[*reversed(list(enumerate(L)))]"
   ]
  },
  {
   "cell_type": "markdown",
   "metadata": {
    "heading_collapsed": true,
    "hidden": true,
    "jp-MarkdownHeadingCollapsed": true,
    "tags": []
   },
   "source": [
    "#### `sorted(...) ==> new list`:"
   ]
  },
  {
   "cell_type": "code",
   "execution_count": null,
   "metadata": {
    "hidden": true
   },
   "outputs": [],
   "source": [
    "help(sorted)"
   ]
  },
  {
   "cell_type": "code",
   "execution_count": null,
   "metadata": {
    "hidden": true
   },
   "outputs": [],
   "source": [
    "participant_list = {\n",
    "    ('Alison', 50, 18),\n",
    "    ('Terence', 75, 12),\n",
    "    ('David', 75, 20),\n",
    "    ('Jimmy', 90, 22),\n",
    "    ('John', 45, 12),\n",
    "    ('Adam', 45, 12)\n",
    "}"
   ]
  },
  {
   "cell_type": "code",
   "execution_count": null,
   "metadata": {
    "hidden": true
   },
   "outputs": [],
   "source": [
    "sorted_list = sorted(participant_list); sorted_list"
   ]
  },
  {
   "cell_type": "code",
   "execution_count": null,
   "metadata": {
    "hidden": true
   },
   "outputs": [],
   "source": [
    "type(sorted_list)"
   ]
  },
  {
   "cell_type": "code",
   "execution_count": null,
   "metadata": {
    "hidden": true
   },
   "outputs": [],
   "source": [
    "sorted_list = sorted(participant_list, key=lambda item: (item[1], item[2])); sorted_list"
   ]
  },
  {
   "cell_type": "code",
   "execution_count": null,
   "metadata": {
    "hidden": true
   },
   "outputs": [],
   "source": [
    "sorted_list = sorted(participant_list, key=lambda item: (item[1], item[2]), reverse=True); sorted_list"
   ]
  },
  {
   "cell_type": "code",
   "execution_count": null,
   "metadata": {
    "hidden": true
   },
   "outputs": [],
   "source": [
    "sorted_list = sorted(participant_list, key=lambda item: (-item[1], item[2])); sorted_list"
   ]
  },
  {
   "cell_type": "code",
   "execution_count": null,
   "metadata": {
    "hidden": true
   },
   "outputs": [],
   "source": [
    "sorted_list = sorted(participant_list, key=lambda item: (item[2], -item[1])); sorted_list"
   ]
  },
  {
   "cell_type": "code",
   "execution_count": null,
   "metadata": {
    "hidden": true
   },
   "outputs": [],
   "source": [
    "sorted_list = sorted(participant_list, key=lambda item: (item[1], -item[2])); sorted_list"
   ]
  },
  {
   "cell_type": "code",
   "execution_count": null,
   "metadata": {
    "hidden": true,
    "scrolled": true
   },
   "outputs": [],
   "source": [
    "sorted_list = sorted(participant_list, key=lambda item: (100-item[1], item[2])); sorted_list"
   ]
  },
  {
   "cell_type": "code",
   "execution_count": null,
   "metadata": {
    "hidden": true
   },
   "outputs": [],
   "source": [
    "prices = {\"apple\": 2.99, \"banana\": 1.49, \"cherry\": 4.99, \"date\": 3.25}\n",
    "sorted_price = sorted(prices, key=prices.get)\n",
    "print(sorted_price)"
   ]
  },
  {
   "cell_type": "markdown",
   "metadata": {
    "heading_collapsed": true,
    "hidden": true,
    "jp-MarkdownHeadingCollapsed": true,
    "tags": []
   },
   "source": [
    "#### `zip(..) ==> iterator`"
   ]
  },
  {
   "cell_type": "code",
   "execution_count": null,
   "metadata": {
    "hidden": true
   },
   "outputs": [],
   "source": [
    "# help(zip)"
   ]
  },
  {
   "cell_type": "code",
   "execution_count": null,
   "metadata": {
    "hidden": true
   },
   "outputs": [],
   "source": [
    "zip([*range(5)], [*range(5,0,-1)])"
   ]
  },
  {
   "cell_type": "code",
   "execution_count": null,
   "metadata": {
    "hidden": true
   },
   "outputs": [],
   "source": [
    "type(zip(range(5), range(5,0,-1)))"
   ]
  },
  {
   "cell_type": "code",
   "execution_count": null,
   "metadata": {
    "hidden": true
   },
   "outputs": [],
   "source": [
    "[*zip(range(5), range(4,-1,-1))]"
   ]
  },
  {
   "cell_type": "code",
   "execution_count": null,
   "metadata": {
    "hidden": true
   },
   "outputs": [],
   "source": [
    "L1 = [1, 'Z', 'Z', 2, 3, 4, 'A'] \n",
    "L2 = [4, 'Z', 'Z', 3, 2, 1]"
   ]
  },
  {
   "cell_type": "code",
   "execution_count": null,
   "metadata": {
    "hidden": true
   },
   "outputs": [],
   "source": [
    "LZ = [*zip(L1, L2)]; LZ"
   ]
  },
  {
   "cell_type": "code",
   "execution_count": null,
   "metadata": {
    "hidden": true
   },
   "outputs": [],
   "source": [
    "SZ = {*zip(L1, L2)}; SZ # onordered set"
   ]
  },
  {
   "cell_type": "code",
   "execution_count": null,
   "metadata": {
    "hidden": true
   },
   "outputs": [],
   "source": [
    "TZ = (*zip(L1, L2),); TZ"
   ]
  },
  {
   "cell_type": "markdown",
   "metadata": {
    "heading_collapsed": true,
    "hidden": true,
    "jp-MarkdownHeadingCollapsed": true,
    "tags": []
   },
   "source": [
    "#### <b style=\"color:#C71585\">filter(truthy_func, iterable)</b> == > iterator"
   ]
  },
  {
   "cell_type": "markdown",
   "metadata": {
    "hidden": true
   },
   "source": [
    "- Construct an iterator from those elements of iterable for which given function returns true.\n",
    "- Iterable may be either a sequence, a container which supports iteration, or an iterator. \n",
    "- If function is None, the identity function is assumed, that is, all elements of iterable that are false are removed."
   ]
  },
  {
   "cell_type": "code",
   "execution_count": null,
   "metadata": {
    "hidden": true
   },
   "outputs": [],
   "source": [
    "# help(filter)"
   ]
  },
  {
   "cell_type": "markdown",
   "metadata": {
    "hidden": true
   },
   "source": [
    "- `filter(function, iterable)` == [`item for item in iterable if function(item)`] if function is not None."
   ]
  },
  {
   "cell_type": "code",
   "execution_count": null,
   "metadata": {
    "hidden": true
   },
   "outputs": [],
   "source": [
    "filter(lambda x: x%11 == 0, range(50))"
   ]
  },
  {
   "cell_type": "code",
   "execution_count": null,
   "metadata": {
    "hidden": true
   },
   "outputs": [],
   "source": [
    "[*filter(lambda x: x**2, range(5))]"
   ]
  },
  {
   "cell_type": "markdown",
   "metadata": {
    "hidden": true
   },
   "source": [
    "- `filter(function, iterable)` == [`item for item in iterable if item`] if function is None."
   ]
  },
  {
   "cell_type": "code",
   "execution_count": null,
   "metadata": {
    "hidden": true
   },
   "outputs": [],
   "source": [
    "[*filter(None, [bool(randint(0,1)) for _ in range(10)])]"
   ]
  },
  {
   "cell_type": "markdown",
   "metadata": {
    "heading_collapsed": true,
    "hidden": true,
    "tags": []
   },
   "source": [
    "#### <b style=\"color:#C71585\">map(func, *iterables)</b> ==> iterator"
   ]
  },
  {
   "cell_type": "code",
   "execution_count": null,
   "metadata": {
    "hidden": true,
    "scrolled": true
   },
   "outputs": [],
   "source": [
    "# help(map)"
   ]
  },
  {
   "cell_type": "code",
   "execution_count": null,
   "metadata": {
    "hidden": true
   },
   "outputs": [],
   "source": [
    "import math"
   ]
  },
  {
   "cell_type": "code",
   "execution_count": null,
   "metadata": {
    "hidden": true
   },
   "outputs": [],
   "source": [
    "def square(x): return x**2"
   ]
  },
  {
   "cell_type": "code",
   "execution_count": null,
   "metadata": {
    "hidden": true
   },
   "outputs": [],
   "source": [
    "mapping = map(math.sqrt, [x**2 for x in range(2, 32, 4)]); mapping"
   ]
  },
  {
   "cell_type": "code",
   "execution_count": null,
   "metadata": {
    "hidden": true
   },
   "outputs": [],
   "source": [
    "type(mapping)"
   ]
  },
  {
   "cell_type": "code",
   "execution_count": null,
   "metadata": {
    "hidden": true
   },
   "outputs": [],
   "source": [
    "[*map(math.sqrt, [x**2 for x in range(2, 32, 4)])]"
   ]
  },
  {
   "cell_type": "code",
   "execution_count": null,
   "metadata": {
    "hidden": true
   },
   "outputs": [],
   "source": [
    "list(map(lambda x: x**2, range(5)))"
   ]
  },
  {
   "cell_type": "markdown",
   "metadata": {
    "hidden": true
   },
   "source": [
    "<font color='red'> Two-argument function into **map(...)**</font>"
   ]
  },
  {
   "cell_type": "code",
   "execution_count": null,
   "metadata": {
    "hidden": true
   },
   "outputs": [],
   "source": [
    "[*map(math.pow, range(5), range(10))]"
   ]
  },
  {
   "cell_type": "code",
   "execution_count": null,
   "metadata": {
    "hidden": true
   },
   "outputs": [],
   "source": [
    "L2 = [*map(ord, 'abcd')]; L2"
   ]
  },
  {
   "cell_type": "code",
   "execution_count": null,
   "metadata": {
    "hidden": true
   },
   "outputs": [],
   "source": [
    "L2A = {*map(ord, 'ABCD')}; L2A"
   ]
  },
  {
   "cell_type": "code",
   "execution_count": null,
   "metadata": {
    "hidden": true
   },
   "outputs": [],
   "source": [
    "L2B = (*map(ord, 'Shah'), ); L2B"
   ]
  },
  {
   "cell_type": "code",
   "execution_count": null,
   "metadata": {
    "hidden": true
   },
   "outputs": [],
   "source": []
  },
  {
   "cell_type": "markdown",
   "metadata": {
    "heading_collapsed": true,
    "hidden": true,
    "jp-MarkdownHeadingCollapsed": true,
    "tags": []
   },
   "source": [
    "#### <b style=\"color:#C71585\">functools.reduce(function, iterable[, initializer])</b> ==> number"
   ]
  },
  {
   "cell_type": "markdown",
   "metadata": {
    "hidden": true
   },
   "source": [
    "- Apply function of two arguments cumulatively to the items of iterable, from left to right, so as to reduce the iterable to a single value. \n",
    "- For example, `reduce(lambda: x, y: x+y, [1, 2, 3, 4, 5])` calculates **((((1+2)+3)+4)+5)**. The left argument, `x`, is the accumulated value and the right argument, `y`, is the update value from the iterable. If the optional initializer is present, it is placed before the items of the iterable in the calculation, and serves as a default when the iterable is empty. \n",
    "- If initializer is not given and iterable contains only one item, the first item is returned."
   ]
  },
  {
   "cell_type": "code",
   "execution_count": null,
   "metadata": {
    "hidden": true
   },
   "outputs": [],
   "source": [
    "from functools import reduce\n",
    "# help(functools.reduce)"
   ]
  },
  {
   "cell_type": "code",
   "execution_count": null,
   "metadata": {
    "code_folding": [],
    "hidden": true
   },
   "outputs": [],
   "source": [
    "def do_sum(x1, x2): return x1 + x2\n",
    "\n",
    "def reduce_prototype(function, iterable, initializer=None): \n",
    "    it = iter(iterable)\n",
    "\n",
    "    if initializer is None: value = next(it)\n",
    "    else: value = initializer\n",
    "\n",
    "    for element in it: \n",
    "        value = function(value, element)\n",
    "\n",
    "    return value"
   ]
  },
  {
   "cell_type": "code",
   "execution_count": null,
   "metadata": {
    "hidden": true
   },
   "outputs": [],
   "source": [
    "reduce_prototype(do_sum, range(5))"
   ]
  },
  {
   "cell_type": "code",
   "execution_count": null,
   "metadata": {
    "hidden": true
   },
   "outputs": [],
   "source": [
    "L1 = [*range(5)]"
   ]
  },
  {
   "cell_type": "code",
   "execution_count": null,
   "metadata": {
    "hidden": true
   },
   "outputs": [],
   "source": [
    "reduce_prototype(do_sum, L1, 10)"
   ]
  },
  {
   "cell_type": "code",
   "execution_count": null,
   "metadata": {
    "hidden": true
   },
   "outputs": [],
   "source": [
    "functools.reduce(do_sum, L1, 10)"
   ]
  },
  {
   "cell_type": "code",
   "execution_count": null,
   "metadata": {
    "hidden": true
   },
   "outputs": [],
   "source": [
    "reduce_prototype(do_sum, L1)"
   ]
  },
  {
   "cell_type": "code",
   "execution_count": null,
   "metadata": {
    "hidden": true
   },
   "outputs": [],
   "source": [
    "assert reduce_prototype(do_sum, L1, 10) == functools.reduce(do_sum, L1, 10)"
   ]
  },
  {
   "cell_type": "markdown",
   "metadata": {
    "hidden": true
   },
   "source": [
    "- <b style=\"color:red\">Convert a string representation of an integer into int representation of the integer.</b>"
   ]
  },
  {
   "cell_type": "code",
   "execution_count": null,
   "metadata": {
    "hidden": true
   },
   "outputs": [],
   "source": [
    "def str_to_int_v2(s: str) -> int:\n",
    "    sign, s = (-1, s[1:]) if s[0] == \"-\" else (1, s)\n",
    "    return reduce(lambda res, item: res*10 + string.digits.index(item), s, 0) * sign"
   ]
  },
  {
   "cell_type": "markdown",
   "metadata": {
    "hidden": true
   },
   "source": [
    "- <b style=\"color:red\">First non-constructible value</b>"
   ]
  },
  {
   "cell_type": "code",
   "execution_count": null,
   "metadata": {
    "hidden": true
   },
   "outputs": [],
   "source": [
    "def smallest_nonconstructible_value_pythonic(coins):\n",
    "    func = lambda max_val, coin: max_val + (0 if coin > max_val + 1 else coin)\n",
    "    return functools.reduce(func, sorted(coins), 0) + 1"
   ]
  },
  {
   "cell_type": "markdown",
   "metadata": {
    "hidden": true
   },
   "source": [
    "- <b style=\"color:red\">Convert Roman integer to Decimal integer.</b>"
   ]
  },
  {
   "cell_type": "code",
   "execution_count": null,
   "metadata": {
    "hidden": true
   },
   "outputs": [],
   "source": [
    "def roman_to_integer(s: str) -> int:\n",
    "    \n",
    "    # - There is no zero in Roman numerals !\n",
    "    T = {'I': 1, 'V': 5, 'X': 10, 'L': 50, 'C': 100, 'D': 500, 'M': 1000}\n",
    "    f = lambda val, i: val + (-T[s[i]] if T[s[i]] < T[s[i + 1]] else T[s[i]])\n",
    "    return reduce(f, reversed(range(len(s) - 1)), T[s[-1]])"
   ]
  },
  {
   "cell_type": "markdown",
   "metadata": {
    "heading_collapsed": true,
    "hidden": true,
    "jp-MarkdownHeadingCollapsed": true,
    "tags": []
   },
   "source": [
    "#### [`itertools.accumulate(iterable[, func, *, initial=None])`](https://docs.python.org/3/library/itertools.html#itertools.accumulate) ==> `iterator`"
   ]
  },
  {
   "cell_type": "markdown",
   "metadata": {
    "hidden": true
   },
   "source": [
    "- Make an __iterator__ that returns accumulated sums, or accumulated results of other *binary functions* (specified via the optional func argument).\n",
    "- If func is supplied, it should be a function of two arguments. \n",
    "- Elements of the input iterable may be any type that can be accepted as arguments to func.\n",
    "- Usually, the number of elements output matches the input iterable. However, if the keyword argument initial is provided, the accumulation leads off with the initial value so that the output has one more element than the input iterable.\n",
    "\n"
   ]
  },
  {
   "cell_type": "markdown",
   "metadata": {
    "hidden": true
   },
   "source": [
    "- **It is roughly equivalent to the following function**"
   ]
  },
  {
   "cell_type": "code",
   "execution_count": null,
   "metadata": {
    "code_folding": [],
    "hidden": true
   },
   "outputs": [],
   "source": [
    "def accumulate(iterable, func=operator.add, *, initial=None):\n",
    "    'Return running totals'\n",
    "    # accumulate([1,2,3,4,5]) --> 1 3 6 10 15\n",
    "    # accumulate([1,2,3,4,5], initial=100) --> 100 101 103 106 110 115\n",
    "    # accumulate([1,2,3,4,5], operator.mul) --> 1 2 6 24 120\n",
    "    it = iter(iterable)\n",
    "    total = initial\n",
    "    if initial is None:\n",
    "        try:\n",
    "            total = next(it)\n",
    "        except StopIteration:\n",
    "            return\n",
    "    yield total\n",
    "    for element in it:\n",
    "        total = func(total, element)\n",
    "        yield total"
   ]
  },
  {
   "cell_type": "code",
   "execution_count": null,
   "metadata": {
    "hidden": true
   },
   "outputs": [],
   "source": [
    "type(accumulate)"
   ]
  },
  {
   "cell_type": "code",
   "execution_count": null,
   "metadata": {
    "hidden": true
   },
   "outputs": [],
   "source": [
    "# help(accumulate)"
   ]
  },
  {
   "cell_type": "code",
   "execution_count": null,
   "metadata": {
    "hidden": true
   },
   "outputs": [],
   "source": [
    "num1 = accumulate([1,2,3,4,5])\n",
    "print(*num1) # Output:<itertools.accumulate object at 0x02CD94C8>\n",
    "\n",
    "# Converting iterator to list object.\n",
    "print (list(num1)) # Output:[1, 3, 6, 10, 15]\n",
    "\n",
    "# using reduce() for same function\n",
    "r1=reduce(operator.add,[1,2,3,4,5])\n",
    "print (r1) # Output:15"
   ]
  },
  {
   "cell_type": "markdown",
   "metadata": {
    "heading_collapsed": true,
    "hidden": true,
    "jp-MarkdownHeadingCollapsed": true,
    "tags": []
   },
   "source": [
    "#### <b style=\"color:#C71585\">itertools.groupby(...)"
   ]
  },
  {
   "cell_type": "code",
   "execution_count": null,
   "metadata": {
    "hidden": true
   },
   "outputs": [],
   "source": [
    "import random\n",
    "from itertools import groupby"
   ]
  },
  {
   "cell_type": "code",
   "execution_count": null,
   "metadata": {
    "hidden": true
   },
   "outputs": [],
   "source": [
    "# help(groupby)"
   ]
  },
  {
   "cell_type": "code",
   "execution_count": null,
   "metadata": {
    "hidden": true
   },
   "outputs": [],
   "source": [
    "arr = [random.randint(0, 3) for _ in range(10)]; arr"
   ]
  },
  {
   "cell_type": "code",
   "execution_count": null,
   "metadata": {
    "hidden": true
   },
   "outputs": [],
   "source": [
    "for key, group in groupby(arr):\n",
    "    print(f\"{key}: {group}\")"
   ]
  },
  {
   "cell_type": "code",
   "execution_count": null,
   "metadata": {
    "hidden": true
   },
   "outputs": [],
   "source": [
    "for key, group in groupby(arr):\n",
    "    # print(type(group))\n",
    "    print(f\"{key}: {[*group]}\")"
   ]
  },
  {
   "cell_type": "markdown",
   "metadata": {
    "hidden": true
   },
   "source": [
    "- [Run-length encoding (lossless data compression)\n",
    "\n",
    "Run-length encoding (RLE) is a data compression technique used to represent consecutive repeated characters or elements in a string or sequence as a count followed by the character or element itself.\n"
   ]
  },
  {
   "cell_type": "code",
   "execution_count": null,
   "metadata": {
    "hidden": true
   },
   "outputs": [],
   "source": [
    "def encoding_pythonic(s):\n",
    "    return ''.join([str(len(list(group))) + key for key, group in groupby(s)])"
   ]
  },
  {
   "cell_type": "code",
   "execution_count": null,
   "metadata": {
    "hidden": true
   },
   "outputs": [],
   "source": []
  },
  {
   "cell_type": "markdown",
   "metadata": {
    "heading_collapsed": true,
    "hidden": true,
    "jp-MarkdownHeadingCollapsed": true,
    "tags": []
   },
   "source": [
    "#### `bytes()`:"
   ]
  },
  {
   "cell_type": "markdown",
   "metadata": {
    "hidden": true
   },
   "source": [
    "-   bytes is an immutable sequence data type in Python.\n",
    "\n",
    "-   It represents a sequence of bytes, where each byte can hold values from 0 to 255.\n",
    "\n",
    "-   Bytes objects are used to store binary data, such as images, sound files, and network packets.\n",
    "\n",
    "-   Bytes objects are similar to strings, but they are designed specifically for binary data and don't have a character encoding associated with them.\n",
    "\n",
    "-   You can create a bytes object by enclosing a sequence of bytes in b'...' or using the bytes() constructor.\n",
    "\n",
    "-   Example of creating a bytes object: `data = b'\\x48\\x65\\x6c\\x6c\\x6f'`\n",
    "\n",
    "-   Bytes objects are often used when working with file I/O to read or write binary data.\n",
    "\n",
    "-   You can access individual bytes in a bytes object using indexing, e.g., data[0] returns the first byte.\n",
    "\n",
    "-   Bytes objects support various methods, including `len()`, `count()`, `index()`, and slicing.\n",
    "\n",
    "-   You can convert a bytes object to a string using the `.decode()` method, specifying an encoding (e.g., `data.decode('utf-8')`).\n",
    "\n",
    "-   You can also convert a string to a bytes object using the `.encode()` method (`'hello'.encode('utf-8')`).\n",
    "\n",
    "-   Bytes objects are often used for cryptographic operations, hashing, and working with binary protocols.\n",
    "\n",
    "-   They are efficient for handling binary data because they are immutable, meaning that operations like concatenation create new bytes objects rather than modifying existing ones.\n",
    "\n",
    "-   The bytes type is similar to the bytearray type, but the latter is mutable, allowing in-place modifications.\n",
    "\n",
    "-   Bytes objects are iterable, allowing you to iterate over their individual bytes using loops or comprehension.\n",
    "\n",
    "-   You can represent bytes in various formats, such as hexadecimal (`b'\\x48\\x65\\x6c\\x6c\\x6f'`) or base64-encoded (`b'SGVsbG8='`).\n",
    "\n",
    "-   Bytes objects are often used when dealing with network communication, cryptography, and low-level binary file formats.\n"
   ]
  },
  {
   "cell_type": "code",
   "execution_count": null,
   "metadata": {
    "hidden": true
   },
   "outputs": [],
   "source": [
    "bytes([65,66,67]), bytes('ABC', 'utf-8')"
   ]
  },
  {
   "cell_type": "code",
   "execution_count": null,
   "metadata": {
    "hidden": true
   },
   "outputs": [],
   "source": [
    "# Create an immutable buffer of 10 bytes\n",
    "buffer = bytes(10); buffer"
   ]
  },
  {
   "cell_type": "code",
   "execution_count": null,
   "metadata": {
    "hidden": true
   },
   "outputs": [],
   "source": [
    "# Create bytes object literally.\n",
    "byt = b'shah'"
   ]
  },
  {
   "cell_type": "code",
   "execution_count": null,
   "metadata": {
    "hidden": true
   },
   "outputs": [],
   "source": [
    "type(byt)"
   ]
  },
  {
   "cell_type": "code",
   "execution_count": null,
   "metadata": {
    "hidden": true
   },
   "outputs": [],
   "source": [
    "s = bytes('shah', 'ascii'); s"
   ]
  },
  {
   "cell_type": "code",
   "execution_count": null,
   "metadata": {
    "hidden": true
   },
   "outputs": [],
   "source": [
    "type(s)"
   ]
  },
  {
   "cell_type": "code",
   "execution_count": null,
   "metadata": {
    "hidden": true
   },
   "outputs": [],
   "source": [
    "s.count(ord('h')) # s.count('h')    # ERROR !!"
   ]
  },
  {
   "cell_type": "code",
   "execution_count": null,
   "metadata": {
    "hidden": true
   },
   "outputs": [],
   "source": [
    "print(\"\".join([str(i) + '_' for i in s]))\n",
    "print(\"\".join([chr(i) + '_' for i in s]))"
   ]
  },
  {
   "cell_type": "code",
   "execution_count": null,
   "metadata": {
    "hidden": true
   },
   "outputs": [],
   "source": [
    "str(s, encoding='ascii')"
   ]
  },
  {
   "cell_type": "code",
   "execution_count": null,
   "metadata": {
    "hidden": true
   },
   "outputs": [],
   "source": [
    "# bytes object of size given by the parameter initialized with null bytes.\n",
    "a = bytes(5); a"
   ]
  },
  {
   "cell_type": "code",
   "execution_count": null,
   "metadata": {
    "hidden": true
   },
   "outputs": [],
   "source": [
    "str(a, encoding='ascii')"
   ]
  },
  {
   "cell_type": "code",
   "execution_count": null,
   "metadata": {
    "hidden": true
   },
   "outputs": [],
   "source": [
    "list(a)     "
   ]
  },
  {
   "cell_type": "code",
   "execution_count": null,
   "metadata": {
    "hidden": true
   },
   "outputs": [],
   "source": [
    "a2 = bytes([10, 1, 5, 64, 66]); a2"
   ]
  },
  {
   "cell_type": "code",
   "execution_count": null,
   "metadata": {},
   "outputs": [],
   "source": [
    "list(a2)"
   ]
  },
  {
   "cell_type": "code",
   "execution_count": null,
   "metadata": {
    "hidden": true
   },
   "outputs": [],
   "source": [
    "b\"shah\".upper()"
   ]
  },
  {
   "cell_type": "markdown",
   "metadata": {
    "heading_collapsed": true,
    "hidden": true,
    "jp-MarkdownHeadingCollapsed": true,
    "tags": []
   },
   "source": [
    "#### `bytearray(...)`"
   ]
  },
  {
   "cell_type": "markdown",
   "metadata": {
    "hidden": true
   },
   "source": [
    "- Return a new array of bytes (integers in the range 0 <= x < 256). \n",
    "- The bytearray type is a mutable sequence. \n",
    "- It has most of the usual methods of mutable sequences, described in Mutable Sequence Types, as well as most methods that the bytes type has, see Bytes and Byte Array Methods."
   ]
  },
  {
   "cell_type": "code",
   "execution_count": null,
   "metadata": {
    "hidden": true
   },
   "outputs": [],
   "source": [
    "# help(bytearray)"
   ]
  },
  {
   "cell_type": "code",
   "execution_count": null,
   "metadata": {
    "hidden": true
   },
   "outputs": [],
   "source": [
    "# dir(bytearray)"
   ]
  },
  {
   "cell_type": "code",
   "execution_count": null,
   "metadata": {
    "hidden": true
   },
   "outputs": [],
   "source": [
    "L = bytearray(\"Shah isn't\", 'ascii'); L"
   ]
  },
  {
   "cell_type": "code",
   "execution_count": null,
   "metadata": {
    "hidden": true
   },
   "outputs": [],
   "source": [
    "L[0]"
   ]
  },
  {
   "cell_type": "code",
   "execution_count": null,
   "metadata": {
    "hidden": true
   },
   "outputs": [],
   "source": [
    "s = str(L, 'ascii'); s"
   ]
  },
  {
   "cell_type": "code",
   "execution_count": null,
   "metadata": {
    "hidden": true
   },
   "outputs": [],
   "source": [
    "L[0] = 100\n",
    "L"
   ]
  },
  {
   "cell_type": "code",
   "execution_count": null,
   "metadata": {
    "hidden": true
   },
   "outputs": [],
   "source": [
    "list(L)"
   ]
  },
  {
   "cell_type": "code",
   "execution_count": null,
   "metadata": {
    "hidden": true
   },
   "outputs": [],
   "source": [
    "# L[0] = 300    ## ERROR !\n",
    "L"
   ]
  },
  {
   "cell_type": "code",
   "execution_count": null,
   "metadata": {
    "hidden": true
   },
   "outputs": [],
   "source": [
    "def _test_bytearray():\n",
    "    array = bytearray(10)\n",
    "    array[9] = 255\n",
    "    array[1] = 1\n",
    "    array[0] = 0"
   ]
  },
  {
   "cell_type": "markdown",
   "metadata": {
    "heading_collapsed": true,
    "hidden": true,
    "jp-MarkdownHeadingCollapsed": true,
    "tags": []
   },
   "source": [
    "#### `any()` / `all()`: [References](https://www.w3schools.com/python/ref_func_all.asp)"
   ]
  },
  {
   "cell_type": "code",
   "execution_count": null,
   "metadata": {
    "hidden": true
   },
   "outputs": [],
   "source": [
    "def _test_any():\n",
    "    res1 = any([False, False, False, True, False])\n",
    "    res2 = any([False, False, False, False])\n",
    "    res3 = any([0, 0, 0, 3, 0, 0])\n",
    "    res4 = any(['', '', 'a', 'ab', ''])\n",
    "    print(res1,res2,res3,res4)\n",
    "\n",
    "_test_any()"
   ]
  },
  {
   "cell_type": "code",
   "execution_count": null,
   "metadata": {
    "hidden": true
   },
   "outputs": [],
   "source": [
    "def all_equivalent(iterable): \n",
    "    for element in iterable:\n",
    "        if not element: return False\n",
    "    return True"
   ]
  },
  {
   "cell_type": "code",
   "execution_count": null,
   "metadata": {
    "hidden": true
   },
   "outputs": [],
   "source": [
    "def _test_all():\n",
    "    res1 = all([True, True, True, True, True])\n",
    "    res2 = all([False, False, False, False])\n",
    "    res3 = all([True, True, False, False, True])\n",
    "    res4 = all([4, 1, 6, 3, 12, 34])\n",
    "    res5 = all([0, 1, 6, 3, 12, 34])\n",
    "    res6 = all(['abc', '', 'a', 'ab', 'ac'])\n",
    "    \n",
    "    L = [x for x in states if all([v in x for v in 'aeio'])]\n",
    "    \n",
    "    print(res1,res2,res3,res4, res5, res6, L, sep='\\n')"
   ]
  },
  {
   "cell_type": "code",
   "execution_count": null,
   "metadata": {
    "hidden": true
   },
   "outputs": [],
   "source": [
    "_test_all()"
   ]
  },
  {
   "cell_type": "markdown",
   "metadata": {
    "heading_collapsed": true,
    "hidden": true,
    "jp-MarkdownHeadingCollapsed": true,
    "tags": []
   },
   "source": [
    "#### `dir(...)`:"
   ]
  },
  {
   "cell_type": "code",
   "execution_count": null,
   "metadata": {
    "hidden": true
   },
   "outputs": [],
   "source": [
    "# dir()"
   ]
  },
  {
   "cell_type": "code",
   "execution_count": null,
   "metadata": {
    "hidden": true
   },
   "outputs": [],
   "source": [
    "class Test:\n",
    "    def __init__(self):\n",
    "        self.foo = 10\n",
    "        self._bar = 20\n",
    "        self.__baz = 30\n",
    "        self._mangled_attr = 1\n",
    "    \n",
    "    @property\n",
    "    def num_mangled_attr(self):\n",
    "        return self._mangled_attr"
   ]
  },
  {
   "cell_type": "code",
   "execution_count": null,
   "metadata": {
    "hidden": true
   },
   "outputs": [],
   "source": [
    "t = Test()"
   ]
  },
  {
   "cell_type": "code",
   "execution_count": null,
   "metadata": {
    "hidden": true,
    "scrolled": true
   },
   "outputs": [],
   "source": [
    "# dir(t)"
   ]
  },
  {
   "cell_type": "code",
   "execution_count": null,
   "metadata": {
    "hidden": true
   },
   "outputs": [],
   "source": [
    "t.foo, t._bar"
   ]
  },
  {
   "cell_type": "code",
   "execution_count": null,
   "metadata": {
    "hidden": true,
    "scrolled": true
   },
   "outputs": [],
   "source": [
    "# t.__baz  # Error !!"
   ]
  },
  {
   "cell_type": "code",
   "execution_count": null,
   "metadata": {
    "hidden": true,
    "scrolled": true
   },
   "outputs": [],
   "source": [
    "t._Test__baz ## Eccessed through mangaled name !"
   ]
  },
  {
   "cell_type": "code",
   "execution_count": null,
   "metadata": {
    "hidden": true
   },
   "outputs": [],
   "source": [
    "# t.num_mangled_attr() ## TypeError: 'int' object is not callable"
   ]
  },
  {
   "cell_type": "code",
   "execution_count": null,
   "metadata": {
    "hidden": true
   },
   "outputs": [],
   "source": [
    "t.num_mangled_attr"
   ]
  },
  {
   "cell_type": "markdown",
   "metadata": {
    "heading_collapsed": true,
    "hidden": true,
    "jp-MarkdownHeadingCollapsed": true,
    "tags": []
   },
   "source": [
    "#### `format(...)`"
   ]
  },
  {
   "cell_type": "markdown",
   "metadata": {
    "code_folding": [],
    "hidden": true
   },
   "source": [
    "```\n",
    "format(value[, format_spec]):\n",
    "\n",
    "    Convert a value to a 'formatted' representation, as controlled by \n",
    "    format_spec. The interpretation of format_spec will depend on the \n",
    "    type of the value argument, however there is a standard formatting \n",
    "    syntax that is used by most built-in types: Format Specification \n",
    "    Mini-Language.\n",
    "```"
   ]
  },
  {
   "cell_type": "code",
   "execution_count": null,
   "metadata": {
    "code_folding": [],
    "hidden": true
   },
   "outputs": [],
   "source": [
    "x = 2\n",
    "score = x\n",
    "name = 'Shah'\n",
    "\n",
    "print(f\"\"\"\n",
    "val1:        \n",
    "    {x} \n",
    "val2:           \n",
    "    {x}      \n",
    "val3:    \n",
    "    {x}\"\"\")\n",
    "\n",
    "print(\"\"\"\\\n",
    "val1:        \n",
    "    {} \n",
    "val2:           \n",
    "    {}      \n",
    "val3:    \n",
    "    {}\"\"\".format('Aminul', 'Momin', 'Shah'))\n",
    "\n",
    "\n",
    "print(\"Total score for {} is {}\".format(name, score))       # Use the new-style string formatting\n",
    "print(\"Total score for {0} is {1}\".format(name, score))     # Use the new-style string formatting with numbers \n",
    "print(\"Total score for {1} is {0}\".format(name, score))     # Use the new-style string formatting with numbers \n",
    "print(\"Total score for {n} is {s}\".format(n=name, s=score)) # Use the new-style string formatting with explicit names:\n",
    "    "
   ]
  },
  {
   "cell_type": "code",
   "execution_count": null,
   "metadata": {
    "hidden": true
   },
   "outputs": [],
   "source": []
  },
  {
   "cell_type": "markdown",
   "metadata": {
    "heading_collapsed": true,
    "hidden": true,
    "jp-MarkdownHeadingCollapsed": true,
    "tags": []
   },
   "source": [
    "#### `help()`:"
   ]
  },
  {
   "cell_type": "markdown",
   "metadata": {
    "hidden": true
   },
   "source": [
    "-   `help()` function in Python is used to display the documentation of modules, classes, functions, keywords, etc. \n",
    "-   `NOTE`:If no parameter is passed to the `help()` function, then an **interactive** help utility is launched on the console."
   ]
  },
  {
   "cell_type": "markdown",
   "metadata": {
    "heading_collapsed": true,
    "hidden": true,
    "jp-MarkdownHeadingCollapsed": true,
    "tags": []
   },
   "source": [
    "#### `object()`:"
   ]
  },
  {
   "cell_type": "code",
   "execution_count": null,
   "metadata": {},
   "outputs": [],
   "source": []
  },
  {
   "cell_type": "markdown",
   "metadata": {
    "heading_collapsed": true,
    "hidden": true,
    "jp-MarkdownHeadingCollapsed": true
   },
   "source": [
    "#### `divmod(a, b)`"
   ]
  },
  {
   "cell_type": "code",
   "execution_count": null,
   "metadata": {
    "hidden": true
   },
   "outputs": [],
   "source": [
    "divmod(113, 10)"
   ]
  },
  {
   "cell_type": "code",
   "execution_count": null,
   "metadata": {
    "hidden": true
   },
   "outputs": [],
   "source": []
  },
  {
   "cell_type": "code",
   "execution_count": null,
   "metadata": {
    "hidden": true
   },
   "outputs": [],
   "source": [
    "obj = object()"
   ]
  },
  {
   "cell_type": "code",
   "execution_count": null,
   "metadata": {
    "hidden": true
   },
   "outputs": [],
   "source": [
    "# dir(obj.__class__)"
   ]
  },
  {
   "cell_type": "code",
   "execution_count": null,
   "metadata": {
    "hidden": true
   },
   "outputs": [],
   "source": [
    "# dir(obj)"
   ]
  },
  {
   "cell_type": "code",
   "execution_count": null,
   "metadata": {
    "hidden": true
   },
   "outputs": [],
   "source": [
    "# help(object)"
   ]
  },
  {
   "cell_type": "markdown",
   "metadata": {
    "heading_collapsed": true,
    "hidden": true,
    "jp-MarkdownHeadingCollapsed": true,
    "tags": []
   },
   "source": [
    "#### `print(...)`"
   ]
  },
  {
   "cell_type": "code",
   "execution_count": null,
   "metadata": {
    "hidden": true
   },
   "outputs": [],
   "source": [
    "def _test_string_formating():\n",
    "    name = \"Adam\"\n",
    "    score = 10\n",
    "    print(\"Total score for\", name, \"is\", score) # Pass the values as parameters and print will do it\n",
    "    print('The value of x is %3.2f')\n",
    "    print(\"Total score for %s is %s\" % (name, score)) # Pass it as a tuple\n",
    "    print(\"Total score for %(n)s is %(s)s\" % {'n': name, 's': score}) # Pass it as a dictionary\n",
    "    print(\"Total score for {} is {}\".format(name, score))   # Use the new-style string formatting\n",
    "    print(\"Total score for {0} is {1}\".format(name, score)) # Use the new-style string formatting with numbers \n",
    "    print(\"Total score for {1} is {0}\".format(name, score)) # Use the new-style string formatting with numbers \n",
    "    print(\"Total score for {n} is {s}\".format(n=name, s=score)) # Use the new-style string formatting with explicit names:\n",
    "    # print(\"Total score for \", name, \" is \", score, sep='') # If you don't want spaces to be inserted automatically by print in the above example, change the sep parameter\n",
    "    # print(f'Total score for {name} is {score}') # Use the new f-string formatting in Python 3.6\n",
    "\n",
    "    print(\"\"\"\\\n",
    "    Usage: thingy [OPTIONS]\n",
    "         -h                        Display this usage message\n",
    "         -H hostname               Hostname to connect to\n",
    "         -H {}\n",
    "    \"\"\".format('hostname'))\n",
    "\n",
    "    s = 'hostname'\n",
    "    \n",
    "    print(f\"\"\"\n",
    "    Usage: thingy [OPTIONS]\n",
    "         -h                        Display this usage message\n",
    "         -H hostname               Hostname to connect to\n",
    "         -H {s}\n",
    "    \"\"\")\n",
    "    \n",
    "    first = \"Aminul\"\n",
    "    last = \"Momin\"\n",
    "    email = \"A.Momin.NY@gmail.com\"\n",
    "    print(f'{first} {last}\\n{email}\\n')\n",
    "    print(f\"\"\"{first} {last}\\n{email}\\n\"\"\")\n",
    "\n",
    "\n",
    "_test_string_formating()"
   ]
  },
  {
   "cell_type": "markdown",
   "metadata": {
    "heading_collapsed": true,
    "hidden": true,
    "jp-MarkdownHeadingCollapsed": true,
    "tags": []
   },
   "source": [
    "#### `functools.lru_cache(..)`"
   ]
  },
  {
   "cell_type": "markdown",
   "metadata": {
    "heading_collapsed": true,
    "hidden": true,
    "jp-MarkdownHeadingCollapsed": true,
    "tags": []
   },
   "source": [
    "#### `slice(..)`:"
   ]
  },
  {
   "cell_type": "code",
   "execution_count": null,
   "metadata": {
    "hidden": true
   },
   "outputs": [],
   "source": [
    "# help(slice)"
   ]
  },
  {
   "cell_type": "code",
   "execution_count": null,
   "metadata": {
    "hidden": true
   },
   "outputs": [],
   "source": [
    "py_list = ['P', 'y', 't', 'h', 'o', 'n']\n",
    "py_tuple = ('P', 'y', 't', 'h', 'o', 'n')\n",
    "\n",
    "# contains indices 0, 1 and 2\n",
    "slice_object = slice(3)\n",
    "print(py_list[slice_object]) # ['P', 'y', 't']\n",
    "\n",
    "# contains indices 1 and 3\n",
    "slice_object = slice(1, 6, 2)\n",
    "print(py_tuple[slice_object]) # ('y', 'h') \n",
    "\n",
    "\n",
    "# contains indices -1, -2 and -3\n",
    "slice_object = slice(-1, -4, -1) \n",
    "print(py_list[slice_object])  # ['n', 'o', 'h']\n",
    "\n",
    "# contains indices -1 and -3\n",
    "slice_object = slice(-1, -5, -2)\n",
    "print(py_tuple[slice_object]) # ('n', 'h')"
   ]
  },
  {
   "cell_type": "markdown",
   "metadata": {
    "heading_collapsed": true,
    "hidden": true,
    "jp-MarkdownHeadingCollapsed": true
   },
   "source": [
    "#### <b style=\"color:#C71585\">iter(...)</b> / <b style=\"color:#C71585\">next(...)</b>:"
   ]
  },
  {
   "cell_type": "code",
   "execution_count": null,
   "metadata": {
    "hidden": true
   },
   "outputs": [],
   "source": [
    "L = list(\"python\")"
   ]
  },
  {
   "cell_type": "code",
   "execution_count": null,
   "metadata": {},
   "outputs": [],
   "source": [
    "for i in iter(L):\n",
    "    print(i)"
   ]
  },
  {
   "cell_type": "code",
   "execution_count": null,
   "metadata": {
    "hidden": true
   },
   "outputs": [],
   "source": [
    "itr = iter(L)\n",
    "next(itr)\n"
   ]
  },
  {
   "cell_type": "code",
   "execution_count": null,
   "metadata": {
    "hidden": true
   },
   "outputs": [],
   "source": [
    "next(itr)"
   ]
  },
  {
   "cell_type": "code",
   "execution_count": null,
   "metadata": {
    "hidden": true
   },
   "outputs": [],
   "source": [
    "itr2 = iter([])\n",
    "next(itr2)"
   ]
  },
  {
   "cell_type": "code",
   "execution_count": null,
   "metadata": {
    "hidden": true
   },
   "outputs": [],
   "source": [
    "itr2 = iter([])\n",
    "print(next(itr2, None))"
   ]
  },
  {
   "cell_type": "code",
   "execution_count": null,
   "metadata": {},
   "outputs": [],
   "source": [
    "itr3 = iter(x * x for x in range(2, 6))\n",
    "print(next(itr3))"
   ]
  },
  {
   "cell_type": "code",
   "execution_count": null,
   "metadata": {},
   "outputs": [],
   "source": [
    "L = [0,0,1,2,3,0]\n",
    "L = [0,0,0]\n",
    "next((i for i, x in enumerate(L) if x != 0), len(L))"
   ]
  },
  {
   "cell_type": "markdown",
   "metadata": {
    "heading_collapsed": true,
    "hidden": true,
    "jp-MarkdownHeadingCollapsed": true
   },
   "source": [
    "##### Create a generator of Fibonacci"
   ]
  },
  {
   "cell_type": "code",
   "execution_count": null,
   "metadata": {
    "hidden": true
   },
   "outputs": [],
   "source": [
    "## generate fibonacci numbers upto n\n",
    "def fib(n):\n",
    "    \"\"\" Return all upto n fibonacci numbers.\"\"\"\n",
    "    p, q = 0, 1\n",
    "    while (p < n):\n",
    "        yield p\n",
    "        p, q = q, p + q"
   ]
  },
  {
   "cell_type": "code",
   "execution_count": null,
   "metadata": {
    "hidden": true
   },
   "outputs": [],
   "source": [
    "n = 10\n",
    "fibonacci_numbers = fib(n)    # create generator object \n",
    "\n",
    "left = 0\n",
    "while left < n:\n",
    "    print(fibonacci_numbers.__next__())\n",
    "    left += 1"
   ]
  },
  {
   "cell_type": "code",
   "execution_count": null,
   "metadata": {
    "hidden": true
   },
   "outputs": [],
   "source": [
    "n = 10\n",
    "fibonacci_numbers = fib(n)    # create generator object \n",
    "\n",
    "left = 0\n",
    "while left < n:\n",
    "    print(next(fibonacci_numbers, None))\n",
    "    left += 1"
   ]
  },
  {
   "cell_type": "code",
   "execution_count": null,
   "metadata": {
    "hidden": true
   },
   "outputs": [],
   "source": [
    "x = fib(10)    # create generator object "
   ]
  },
  {
   "cell_type": "code",
   "execution_count": null,
   "metadata": {
    "hidden": true
   },
   "outputs": [],
   "source": [
    "## iterating using __next__(), for Python2, use next()\n",
    "print(x.__next__())    # output => 0\n",
    "print(x.__next__())    # output => 1\n",
    "print(x.__next__())    # output => 1\n",
    "print(x.__next__())    # output => 2\n",
    "print(x.__next__())    # output => 3\n",
    "print(x.__next__())    # output => 5\n",
    "print(x.__next__())    # output => 8\n",
    "# print(x.__next__())    # ERROR!!!!!!!!!!"
   ]
  },
  {
   "cell_type": "markdown",
   "metadata": {
    "heading_collapsed": true,
    "hidden": true,
    "jp-MarkdownHeadingCollapsed": true
   },
   "source": [
    "#### <b style=\"color:#C71585\">open(...)</b>"
   ]
  },
  {
   "cell_type": "markdown",
   "metadata": {
    "hidden": true
   },
   "source": [
    "```python\n",
    "open(file, mode='r', buffering=-1, encoding=None, errors=None, newline=None, closefd=True, opener=None)\n",
    "```"
   ]
  },
  {
   "cell_type": "markdown",
   "metadata": {
    "hidden": true
   },
   "source": [
    "\n",
    "- `file`: The file path or a file-like object.\n",
    "\n",
    "- `mode`: A string specifying the file mode. Common modes include `r` (read), `w` (write), `a` (append), `b` (binary), and more.\n",
    "\n",
    "- `buffering`: An optional integer that controls the buffering of I/O operations. The default value, -1, means that the system default is used.\n",
    "\n",
    "- `encoding`: An optional string specifying the file's encoding, particularly for text files.\n",
    "\n",
    "- `errors`: An optional string specifying how encoding and decoding errors should be handled.\n",
    "\n",
    "- `newline`: An optional string specifying the newline character(s) to be used in text mode.\n",
    "\n",
    "- `closefd`: A boolean indicating whether to close the file descriptor when the file is closed.\n",
    "\n",
    "- `opener`: An optional custom opener function for opening the file.\n",
    "\n",
    "The returned file object provides methods and properties that allow you to read, write, and manipulate the file's contents, depending on the mode you used to open it. Common methods include `read()`, `write()`, `seek()`, and others."
   ]
  },
  {
   "cell_type": "markdown",
   "metadata": {
    "hidden": true
   },
   "source": [
    "|Character | Meaning |\n",
    "| :--- | :--- |\n",
    "| `r` | open for reading (default) |\n",
    "| `w` | open for writing, truncating the file first |\n",
    "| `x` | open for exclusive creation, failing if the file already exists |\n",
    "| `a` | open for writing, appending to the end of file if it exists |\n",
    "| `b` | binary mode |\n",
    "| `t` | text mode (default) |\n",
    "| `+` | open for updating (reading and writing) |\n",
    "\n",
    "---\n",
    "\n",
    "- The default mode is `r` (open for reading text, a synonym of `rt`). \n",
    "- Modes `w+` and `w+b` open and truncate the file. \n",
    "- Modes `r+` and `r+b` open the file with no truncation."
   ]
  },
  {
   "cell_type": "code",
   "execution_count": null,
   "metadata": {
    "hidden": true
   },
   "outputs": [],
   "source": [
    "!ls {os.environ['ADS']+'/data'}"
   ]
  },
  {
   "cell_type": "code",
   "execution_count": null,
   "metadata": {
    "hidden": true
   },
   "outputs": [],
   "source": [
    "import os, collections, pprint\n",
    "ADS = os.environ['ADS']"
   ]
  },
  {
   "cell_type": "code",
   "execution_count": null,
   "metadata": {
    "hidden": true
   },
   "outputs": [],
   "source": [
    "text_io_wrapper = open(ADS+'/data/tongue_twisters.txt', 'r')\n",
    "# print(type(f), '\\n', dir(f))\n",
    "# words = text_io_wrapper.read().split()\n",
    "lines = text_io_wrapper.readline()\n",
    "text_io_wrapper.close()\n",
    "# print(words)"
   ]
  },
  {
   "cell_type": "code",
   "execution_count": null,
   "metadata": {
    "hidden": true
   },
   "outputs": [],
   "source": [
    "type(text_io_wrapper)"
   ]
  },
  {
   "cell_type": "code",
   "execution_count": null,
   "metadata": {
    "hidden": true
   },
   "outputs": [],
   "source": [
    "with open(ADS + \"/data/tongue_twisters.txt\", \"r\") as fh:\n",
    "    long_description = fh.read()\n",
    "    # print(long_description)\n",
    "    # help(fh)"
   ]
  },
  {
   "cell_type": "code",
   "execution_count": null,
   "metadata": {
    "hidden": true
   },
   "outputs": [],
   "source": [
    "# long_description"
   ]
  },
  {
   "cell_type": "code",
   "execution_count": null,
   "metadata": {
    "hidden": true
   },
   "outputs": [],
   "source": [
    "with open(ADS + \"/data/tongue_twisters.txt\", 'r') as data:\n",
    "    count_data = collections.Counter(data.read())\n",
    "    count_data2 = collections.Counter(data.read().upper())\n",
    "    count_value = pprint.pformat(count_data)\n",
    "    print(data.read())\n",
    "    # print(count_value)"
   ]
  },
  {
   "cell_type": "markdown",
   "metadata": {
    "heading_collapsed": true,
    "hidden": true,
    "jp-MarkdownHeadingCollapsed": true
   },
   "source": [
    "#### <b style=\"color:#C71585\">min(...)</b> / <b style=\"color:#C71585\">max(...)</b>"
   ]
  },
  {
   "cell_type": "markdown",
   "metadata": {},
   "source": [
    "\n",
    "-   min(iterable, *[, default=obj, key=func]) -> value\n",
    "-   min(arg1, arg2, *args, *[, key=func]) -> value\n",
    "-   max(iterable, *[, default=obj, key=func]) -> value\n",
    "-   max(arg1, arg2, *args, *[, key=func]) -> value"
   ]
  },
  {
   "cell_type": "code",
   "execution_count": null,
   "metadata": {},
   "outputs": [],
   "source": [
    "# print(max([])) # ValueError: max() arg is an empty sequence\n",
    "# print(max()) # ValueError: max() arg is an empty sequence"
   ]
  },
  {
   "cell_type": "code",
   "execution_count": null,
   "metadata": {},
   "outputs": [],
   "source": [
    "print(max([1,1,1]))\n",
    "print(max(1,1,1))\n",
    "print(max(1,1,1))\n",
    "print(max(item for item in range(5) if item%2 == 0 ))"
   ]
  },
  {
   "cell_type": "code",
   "execution_count": null,
   "metadata": {
    "hidden": true
   },
   "outputs": [],
   "source": [
    "words = [\"apple\", \"banana\", \"cherry\", \"date\", \"fig\"]\n",
    "max_length_word = max(words, key=len)\n",
    "print(max_length_word)"
   ]
  },
  {
   "cell_type": "markdown",
   "metadata": {
    "hidden": true
   },
   "source": [
    "- Find the Maximum Value from a Dictionary by Its Keys or Values:"
   ]
  },
  {
   "cell_type": "code",
   "execution_count": null,
   "metadata": {
    "hidden": true
   },
   "outputs": [],
   "source": [
    "prices = {\"apple\": 2.99, \"banana\": 1.49, \"cherry\": 4.99, \"date\": 3.25}\n",
    "print(max(prices, key=prices.get))\n",
    "print(max(list(prices.items()), key=lambda item: item[1]))"
   ]
  },
  {
   "cell_type": "markdown",
   "metadata": {
    "hidden": true
   },
   "source": [
    "- Find the Maximum Element in a Custom Object List using a Lambda Function:"
   ]
  },
  {
   "cell_type": "code",
   "execution_count": null,
   "metadata": {
    "hidden": true
   },
   "outputs": [],
   "source": [
    "class Person:\n",
    "    def __init__(self, name, age):\n",
    "        self.name = name\n",
    "        self.age = age\n",
    "\n",
    "people = [Person(\"Alice\", 32), Person(\"Bob\", 45), Person(\"Charlie\", 28)]\n",
    "oldest_person = max(people, key=lambda person: person.age)\n",
    "print(\"Oldest person:\", oldest_person.name)"
   ]
  },
  {
   "cell_type": "markdown",
   "metadata": {
    "hidden": true
   },
   "source": [
    "- Find the Maximum Element with Custom Comparison Function:"
   ]
  },
  {
   "cell_type": "code",
   "execution_count": null,
   "metadata": {
    "hidden": true
   },
   "outputs": [],
   "source": [
    "import functools\n",
    "\n",
    "def custom_compare(a, b):\n",
    "    return (a % 10) - (b % 10)\n",
    "\n",
    "# Convert the custom comparison function to a key function\n",
    "custom_key = functools.cmp_to_key(custom_compare)\n",
    "\n",
    "numbers = [35, 24, 17, 102, 63]\n",
    "\n",
    "# Use the custom key function with max\n",
    "max_num_custom = max(numbers, key=custom_key, default=0)\n",
    "\n",
    "print(\"Maximum number with custom comparison:\", max_num_custom)\n"
   ]
  },
  {
   "cell_type": "markdown",
   "metadata": {
    "heading_collapsed": true,
    "hidden": true
   },
   "source": [
    "#### <b style=\"color:#C71585\">sum(iterable, /, start=0)</b>"
   ]
  },
  {
   "cell_type": "markdown",
   "metadata": {
    "hidden": true
   },
   "source": [
    "-   <b>Basic Usage</b>: The `sum()` function sums the items of an iterable from left to right and returns the total. The default start value is 0."
   ]
  },
  {
   "cell_type": "code",
   "execution_count": null,
   "metadata": {
    "hidden": true
   },
   "outputs": [],
   "source": [
    "print(sum([1, 2, 3, 4, 5]))  # Output: 15\n",
    "# print(sum(1, 2, 3, 4, 5))    # TypeError: sum() takes at most 2 arguments (5 given)\n",
    "print(sum([]))               # Output: 0"
   ]
  },
  {
   "cell_type": "code",
   "execution_count": null,
   "metadata": {},
   "outputs": [],
   "source": [
    "L = [1,2,3,4,5]\n",
    "gs = (v % 2 for v in Counter(L).values())\n",
    "sum(gs)"
   ]
  },
  {
   "cell_type": "markdown",
   "metadata": {
    "hidden": true
   },
   "source": [
    "-   <b>Using `sum()` with a Start Value</b>: You can provide a start value to `sum()`. The total will be the sum of the iterable's items plus the start value."
   ]
  },
  {
   "cell_type": "code",
   "execution_count": null,
   "metadata": {
    "hidden": true
   },
   "outputs": [],
   "source": [
    "numbers = [1, 2, 3, 4, 5]\n",
    "total = sum(numbers, 10)\n",
    "print(total)  # Output: 25"
   ]
  },
  {
   "cell_type": "markdown",
   "metadata": {
    "hidden": true
   },
   "source": [
    "-   <b>Summing a Tuple of Numbers</b>: `sum()` can be used to sum the elements of a tuple."
   ]
  },
  {
   "cell_type": "code",
   "execution_count": null,
   "metadata": {
    "hidden": true
   },
   "outputs": [],
   "source": [
    "numbers = (1, 2, 3, 4, 5)\n",
    "total = sum(numbers)\n",
    "print(total)  # Output: 15"
   ]
  },
  {
   "cell_type": "markdown",
   "metadata": {
    "hidden": true
   },
   "source": [
    "-   <b>Summing Elements of a Set</b>: `sum()` can be used to sum the elements of a set."
   ]
  },
  {
   "cell_type": "code",
   "execution_count": null,
   "metadata": {
    "hidden": true
   },
   "outputs": [],
   "source": [
    "numbers = {1, 2, 3, 4, 5}\n",
    "total = sum(numbers)\n",
    "print(total)  # Output: 15"
   ]
  },
  {
   "cell_type": "markdown",
   "metadata": {
    "hidden": true
   },
   "source": [
    "-   <b>Summing Elements of a Dictionary</b>: You can sum the keys or the values of a dictionary using `sum()`."
   ]
  },
  {
   "cell_type": "code",
   "execution_count": null,
   "metadata": {
    "hidden": true
   },
   "outputs": [],
   "source": [
    "data = {'a': 1, 'b': 2, 'c': 3}\n",
    "# total_keys = sum(data.keys()) # Output: TypeError: unsupported operand type(s) for +: 'int' and 'str'\n",
    "# print(total_keys)  \n",
    "total_values = sum(data.values())\n",
    "print(total_values)  # Output: 6"
   ]
  },
  {
   "cell_type": "markdown",
   "metadata": {
    "hidden": true
   },
   "source": [
    "-   <b>Summing a Generator Expression</b>: `sum()` can be used with a generator expression for memory-efficient summing."
   ]
  },
  {
   "cell_type": "code",
   "execution_count": null,
   "metadata": {
    "hidden": true
   },
   "outputs": [],
   "source": [
    "total = sum(x * x for x in range(1, 6))\n",
    "print(total)  # Output: 55 (1^2 + 2^2 + 3^2 + 4^2 + 5^2)"
   ]
  },
  {
   "cell_type": "markdown",
   "metadata": {
    "hidden": true
   },
   "source": [
    "-   <b>Summing a List of Complex Numbers</b>: `sum()` can sum complex numbers."
   ]
  },
  {
   "cell_type": "code",
   "execution_count": null,
   "metadata": {
    "hidden": true
   },
   "outputs": [],
   "source": [
    "complex_numbers = [1+2j, 3+4j, 5+6j]\n",
    "total = sum(complex_numbers)\n",
    "print(total)  # Output: (9+12j)"
   ]
  },
  {
   "cell_type": "markdown",
   "metadata": {
    "hidden": true
   },
   "source": [
    "-   <b>Summing a Custom Iterable</b>: You can create a custom iterable class and use `sum()` with it."
   ]
  },
  {
   "cell_type": "code",
   "execution_count": null,
   "metadata": {
    "hidden": true
   },
   "outputs": [],
   "source": [
    "class CustomIterable:\n",
    "    def __init__(self, start, end):\n",
    "        self.current = start\n",
    "        self.end = end\n",
    "\n",
    "    def __iter__(self):\n",
    "        return self\n",
    "\n",
    "    def __next__(self):\n",
    "        if self.current < self.end:\n",
    "            self.current += 1\n",
    "            return self.current - 1\n",
    "        else:\n",
    "            raise StopIteration\n",
    "\n",
    "custom_iterable = CustomIterable(1, 6)\n",
    "total = sum(custom_iterable)\n",
    "print(total)  # Output: 15"
   ]
  },
  {
   "cell_type": "markdown",
   "metadata": {
    "hidden": true
   },
   "source": [
    "-   <b>Summing with Mixed Types</b>: `sum()` can sum mixed types that can be added together, such as integers and floats."
   ]
  },
  {
   "cell_type": "code",
   "execution_count": null,
   "metadata": {
    "hidden": true
   },
   "outputs": [],
   "source": [
    "mixed_numbers = [1, 2.5, 3, 4.5]\n",
    "total = sum(mixed_numbers)\n",
    "print(total)  # Output: 11.0"
   ]
  },
  {
   "cell_type": "markdown",
   "metadata": {
    "hidden": true
   },
   "source": [
    "-   <b>Handling Non-Numeric Types in Iterable</b>: Ensure that the iterable contains only numeric types, or it will raise a `TypeError`."
   ]
  },
  {
   "cell_type": "code",
   "execution_count": null,
   "metadata": {
    "hidden": true
   },
   "outputs": [],
   "source": [
    "data = [1, 2, '3', 4]  # This will raise a TypeError due to the string '3'\n",
    "try:\n",
    "    total = sum(data)\n",
    "except TypeError as e:\n",
    "    print(f\"Error: {e}\")"
   ]
  },
  {
   "cell_type": "code",
   "execution_count": null,
   "metadata": {
    "hidden": true
   },
   "outputs": [],
   "source": [
    "prices = {\"apple\": 2.99, \"banana\": 1.49, \"cherry\": 4.99, \"date\": 3.25}\n",
    "max_price_item = sum(prices.values())\n",
    "# max_price_item = sum(*prices.values()) ## ERROR !!!!!!!!\n",
    "print(max_price_item)"
   ]
  },
  {
   "cell_type": "markdown",
   "metadata": {
    "heading_collapsed": true,
    "hidden": true,
    "jp-MarkdownHeadingCollapsed": true
   },
   "source": [
    "#### <b style=\"color:#C71585\">ord(...)</b> / <b style=\"color:#C71585\">chr(...)</b> / <b style=\"color:#C71585\">id(...)</b>"
   ]
  },
  {
   "cell_type": "code",
   "execution_count": null,
   "metadata": {
    "hidden": true
   },
   "outputs": [],
   "source": [
    "D = OrderedDict()\n",
    "for letter in string.ascii_uppercase + string.ascii_lowercase: D[letter] = ord(letter)\n",
    "# for key, value in D.items(): print(key, ':', value)\n",
    "# df = pd.DataFrame(list(D.items()), columns=['Letter', 'Unicode']).T\n",
    "# print(df)  # Use print to display the DataFrame\n",
    "srs = pd.Series(D);\n",
    "df = pd.DataFrame(srs)\n",
    "df.T"
   ]
  },
  {
   "cell_type": "code",
   "execution_count": null,
   "metadata": {
    "hidden": true
   },
   "outputs": [],
   "source": [
    "print(chr(65), chr(97))"
   ]
  },
  {
   "cell_type": "markdown",
   "metadata": {
    "heading_collapsed": true,
    "hidden": true,
    "jp-MarkdownHeadingCollapsed": true
   },
   "source": [
    "#### <b style=\"color:#C71585\">setattr(...)</b> / <b style=\"color:#C71585\">getattr(...)</b>"
   ]
  },
  {
   "cell_type": "code",
   "execution_count": null,
   "metadata": {
    "hidden": true
   },
   "outputs": [],
   "source": [
    "class Person:\n",
    "    name = 'Adam'\n",
    "    \n",
    "p = Person()"
   ]
  },
  {
   "cell_type": "code",
   "execution_count": null,
   "metadata": {},
   "outputs": [],
   "source": [
    "\n",
    "# setting attribute name to John\n",
    "setattr(p, 'name', 'John')\n",
    "print('Name is:', p.name)\n",
    "\n",
    "# setting an attribute not present in Person\n",
    "setattr(p, 'age', 23)\n",
    "print('Age is:', p.age)"
   ]
  },
  {
   "cell_type": "code",
   "execution_count": null,
   "metadata": {
    "hidden": true
   },
   "outputs": [],
   "source": [
    "# setting attribute name to John\n",
    "person_name = getattr(p, 'name')\n",
    "print('Name is:', person_name)\n",
    "\n",
    "# setting an attribute not present in Person\n",
    "person_age = getattr(p, 'age')\n",
    "print('Age is:', person_age)"
   ]
  },
  {
   "cell_type": "markdown",
   "metadata": {
    "heading_collapsed": true,
    "hidden": true,
    "jp-MarkdownHeadingCollapsed": true
   },
   "source": [
    "#### <b style=\"color:#C71585\">isinstance(object, classinfo)</b> / <b style=\"color:#C71585\">issubclass(class, classinfo)</b>"
   ]
  },
  {
   "cell_type": "markdown",
   "metadata": {
    "hidden": true,
    "jp-MarkdownHeadingCollapsed": true
   },
   "source": [
    "#### <b style=\"color:#C71585\">locals(...)</b> / <b style=\"color:#C71585\">globals(...)</b>"
   ]
  },
  {
   "cell_type": "markdown",
   "metadata": {
    "heading_collapsed": true,
    "hidden": true
   },
   "source": [
    "#### <b style=\"color:#C71585\">super(...)</b> "
   ]
  },
  {
   "cell_type": "markdown",
   "metadata": {
    "hidden": true
   },
   "source": [
    "- Calling Methods from Grandparent Class\n",
    "-   `super()` can be used to call methods from the grandparent class in a multi-level inheritance scenario."
   ]
  },
  {
   "cell_type": "markdown",
   "metadata": {},
   "source": [
    "-   `super()` -> same as super(__class__, <first argument>)\n",
    "-   `super(type)` -> unbound super object\n",
    "-   `super(type, obj)` -> bound super object; requires isinstance(obj, type)\n",
    "-   `super(type, type2)` -> bound super object; requires issubclass(type2, type)"
   ]
  },
  {
   "cell_type": "markdown",
   "metadata": {
    "hidden": true
   },
   "source": [
    "-   Using `super()` with Static Methods\n",
    "-   While `super()` is less commonly used with static methods, it can still be applied."
   ]
  },
  {
   "cell_type": "code",
   "execution_count": null,
   "metadata": {
    "hidden": true
   },
   "outputs": [],
   "source": [
    "class Parent:\n",
    "    @staticmethod\n",
    "    def static_method():\n",
    "        print(\"Static method in Parent\")\n",
    "\n",
    "class Child(Parent):\n",
    "    @staticmethod\n",
    "    def static_method():\n",
    "        super(Child, Child).static_method()  # Need to pass class explicitly\n",
    "        print(\"Static method in Child\")\n",
    "\n",
    "Child.static_method()\n"
   ]
  },
  {
   "cell_type": "code",
   "execution_count": null,
   "metadata": {
    "hidden": true
   },
   "outputs": [],
   "source": []
  },
  {
   "cell_type": "markdown",
   "metadata": {},
   "source": [
    "1. **Calling a Parent Class Method**: `super()` is commonly used in a derived class to call a method from its parent class.\n"
   ]
  },
  {
   "cell_type": "code",
   "execution_count": null,
   "metadata": {},
   "outputs": [],
   "source": [
    "class Grandparent:\n",
    "    def greet(self):\n",
    "        print(\"Hello from Grandparent\")\n",
    "\n",
    "class Parent(Grandparent):\n",
    "    pass\n",
    "    # def greet(self):\n",
    "    #     super().greet()\n",
    "    #     print(\"Hello from Parent\")\n",
    "\n",
    "class Child(Parent):\n",
    "    def greet(self):\n",
    "        super().greet()\n",
    "        print(\"Hello from Child\")\n",
    "\n",
    "child = Child()\n",
    "child.greet()\n"
   ]
  },
  {
   "cell_type": "markdown",
   "metadata": {},
   "source": [
    "2. **Accessing Parent Class `__init__` Method**: In constructors (`__init__` methods), `super()` is used to initialize the parent class."
   ]
  },
  {
   "cell_type": "code",
   "execution_count": null,
   "metadata": {},
   "outputs": [],
   "source": [
    "class Parent:\n",
    "    def __init__(self, name):\n",
    "        self.name = name\n",
    "\n",
    "class Child(Parent):\n",
    "    def __init__(self, name, age):\n",
    "        super().__init__(name)  # Initialize Parent's __init__\n",
    "        self.age = age\n",
    "\n",
    "c = Child(\"Aminul\", 30)\n",
    "print(c.name, c.age)"
   ]
  },
  {
   "cell_type": "markdown",
   "metadata": {},
   "source": [
    "3. **In Multiple Inheritance Scenarios**: When using multiple inheritance, `super()` ensures that methods are called in the correct MRO sequence, preventing duplicate calls to the same class."
   ]
  },
  {
   "cell_type": "code",
   "execution_count": null,
   "metadata": {},
   "outputs": [],
   "source": [
    "class A:\n",
    "    def process(self):\n",
    "        print(\"A process\")\n",
    "\n",
    "class B(A):\n",
    "    def process(self):\n",
    "        print(\"B process\")\n",
    "        super().process()  # Calls A's process\n",
    "\n",
    "class C(A):\n",
    "    def process(self):\n",
    "        print(\"C process\")\n",
    "        super().process()  # Calls A's process\n",
    "\n",
    "class D(B, C):\n",
    "    def process(self):\n",
    "        print(\"D process\")\n",
    "        super().process()  # Calls B's process, then C's process, respecting MRO\n",
    "\n",
    "d = D()\n",
    "d.process()"
   ]
  },
  {
   "cell_type": "markdown",
   "metadata": {},
   "source": [
    "4. **Avoiding Explicit Class Names**: Using explicit class names tightly couples the code to a specific superclass and bypasses dynamic MRO. `super()` avoids this, making code more maintainable."
   ]
  },
  {
   "cell_type": "code",
   "execution_count": null,
   "metadata": {},
   "outputs": [],
   "source": [
    "class Parent:\n",
    "    def greet(self):\n",
    "        print(\"Explicit Parent greet\")\n",
    "\n",
    "class Child(Parent):\n",
    "    def greet(self):\n",
    "        super().greet()  # More maintainable"
   ]
  },
  {
   "cell_type": "markdown",
   "metadata": {},
   "source": [
    "5. **Dynamic Dispatch in Cooperative Methods**: When multiple classes cooperate, `super()` ensures every class in the inheritance chain contributes.\n"
   ]
  },
  {
   "cell_type": "code",
   "execution_count": null,
   "metadata": {},
   "outputs": [],
   "source": [
    "class Base:\n",
    "    def __init__(self):\n",
    "        print(\"Base init\")\n",
    "\n",
    "class Derived1(Base):\n",
    "    def __init__(self):\n",
    "        print(\"Derived1 init\")\n",
    "        super().__init__()\n",
    "\n",
    "class Derived2(Base):\n",
    "    def __init__(self):\n",
    "        print(\"Derived2 init\")\n",
    "        super().__init__()\n",
    "\n",
    "class Final(Derived1, Derived2):\n",
    "    def __init__(self):\n",
    "        print(\"Final init\")\n",
    "        super().__init__()\n",
    "\n",
    "f = Final()"
   ]
  },
  {
   "cell_type": "markdown",
   "metadata": {},
   "source": [
    "7. **Accessing Properties or Class Attributes**: You can use `super()` to access properties or class-level attributes in a parent class.\n"
   ]
  },
  {
   "cell_type": "code",
   "execution_count": null,
   "metadata": {},
   "outputs": [],
   "source": [
    "class Parent:\n",
    "    def __init__(self):\n",
    "        self.value = \"Parent Value\"\n",
    "\n",
    "class Child(Parent):\n",
    "    def __init__(self):\n",
    "        super().__init__()\n",
    "        self.value += \" + Child Value\"\n",
    "\n",
    "c = Child()\n",
    "print(c.value)"
   ]
  },
  {
   "cell_type": "markdown",
   "metadata": {},
   "source": [
    "8. **Mixin Classes**: `super()` is essential for mixins, which are classes designed to provide additional functionality but not meant to stand alone.\n"
   ]
  },
  {
   "cell_type": "code",
   "execution_count": null,
   "metadata": {},
   "outputs": [],
   "source": [
    "class LoggingMixin:\n",
    "    def log(self, message):\n",
    "        print(f\"LOG: {message}\")\n",
    "\n",
    "class Database:\n",
    "    def save(self):\n",
    "        print(\"Saving to database...\")\n",
    "\n",
    "class LoggedDatabase(LoggingMixin, Database):\n",
    "    def save(self):\n",
    "        self.log(\"Starting save operation\")\n",
    "        super().save()\n",
    "\n",
    "db = LoggedDatabase()\n",
    "db.save()"
   ]
  },
  {
   "cell_type": "markdown",
   "metadata": {
    "tags": []
   },
   "source": [
    "## <b style='color:#FF4500'>Collection Interface</b>"
   ]
  },
  {
   "cell_type": "markdown",
   "metadata": {
    "heading_collapsed": true,
    "jp-MarkdownHeadingCollapsed": true,
    "tags": []
   },
   "source": [
    "### list:"
   ]
  },
  {
   "cell_type": "markdown",
   "metadata": {
    "hidden": true
   },
   "source": [
    "- <b style=\"color:red\">Subtraction</b> operation is not supported but <b style=\"color:green\">Addition</b> is supported!\n",
    "- A list cannot be subtracted from another.\n",
    "- Mutable Object"
   ]
  },
  {
   "cell_type": "markdown",
   "metadata": {
    "hidden": true
   },
   "source": [
    "-   `list.append(object)` => Append object to the end of the list.\n",
    "-   `list.clear()` => Remove all items from list.\n",
    "-   `list.copy()` => Return a shallow copy of the list.\n",
    "-   `list.count(value)` => Return number of occurrences of value.\n",
    "-   `list.extend(iterable)` => Extend list by appending elements from the iterable (returns *None*).\n",
    "-   `list.index(value, start=0, stop=9223372036854775807)` => Return first index of value.\n",
    "-   `list.insert(index, object)` => Insert object before index.\n",
    "-   `list.pop(index=-1)` => Remove and return item at index (default last).\n",
    "-   `list.remove(value)` => Remove first occurrence of value.\n",
    "-   `list.reverse()` => Reverse *IN PLACE*.\n",
    "-   `list.sort(key=None, reverse=False)` => Sort the list *IN PLACE* in ascending order and return *None*."
   ]
  },
  {
   "cell_type": "code",
   "execution_count": null,
   "metadata": {},
   "outputs": [],
   "source": [
    "L = [1,1,2,3,2,4,2,4,5]\n",
    "print(L.index(2), sorted(L, reverse=True).index(2))"
   ]
  },
  {
   "cell_type": "code",
   "execution_count": null,
   "metadata": {
    "hidden": true
   },
   "outputs": [],
   "source": [
    "a1 = [[77, 11], 1,2]\n",
    "a2 = list(range(5))\n",
    "a3 = a1+a2\n",
    "a1[0] = 10"
   ]
  },
  {
   "cell_type": "code",
   "execution_count": null,
   "metadata": {
    "hidden": true
   },
   "outputs": [],
   "source": [
    "a2[::-1]"
   ]
  },
  {
   "cell_type": "code",
   "execution_count": null,
   "metadata": {
    "hidden": true
   },
   "outputs": [],
   "source": [
    "print(a1, a2, a3, sep='\\n')"
   ]
  },
  {
   "cell_type": "code",
   "execution_count": null,
   "metadata": {},
   "outputs": [],
   "source": [
    "print(a1.extend([20])); a1"
   ]
  },
  {
   "cell_type": "code",
   "execution_count": null,
   "metadata": {
    "hidden": true
   },
   "outputs": [],
   "source": [
    "lst1 = [1]; lst2 = [1]\n",
    "print(lst1 == lst2, lst1 is lst2, sep='\\n')"
   ]
  },
  {
   "cell_type": "code",
   "execution_count": null,
   "metadata": {
    "hidden": true
   },
   "outputs": [],
   "source": [
    "# d = {a1: 'an array'}    # ERROR!  => unhashable type: 'list'"
   ]
  },
  {
   "cell_type": "code",
   "execution_count": null,
   "metadata": {
    "hidden": true
   },
   "outputs": [],
   "source": [
    "L = [*range(8)]; L"
   ]
  },
  {
   "cell_type": "code",
   "execution_count": null,
   "metadata": {
    "hidden": true
   },
   "outputs": [],
   "source": [
    "print(L[::2], L[::-1], L[3:], L[:3], L[1:3], sep='\\n')"
   ]
  },
  {
   "cell_type": "code",
   "execution_count": null,
   "metadata": {
    "hidden": true
   },
   "outputs": [],
   "source": [
    "print([*enumerate(L)], list(reversed([*enumerate(L[1:], 1)])), list(enumerate(L[::-1])), sep='\\n')"
   ]
  },
  {
   "cell_type": "code",
   "execution_count": null,
   "metadata": {
    "hidden": true
   },
   "outputs": [],
   "source": [
    "R = [randint(-5,5) for _ in range(20)]"
   ]
  },
  {
   "cell_type": "code",
   "execution_count": null,
   "metadata": {
    "hidden": true
   },
   "outputs": [],
   "source": [
    "print(R)"
   ]
  },
  {
   "cell_type": "code",
   "execution_count": null,
   "metadata": {
    "hidden": true
   },
   "outputs": [],
   "source": [
    "R.index(4), [*reversed(R)].index(4),"
   ]
  },
  {
   "cell_type": "code",
   "execution_count": null,
   "metadata": {
    "hidden": true
   },
   "outputs": [],
   "source": [
    "# R.index(4, -1, 0) # ERROR!!"
   ]
  },
  {
   "cell_type": "markdown",
   "metadata": {
    "heading_collapsed": true,
    "jp-MarkdownHeadingCollapsed": true,
    "tags": []
   },
   "source": [
    "### dict"
   ]
  },
  {
   "cell_type": "markdown",
   "metadata": {
    "hidden": true
   },
   "source": [
    "- In Python 3.7 and later versions, the dict object is guaranteed to maintain insertion order. This means that the order in which key-value pairs are added to the dictionary is preserved when iterating over the dictionary.\n",
    "- Arithmatic Operations like `+` or `-` are not supported !\n",
    "- Default iteration goes over the 'keys'."
   ]
  },
  {
   "cell_type": "markdown",
   "metadata": {
    "hidden": true
   },
   "source": [
    "- `dict.clear()` => Remove all items from D\n",
    "- `dict.copy()` => a shallow copy of the dictionary.\n",
    "- `dict.get(key, default=None)` => Return the value for key if key is in the dictionary, else default.\n",
    "- `dict.items()` => a set-like object providing a view on dict's items\n",
    "- `dict.keys()` => a set-like object providing a view on D's keys\n",
    "- `dict.update([E, ]**F)` => Update D from dict/iterable. (return *None*)\n",
    "- `dict.values()` => an object providing a view on dict's values\n",
    "- <b style=\"font-size:18px;color:#C71585\">dict.fromkeys(iterable, value=None)</b> => Create a new dictionary with keys from iterable and values set to value.\n",
    "- <b style=\"font-size:18px;color:#C71585\">dict.pop(key[,default])</b> => remove specified key and return the corresponding value. If the key is not found, return the default if given; otherwise, raise a KeyError.\n",
    "- <b style=\"font-size:18px;color:#C71585\">dict.popitem()</b> => Remove and return a (key, value) pair as a 2-tuple. Pairs are returned in LIFO (last-in, first-out) order. Raises KeyError if the dict is empty.\n",
    "- <b style=\"font-size:18px;color:#C71585\">dict.setdefault(key, default=None)</b> => Insert key with a value of default if key is not in the dictionary. Return the value for key if key is in the dictionary, else default."
   ]
  },
  {
   "cell_type": "code",
   "execution_count": null,
   "metadata": {},
   "outputs": [],
   "source": [
    "# help(dict.pop)"
   ]
  },
  {
   "cell_type": "code",
   "execution_count": null,
   "metadata": {
    "hidden": true
   },
   "outputs": [],
   "source": [
    "D = {}\n",
    "list_counter = [1,1,2,3,3,3,3,2,1,0,0,0,-10, -2, -10]\n",
    "for i in list_counter: D[i] = D.get(i, 0) + 1\n",
    "print(D)\n",
    "print(len(D))"
   ]
  },
  {
   "cell_type": "code",
   "execution_count": null,
   "metadata": {
    "hidden": true
   },
   "outputs": [],
   "source": [
    "L = [*range(1000, 10001, 1000)]\n",
    "d =  {k:v for k,v in enumerate(L)} #; d\n",
    "d1 = {k:v for k,v in enumerate(L)} #; d1\n",
    "d2 = {k:v for k,v in enumerate(L)} #; d2"
   ]
  },
  {
   "cell_type": "code",
   "execution_count": null,
   "metadata": {
    "hidden": true
   },
   "outputs": [],
   "source": [
    "print(d1 | d2, d1 == d2, d1 is d2, sep='\\n')"
   ]
  },
  {
   "cell_type": "code",
   "execution_count": null,
   "metadata": {
    "hidden": true
   },
   "outputs": [],
   "source": [
    "print(d.keys(), type(d.keys()), type(d.values()), type(d.items()), sep=\"\\n\")\n",
    "print(sorted(d.keys()), sorted(d.values()), [*d.keys()], sep=\"\\n\")"
   ]
  },
  {
   "cell_type": "code",
   "execution_count": null,
   "metadata": {},
   "outputs": [],
   "source": [
    "[*reversed(d.keys())], [*enumerate(d.keys(), 10)]"
   ]
  },
  {
   "cell_type": "code",
   "execution_count": null,
   "metadata": {},
   "outputs": [],
   "source": [
    "d.items()"
   ]
  },
  {
   "cell_type": "markdown",
   "metadata": {},
   "source": [
    "- **Merging Dictionaries**"
   ]
  },
  {
   "cell_type": "code",
   "execution_count": 3,
   "metadata": {},
   "outputs": [
    {
     "name": "stdout",
     "output_type": "stream",
     "text": [
      "{'c': 'My_C', 'd': 'My_d', 'a': 'My_A', 'b': 'My_b'}\n"
     ]
    }
   ],
   "source": [
    "dct1 = {\"a\": \"My_A\", \"b\": \"My_b\"}\n",
    "dct2 = {\"c\": \"My_C\", \"d\": \"My_d\", **dct1}\n",
    "\n",
    "print(dct2)"
   ]
  },
  {
   "cell_type": "markdown",
   "metadata": {},
   "source": [
    "-   You can **unpack a dictionary** object into variables by matching the dictionary's keys to the variable names."
   ]
  },
  {
   "cell_type": "code",
   "execution_count": null,
   "metadata": {},
   "outputs": [],
   "source": [
    "data = {\"name\": \"Alice\", \"age\": 25, \"city\": \"New York\"}\n",
    "\n",
    "# Unpack into variables\n",
    "name, age, city = data.values()\n",
    "\n",
    "print(name)  # Output: Alice\n",
    "print(age)   # Output: 25\n",
    "print(city)  # Output: New York\n"
   ]
  },
  {
   "cell_type": "markdown",
   "metadata": {},
   "source": [
    "-   Unpacking with *\\*\\** and **locals()**\n",
    "    -   **Caution**: Be careful when using locals().update() as it modifies the local scope, which can lead to unexpected behavior in certain contexts."
   ]
  },
  {
   "cell_type": "code",
   "execution_count": 12,
   "metadata": {},
   "outputs": [
    {
     "name": "stdout",
     "output_type": "stream",
     "text": [
      "Alice\n",
      "25\n",
      "New York\n"
     ]
    }
   ],
   "source": [
    "data = {\"name\": \"Alice\", \"age\": 25, \"city\": \"New York\"}\n",
    "\n",
    "# Use locals to assign variables dynamically\n",
    "locals().update(data)\n",
    "\n",
    "print(name)  # Output: Alice\n",
    "print(age)   # Output: 25\n",
    "print(city)  # Output: New York\n"
   ]
  },
  {
   "cell_type": "code",
   "execution_count": 31,
   "metadata": {},
   "outputs": [
    {
     "name": "stdout",
     "output_type": "stream",
     "text": [
      "2\n",
      "{'b': 3, 'c': 4}\n"
     ]
    }
   ],
   "source": [
    "def my_func(a, **kwargs):\n",
    "    locals().update(**kwargs)\n",
    "    # print(locals())\n",
    "    print(a)\n",
    "    print(kwargs)\n",
    "    A = kwargs.get('A', '')\n",
    "    if A: print()\n",
    "    # print(c) # NameError\n",
    "\n",
    "my_func(2, b=3, c=4)"
   ]
  },
  {
   "cell_type": "code",
   "execution_count": 25,
   "metadata": {},
   "outputs": [
    {
     "name": "stdout",
     "output_type": "stream",
     "text": [
      "2\n"
     ]
    }
   ],
   "source": [
    "def my_func(a, *, b=2, c=3):\n",
    "    # print(locals())\n",
    "    print(a)\n",
    "\n",
    "my_func(2, b=3,c=4)"
   ]
  },
  {
   "cell_type": "code",
   "execution_count": null,
   "metadata": {},
   "outputs": [],
   "source": []
  },
  {
   "cell_type": "markdown",
   "metadata": {
    "hidden": true
   },
   "source": [
    "##### <b style='color:tomato'>dict Interface</b>"
   ]
  },
  {
   "cell_type": "code",
   "execution_count": null,
   "metadata": {},
   "outputs": [],
   "source": [
    "# my_dict + my_dict2 # ERRORS -> unsupported operand type(s) for +: 'dict' and 'dict'\n",
    "# my_dict - my_dict2 # ERRORS -> unsupported operand type(s) for -: 'dict' and 'dict'\n",
    "# my_dict & my_dict2 # ERRORS -> unsupported operand type(s) for &: 'dict' and 'dict'"
   ]
  },
  {
   "cell_type": "code",
   "execution_count": null,
   "metadata": {},
   "outputs": [],
   "source": [
    "# Using curly braces\n",
    "my_dict = {\n",
    "    \"name\": \"Alice\",\n",
    "    \"age\": 30,\n",
    "    \"city\": \"New York\"\n",
    "}\n",
    "# Using the dict constructor\n",
    "my_dict = dict(name=\"Alice\", age=30, city=\"New York\")\n",
    "my_dict2 = dict([(\"age\", 40), (\"SSN\", \"111-111-1111\")])\n",
    "print(my_dict2)\n",
    "\n",
    "# Updating dictionary\n",
    "my_dict.update(my_dict2)\n",
    "print(my_dict)"
   ]
  },
  {
   "cell_type": "code",
   "execution_count": null,
   "metadata": {},
   "outputs": [],
   "source": [
    "# Initialize a dictionary for demonstration\n",
    "my_dict = {'a': 1,'b': 2,'c': 3}"
   ]
  },
  {
   "cell_type": "code",
   "execution_count": null,
   "metadata": {},
   "outputs": [],
   "source": [
    "# 1. dict.clear()\n",
    "# Clears all elements from the dictionary\n",
    "my_dict.clear()\n",
    "print(\"After clear:\", my_dict)  # Output: {}"
   ]
  },
  {
   "cell_type": "code",
   "execution_count": null,
   "metadata": {},
   "outputs": [],
   "source": [
    "# Re-initialize the dictionary for further demonstrations\n",
    "my_dict = {'a': 1,'b': 2,'c': 3}"
   ]
  },
  {
   "cell_type": "code",
   "execution_count": null,
   "metadata": {},
   "outputs": [],
   "source": [
    "# 2. dict.copy()\n",
    "# Returns a shallow copy of the dictionary\n",
    "copy_dict = my_dict.copy()\n",
    "print(\"Copy of the dictionary:\", copy_dict)  # Output: {'a': 1, 'b': 2, 'c': 3}"
   ]
  },
  {
   "cell_type": "code",
   "execution_count": null,
   "metadata": {},
   "outputs": [],
   "source": [
    "# 4. dict.get(key, default=None)\n",
    "# Returns the value for the key if it exists, otherwise returns default\n",
    "value = my_dict.get('b')\n",
    "print(\"Value for key 'b':\", value)  # Output: 2\n",
    "value = my_dict.get('d', 'Not Found')\n",
    "print(\"Value for key 'd':\", value)  # Output: Not Found"
   ]
  },
  {
   "cell_type": "code",
   "execution_count": null,
   "metadata": {},
   "outputs": [],
   "source": [
    "# 5. dict.items()\n",
    "# Returns a view object of the dictionary's key-value pairs\n",
    "items = my_dict.items()\n",
    "print(\"Dictionary items:\", items)  # Output: dict_items([('a', 1), ('b', 2), ('c', 3)])"
   ]
  },
  {
   "cell_type": "code",
   "execution_count": null,
   "metadata": {},
   "outputs": [],
   "source": [
    "# 6. dict.keys()\n",
    "# Returns a view object of the dictionary's keys\n",
    "keys = my_dict.keys()\n",
    "print(\"Dictionary keys:\", keys)  # Output: dict_keys(['a', 'b', 'c'])"
   ]
  },
  {
   "cell_type": "markdown",
   "metadata": {},
   "source": [
    "<b style=\"font-size:18px;color:#C71585\">dict.fromkeys(iterable, value=None)</b>"
   ]
  },
  {
   "cell_type": "code",
   "execution_count": null,
   "metadata": {},
   "outputs": [],
   "source": [
    "# Creates a new dictionary with keys from the iterable and values set to value\n",
    "keys = ['x', 'y', 'z']\n",
    "new_dict = dict.fromkeys(keys, 0)\n",
    "print(\"New dictionary from keys:\", new_dict)  # Output: {'x': 0, 'y': 0, 'z': 0}"
   ]
  },
  {
   "cell_type": "markdown",
   "metadata": {},
   "source": [
    "<b style=\"font-size:18px;color:#C71585\">dict.pop(key[, default])</b>"
   ]
  },
  {
   "cell_type": "code",
   "execution_count": null,
   "metadata": {},
   "outputs": [],
   "source": [
    "# Removes the key and returns its value; if key is not found, returns default if provided\n",
    "popped_value = my_dict.pop('b')\n",
    "print(\"Popped value:\", popped_value)  # Output: 2\n",
    "print(\"Dictionary after pop:\", my_dict)  # Output: {'a': 1, 'c': 3}\n",
    "popped_value = my_dict.pop('d', 'Not Found')\n",
    "print(\"Popped value for non-existent key:\", popped_value)  # Output: Not Found"
   ]
  },
  {
   "cell_type": "markdown",
   "metadata": {},
   "source": [
    "\n",
    "<b style=\"font-size:18px;color:#C71585\">dict.popitem()</b>"
   ]
  },
  {
   "cell_type": "code",
   "execution_count": null,
   "metadata": {},
   "outputs": [],
   "source": [
    "# Removes and returns a (key, value) pair from the dictionary (LIFO order for Python 3.7+)\n",
    "popped_item = my_dict.popitem()\n",
    "print(\"Popped item:\", popped_item)  # Output: ('c', 3)\n",
    "print(\"Dictionary after popitem:\", my_dict)  # Output: {'a': 1}"
   ]
  },
  {
   "cell_type": "markdown",
   "metadata": {},
   "source": [
    "<b style=\"font-size:18px;color:#C71585\">dict.setdefault(key, default=None)</b>"
   ]
  },
  {
   "cell_type": "code",
   "execution_count": null,
   "metadata": {},
   "outputs": [],
   "source": [
    "\n",
    "# Re-initialize the dictionary for further demonstrations\n",
    "my_dict = {'a': 1,'b': 2,'c': 3}\n",
    "\n",
    "# Returns the value of the key if it exists, otherwise inserts the key with the default value and returns default\n",
    "value = my_dict.setdefault('b', 10)\n",
    "print(\"Value for existing key 'b':\", value)  # Output: 2\n",
    "value = my_dict.setdefault('d', 10)\n",
    "print(\"Value for new key 'd':\", value)  # Output: 10\n",
    "print(\"Dictionary after setdefault:\", my_dict)  # Output: {'a': 1, 'b': 2, 'c': 3, 'd': 10}"
   ]
  },
  {
   "cell_type": "code",
   "execution_count": null,
   "metadata": {},
   "outputs": [],
   "source": [
    "# 10. dict.update([E, ]**F)\n",
    "# Updates the dictionary with the key-value pairs from E (another dictionary or iterable) or from F (key=value pairs)\n",
    "my_dict.update({'e': 5, 'f': 6})\n",
    "print(\"Dictionary after update with a dict:\", my_dict)  # Output: {'a': 1, 'b': 2, 'c': 3, 'd': 10, 'e': 5, 'f': 6}\n",
    "my_dict.update(g=7, h=8)\n",
    "print(\"Dictionary after update with key=value pairs:\", my_dict)  # Output: {'a': 1, 'b': 2, 'c': 3, 'd': 10, 'e': 5, 'f': 6, 'g': 7, 'h': 8}"
   ]
  },
  {
   "cell_type": "code",
   "execution_count": null,
   "metadata": {},
   "outputs": [],
   "source": [
    "# 11. dict.values()\n",
    "# Returns a view object of the dictionary's values\n",
    "values = my_dict.values()\n",
    "print(\"Dictionary values:\", values)  # Output: dict_values([1, 2, 3, 10, 5, 6, 7, 8])\n"
   ]
  },
  {
   "cell_type": "code",
   "execution_count": null,
   "metadata": {},
   "outputs": [],
   "source": [
    "# Using curly braces\n",
    "my_dict = {\n",
    "    \"name\": \"Alice\",\n",
    "    \"age\": 30,\n",
    "    \"city\": \"New York\"\n",
    "}\n",
    "# Using the dict constructor\n",
    "my_dict = dict(name=\"Alice\", age=30, city=\"New York\")\n",
    "my_dict2 = dict([(\"age\", 40), (\"SSN\", \"111-111-1111\")])\n",
    "print(my_dict2)\n",
    "\n",
    "# Updating dictionary\n",
    "my_dict.update(my_dict2)\n",
    "print(my_dict)"
   ]
  },
  {
   "cell_type": "code",
   "execution_count": null,
   "metadata": {
    "hidden": true
   },
   "outputs": [],
   "source": [
    "# Returns the value of the key if it exists, otherwise inserts the key with the default value and returns default\n",
    "my_dict.setdefault('SSN', \"111-000-0000\")\n",
    "my_dict.pop(\"SSN\")\n",
    "print(my_dict)\n",
    "print(my_dict.setdefault('SSN', \"111-000-0000\"))"
   ]
  },
  {
   "cell_type": "code",
   "execution_count": null,
   "metadata": {
    "hidden": true
   },
   "outputs": [],
   "source": [
    "# Creating a dictionary\n",
    "address = dict([(\"Street\", \"9124 221 PL\"), (\"City\", \"Dallas\"), (\"Zip\", 75243)])\n",
    "person = {\"name\": \"Bob\",\"age\": 25,\"ID\": 1111,\"Address\": address}\n",
    "\n",
    "# Accessing values\n",
    "print(person[\"name\"])  # Output: Bob\n",
    "\n",
    "# Assigning/updating values\n",
    "person[\"email\"] = \"bob@example.com\"\n",
    "person[\"age\"] = 26\n",
    "\n",
    "# Removing values\n",
    "del person[\"ID\"]\n",
    "email = person.pop(\"email\")\n",
    "\n",
    "# Checking for keys\n",
    "print(\"name\" in person)  # Output: True\n",
    "print(\"city\" in person)  # Output: False\n",
    "\n",
    "# Iterating over dictionary\n",
    "for key, value in person.items():\n",
    "    print(f\"{key}: {value}\")"
   ]
  },
  {
   "cell_type": "code",
   "execution_count": null,
   "metadata": {
    "hidden": true,
    "tags": []
   },
   "outputs": [],
   "source": [
    "print(issubclass(Counter,dict))\n",
    "print(issubclass(defaultdict,dict))\n",
    "print(issubclass(OrderedDict,dict))"
   ]
  },
  {
   "cell_type": "markdown",
   "metadata": {
    "heading_collapsed": true,
    "hidden": true,
    "jp-MarkdownHeadingCollapsed": true,
    "tags": []
   },
   "source": [
    "##### <b style='color:tomato'>Counter(...)</b>:"
   ]
  },
  {
   "cell_type": "markdown",
   "metadata": {
    "hidden": true
   },
   "source": [
    "\n",
    "-   <b style=\"color:red\">Unlike dict object, it does not preserve the ordered of appending</b>.\n",
    "-   Unlike dict object, counter[<b style=\"color:red\">absent_key]</b> always return `0`.\n",
    "-   It's a <b style=\"color:red\">subclass of dict</b> with additional methods.\n",
    "-   Supported Operations: `+` (sum), `-` (difference), `|` (union), and `&` (intersection) on Counter objects.\n",
    "-   **The extra functionalities beyond \"dict\" API provided by Counter**:\n",
    "    -    `Counter.elements()` => Iterator over elements repeating each as many times as its count.\n",
    "    -    `Counter.most_common(n=None)` => \n",
    "         -    List the `n` most common elements and their counts from the common to the least as `list[tuple]`. \n",
    "         -    If `n` is None, then list all element counts.\n",
    "    -    `Counter.subtract(iterable=None)` => (return None)\n",
    "         -    Counts can be reduced below zero.\n",
    "         -    Both the inputs and outputs are allowed to contain zero and negative counts. \n",
    "         -    Source can be an iterable, a dictionary, or another Counter instance."
   ]
  },
  {
   "cell_type": "code",
   "execution_count": null,
   "metadata": {
    "hidden": true
   },
   "outputs": [],
   "source": [
    "# set(dir(Counter)) - set(dir(dict))"
   ]
  },
  {
   "cell_type": "code",
   "execution_count": null,
   "metadata": {
    "hidden": true
   },
   "outputs": [],
   "source": [
    "list_counter = Counter([1,1,2,3,3,3,3,2,1,0,0,0])\n",
    "set_counter = Counter({1,2,3,0,4})\n",
    "str_counter = Counter('aminul Momin')\n",
    "tuple_counter = Counter((1,2,3,3,2,1,0))\n",
    "dict_counter1 = Counter({'one':1, 'two':2, 'three':3})\n",
    "dict_counter2 = Counter({v:k for k,v in dict_counter1.items()})"
   ]
  },
  {
   "cell_type": "code",
   "execution_count": null,
   "metadata": {
    "code_folding": [
     0
    ],
    "hidden": true
   },
   "outputs": [],
   "source": [
    "print(\n",
    "    f\"{red('list_counter')}: {list_counter}\",\n",
    "    f\"{red('set_counter')}: {set_counter}\",\n",
    "    f\"{red('str_counter')}: {str_counter}\",\n",
    "    f\"{red('tuple_counter')}: {tuple_counter}\",\n",
    "    f\"{red('dict_counter1')}: {dict_counter1}\",\n",
    "    f\"{red('dict_counter2')}: {dict_counter2}\",\n",
    "    sep='\\n'\n",
    ")"
   ]
  },
  {
   "cell_type": "code",
   "execution_count": null,
   "metadata": {
    "hidden": true
   },
   "outputs": [],
   "source": [
    "print(list_counter-set_counter, set_counter-list_counter, set_counter - Counter({1,2}), sep='\\n')\n",
    "print(list_counter+set_counter)"
   ]
  },
  {
   "cell_type": "code",
   "execution_count": null,
   "metadata": {
    "hidden": true
   },
   "outputs": [],
   "source": [
    "print(list_counter, set_counter, sep='\\n')\n",
    "print(list_counter | set_counter, set_counter | list_counter) # Takes union of the two counters"
   ]
  },
  {
   "cell_type": "code",
   "execution_count": null,
   "metadata": {
    "hidden": true
   },
   "outputs": [],
   "source": [
    "print(list_counter, set_counter, sep='\\n')\n",
    "print(list_counter & set_counter, set_counter & list_counter) # Takes Intersection of the two counters"
   ]
  },
  {
   "cell_type": "code",
   "execution_count": null,
   "metadata": {
    "hidden": true
   },
   "outputs": [],
   "source": [
    "c1 = Counter([2,2,1,3,2,1,5])\n",
    "c2 = Counter([5,1,3,2,1,2,2])\n",
    "print(f\"{red(c1 == c2)}\", c1 is c2)\n",
    "print(c1, c2)"
   ]
  },
  {
   "cell_type": "code",
   "execution_count": null,
   "metadata": {
    "hidden": true
   },
   "outputs": [],
   "source": [
    "c1 = Counter({'a': 1, 'd': 1, 'c': 1})\n",
    "c2 = Counter({'c': 1, 'd': 1, 'a': 1})\n",
    "print(f\"{red(c1 == c2)}\", c1 is c2)\n",
    "print(c1, c2)"
   ]
  },
  {
   "cell_type": "code",
   "execution_count": null,
   "metadata": {},
   "outputs": [],
   "source": [
    "if not Counter({1,2}) - set_counter: \n",
    "    print(Counter({1,2}) - set_counter)"
   ]
  },
  {
   "cell_type": "code",
   "execution_count": null,
   "metadata": {
    "hidden": true
   },
   "outputs": [],
   "source": [
    "if dict_counter1 - dict_counter1: \n",
    "    print(f\"Evaluated: => {dict_counter1 - dict_counter1}\")"
   ]
  },
  {
   "cell_type": "code",
   "execution_count": null,
   "metadata": {},
   "outputs": [],
   "source": [
    "if dict_counter1 - (dict_counter1 + dict_counter1):\n",
    "    print(f\"Evaluated: => {dict_counter1 - (dict_counter1 + dict_counter1)}\")"
   ]
  },
  {
   "cell_type": "code",
   "execution_count": null,
   "metadata": {},
   "outputs": [],
   "source": [
    "if (dict_counter1 + dict_counter1) - dict_counter1: \n",
    "    print(f\"Evaluated: => {(dict_counter1 + dict_counter1) - dict_counter1}\")"
   ]
  },
  {
   "cell_type": "code",
   "execution_count": null,
   "metadata": {
    "hidden": true
   },
   "outputs": [],
   "source": [
    "cntr1 = Counter({'one':1, 'two':3, 'three':3})\n",
    "cntr2 = Counter({'one':1, 'two':2, 'three':3, 'four':4})"
   ]
  },
  {
   "cell_type": "code",
   "execution_count": null,
   "metadata": {
    "hidden": true
   },
   "outputs": [],
   "source": [
    "print(cntr2-cntr1, cntr1-cntr2, sep=\"\\n\")"
   ]
  },
  {
   "cell_type": "code",
   "execution_count": null,
   "metadata": {
    "hidden": true
   },
   "outputs": [],
   "source": [
    "counter = Counter([randint(-5,5) for _ in range(100)])"
   ]
  },
  {
   "cell_type": "code",
   "execution_count": null,
   "metadata": {
    "hidden": true
   },
   "outputs": [],
   "source": [
    "print(counter.get(1, 0))"
   ]
  },
  {
   "cell_type": "code",
   "execution_count": null,
   "metadata": {
    "hidden": true
   },
   "outputs": [],
   "source": [
    "counter[1] = counter[1]+1; print(counter[1])"
   ]
  },
  {
   "cell_type": "code",
   "execution_count": null,
   "metadata": {
    "hidden": true
   },
   "outputs": [],
   "source": [
    "c1 = counter = Counter([randint(-5,5) for _ in range(100)])\n",
    "c2 = counter = Counter([randint(-5,5) for _ in range(100)])"
   ]
  },
  {
   "cell_type": "markdown",
   "metadata": {},
   "source": [
    "- <b style=\"color:#C71585\">Counter.subtract()</b>"
   ]
  },
  {
   "cell_type": "code",
   "execution_count": null,
   "metadata": {},
   "outputs": [],
   "source": [
    "set_counter.subtract(list_counter)\n",
    "print(set_counter)"
   ]
  },
  {
   "cell_type": "markdown",
   "metadata": {},
   "source": [
    "-    <b style=\"color:#C71585\">Counter.most_comon()</b>"
   ]
  },
  {
   "cell_type": "code",
   "execution_count": null,
   "metadata": {
    "hidden": true
   },
   "outputs": [],
   "source": [
    "(c1+c2).most_common(2)"
   ]
  },
  {
   "cell_type": "code",
   "execution_count": null,
   "metadata": {},
   "outputs": [],
   "source": [
    "(c1+c2).most_common()"
   ]
  },
  {
   "cell_type": "markdown",
   "metadata": {},
   "source": [
    "-   <b style=\"color:#C71585\">Counter.elements()</b>"
   ]
  },
  {
   "cell_type": "code",
   "execution_count": null,
   "metadata": {},
   "outputs": [],
   "source": [
    "print(list_counter)\n",
    "[*list_counter.elements()]"
   ]
  },
  {
   "cell_type": "code",
   "execution_count": null,
   "metadata": {
    "hidden": true
   },
   "outputs": [],
   "source": [
    "len(list((c1+c2).elements())), sum((c1+c2).values())"
   ]
  },
  {
   "cell_type": "markdown",
   "metadata": {
    "heading_collapsed": true,
    "hidden": true,
    "jp-MarkdownHeadingCollapsed": true,
    "tags": []
   },
   "source": [
    "##### <b style='color:tomato'>collections.OrderedDict(...)</b>:"
   ]
  },
  {
   "cell_type": "markdown",
   "metadata": {
    "hidden": true
   },
   "source": [
    "- OrderedDict is subclasses of dict.\n",
    "- OrderedDict keeps the elements in the order that they were in when they were first inserted.\n",
    "- If we remove an element and re-add it, the element will be pushed to the back. If an element’s key changes, the position does not change."
   ]
  },
  {
   "cell_type": "markdown",
   "metadata": {
    "hidden": true
   },
   "source": [
    "`OrderedDict.copy()`\n",
    "`OrderedDict.fromkeys()`\n",
    "`OrderedDict.get()`\n",
    "`OrderedDict.ites()`\n",
    "`OrderedDict.keys()`\n",
    "`OrderedDict.moveto_end()`\n",
    "`OrderedDict.pop()`\n",
    "`OrderedDict.poptem()`\n",
    "`OrderedDict.setdefalt()`\n",
    "`OrderedDict.update()`\n",
    "`OrderedDict.values()`"
   ]
  },
  {
   "cell_type": "markdown",
   "metadata": {
    "heading_collapsed": true,
    "hidden": true,
    "jp-MarkdownHeadingCollapsed": true,
    "tags": []
   },
   "source": [
    "##### <b style='color:tomato'>collections.defaultdict(...)</b>:"
   ]
  },
  {
   "cell_type": "code",
   "execution_count": null,
   "metadata": {
    "hidden": true
   },
   "outputs": [],
   "source": [
    "from collections import defaultdict"
   ]
  },
  {
   "cell_type": "markdown",
   "metadata": {
    "hidden": true
   },
   "source": [
    "- A defaultdict is a useful subclass of `dict` that doesn’t raise a KeyError exception when trying to access an undefined key. However, you must define a function that defines what you want to return when a key is searched for that doesn’t exist.\n",
    "- It does not provide any aditional methods besides the methods of it's parent (`dict`)"
   ]
  },
  {
   "cell_type": "code",
   "execution_count": null,
   "metadata": {
    "hidden": true
   },
   "outputs": [],
   "source": [
    "from collections import defaultdict\n",
    "\n",
    "def defval():\n",
    "  return 'default value'\n",
    "\n",
    "mydict = defaultdict(lambda: 'default value')\n",
    "mydict['a'] = 1\n",
    "mydict['b'] = 2\n",
    "mydict['c'] = 3\n",
    "\n",
    "for k in mydict.items():\n",
    "  print(k)\n",
    "\n",
    "print('\\n') \n",
    "\n",
    "# if we try to get 'd' \n",
    "print(mydict['d']) # with a 'generic' dict this will raise a KeyError exception\n",
    "\n",
    "print('\\n') \n",
    "\n",
    "# it also add it to the dict\n",
    "for k in mydict.items():\n",
    "  print(k)"
   ]
  },
  {
   "cell_type": "markdown",
   "metadata": {
    "heading_collapsed": true,
    "jp-MarkdownHeadingCollapsed": true,
    "tags": []
   },
   "source": [
    "### set:"
   ]
  },
  {
   "cell_type": "markdown",
   "metadata": {
    "hidden": true
   },
   "source": [
    "`set.add()`\n",
    "`set.clear()`\n",
    "`set.copy()`\n",
    "`set.difference()`\n",
    "`set.difference_update()`\n",
    "`set.discard()`\n",
    "`set.intersection()`\n",
    "`set.intersection_update()`\n",
    "`set.isdisjoint()`\n",
    "`set.issubset()`\n",
    "`set.issuperset()`\n",
    "`set.pop()`\n",
    "`set.remove()`\n",
    "`set.symmetric_difference()`\n",
    "`set.symmetric_difference_update()`\n",
    "`set.union()`\n",
    "`set.update()`"
   ]
  },
  {
   "cell_type": "markdown",
   "metadata": {
    "hidden": true
   },
   "source": [
    "- Stores `unique` items only.\n",
    "- `set` object in Python is `hashset` and `unordered set`\n",
    "- `set` object is `not subscriptable`.\n",
    "- <b style=\"color:green\">Mutable</b> (but elements must be <b style=\"color:red\">immutable</b>)\n",
    "- <b style=\"color:green\">Subtraction</b> operation is supported but <b style=\"color:red\">Addition</b> is not supported!\n",
    "- The order of element additon in a set is not guaranteed, so the output may vary for methods like `pop()`.\n",
    "- Offers faster membership testing (using `in` keyword) and operations like addition and removal since it uses a hash table for storage, giving average $O(1)$ time complexity for these operations."
   ]
  },
  {
   "cell_type": "code",
   "execution_count": null,
   "metadata": {},
   "outputs": [],
   "source": [
    "empty_set = set() # NOT `{}`"
   ]
  },
  {
   "cell_type": "code",
   "execution_count": null,
   "metadata": {
    "hidden": true
   },
   "outputs": [],
   "source": [
    "set1 = {4,1,2,3}; set2 = {1,2,3}\n",
    "# UNION, INTERSECTION, SUBTRACTION Operations on set\n",
    "print(set1 | set2, set1 & set2, set1 - set2, set2 - set1, sep='\\n')"
   ]
  },
  {
   "cell_type": "code",
   "execution_count": null,
   "metadata": {},
   "outputs": [],
   "source": [
    "# set1_plus_2 = set1 + set2 # ERROR!! -> unsupported operand type(s) for +: 'set' and 'set'\n",
    "# set1[0]                   # ERROR!! -> 'set' object is not subscriptable\n",
    "# reversed(set1)            # ERROR!! -> 'set' object is not reversible"
   ]
  },
  {
   "cell_type": "code",
   "execution_count": null,
   "metadata": {
    "hidden": true
   },
   "outputs": [],
   "source": [
    "print(set1 == set2, set1 is set2, set1 is not set2, not set1 is set2, sep='\\n')"
   ]
  },
  {
   "cell_type": "code",
   "execution_count": null,
   "metadata": {},
   "outputs": [],
   "source": [
    "print(set('str'), Counter(set('str')), sorted(set1), enumerate(set('str')), [*zip(set1, set2)], sep='\\n')"
   ]
  },
  {
   "cell_type": "code",
   "execution_count": null,
   "metadata": {
    "hidden": true
   },
   "outputs": [],
   "source": [
    "# Creating two sets for demonstration\n",
    "set1 = {1, 2, 3, 4, 5}; set2 = {4, 5, 6, 7, 8}"
   ]
  },
  {
   "cell_type": "code",
   "execution_count": null,
   "metadata": {
    "hidden": true
   },
   "outputs": [],
   "source": [
    "# set.add(element) - Adds an element to the set\n",
    "set1.add(6)\n",
    "print(\"After set.add(6):\", set1)\n",
    "\n",
    "# set.clear() - Removes all elements from the set\n",
    "set1.clear()\n",
    "print(\"After set.clear():\", set1)\n",
    "\n",
    "# set.copy() - Returns a shallow copy of the set\n",
    "set1 = {1, 2, 3, 4, 5}\n",
    "set_copy = set1.copy()\n",
    "print(\"Copy of set1:\", set_copy)"
   ]
  },
  {
   "cell_type": "code",
   "execution_count": null,
   "metadata": {
    "hidden": true
   },
   "outputs": [],
   "source": [
    "# set.pop() - Removes and returns an arbitrary element from the set\n",
    "popped_element = set1.pop()\n",
    "print(\"Popped element:\", popped_element)\n",
    "\n",
    "\n",
    "# set.discard(element) - does not Raise Error if the specified element is not present\n",
    "set1 = {1, 2, 3, 4, 5}\n",
    "\n",
    "print(f\"After set.discard({set1.discard(3)}):\", set1)\n",
    "\n",
    "\n",
    "# set.remove(element) - Raise KeyError if the specified element is not present\n",
    "print(f\"After set.remove({set1.remove(1)}):\", set1)"
   ]
  },
  {
   "cell_type": "code",
   "execution_count": null,
   "metadata": {
    "hidden": true
   },
   "outputs": [],
   "source": [
    "set1 = {1, 2, 3, 4}\n",
    "set2 = {3, 4, 5, 6}\n",
    "\n",
    "# Intersection using the '&' operator\n",
    "intersection_operator = set1 & set2\n",
    "print(\"Intersection using & operator:\", intersection_operator)\n",
    "\n",
    "# Using the intersection method - Returns the intersection of two sets as a new set\n",
    "intersection_method = set1.intersection(set2)\n",
    "print(\"Intersection using intersection method:\", intersection_method)\n",
    "\n",
    "assert intersection_operator == intersection_method\n",
    "\n",
    "# set.intersection_update(set) - Updates the set with the intersection of itself and another set\n",
    "set1.intersection_update(set2)\n",
    "print(\"After set.intersection_update(set2):\", set1)\n",
    "\n",
    "# Intersection using list comprehension\n",
    "intersection_comprehension = [item for item in set1 if item in set2]\n",
    "print(\"Intersection using list comprehension:\", intersection_comprehension)"
   ]
  },
  {
   "cell_type": "code",
   "execution_count": null,
   "metadata": {},
   "outputs": [],
   "source": [
    "set1 = {1, 2, 3, 4}; set2 = {3, 4, 5, 6}\n",
    "\n",
    "# Using the | operator\n",
    "union_operator = set1 | set2\n",
    "print(\"Union using | operator:\", union_operator)\n",
    "\n",
    "# set.union(set) - Returns the union of two sets as a new set\n",
    "union_set = set1.union(set2)\n",
    "print(\"Union of set1 and set2:\", union_set)\n",
    "\n",
    "# set.update(set) - Updates the set with the union of itself and another set\n",
    "set1.update(set2)\n",
    "print(\"After set.update(set2):\", set1)"
   ]
  },
  {
   "cell_type": "code",
   "execution_count": null,
   "metadata": {
    "hidden": true
   },
   "outputs": [],
   "source": [
    "set1_minus_2 = set1 - set2\n",
    "\n",
    "# set.difference(set) - Returns the difference of two sets as a new set\n",
    "difference_set = set1.difference(set2)\n",
    "print(\"Difference of set1 and set2:\", difference_set)\n",
    "\n",
    "# set.difference_update(set) - Removes elements of another set from this set\n",
    "set1.difference_update(set2)\n",
    "print(\"After set1.difference_update(set2):\", set1)\n",
    "\n",
    "\n",
    "print(set1, set2, sep='\\n')\n",
    "\n",
    "# set.symmetric_difference(set) - Returns the symmetric difference of two sets as a new set\n",
    "symmetric_difference_set = set1.symmetric_difference(set2)\n",
    "print(\"Symmetric difference of set1 and set2:\", symmetric_difference_set)\n",
    "\n",
    "# set.symmetric_difference_update(set) - Updates the set with the symmetric difference of itself and another set\n",
    "set1.symmetric_difference_update(set2)\n",
    "print(\"After set.symmetric_difference_update(set2):\", set1)"
   ]
  },
  {
   "cell_type": "code",
   "execution_count": null,
   "metadata": {},
   "outputs": [],
   "source": [
    "# set.isdisjoint(set) - Returns True if two sets have no elements in common\n",
    "are_disjoint = set1.isdisjoint(set2)\n",
    "print(\"Are set1 and set2 disjoint?\", are_disjoint)\n",
    "\n",
    "# set.issubset(set) - Returns True if another set contains this set\n",
    "is_subset = set1.issubset(set2)\n",
    "print(\"Is set1 a subset of set2?\", is_subset)\n",
    "\n",
    "# set.issuperset(set) - Returns True if this set contains another set\n",
    "is_superset = set1.issuperset(set2)\n",
    "print(\"Is set1 a superset of set2?\", is_superset)"
   ]
  },
  {
   "cell_type": "markdown",
   "metadata": {
    "heading_collapsed": true,
    "jp-MarkdownHeadingCollapsed": true,
    "tags": []
   },
   "source": [
    "### tuple"
   ]
  },
  {
   "cell_type": "markdown",
   "metadata": {},
   "source": [
    "- `tuple` is generally faster than lists for operations like iteration because they are `immutable`, which allows Python to optimize memory usage and performance.\n",
    "- `tuple` is more memory-efficient because of its immutability.\n",
    "- `tuple` is referred for collections of items that should not change (such as `coordinates`, fixed configurations, or multiple return values from a function). Using a tuple signals to other developers that the data should be treated as constant."
   ]
  },
  {
   "cell_type": "code",
   "execution_count": null,
   "metadata": {},
   "outputs": [],
   "source": [
    "print([item for item in dir(tuple) if not item.startswith(\"_\")])"
   ]
  },
  {
   "cell_type": "markdown",
   "metadata": {},
   "source": [
    "-   `count(self, value, /)` --> Return number of occurrences of value.\n",
    "-   `index(self, value, start=0, stop=9223372036854775807, /)` --> Return first index of value."
   ]
  },
  {
   "cell_type": "code",
   "execution_count": null,
   "metadata": {
    "hidden": true
   },
   "outputs": [],
   "source": [
    "tpl1 = (1,2,3); tpl2 = (1,2,3)"
   ]
  },
  {
   "cell_type": "code",
   "execution_count": null,
   "metadata": {},
   "outputs": [],
   "source": [
    "tpl1 + tpl2\n",
    "# tpl1 - tpl2 # ERROR !"
   ]
  },
  {
   "cell_type": "code",
   "execution_count": null,
   "metadata": {
    "hidden": true
   },
   "outputs": [],
   "source": [
    "print(tpl1 == tpl2, tpl1 is tpl2, sep='\\n')"
   ]
  },
  {
   "cell_type": "code",
   "execution_count": null,
   "metadata": {
    "hidden": true
   },
   "outputs": [],
   "source": [
    "tpl1 + tpl2"
   ]
  },
  {
   "cell_type": "code",
   "execution_count": null,
   "metadata": {
    "hidden": true
   },
   "outputs": [],
   "source": [
    "# tpl1 - tpl2 # ERRORS!"
   ]
  },
  {
   "cell_type": "code",
   "execution_count": null,
   "metadata": {
    "hidden": true
   },
   "outputs": [],
   "source": [
    "T1 = ([1,2], 1); T2 = (5,6,7); T3 = T1+T2"
   ]
  },
  {
   "cell_type": "code",
   "execution_count": null,
   "metadata": {
    "hidden": true
   },
   "outputs": [],
   "source": [
    "T1[0][0] = -1\n",
    "T3"
   ]
  },
  {
   "cell_type": "code",
   "execution_count": null,
   "metadata": {
    "hidden": true
   },
   "outputs": [],
   "source": [
    "# Define a tuple\n",
    "t = (1, 2, 3, 4, 3, 2, 3)\n",
    "\n",
    "# Using the count method\n",
    "count_3 = t.count(3)\n",
    "print(f\"The value 3 appears {count_3} times in the tuple.\")\n",
    "\n",
    "# Using the index method\n",
    "index_3 = t.index(3)\n",
    "print(f\"The first occurrence of the value 3 is at index {index_3}.\")\n",
    "\n",
    "# Using the index method with start argument\n",
    "index_3_from_3 = t.index(3, 3)\n",
    "print(f\"The first occurrence of the value 3, starting from index 3, is at index {index_3_from_3}.\")\n",
    "\n",
    "# Using the index method with start and stop arguments\n",
    "index_3_from_3_to_6 = t.index(3, 3, 6)\n",
    "print(f\"The first occurrence of the value 3, starting from index 3 and stopping at index 6, is at index {index_3_from_3_to_6}.\")"
   ]
  },
  {
   "cell_type": "code",
   "execution_count": null,
   "metadata": {},
   "outputs": [],
   "source": [
    "l = [('abc', 2), ('abc', 2), ('abc', 3)]\n",
    "s = set(l)\n",
    "print(s)"
   ]
  },
  {
   "cell_type": "markdown",
   "metadata": {
    "jp-MarkdownHeadingCollapsed": true,
    "tags": []
   },
   "source": [
    "### string:"
   ]
  },
  {
   "cell_type": "markdown",
   "metadata": {
    "heading_collapsed": true
   },
   "source": [
    "#### <b style='color:tomato'>String Formating</b>"
   ]
  },
  {
   "cell_type": "markdown",
   "metadata": {
    "hidden": true
   },
   "source": [
    "- **Tips and Tricks for String and Character**"
   ]
  },
  {
   "cell_type": "markdown",
   "metadata": {
    "hidden": true
   },
   "source": [
    "<b style=\"color:magenta\">String Interpolation</b>:\n",
    "-    String interpolation is the process of embedding variables or expressions directly within a string literal to create a new string.\n",
    "-    It allows you to include variables or expressions within the string template, surrounded by curly braces `{}`.\n",
    "-    In Python, string interpolation is primarily achieved using f-strings (formatted string literals), introduced in Python 3.6.\n",
    "\n",
    "```python\n",
    "name, age = \"Alice\", 30\n",
    "greeting = f\"Hello, {name}! You are {age} years old.\"\n",
    "```\n",
    "\n",
    "<b style=\"color:magenta\">String Formation</b>:\n",
    "\n",
    "-    String formatting is the process of inserting values into a string template to create a new string with dynamic content.\n",
    "-    It involves using placeholder types within the string template, which are then replaced by corresponding values provided as arguments.\n",
    "-    In Python, string formatting can be done using various techniques, including `%` operator formatting and the `str.format()` method.\n",
    "\n",
    "```python\n",
    "name, age = \"Alice\", 30\n",
    "greeting = \"Hello, %s! You are %d years old.\" % (name, age)\n",
    "greeting2 = \"Hello, {}! You are {} years old.\".format(name, age)\n",
    "```"
   ]
  },
  {
   "cell_type": "markdown",
   "metadata": {
    "heading_collapsed": true,
    "hidden": true
   },
   "source": [
    "##### String Formatting with `%` Operator"
   ]
  },
  {
   "cell_type": "markdown",
   "metadata": {
    "hidden": true,
    "jp-MarkdownHeadingCollapsed": true
   },
   "source": [
    "The `%` operator allows you to format strings using placeholders. The basic syntax involves using `%` along with a format specifier and a tuple or dictionary of values.\n",
    "\n",
    "```python\n",
    "name = \"John\"\n",
    "age, height = 25, 5.7\n",
    "formatted_string = \"My name is %s, and I am %d years old and my height is %.2f\" % (name, age, height)\n",
    "print(formatted_string)\n",
    "```\n",
    "\n",
    "In this example, `%s` and `%d` are placeholders for `string` and `integer` values, respectively. The values are provided in a tuple (name, age) after the `%` operator.\n",
    "\n",
    "<b style=\"color:magenta\">Placeholder Types</b>: The `%` operator supports different placeholder types for formatting various types of values. Some common placeholder types include:\n",
    "\n",
    "- Basic Placeholder Types:\n",
    "\n",
    "    - `%s`: String placeholder\n",
    "    - `%d`: Integer placeholder\n",
    "    - `%f`: Floating-point placeholder\n",
    "    - `%x`, `%X`: Hexadecimal placeholder (lowercase and uppercase)\n",
    "\n",
    "- Padding and Alignment Placeholder:\n",
    "\n",
    "    - `%-10s`: Left-align string in a 10-character-wide field\n",
    "    - `%10s`: Right-align string in a 10-character-wide field\n",
    "    - `%0`.2f: Format floating-point number with 2 decimal places\n",
    "\n",
    "- DateTime Placeholder:\n",
    "\n",
    "    - `%Y`: Year with century as a decimal number (e.g., 2022)\n",
    "    - `%m`: Month as a zero-padded decimal number (e.g., 01 to 12)\n",
    "    - `%d`: Day of the month as a zero-padded decimal number (e.g., 01 to 31)\n",
    "    - `%H`: Hour (24-hour clock) as a zero-padded decimal number (e.g., 00 to 23)\n",
    "    - `%M`: Minute as a zero-padded decimal number (e.g., 00 to 59)\n",
    "    - `%S`: Second as a zero-padded decimal number (e.g., 00 to 59)\n",
    "    - `%f`: Microsecond as a decimal number, zero-padded on the left (e.g., 000000 to 999999)\n",
    "    - `%a`: Abbreviated weekday name (e.g., Mon, Tue, etc.)\n",
    "    - `%A`: Full weekday name (e.g., Monday, Tuesday, etc.)\n",
    "    - `%b`: Abbreviated month name (e.g., Jan, Feb, etc.)\n",
    "    - `%B`: Full month name (e.g., January, February, etc.)\n",
    "    - `%c`: Locale's appropriate date and time representation (e.g., Mon Sep 30 07:06:05 2019)"
   ]
  },
  {
   "cell_type": "markdown",
   "metadata": {
    "hidden": true
   },
   "source": [
    "The `%` operator is a classic method for string formatting in Python. It uses C-style string formatting and supports various format specifiers."
   ]
  },
  {
   "cell_type": "markdown",
   "metadata": {
    "hidden": true
   },
   "source": [
    "-   <b>Basic Usage with Single Value</b>: Format a single value using `%` followed by a format specifier."
   ]
  },
  {
   "cell_type": "code",
   "execution_count": null,
   "metadata": {
    "hidden": true
   },
   "outputs": [],
   "source": [
    "name = \"Alice\"\n",
    "formatted_string = \"Hello, %s!\" % name\n",
    "print(formatted_string)  # Output: Hello, Alice!"
   ]
  },
  {
   "cell_type": "markdown",
   "metadata": {
    "hidden": true
   },
   "source": [
    "-   <b>Formatting Multiple Values</b>: Format multiple values by passing a tuple of values."
   ]
  },
  {
   "cell_type": "code",
   "execution_count": null,
   "metadata": {},
   "outputs": [],
   "source": [
    "\"Name: %s, Age: %d\" % (\"joe\", 40)"
   ]
  },
  {
   "cell_type": "code",
   "execution_count": null,
   "metadata": {
    "hidden": true
   },
   "outputs": [],
   "source": [
    "name = \"Bob\"\n",
    "age = 25\n",
    "formatted_string = \"Name: %s, Age: %d\" % (name, age)\n",
    "print(formatted_string)  # Output: Name: Bob, Age: 25"
   ]
  },
  {
   "cell_type": "markdown",
   "metadata": {
    "hidden": true
   },
   "source": [
    "-   <b>Formatting Integers</b>: Use `%d` or `%i` for integers."
   ]
  },
  {
   "cell_type": "code",
   "execution_count": null,
   "metadata": {
    "hidden": true
   },
   "outputs": [],
   "source": [
    "number = 42\n",
    "formatted_string = \"The answer is %d\" % number\n",
    "print(formatted_string)  # Output: The answer is 42"
   ]
  },
  {
   "cell_type": "markdown",
   "metadata": {
    "hidden": true
   },
   "source": [
    "-   <b>Formatting Floating Point Numbers</b>: Use `%f` for floating-point numbers. You can specify precision."
   ]
  },
  {
   "cell_type": "code",
   "execution_count": null,
   "metadata": {
    "hidden": true
   },
   "outputs": [],
   "source": [
    "pi = 3.14159\n",
    "formatted_string = \"Pi is approximately %.2f\" % pi\n",
    "print(formatted_string)  # Output: Pi is approximately 3.14"
   ]
  },
  {
   "cell_type": "markdown",
   "metadata": {
    "hidden": true
   },
   "source": [
    "-   <b>Formatting with Width and Precision</b>: You can specify width and precision for numbers."
   ]
  },
  {
   "cell_type": "code",
   "execution_count": null,
   "metadata": {
    "hidden": true
   },
   "outputs": [],
   "source": [
    "# The minimum width of the entire number (including the decimal point and fractional part). If the number is shorter, it is padded with spaces on the left.\n",
    "number = .456\n",
    "formatted_string = \"Number: %10.2f\" % number\n",
    "print(formatted_string)  # Output: Number:     123.46"
   ]
  },
  {
   "cell_type": "markdown",
   "metadata": {
    "hidden": true
   },
   "source": [
    "-   <b>Formatting Strings</b>: Use `%s` for strings."
   ]
  },
  {
   "cell_type": "code",
   "execution_count": null,
   "metadata": {
    "hidden": true
   },
   "outputs": [],
   "source": [
    "fruit = \"apple\"\n",
    "formatted_string = \"I have an %s\" % fruit\n",
    "print(formatted_string)  # Output: I have an apple"
   ]
  },
  {
   "cell_type": "markdown",
   "metadata": {
    "hidden": true
   },
   "source": [
    "-   <b>Formatting Characters</b>: Use `%c` to format a character."
   ]
  },
  {
   "cell_type": "code",
   "execution_count": null,
   "metadata": {
    "hidden": true
   },
   "outputs": [],
   "source": [
    "letter = 65\n",
    "formatted_string = \"The letter is %c\" % letter\n",
    "print(formatted_string)  # Output: The letter is A"
   ]
  },
  {
   "cell_type": "markdown",
   "metadata": {
    "hidden": true
   },
   "source": [
    "-   <b>Formatting Hexadecimal Numbers</b>: Use `%x` for lowercase hexadecimal and `%X` for uppercase."
   ]
  },
  {
   "cell_type": "code",
   "execution_count": null,
   "metadata": {
    "hidden": true
   },
   "outputs": [],
   "source": [
    "number = 255\n",
    "formatted_string = \"Hex: %x\" % number\n",
    "print(formatted_string)  # Output: Hex: ff\n",
    "\n",
    "formatted_string = \"Hex: %X\" % number\n",
    "print(formatted_string)  # Output: Hex: FF"
   ]
  },
  {
   "cell_type": "markdown",
   "metadata": {
    "hidden": true
   },
   "source": [
    "-   <b>Formatting Octal Numbers</b>: Use `%o` for octal numbers."
   ]
  },
  {
   "cell_type": "code",
   "execution_count": null,
   "metadata": {
    "hidden": true
   },
   "outputs": [],
   "source": [
    "number = 255\n",
    "formatted_string = \"Octal: %o\" % number\n",
    "print(formatted_string)  # Output: Octal: 377"
   ]
  },
  {
   "cell_type": "markdown",
   "metadata": {
    "hidden": true
   },
   "source": [
    "-   <b>Formatting with Padding</b>: Use `0` for zero-padding."
   ]
  },
  {
   "cell_type": "code",
   "execution_count": null,
   "metadata": {
    "hidden": true
   },
   "outputs": [],
   "source": [
    "number = 42\n",
    "formatted_string = \"Number: %05d\" % number\n",
    "print(formatted_string)  # Output: Number: 00042"
   ]
  },
  {
   "cell_type": "markdown",
   "metadata": {
    "hidden": true
   },
   "source": [
    "-   <b>Formatting with Alignment</b>: Use negative width for left alignment."
   ]
  },
  {
   "cell_type": "code",
   "execution_count": null,
   "metadata": {
    "hidden": true
   },
   "outputs": [],
   "source": [
    "number = 42\n",
    "formatted_string = \"Number: %-5d!\" % number\n",
    "print(formatted_string)  # Output: Number: 42   !"
   ]
  },
  {
   "cell_type": "markdown",
   "metadata": {
    "hidden": true
   },
   "source": [
    "-   <b>Formatting Percentage</b>: Use `%%` to include a literal `%` in the string."
   ]
  },
  {
   "cell_type": "code",
   "execution_count": null,
   "metadata": {
    "hidden": true
   },
   "outputs": [],
   "source": [
    "percentage = 95\n",
    "formatted_string = \"Progress: %d%%\" % percentage\n",
    "print(formatted_string)  # Output: Progress: 95%"
   ]
  },
  {
   "cell_type": "markdown",
   "metadata": {
    "hidden": true
   },
   "source": [
    "-   <b>Formatting Complex Expressions</b>: You can use complex expressions inside the format string."
   ]
  },
  {
   "cell_type": "code",
   "execution_count": null,
   "metadata": {
    "hidden": true
   },
   "outputs": [],
   "source": [
    "formatted_string = \"Result: %d\" % (10 * 2)\n",
    "print(formatted_string)  # Output: Result: 20"
   ]
  },
  {
   "cell_type": "markdown",
   "metadata": {
    "hidden": true
   },
   "source": [
    "-   <b>Using Variables in Format Specifiers</b>: You can dynamically set width and precision using variables."
   ]
  },
  {
   "cell_type": "code",
   "execution_count": null,
   "metadata": {
    "hidden": true
   },
   "outputs": [],
   "source": [
    "width = 10\n",
    "precision = 4\n",
    "number = 3.141592653589793\n",
    "formatted_string = \"Pi: %*.*f\" % (width, precision, number)\n",
    "print(formatted_string)  # Output: Pi:     3.1416"
   ]
  },
  {
   "cell_type": "markdown",
   "metadata": {
    "heading_collapsed": true,
    "hidden": true,
    "jp-MarkdownHeadingCollapsed": true
   },
   "source": [
    "##### String Formatting with `str.format()` Method"
   ]
  },
  {
   "cell_type": "markdown",
   "metadata": {
    "hidden": true
   },
   "source": [
    "The `str.format()` method provides a more flexible and readable way to format strings. It uses curly braces `{}` as placeholders."
   ]
  },
  {
   "cell_type": "code",
   "execution_count": null,
   "metadata": {
    "hidden": true
   },
   "outputs": [],
   "source": [
    "name = \"John\"\n",
    "age = 25\n",
    "formatted_string = \"My name is {}, and I am {} years old.\".format(name, age)\n",
    "print(formatted_string)\n"
   ]
  },
  {
   "cell_type": "markdown",
   "metadata": {
    "heading_collapsed": true,
    "hidden": true,
    "jp-MarkdownHeadingCollapsed": true
   },
   "source": [
    "##### `f-strings` (String interpolation)"
   ]
  },
  {
   "cell_type": "markdown",
   "metadata": {
    "hidden": true
   },
   "source": [
    "Introduced in Python 3.6, f-strings provide a concise and readable way to perform string formatting. They are prefixed with the letter 'f', and expressions inside curly braces {} are evaluated at runtime."
   ]
  },
  {
   "cell_type": "code",
   "execution_count": null,
   "metadata": {
    "hidden": true
   },
   "outputs": [],
   "source": [
    "name, age = \"Alice\", 30\n",
    "formatted_string = f\"My name is {name}, and I am {age} years old.\"\n",
    "print(formatted_string)"
   ]
  },
  {
   "cell_type": "markdown",
   "metadata": {
    "heading_collapsed": true,
    "hidden": true,
    "jp-MarkdownHeadingCollapsed": true
   },
   "source": [
    "##### Template Strings with `string.Template`"
   ]
  },
  {
   "cell_type": "code",
   "execution_count": null,
   "metadata": {},
   "outputs": [],
   "source": [
    "import string\n",
    "from string import Template\n",
    "# dir(Template)"
   ]
  },
  {
   "cell_type": "markdown",
   "metadata": {
    "hidden": true
   },
   "source": [
    "The string.Template class provides a simple and safe way to perform string substitution using placeholders."
   ]
  },
  {
   "cell_type": "code",
   "execution_count": null,
   "metadata": {
    "hidden": true
   },
   "outputs": [],
   "source": [
    "name, age = \"Alice\", 30\n",
    "template = Template(\"My name is $name, and I am $age years old.\")\n",
    "formatted_string = template.substitute(name=name, age=age)\n",
    "print(formatted_string)"
   ]
  },
  {
   "cell_type": "markdown",
   "metadata": {
    "hidden": true
   },
   "source": [
    "`string.ascii_letters`\n",
    "`string.ascii_lowercase`\n",
    "`string.ascii_uppercase`\n",
    "`string.capwords`\n",
    "`string.digits`\n",
    "`string.hexdigits`\n",
    "`string.octdigits`\n",
    "`string.printable`\n",
    "`string.punctuation`\n",
    "`string.whitespace`"
   ]
  },
  {
   "cell_type": "code",
   "execution_count": null,
   "metadata": {
    "code_folding": [],
    "hidden": true,
    "scrolled": true,
    "tags": []
   },
   "outputs": [],
   "source": [
    "print(\n",
    "    f\"{red('string.ascii_letters')}: {string.ascii_letters}\",\n",
    "    f\"{red('string.ascii_lowercase')}: {string.ascii_lowercase}\",\n",
    "    f\"{red('string.ascii_uppercase')}: {string.ascii_uppercase}\",\n",
    "    f\"{red('string.digits')}: {string.digits}\",\n",
    "    f\"{red('string.hexdigits')}: {string.hexdigits}\",\n",
    "    f\"{red('string.octdigits')}: {string.octdigits}\",\n",
    "    f\"{red('string.whitespace')}: {list(string.whitespace)}\",\n",
    "    f\"{red('string.punctuation')}: {list(string.punctuation)}\",\n",
    "    sep='\\n'\n",
    ")"
   ]
  },
  {
   "cell_type": "code",
   "execution_count": null,
   "metadata": {
    "hidden": true,
    "tags": []
   },
   "outputs": [],
   "source": [
    "leters = string.ascii_letters\n",
    "lowercase = string.ascii_lowercase\n",
    "uppercase = string.ascii_uppercase\n",
    "digits = string.digits"
   ]
  },
  {
   "cell_type": "code",
   "execution_count": null,
   "metadata": {
    "hidden": true,
    "tags": []
   },
   "outputs": [],
   "source": [
    "bytes_str = b\"a string\" # bytes object"
   ]
  },
  {
   "cell_type": "code",
   "execution_count": null,
   "metadata": {
    "hidden": true,
    "scrolled": true,
    "tags": []
   },
   "outputs": [],
   "source": [
    "regular_str1 = bytes_str.decode('ascii'); regular_str1"
   ]
  },
  {
   "cell_type": "code",
   "execution_count": null,
   "metadata": {
    "hidden": true,
    "tags": []
   },
   "outputs": [],
   "source": [
    "regular_str2 = bytes_str.decode('utf-8'); regular_str2"
   ]
  },
  {
   "cell_type": "code",
   "execution_count": null,
   "metadata": {
    "hidden": true
   },
   "outputs": [],
   "source": [
    "f_str = f\"this is called f-string: \\n {string.whitespace}\"; f_str"
   ]
  },
  {
   "cell_type": "code",
   "execution_count": null,
   "metadata": {
    "hidden": true
   },
   "outputs": [],
   "source": [
    "print(f_str)"
   ]
  },
  {
   "cell_type": "code",
   "execution_count": null,
   "metadata": {
    "hidden": true
   },
   "outputs": [],
   "source": [
    "bin(1)"
   ]
  },
  {
   "cell_type": "code",
   "execution_count": null,
   "metadata": {
    "hidden": true
   },
   "outputs": [],
   "source": [
    "raw_str = r\"this is called raw_str \\n {string.whitespace}\"; raw_str"
   ]
  },
  {
   "cell_type": "code",
   "execution_count": null,
   "metadata": {
    "hidden": true
   },
   "outputs": [],
   "source": [
    "print(raw_str)"
   ]
  },
  {
   "cell_type": "markdown",
   "metadata": {
    "heading_collapsed": true,
    "jp-MarkdownHeadingCollapsed": true
   },
   "source": [
    "#### <b style='color:tomato'>str</b>"
   ]
  },
  {
   "cell_type": "markdown",
   "metadata": {
    "hidden": true
   },
   "source": [
    "-   `capitalize()`\n",
    "-   `casefold()`\n",
    "-   `center(width, fillchar=' ')`\n",
    "-   `count(...)`\n",
    "-   `encode(encoding='utf-8', errors='strict')`\n",
    "-   <b style=\"color:#C71585\">endswith(...)</b>\n",
    "-   `expandtabs(tabsize=8)`\n",
    "-   <b style=\"color:#C71585\">find(...)</b>\n",
    "-   <b style=\"color:#C71585\">format(...)</b>\n",
    "-   `format_map(...)`\n",
    "-   `index(...)`\n",
    "-   <b style=\"color:#C71585\">isalnum()</b>\n",
    "-   <b style=\"color:#C71585\">isalpha()</b>\n",
    "-   `isascii()`\n",
    "-   `isdecimal()`\n",
    "-   <b style=\"color:#C71585\">isdigit()</b>\n",
    "-   `isidentifier()`\n",
    "-   `islower()`\n",
    "-   `isnumeric()`\n",
    "-   `isprintable()`\n",
    "-   <b style=\"color:#C71585\">isspace()</b>\n",
    "-   `istitle()`\n",
    "-   `isupper()`\n",
    "-   <b style=\"color:#C71585\">join(iterable)</b>\n",
    "-   `ljust(width, fillchar=' ')`\n",
    "-   `lower()`\n",
    "-   <b style=\"color:#C71585\">lstrip(chars=None)</b>\n",
    "-   `partition(sep)`\n",
    "-   `removeprefix(prefix)`\n",
    "-   `removesuffix(suffix)`\n",
    "-   `replace(old, new, count=-1)`\n",
    "-   <b style=\"color:#C71585\">rfind(...)</b>\n",
    "-   <b style=\"color:#C71585\">rindex(...)</b>\n",
    "-   `rjust(width, fillchar=' ')`\n",
    "-   `rpartition(sep)`\n",
    "-   <b style=\"color:#C71585\">rsplit(sep=None, maxsplit=-1)</b>\n",
    "-   <b style=\"color:#C71585\">rstrip(chars=None)</b>\n",
    "-   <b style=\"color:#C71585\">split(sep=None, maxsplit=-1)</b>\n",
    "-   `splitlines(keepends=False)`\n",
    "-   <b style=\"color:#C71585\">startswith(...)</b>\n",
    "-   <b style=\"color:#C71585\">strip(chars=None)</b>\n",
    "-   `swapcase()`\n",
    "-   `title()`\n",
    "-   `translate(table)`\n",
    "-   `upper()`\n",
    "-   `zfill(width)`"
   ]
  },
  {
   "cell_type": "markdown",
   "metadata": {
    "hidden": true
   },
   "source": [
    "- The `isdigit()` method returns `True` if all characters in the string are digits (0-9) only, and False otherwise.\n",
    "- The `isnumeric()` method returns `True` if all characters ,including digits from various scripts (e.g., Arabic, Roman), numeric fractions, superscripts, subscripts, and other Unicode characters categorized as numeric, in the string are numeric, and False otherwise."
   ]
  },
  {
   "cell_type": "code",
   "execution_count": null,
   "metadata": {
    "hidden": true
   },
   "outputs": [],
   "source": [
    "\"½\".isdigit(), \"½\".isnumeric(), ord(\"½\")"
   ]
  },
  {
   "cell_type": "markdown",
   "metadata": {
    "hidden": true
   },
   "source": [
    "-   `capitalize()`: Converts the first character of the string to uppercase and the rest to lowercase."
   ]
  },
  {
   "cell_type": "code",
   "execution_count": null,
   "metadata": {
    "hidden": true
   },
   "outputs": [],
   "source": [
    "text = \"hello world\"\n",
    "capitalized_text = text.capitalize()\n",
    "print(capitalized_text)  # Output: \"Hello world\""
   ]
  },
  {
   "cell_type": "markdown",
   "metadata": {
    "hidden": true
   },
   "source": [
    "-   `casefold()`: Converts the string to lowercase, using a more aggressive approach for case-insensitive comparisons."
   ]
  },
  {
   "cell_type": "code",
   "execution_count": null,
   "metadata": {
    "hidden": true
   },
   "outputs": [],
   "source": [
    "text = \"Hello WORLD\"\n",
    "casefolded_text = text.casefold()\n",
    "print(casefolded_text)  # Output: \"hello world\""
   ]
  },
  {
   "cell_type": "markdown",
   "metadata": {
    "hidden": true
   },
   "source": [
    "-   `center(width, fillchar=' ')`: Returns a new string centered in a string of length `width`. `fillchar` is optional and defaults to space."
   ]
  },
  {
   "cell_type": "code",
   "execution_count": null,
   "metadata": {
    "hidden": true
   },
   "outputs": [],
   "source": [
    "text = \"hello\"\n",
    "centered_text = text.center(11, '*')\n",
    "print(centered_text)  # Output: \"**hello***\""
   ]
  },
  {
   "cell_type": "markdown",
   "metadata": {
    "hidden": true
   },
   "source": [
    "-   `count(substring, start=0, end=None)`: Returns the number of non-overlapping occurrences of `substring` in the string. Optional arguments `start` and `end` are the indices to start and end the search."
   ]
  },
  {
   "cell_type": "code",
   "execution_count": null,
   "metadata": {
    "hidden": true
   },
   "outputs": [],
   "source": [
    "text = \"hello hello hello\"\n",
    "count_hello = text.count(\"hello\")\n",
    "print(count_hello)  # Output: 3"
   ]
  },
  {
   "cell_type": "markdown",
   "metadata": {
    "hidden": true
   },
   "source": [
    "-   `encode(encoding='utf-8', errors='strict')`: Encodes the string using the specified `encoding`. The default is 'utf-8'. `errors` specifies the error handling scheme."
   ]
  },
  {
   "cell_type": "code",
   "execution_count": null,
   "metadata": {
    "hidden": true
   },
   "outputs": [],
   "source": [
    "text = \"hello\"\n",
    "encoded_text = text.encode('utf-8')\n",
    "print(encoded_text)  # Output: b'hello'"
   ]
  },
  {
   "cell_type": "markdown",
   "metadata": {
    "hidden": true
   },
   "source": [
    "-   `endswith(suffix, start=0, end=None)`: Returns `True` if the string ends with the specified `suffix`. Optional `start` and `end` arguments can specify a range."
   ]
  },
  {
   "cell_type": "code",
   "execution_count": null,
   "metadata": {
    "hidden": true
   },
   "outputs": [],
   "source": [
    "text = \"hello world\"\n",
    "does_end_with = text.endswith(\"world\")\n",
    "print(does_end_with)  # Output: True"
   ]
  },
  {
   "cell_type": "markdown",
   "metadata": {
    "hidden": true
   },
   "source": [
    "-   `expandtabs(tabsize=8)`: Replaces all tab characters (`\\t`) in the string with spaces. The default number of spaces per tab is 8."
   ]
  },
  {
   "cell_type": "code",
   "execution_count": null,
   "metadata": {
    "hidden": true
   },
   "outputs": [],
   "source": [
    "text = \"hello\\tworld\"\n",
    "expanded_text = text.expandtabs(20)\n",
    "print(expanded_text)  # Output: \"hello   world\""
   ]
  },
  {
   "cell_type": "code",
   "execution_count": null,
   "metadata": {
    "hidden": true
   },
   "outputs": [],
   "source": [
    "text = \"hello\\nworld\"\n",
    "expanded_text = text.expandtabs()\n",
    "print(expanded_text)  # Output: \"hello   world\""
   ]
  },
  {
   "cell_type": "markdown",
   "metadata": {
    "hidden": true
   },
   "source": [
    "-   `find(substring, start=0, end=None)`: Returns the lowest index of the substring if found in the string. Returns -1 if not found. Optional `start` and `end` can specify a range."
   ]
  },
  {
   "cell_type": "code",
   "execution_count": null,
   "metadata": {
    "hidden": true
   },
   "outputs": [],
   "source": [
    "text = \"hello world\"\n",
    "index_of_world = text.find(\"world\")\n",
    "print(index_of_world)  # Output: 6"
   ]
  },
  {
   "cell_type": "markdown",
   "metadata": {
    "hidden": true
   },
   "source": [
    "-   `format(*args, **kwargs)`: Formats the string using the format method."
   ]
  },
  {
   "cell_type": "code",
   "execution_count": null,
   "metadata": {
    "hidden": true
   },
   "outputs": [],
   "source": [
    "text = \"Hello, {}!\"\n",
    "formatted_text = text.format(\"Alice\")\n",
    "print(formatted_text)  # Output: \"Hello, Alice!\""
   ]
  },
  {
   "cell_type": "markdown",
   "metadata": {
    "hidden": true
   },
   "source": [
    "-   `format_map(mapping)`: Similar to `format`, but takes a single dictionary argument."
   ]
  },
  {
   "cell_type": "code",
   "execution_count": null,
   "metadata": {
    "hidden": true
   },
   "outputs": [],
   "source": [
    "text = \"Hello, {name}!\"\n",
    "formatted_text = text.format_map({'name': 'Bob'})\n",
    "print(formatted_text)  # Output: \"Hello, Bob!\""
   ]
  },
  {
   "cell_type": "markdown",
   "metadata": {
    "hidden": true
   },
   "source": [
    "-   `index(substring, start=0, end=None)`: Similar to `find`, but raises a `ValueError` if the substring is not found."
   ]
  },
  {
   "cell_type": "code",
   "execution_count": null,
   "metadata": {
    "hidden": true
   },
   "outputs": [],
   "source": [
    "text = \"hello world\"\n",
    "index_of_world = text.index(\"world\")\n",
    "print(index_of_world)  # Output: 6"
   ]
  },
  {
   "cell_type": "markdown",
   "metadata": {
    "hidden": true
   },
   "source": [
    "-   `isalnum()`: Returns `True` if all characters in the string are alphanumeric."
   ]
  },
  {
   "cell_type": "code",
   "execution_count": null,
   "metadata": {
    "hidden": true
   },
   "outputs": [],
   "source": [
    "text = \"hello123\"\n",
    "is_alnum = text.isalnum()\n",
    "print(is_alnum)  # Output: True"
   ]
  },
  {
   "cell_type": "markdown",
   "metadata": {
    "hidden": true
   },
   "source": [
    "-   `isalpha()`: Returns `True` if all characters in the string are alphabetic."
   ]
  },
  {
   "cell_type": "code",
   "execution_count": null,
   "metadata": {
    "hidden": true
   },
   "outputs": [],
   "source": [
    "text = \"hello\"\n",
    "is_alpha = text.isalpha()\n",
    "print(is_alpha)  # Output: True"
   ]
  },
  {
   "cell_type": "markdown",
   "metadata": {
    "hidden": true
   },
   "source": [
    "-   `isascii()`: Returns `True` if all characters in the string are ASCII characters."
   ]
  },
  {
   "cell_type": "code",
   "execution_count": null,
   "metadata": {
    "hidden": true
   },
   "outputs": [],
   "source": [
    "text = \"hello123\"\n",
    "is_ascii = text.isascii()\n",
    "print(is_ascii)  # Output: True"
   ]
  },
  {
   "cell_type": "markdown",
   "metadata": {
    "hidden": true
   },
   "source": [
    "-   `isdecimal()`: Returns `True` if all characters in the string are decimal characters."
   ]
  },
  {
   "cell_type": "code",
   "execution_count": null,
   "metadata": {
    "hidden": true
   },
   "outputs": [],
   "source": [
    "text = \"12300\"\n",
    "is_decimal = text.isdecimal()\n",
    "print(is_decimal)  # Output: True"
   ]
  },
  {
   "cell_type": "markdown",
   "metadata": {
    "hidden": true
   },
   "source": [
    "-   `isdigit()`: Returns `True` if all characters in the string are digits."
   ]
  },
  {
   "cell_type": "code",
   "execution_count": null,
   "metadata": {
    "hidden": true
   },
   "outputs": [],
   "source": [
    "text = \"123\"\n",
    "is_digit = text.isdigit()\n",
    "print(is_digit)  # Output: True"
   ]
  },
  {
   "cell_type": "markdown",
   "metadata": {
    "hidden": true
   },
   "source": [
    "-   `isidentifier()`: Returns `True` if the string is a valid identifier according to Python's rules."
   ]
  },
  {
   "cell_type": "code",
   "execution_count": null,
   "metadata": {
    "hidden": true
   },
   "outputs": [],
   "source": [
    "text = \"variable1\"\n",
    "is_identifier = text.isidentifier()\n",
    "print(is_identifier)  # Output: True"
   ]
  },
  {
   "cell_type": "markdown",
   "metadata": {
    "hidden": true
   },
   "source": [
    "-   `islower()`: Returns `True` if all characters in the string are lowercase."
   ]
  },
  {
   "cell_type": "code",
   "execution_count": null,
   "metadata": {
    "hidden": true
   },
   "outputs": [],
   "source": [
    "text = \"hello\"\n",
    "is_lower = text.islower()\n",
    "print(is_lower)  # Output: True"
   ]
  },
  {
   "cell_type": "markdown",
   "metadata": {
    "hidden": true
   },
   "source": [
    "-   `isnumeric()`: Returns `True` if all characters in the string are numeric characters."
   ]
  },
  {
   "cell_type": "code",
   "execution_count": null,
   "metadata": {
    "hidden": true
   },
   "outputs": [],
   "source": [
    "text = \"123\"\n",
    "is_numeric = text.isnumeric()\n",
    "print(is_numeric)  # Output: True"
   ]
  },
  {
   "cell_type": "markdown",
   "metadata": {
    "hidden": true
   },
   "source": [
    "-   `isprintable()`: Returns `True` if all characters in the string are printable."
   ]
  },
  {
   "cell_type": "code",
   "execution_count": null,
   "metadata": {
    "hidden": true
   },
   "outputs": [],
   "source": [
    "text = \"hello world\"\n",
    "is_printable = text.isprintable()\n",
    "print(is_printable)  # Output: True"
   ]
  },
  {
   "cell_type": "markdown",
   "metadata": {
    "hidden": true
   },
   "source": [
    "-   `isspace()`: Returns `True` if all characters in the string are whitespace."
   ]
  },
  {
   "cell_type": "code",
   "execution_count": null,
   "metadata": {
    "hidden": true
   },
   "outputs": [],
   "source": [
    "text = \"   \"\n",
    "is_space = text.isspace()\n",
    "print(is_space)  # Output: True"
   ]
  },
  {
   "cell_type": "markdown",
   "metadata": {
    "hidden": true
   },
   "source": [
    "-   `istitle()`: Returns `True` if the string is in title case."
   ]
  },
  {
   "cell_type": "code",
   "execution_count": null,
   "metadata": {
    "hidden": true
   },
   "outputs": [],
   "source": [
    "text = \"Hello World\"\n",
    "is_title = text.istitle()\n",
    "print(is_title)  # Output: True"
   ]
  },
  {
   "cell_type": "markdown",
   "metadata": {
    "hidden": true
   },
   "source": [
    "-   `isupper()`: Returns `True` if all characters in the string are uppercase."
   ]
  },
  {
   "cell_type": "code",
   "execution_count": null,
   "metadata": {
    "hidden": true
   },
   "outputs": [],
   "source": [
    "text = \"HELLO\"\n",
    "is_upper = text.isupper()\n",
    "print(is_upper)  # Output: True"
   ]
  },
  {
   "cell_type": "markdown",
   "metadata": {
    "hidden": true
   },
   "source": [
    "-   `join(iterable)`: Concatenates the string representations of elements in `iterable` with the string as a separator."
   ]
  },
  {
   "cell_type": "code",
   "execution_count": null,
   "metadata": {
    "hidden": true
   },
   "outputs": [],
   "source": [
    "words = [\"hello\", \"world\"]\n",
    "joined_text = \" \".join(words)\n",
    "print(joined_text)  # Output: \"hello world\""
   ]
  },
  {
   "cell_type": "markdown",
   "metadata": {
    "hidden": true
   },
   "source": [
    "-   `ljust(width, fillchar=' ')`: Left-justifies the string in a field of the specified width. Optional `fillchar` can specify a fill character."
   ]
  },
  {
   "cell_type": "code",
   "execution_count": null,
   "metadata": {
    "hidden": true
   },
   "outputs": [],
   "source": [
    "text = \"hello\"\n",
    "left_justified = text.ljust(10, '*')\n",
    "print(left_justified)  # Output: \"hello*****\""
   ]
  },
  {
   "cell_type": "markdown",
   "metadata": {
    "hidden": true
   },
   "source": [
    "-   `lower()`: Converts all characters in the string to lowercase."
   ]
  },
  {
   "cell_type": "code",
   "execution_count": null,
   "metadata": {
    "hidden": true
   },
   "outputs": [],
   "source": [
    "text = \"HELLO\"\n",
    "lower_text = text.lower()\n",
    "print(lower_text)  # Output: \"hello\""
   ]
  },
  {
   "cell_type": "markdown",
   "metadata": {
    "hidden": true
   },
   "source": [
    "-   `maketrans(x, y=None, z=None)`: Returns a translation table to be used with `translate()`. If `x` and `y` are provided, they must have the same length."
   ]
  },
  {
   "cell_type": "code",
   "execution_count": null,
   "metadata": {
    "hidden": true
   },
   "outputs": [],
   "source": [
    "translation_table = str.maketrans(\"aeiou\", \"12345\")\n",
    "text = \"hello world\"\n",
    "translated_text = text.translate(translation_table)\n",
    "print(translated_text)  # Output: \"h2ll4 w4rld\""
   ]
  },
  {
   "cell_type": "markdown",
   "metadata": {
    "hidden": true
   },
   "source": [
    "-   `partition(separator)`: Splits the string at the first occurrence of `separator` and returns a tuple with three elements: the part before the separator, the separator itself, and the part after the separator."
   ]
  },
  {
   "cell_type": "code",
   "execution_count": null,
   "metadata": {
    "hidden": true
   },
   "outputs": [],
   "source": [
    "text = \"hello world\"\n",
    "partitioned = text.partition(\" \")\n",
    "print(partitioned)  # Output: ('hello', ' ', 'world')"
   ]
  },
  {
   "cell_type": "markdown",
   "metadata": {
    "hidden": true
   },
   "source": [
    "-   `replace(old, new, count=-1)`: Returns a new string with all occurrences of `old` replaced by `new`. If `count` is provided, only the first `count` occurrences are replaced."
   ]
  },
  {
   "cell_type": "code",
   "execution_count": null,
   "metadata": {
    "hidden": true
   },
   "outputs": [],
   "source": [
    "text = \"hello world\"\n",
    "replaced_text = text.replace(\"world\", \"Python\")\n",
    "print(replaced_text)  # Output: \"hello Python\""
   ]
  },
  {
   "cell_type": "markdown",
   "metadata": {
    "hidden": true
   },
   "source": [
    "-   `rfind(substring, start=0, end=None)`: Returns the highest index of `substring` if found in the string. Returns -1 if not found. Optional `start` and `end` can specify a range."
   ]
  },
  {
   "cell_type": "code",
   "execution_count": null,
   "metadata": {
    "hidden": true
   },
   "outputs": [],
   "source": [
    "text = \"hello hello hello\"\n",
    "index_of_last_hello = text.rfind(\"hello\")\n",
    "print(index_of_last_hello)  # Output: 12"
   ]
  },
  {
   "cell_type": "markdown",
   "metadata": {
    "hidden": true
   },
   "source": [
    "-   `rindex(substring, start=0, end=None)`: Similar to `rfind`, but raises a `ValueError` if the substring is not found."
   ]
  },
  {
   "cell_type": "code",
   "execution_count": null,
   "metadata": {
    "hidden": true
   },
   "outputs": [],
   "source": [
    "text = \"hello hello hello\"\n",
    "index_of_last_hello = text.rindex(\"hello\")\n",
    "print(index_of_last_hello)  # Output: 12"
   ]
  },
  {
   "cell_type": "markdown",
   "metadata": {
    "hidden": true
   },
   "source": [
    "-   `rjust(width, fillchar=' ')`: Right-justifies the string in a field of the specified width. Optional `fillchar` can specify a fill character."
   ]
  },
  {
   "cell_type": "code",
   "execution_count": null,
   "metadata": {
    "hidden": true
   },
   "outputs": [],
   "source": [
    "text = \"hello\"\n",
    "right_justified = text.rjust(10, '*')\n",
    "print(right_justified)  # Output: \"*****hello\""
   ]
  },
  {
   "cell_type": "markdown",
   "metadata": {
    "hidden": true
   },
   "source": [
    "-   `rpartition(separator)`: Splits the string at the last occurrence of `separator` and returns a tuple with three elements: the part before the separator, the separator itself, and the part after the separator."
   ]
  },
  {
   "cell_type": "code",
   "execution_count": null,
   "metadata": {
    "hidden": true
   },
   "outputs": [],
   "source": [
    "text = \"hello world hello\"\n",
    "partitioned = text.rpartition(\" \")\n",
    "print(partitioned)  # Output: ('hello world', ' ', 'hello')"
   ]
  },
  {
   "cell_type": "markdown",
   "metadata": {
    "hidden": true
   },
   "source": [
    "-   <b style=\"color:#C71585\">split(separator=None, maxsplit=-1)</b>: Splits the string at each occurrence of `separator`. If `maxsplit` is specified, splits at most `maxsplit` times. If `separator` is `None`, splits on whitespace."
   ]
  },
  {
   "cell_type": "code",
   "execution_count": null,
   "metadata": {
    "hidden": true
   },
   "outputs": [],
   "source": [
    "text = \"hello world hello \"\n",
    "path = \"/Users/am/mydocs/\"\n",
    "print(text.split())     # Output: ['hello', 'world', 'hello']\n",
    "print(text.split(\" \"))  # Output: ['hello', 'world', 'hello', '']\n",
    "print(path.split(\"/\"))  # Output: ['', 'Users', 'am', 'mydocs', '']\n",
    "print(path.split(\"/\", 1))  # Output: ['', 'Users/am/mydocs/']\n",
    "print(path.split(\"/\", 2))  # Output: ['', 'Users', 'am/mydocs/']\n"
   ]
  },
  {
   "cell_type": "markdown",
   "metadata": {},
   "source": [
    "-   <b style=\"color:#C71585\">rsplit(separator=None, maxsplit=-1)</b>: Splits the string from the right at each occurrence of `separator`. If `maxsplit` is specified, splits at most `maxsplit` times. If `separator` is `None`, splits on whitespace."
   ]
  },
  {
   "cell_type": "code",
   "execution_count": null,
   "metadata": {},
   "outputs": [],
   "source": [
    "text = \"hello world hello \"\n",
    "path = \"/Users/am/mydocs/\"\n",
    "print(text.rsplit())     # Output: ['hello', 'world', 'hello']\n",
    "print(text.rsplit(\" \"))  # Output: ['hello', 'world', 'hello']\n",
    "print(path.rsplit(\"/\"))  # Output: ['', 'Users', 'am', 'mydocs', '']\n",
    "print(path.rsplit(\"/\", 1))  # Output: ['/Users/am/mydocs', '']\n",
    "print(path.rsplit(\"/\", 2))  # Output: ['/Users/am', 'mydocs', '']\n"
   ]
  },
  {
   "cell_type": "code",
   "execution_count": null,
   "metadata": {},
   "outputs": [],
   "source": [
    "text = \"hello world hello \"\n",
    "split_text = text.rsplit(\" \")\n",
    "print(split_text)  # Output: ['hello world', 'hello']"
   ]
  },
  {
   "cell_type": "code",
   "execution_count": null,
   "metadata": {},
   "outputs": [],
   "source": [
    "text = \"hello world hello \"\n",
    "split_text = text.rsplit(\" \", 1)\n",
    "print(split_text)  # Output: ['hello world', 'hello']"
   ]
  },
  {
   "cell_type": "markdown",
   "metadata": {},
   "source": [
    "-   <b style=\"color:#C71585\">strip(chars=None)</b>: Removes leading and trailing characters specified in `chars` from the string. If `chars` is `None`, it removes leading and trailing whitespace."
   ]
  },
  {
   "cell_type": "code",
   "execution_count": null,
   "metadata": {},
   "outputs": [],
   "source": [
    "text = \"   hello world   \"\n",
    "stripped_text = text.strip()\n",
    "print(stripped_text)  # Output: \"hello\""
   ]
  },
  {
   "cell_type": "code",
   "execution_count": null,
   "metadata": {},
   "outputs": [],
   "source": [
    "path = \"/Users/am/mydocs/\"\n",
    "stripped_text = path.strip('/')\n",
    "print(stripped_text)  # Output: Users/am/mydocs"
   ]
  },
  {
   "cell_type": "markdown",
   "metadata": {},
   "source": [
    "-   `lstrip(chars=None)`: Removes leading characters specified in `chars` from the string. If `chars` is `None`, it removes leading whitespace."
   ]
  },
  {
   "cell_type": "code",
   "execution_count": null,
   "metadata": {},
   "outputs": [],
   "source": [
    "text = \"   hello\"\n",
    "stripped_text = text.lstrip()\n",
    "print(len(text))\n",
    "print(len(stripped_text))\n",
    "print(stripped_text)  # Output: \"hello\""
   ]
  },
  {
   "cell_type": "code",
   "execution_count": null,
   "metadata": {},
   "outputs": [],
   "source": [
    "path = \"/Users/am/mydocs/\"\n",
    "stripped_text = path.lstrip('/')\n",
    "print(stripped_text)  # Output: \"Users/am/mydocs/\""
   ]
  },
  {
   "cell_type": "markdown",
   "metadata": {},
   "source": [
    "-   `rstrip(chars=None)`: Removes trailing characters specified in `chars` from the string. If `chars` is `None`, it removes trailing whitespace."
   ]
  },
  {
   "cell_type": "code",
   "execution_count": null,
   "metadata": {},
   "outputs": [],
   "source": [
    "text = \"   hello   \"\n",
    "stripped_text = text.rstrip()\n",
    "print(stripped_text)  # Output: \"   hello\"\n",
    "print(len(stripped_text))"
   ]
  },
  {
   "cell_type": "code",
   "execution_count": null,
   "metadata": {},
   "outputs": [],
   "source": [
    "text = \"hello   o\"\n",
    "stripped_text = text.rstrip('o')\n",
    "print(stripped_text)  # Output: \"hello   \"\n",
    "print(len(stripped_text))"
   ]
  },
  {
   "cell_type": "markdown",
   "metadata": {
    "hidden": true
   },
   "source": [
    "-   `splitlines(keepends=False)`: Splits the string at line breaks and returns a list of lines. If `keepends` is `True`, line breaks are included in the resulting list."
   ]
  },
  {
   "cell_type": "code",
   "execution_count": null,
   "metadata": {
    "hidden": true
   },
   "outputs": [],
   "source": [
    "text = \"hello\\nworld\\nhello\"\n",
    "lines = text.splitlines()\n",
    "print(lines)  # Output: ['hello', 'world', 'hello']"
   ]
  },
  {
   "cell_type": "code",
   "execution_count": null,
   "metadata": {
    "hidden": true
   },
   "outputs": [],
   "source": [
    "with open(ADS + '/data/demofile.txt') as demofile:\n",
    "    text = demofile.read()\n",
    "text\n",
    "lines = text.splitlines()\n",
    "print(lines)"
   ]
  },
  {
   "cell_type": "markdown",
   "metadata": {
    "hidden": true
   },
   "source": [
    "-   `startswith(prefix, start=0, end=None)`: Returns `True` if the string starts with the specified `prefix`. Optional `start` and `end` arguments can specify a range."
   ]
  },
  {
   "cell_type": "code",
   "execution_count": null,
   "metadata": {
    "hidden": true
   },
   "outputs": [],
   "source": [
    "text = \"hello world\"\n",
    "does_start_with = text.startswith(\"hello\")\n",
    "print(does_start_with)  # Output: True"
   ]
  },
  {
   "cell_type": "markdown",
   "metadata": {
    "hidden": true
   },
   "source": [
    "-   `swapcase()`: Converts uppercase characters to lowercase and vice versa."
   ]
  },
  {
   "cell_type": "code",
   "execution_count": null,
   "metadata": {
    "hidden": true
   },
   "outputs": [],
   "source": [
    "text = \"Hello World\"\n",
    "swapped_text = text.swapcase()\n",
    "print(swapped_text)  # Output: \"hELLO wORLD\""
   ]
  },
  {
   "cell_type": "markdown",
   "metadata": {
    "hidden": true
   },
   "source": [
    "-   `title()`: Converts the string to title case, where the first character of each word is uppercase and the rest are lowercase."
   ]
  },
  {
   "cell_type": "code",
   "execution_count": null,
   "metadata": {
    "hidden": true
   },
   "outputs": [],
   "source": [
    "text = \"hello world\"\n",
    "title_text = text.title()\n",
    "print(title_text)  # Output: \"Hello World\""
   ]
  },
  {
   "cell_type": "markdown",
   "metadata": {
    "hidden": true
   },
   "source": [
    "-   `translate(table)`: Returns a copy of the string where each character has been mapped through the given translation table."
   ]
  },
  {
   "cell_type": "code",
   "execution_count": null,
   "metadata": {
    "hidden": true
   },
   "outputs": [],
   "source": [
    "translation_table = str.maketrans(\"aeiou\", \"12345\")\n",
    "text = \"hello world\"\n",
    "translated_text = text.translate(translation_table)\n",
    "print(translated_text)  # Output: \"h2ll4 w4rld\""
   ]
  },
  {
   "cell_type": "markdown",
   "metadata": {
    "hidden": true
   },
   "source": [
    "-   `upper()`: Converts all characters in the string to uppercase."
   ]
  },
  {
   "cell_type": "code",
   "execution_count": null,
   "metadata": {
    "hidden": true
   },
   "outputs": [],
   "source": [
    "text = \"hello\"\n",
    "upper_text = text.upper()\n",
    "print(upper_text)  # Output: \"HELLO\""
   ]
  },
  {
   "cell_type": "markdown",
   "metadata": {
    "hidden": true
   },
   "source": [
    "-   `zfill(width)`: Returns a copy of the string left-filled with '0' digits to make a string of length `width`."
   ]
  },
  {
   "cell_type": "code",
   "execution_count": null,
   "metadata": {
    "hidden": true
   },
   "outputs": [],
   "source": [
    "text = \"42\"\n",
    "zero_filled_text = text.zfill(5)\n",
    "print(zero_filled_text)  # Output: \"00042\""
   ]
  },
  {
   "cell_type": "code",
   "execution_count": null,
   "metadata": {
    "hidden": true
   },
   "outputs": [],
   "source": [
    "text = \"42\"\n",
    "zero_filled_text = text.zfill(5)\n",
    "right_justified = text.rjust(5, '0')\n",
    "print(zero_filled_text)  # Output: \"00042\"\n",
    "print(right_justified)   # Output: \"00042\""
   ]
  },
  {
   "cell_type": "markdown",
   "metadata": {
    "heading_collapsed": true,
    "jp-MarkdownHeadingCollapsed": true,
    "tags": []
   },
   "source": [
    "### collections.namedtuple:"
   ]
  },
  {
   "cell_type": "code",
   "execution_count": null,
   "metadata": {
    "hidden": true
   },
   "outputs": [],
   "source": [
    "# help(collections.namedtuple)"
   ]
  },
  {
   "cell_type": "code",
   "execution_count": null,
   "metadata": {
    "hidden": true
   },
   "outputs": [],
   "source": [
    "# dir(collections.namedtuple)"
   ]
  },
  {
   "cell_type": "code",
   "execution_count": null,
   "metadata": {
    "hidden": true
   },
   "outputs": [],
   "source": [
    "class Person:\n",
    "    def __init__(self, name, ssn):\n",
    "        self._name = name\n",
    "        self._ssn = ssn\n",
    "\n",
    "Student = collections.namedtuple('Student', ('name', 'ssn'))\n",
    "\n",
    "issubclass(Student, tuple)"
   ]
  },
  {
   "cell_type": "code",
   "execution_count": null,
   "metadata": {
    "hidden": true
   },
   "outputs": [],
   "source": [
    "p = Person('Shah', 1234)\n",
    "s = Student('Shah', 1234)"
   ]
  },
  {
   "cell_type": "code",
   "execution_count": null,
   "metadata": {},
   "outputs": [],
   "source": [
    "print(s[0], s[1], s.name, s.ssn)\n",
    "print(s.index('Shah'), s.index(1234), s.count(1234))"
   ]
  },
  {
   "cell_type": "code",
   "execution_count": null,
   "metadata": {
    "hidden": true
   },
   "outputs": [],
   "source": [
    "student_name, student_ssn = Student('Farzana', 1234)"
   ]
  },
  {
   "cell_type": "code",
   "execution_count": null,
   "metadata": {
    "hidden": true
   },
   "outputs": [],
   "source": [
    "# dir(Student)"
   ]
  },
  {
   "cell_type": "code",
   "execution_count": null,
   "metadata": {
    "hidden": true
   },
   "outputs": [],
   "source": [
    "Endpoint = namedtuple('Endpoint', ('is_closed', 'val'))\n",
    "Interval = namedtuple('Interval', ('left', 'right'))"
   ]
  },
  {
   "cell_type": "code",
   "execution_count": null,
   "metadata": {
    "hidden": true
   },
   "outputs": [],
   "source": [
    "inval = Interval(Endpoint(True, 1), Endpoint(True, 3))\n",
    "(is_left_closed, left_val), (is_rifht_closed, right_val) = inval\n",
    "left, right = inval\n",
    "\n",
    "print(is_left_closed, left_val, is_rifht_closed, right_val)\n",
    "print(left, right)\n",
    "\n",
    "## YOU CAN'T SET THE VALUES !!!!!!!!!!\n",
    "# left.is_closed = False\n",
    "# right.val = 300"
   ]
  },
  {
   "cell_type": "code",
   "execution_count": null,
   "metadata": {
    "hidden": true,
    "slideshow": {
     "slide_type": ""
    },
    "tags": []
   },
   "outputs": [],
   "source": [
    "intervals = [\n",
    "    Interval(Endpoint(True, 1), Endpoint(True, 3)), \n",
    "    Interval(Endpoint(False, 2), Endpoint(True, 4)), \n",
    "    Interval(Endpoint(True, 5), Endpoint(True, 7))\n",
    "]\n",
    "print(intervals)\n",
    "\n",
    "intervals.sort(key=lambda interval: (interval.left.val, not interval.left.is_closed))\n",
    "print(intervals)"
   ]
  },
  {
   "cell_type": "code",
   "execution_count": null,
   "metadata": {
    "hidden": true
   },
   "outputs": [],
   "source": [
    "sorted_intervals = sorted(intervals, key=lambda interval: (interval.left.val, not interval.left.is_closed))\n",
    "print(sorted_intervals)"
   ]
  },
  {
   "cell_type": "code",
   "execution_count": null,
   "metadata": {
    "hidden": true
   },
   "outputs": [],
   "source": [
    "max_intervals = max(intervals, key=lambda interval: (interval.left.val))\n",
    "print(max_intervals)"
   ]
  },
  {
   "cell_type": "code",
   "execution_count": null,
   "metadata": {
    "hidden": true
   },
   "outputs": [],
   "source": [
    "intervals[0], intervals[0][0], intervals[0][1]"
   ]
  },
  {
   "cell_type": "code",
   "execution_count": null,
   "metadata": {
    "hidden": true
   },
   "outputs": [],
   "source": [
    "intervals[0], intervals[0].left, intervals[0].right"
   ]
  },
  {
   "cell_type": "code",
   "execution_count": null,
   "metadata": {
    "hidden": true
   },
   "outputs": [],
   "source": [
    "intervals[0], intervals[0].left, intervals[0].right"
   ]
  },
  {
   "cell_type": "code",
   "execution_count": null,
   "metadata": {
    "hidden": true
   },
   "outputs": [],
   "source": [
    "intervals[0].left.is_closed, intervals[0].left.val"
   ]
  },
  {
   "cell_type": "code",
   "execution_count": null,
   "metadata": {
    "hidden": true
   },
   "outputs": [],
   "source": [
    "left_is_closed, right_val = intervals[0].left.is_closed, intervals[0].right.val\n",
    "left_is_closed, right_val"
   ]
  },
  {
   "cell_type": "markdown",
   "metadata": {
    "heading_collapsed": true,
    "jp-MarkdownHeadingCollapsed": true,
    "tags": []
   },
   "source": [
    "### collections.deque:"
   ]
  },
  {
   "cell_type": "code",
   "execution_count": null,
   "metadata": {
    "hidden": true
   },
   "outputs": [],
   "source": [
    "from collections import deque"
   ]
  },
  {
   "cell_type": "code",
   "execution_count": null,
   "metadata": {
    "hidden": true
   },
   "outputs": [],
   "source": [
    "# dir(collections.deque)"
   ]
  },
  {
   "cell_type": "markdown",
   "metadata": {
    "hidden": true
   },
   "source": [
    "`deque.append()`\n",
    "`deque.appendleft()`\n",
    "`deque.clear()`\n",
    "`deque.copy()`\n",
    "`deque.count()`\n",
    "`deque.extend()`\n",
    "`deque.extendleft()`\n",
    "`deque.index()`\n",
    "`deque.insert()`\n",
    "`deque.maxlen()`\n",
    "`deque.pop()`\n",
    "`deque.popleft()`\n",
    "`deque.remove()`\n",
    "`deque.reverse()`\n",
    "`deque.rotate()`"
   ]
  },
  {
   "cell_type": "markdown",
   "metadata": {},
   "source": [
    "-   `dq.extend(iterable)` => Extend the right side of the deque (Return `None`)\n",
    "-   `dq.rotate(n=1)` => Rotate the deque n steps to the right(`+n`)/left(`-n`) (default n=1). "
   ]
  },
  {
   "cell_type": "code",
   "execution_count": null,
   "metadata": {},
   "outputs": [],
   "source": [
    "q = deque(['A','L', 'L', 'A', 'H'])\n",
    "q.appendleft('A')\n",
    "print(q.pop())\n",
    "print(q[-1])\n",
    "print(\"\".join(q))"
   ]
  },
  {
   "cell_type": "code",
   "execution_count": null,
   "metadata": {
    "hidden": true
   },
   "outputs": [],
   "source": [
    "q = deque([1,3])\n",
    "print(q[0], q[-1])"
   ]
  },
  {
   "cell_type": "code",
   "execution_count": null,
   "metadata": {
    "hidden": true
   },
   "outputs": [],
   "source": [
    "q = deque([*range(5)][::-1])"
   ]
  },
  {
   "cell_type": "code",
   "execution_count": null,
   "metadata": {},
   "outputs": [],
   "source": [
    "print(q.extend([1,2,4])), q"
   ]
  },
  {
   "cell_type": "code",
   "execution_count": null,
   "metadata": {},
   "outputs": [],
   "source": [
    "# q.rotate(2)\n",
    "# q.reverse()\n",
    "q.count(2)"
   ]
  },
  {
   "cell_type": "code",
   "execution_count": null,
   "metadata": {
    "hidden": true,
    "scrolled": true
   },
   "outputs": [],
   "source": [
    "# for i in q: print(i)"
   ]
  },
  {
   "cell_type": "code",
   "execution_count": null,
   "metadata": {
    "hidden": true
   },
   "outputs": [],
   "source": [
    "L = list(q)\n",
    "S = set(q)"
   ]
  },
  {
   "cell_type": "markdown",
   "metadata": {
    "heading_collapsed": true,
    "jp-MarkdownHeadingCollapsed": true,
    "tags": []
   },
   "source": [
    "### heapq (PriorityQueue)"
   ]
  },
  {
   "cell_type": "code",
   "execution_count": null,
   "metadata": {
    "hidden": true
   },
   "outputs": [],
   "source": [
    "import heapq"
   ]
  },
  {
   "cell_type": "markdown",
   "metadata": {
    "hidden": true
   },
   "source": [
    "- `heapq`: a min priority queue\n",
    "    - `heapq.heapify(pq_list)`\n",
    "    - `heapq.heappop(pq_list)`\n",
    "    - `heapq.heappush(pq_list)`\n",
    "    - `heapq.heappushpop(pq_list, item)` => it  is equivalent to `heappush()` followed by `heappop()`\n",
    "    - `heapq.heapreplace(pq_list, item)` => it  is equivalent to `heappop()` followed by `heappush()`\n",
    "    - `merge(*iterables, key=None, reverse=False)` => Merge multiple sorted inputs into a single sorted output. but returns a generator, and assumes that each of the input streams is already sorted (smallest to largest).\n",
    "        - `heapq.merge(sorted_list1, sorted_list2, ..., sorted_listn)`\n",
    "    - `nlargest(n, iterable, key=None)`\n",
    "    - `nsmallest(n, iterable, key=None)`"
   ]
  },
  {
   "cell_type": "code",
   "execution_count": null,
   "metadata": {
    "hidden": true
   },
   "outputs": [],
   "source": [
    "# help(heapq)"
   ]
  },
  {
   "cell_type": "code",
   "execution_count": null,
   "metadata": {
    "hidden": true
   },
   "outputs": [],
   "source": [
    "# dir(heapq)"
   ]
  },
  {
   "cell_type": "code",
   "execution_count": null,
   "metadata": {
    "hidden": true
   },
   "outputs": [],
   "source": [
    "# heapq.__all__"
   ]
  },
  {
   "cell_type": "code",
   "execution_count": null,
   "metadata": {
    "hidden": true
   },
   "outputs": [],
   "source": [
    "list(heapq.merge([1,3,5,7], [0,2,4,8], [5,10,15,20], [], [25]))"
   ]
  },
  {
   "cell_type": "code",
   "execution_count": null,
   "metadata": {
    "hidden": true
   },
   "outputs": [],
   "source": [
    "list(heapq.merge(['dog', 'horse'], ['cat', 'fish', 'kangaroo'], key=len))"
   ]
  },
  {
   "cell_type": "code",
   "execution_count": null,
   "metadata": {
    "hidden": true
   },
   "outputs": [],
   "source": [
    "heap = []            # creates an empty heap\n",
    "heapq.heappush(heap, 6) # pushes a new item on the heap\n",
    "heapq.heappush(heap, 1) # pushes a new item on the heap\n",
    "item = heap[0]       # smallest item on the heap without popping it\n",
    "print(item)\n",
    "item = heapq.heappop(heap) # pops the smallest item from the heap\n",
    "print(item)"
   ]
  },
  {
   "cell_type": "code",
   "execution_count": null,
   "metadata": {
    "hidden": true
   },
   "outputs": [],
   "source": [
    "heap = [9, -3, -2, 10]\n",
    "heapq.heapify(heap)           # transforms list into a heap, in-place, in linear time\n",
    "item = heapq.heapreplace(heap, -1) # pops and returns smallest item, and adds new item; the heap size is unchanged\n",
    "print(item)"
   ]
  },
  {
   "cell_type": "code",
   "execution_count": null,
   "metadata": {
    "hidden": true
   },
   "outputs": [],
   "source": [
    "print(list(heap))"
   ]
  },
  {
   "cell_type": "code",
   "execution_count": null,
   "metadata": {
    "hidden": true
   },
   "outputs": [],
   "source": [
    "print(heapq.nsmallest(4, heap))\n",
    "print(heapq.nlargest(4, heap))"
   ]
  },
  {
   "cell_type": "markdown",
   "metadata": {
    "heading_collapsed": true,
    "hidden": true,
    "jp-MarkdownHeadingCollapsed": true
   },
   "source": [
    "#### Min Priority Queue"
   ]
  },
  {
   "cell_type": "code",
   "execution_count": null,
   "metadata": {
    "hidden": true,
    "scrolled": true
   },
   "outputs": [],
   "source": [
    "pq = []\n",
    "heapq.heapify(pq)\n",
    "\n",
    "for i in range(7): \n",
    "    priority = randrange(-5,5)\n",
    "    element = randrange(50)\n",
    "    heapq.heappush(pq, (priority, element))\n",
    "\n",
    "for i in range(len(pq)):\n",
    "    print(heapq.heappop(pq))"
   ]
  },
  {
   "cell_type": "code",
   "execution_count": null,
   "metadata": {
    "hidden": true
   },
   "outputs": [],
   "source": [
    "pq = [randint(-20,20) for _ in range(10)]\n",
    "heapq.heapify(L)\n",
    "pq"
   ]
  },
  {
   "cell_type": "markdown",
   "metadata": {
    "hidden": true
   },
   "source": [
    "- `heapq.merge(list1, list2, ... listn)`"
   ]
  },
  {
   "cell_type": "code",
   "execution_count": null,
   "metadata": {
    "hidden": true
   },
   "outputs": [],
   "source": [
    "list_of_sorted_lists = [sorted([randint(-99, 99) for _ in range(randint(0, 5))]) for _ in range(randint(2, 5))]"
   ]
  },
  {
   "cell_type": "code",
   "execution_count": null,
   "metadata": {
    "hidden": true
   },
   "outputs": [],
   "source": [
    "list_of_sorted_lists"
   ]
  },
  {
   "cell_type": "code",
   "execution_count": null,
   "metadata": {
    "hidden": true
   },
   "outputs": [],
   "source": [
    "[*heapq.merge(*list_of_sorted_lists, key=lambda x: -x)]"
   ]
  },
  {
   "cell_type": "markdown",
   "metadata": {
    "heading_collapsed": true,
    "hidden": true,
    "jp-MarkdownHeadingCollapsed": true
   },
   "source": [
    "#### Max Priority Queue out of Min Priority Queue:"
   ]
  },
  {
   "cell_type": "code",
   "execution_count": null,
   "metadata": {
    "hidden": true,
    "scrolled": true
   },
   "outputs": [],
   "source": [
    "pq = []\n",
    "heapq.heapify(pq)\n",
    "L = []\n",
    "\n",
    "for i in range(7): \n",
    "    priority = randrange(-2, 10)\n",
    "    element = randrange(50)\n",
    "    L.append((priority, element))\n",
    "    heapq.heappush(pq, (-priority, element))\n",
    "\n",
    "for i in range(len(pq)):\n",
    "    item = heapq.heappop(pq)\n",
    "    priority, element = -item[0],item[1]\n",
    "    print(priority, element)"
   ]
  },
  {
   "cell_type": "code",
   "execution_count": null,
   "metadata": {
    "hidden": true
   },
   "outputs": [],
   "source": [
    "max_pq = [randint(-20,20) for _ in range(10)]\n",
    "heapq.heapify(max_pq)"
   ]
  },
  {
   "cell_type": "code",
   "execution_count": null,
   "metadata": {
    "hidden": true
   },
   "outputs": [],
   "source": [
    "s = 'AAAAb'\n",
    "char_count = Counter(s)\n",
    "max_pq = [(-count, char) for char, count in char_count.items()]\n",
    "heapq.heappush(max_pq, (-5, 'A'))\n",
    "cur_item = heapq.heappop(max_pq)\n",
    "char, count = cur_item[1], -cur_item[0]\n",
    "char, count"
   ]
  },
  {
   "cell_type": "markdown",
   "metadata": {},
   "source": [
    "### math"
   ]
  },
  {
   "cell_type": "markdown",
   "metadata": {},
   "source": [
    "##### Basic Mathematical Functions"
   ]
  },
  {
   "cell_type": "markdown",
   "metadata": {},
   "source": [
    "\n",
    "1. **Ceiling and Floor Functions**\n",
    "   - `math.ceil(x)`: Returns the smallest integer greater than or equal to x.\n",
    "   - `math.floor(x)`: Returns the largest integer less than or equal to x.\n"
   ]
  },
  {
   "cell_type": "code",
   "execution_count": null,
   "metadata": {},
   "outputs": [],
   "source": [
    "\n",
    "print(math.ceil(4.2))  # Output: 5\n",
    "print(math.floor(4.8)) # Output: 4\n"
   ]
  },
  {
   "cell_type": "markdown",
   "metadata": {},
   "source": [
    "\n",
    "2. **Absolute Value**\n",
    "   - `math.fabs(x)`: Returns the absolute value of x as a float.\n"
   ]
  },
  {
   "cell_type": "code",
   "execution_count": null,
   "metadata": {},
   "outputs": [],
   "source": [
    "\n",
    "print(math.fabs(-7.5)) # Output: 7.5\n"
   ]
  },
  {
   "cell_type": "markdown",
   "metadata": {},
   "source": [
    "\n",
    "3. **Factorial**\n",
    "   - `math.factorial(x)`: Returns the factorial of x.\n"
   ]
  },
  {
   "cell_type": "code",
   "execution_count": null,
   "metadata": {},
   "outputs": [],
   "source": [
    "\n",
    "print(math.factorial(5)) # Output: 120\n"
   ]
  },
  {
   "cell_type": "markdown",
   "metadata": {},
   "source": [
    "\n",
    "4. **Exponential and Logarithmic Functions**\n",
    "   - `math.exp(x)`: Returns e raised to the power of x.\n",
    "   - `math.log(x, base)`: Returns the logarithm of x to the specified base. If the base is not specified, returns the natural logarithm.\n",
    "   - `math.log10(x)`: Returns the base-10 logarithm of x.\n",
    "   - `math.log2(x)`: Returns the base-2 logarithm of x.\n"
   ]
  },
  {
   "cell_type": "code",
   "execution_count": null,
   "metadata": {},
   "outputs": [],
   "source": [
    "\n",
    "print(math.exp(2))         # Output: 7.3890560989306495\n",
    "print(math.log(8, 2))      # Output: 3.0\n",
    "print(math.log10(1000))    # Output: 3.0\n",
    "print(math.log2(16))       # Output: 4.0\n"
   ]
  },
  {
   "cell_type": "markdown",
   "metadata": {},
   "source": [
    "\n",
    "##### Trigonometric Functions\n"
   ]
  },
  {
   "cell_type": "markdown",
   "metadata": {},
   "source": [
    "\n",
    "1. **Basic Trigonometric Functions**\n",
    "   - `math.sin(x)`: Returns the sine of x (x is in radians).\n",
    "   - `math.cos(x)`: Returns the cosine of x (x is in radians).\n",
    "   - `math.tan(x)`: Returns the tangent of x (x is in radians).\n"
   ]
  },
  {
   "cell_type": "code",
   "execution_count": null,
   "metadata": {},
   "outputs": [],
   "source": [
    "\n",
    "print(math.sin(math.pi / 2))  # Output: 1.0\n",
    "print(math.cos(0))            # Output: 1.0\n",
    "print(math.tan(math.pi / 4))  # Output: 0.9999999999999999 (approximately 1)\n"
   ]
  },
  {
   "cell_type": "markdown",
   "metadata": {},
   "source": [
    "\n",
    "2. **Inverse Trigonometric Functions**\n",
    "   - `math.asin(x)`: Returns the arcsine of x, in radians.\n",
    "   - `math.acos(x)`: Returns the arccosine of x, in radians.\n",
    "   - `math.atan(x)`: Returns the arctangent of x, in radians.\n"
   ]
  },
  {
   "cell_type": "code",
   "execution_count": null,
   "metadata": {},
   "outputs": [],
   "source": [
    "\n",
    "print(math.asin(1))           # Output: 1.5707963267948966 (pi/2)\n",
    "print(math.acos(1))           # Output: 0.0\n",
    "print(math.atan(1))           # Output: 0.7853981633974483 (pi/4)\n"
   ]
  },
  {
   "cell_type": "markdown",
   "metadata": {},
   "source": [
    "\n",
    "3. **Hyperbolic Functions**\n",
    "   - `math.sinh(x)`: Returns the hyperbolic sine of x.\n",
    "   - `math.cosh(x)`: Returns the hyperbolic cosine of x.\n",
    "   - `math.tanh(x)`: Returns the hyperbolic tangent of x.\n"
   ]
  },
  {
   "cell_type": "code",
   "execution_count": null,
   "metadata": {},
   "outputs": [],
   "source": [
    "\n",
    "print(math.sinh(1))           # Output: 1.1752011936438014\n",
    "print(math.cosh(1))           # Output: 1.5430806348152437\n",
    "print(math.tanh(1))           # Output: 0.7615941559557649\n"
   ]
  },
  {
   "cell_type": "markdown",
   "metadata": {},
   "source": [
    "\n",
    "##### Power and Root Functions\n"
   ]
  },
  {
   "cell_type": "markdown",
   "metadata": {},
   "source": [
    "\n",
    "1. **Power Functions**\n",
    "   - `math.pow(x, y)`: Returns x raised to the power of y.\n",
    "   - `math.sqrt(x)`: Returns the square root of x.\n"
   ]
  },
  {
   "cell_type": "code",
   "execution_count": null,
   "metadata": {},
   "outputs": [],
   "source": [
    "\n",
    "print(math.pow(2, 3))         # Output: 8.0\n",
    "print(math.sqrt(16))          # Output: 4.0\n"
   ]
  },
  {
   "cell_type": "markdown",
   "metadata": {},
   "source": [
    "\n",
    "##### Constants\n"
   ]
  },
  {
   "cell_type": "markdown",
   "metadata": {},
   "source": [
    "\n",
    "1. **Mathematical Constants**\n",
    "   - `math.pi`: The mathematical constant π.\n",
    "   - `math.e`: The mathematical constant e.\n"
   ]
  },
  {
   "cell_type": "code",
   "execution_count": null,
   "metadata": {},
   "outputs": [],
   "source": [
    "\n",
    "print(math.pi)                # Output: 3.141592653589793\n",
    "print(math.e)                 # Output: 2.718281828459045\n"
   ]
  },
  {
   "cell_type": "markdown",
   "metadata": {},
   "source": [
    "\n",
    "##### Other Useful Functions"
   ]
  },
  {
   "cell_type": "markdown",
   "metadata": {},
   "source": [
    "1. **Greatest Common Divisor**\n",
    "   - `math.gcd(x, y)`: Returns the greatest common divisor of x and y.\n"
   ]
  },
  {
   "cell_type": "code",
   "execution_count": null,
   "metadata": {},
   "outputs": [],
   "source": [
    "\n",
    "print(math.gcd(48, 18))       # Output: 6\n"
   ]
  },
  {
   "cell_type": "markdown",
   "metadata": {},
   "source": [
    "\n",
    "2. **Radians and Degrees Conversion**\n",
    "   - `math.radians(x)`: Converts x degrees to radians.\n",
    "   - `math.degrees(x)`: Converts x radians to degrees.\n"
   ]
  },
  {
   "cell_type": "code",
   "execution_count": null,
   "metadata": {},
   "outputs": [],
   "source": [
    "\n",
    "print(math.radians(180))      # Output: 3.141592653589793\n",
    "print(math.degrees(math.pi))  # Output: 180.0\n"
   ]
  },
  {
   "cell_type": "markdown",
   "metadata": {},
   "source": [
    "\n",
    "3. **Sum of Floating Point Values**\n",
    "   - `math.fsum(iterable)`: Returns an accurate floating point sum of values in the iterable.\n"
   ]
  },
  {
   "cell_type": "code",
   "execution_count": null,
   "metadata": {},
   "outputs": [],
   "source": [
    "\n",
    "print(math.fsum([0.1, 0.1, 0.1, 0.1, 0.1, 0.1, 0.1, 0.1, 0.1, 0.1]))  # Output: 1.0\n"
   ]
  },
  {
   "cell_type": "markdown",
   "metadata": {},
   "source": [
    "\n",
    "4. **Copysign**\n",
    "   - `math.copysign(x, y)`: Returns a float with the magnitude (absolute value) of x but the sign of y.\n"
   ]
  },
  {
   "cell_type": "code",
   "execution_count": null,
   "metadata": {},
   "outputs": [],
   "source": [
    "\n",
    "print(math.copysign(5, -10))  # Output: -5.0\n"
   ]
  },
  {
   "cell_type": "markdown",
   "metadata": {},
   "source": [
    "\n",
    "##### Example Usage of Multiple Functions"
   ]
  },
  {
   "cell_type": "code",
   "execution_count": null,
   "metadata": {},
   "outputs": [],
   "source": [
    "\n",
    "a = 9\n",
    "b = 16\n",
    "c = 3.7\n",
    "d = -4\n",
    "\n",
    "print(f\"ceil({c}):\", math.ceil(c))\n",
    "print(f\"floor({c}):\", math.floor(c))\n",
    "print(f\"fabs({d}):\", math.fabs(d))\n",
    "print(f\"factorial({c}):\", math.factorial(int(c)))\n",
    "print(f\"exp({d}):\", math.exp(d))\n",
    "print(f\"log({a}, 2):\", math.log(a, 2))\n",
    "print(f\"log10({a}):\", math.log10(a))\n",
    "print(f\"sqrt({b}):\", math.sqrt(b))\n",
    "print(f\"gcd({a}, {b}):\", math.gcd(a, b))\n",
    "print(f\"radians(180):\", math.radians(180))\n",
    "print(f\"degrees(pi):\", math.degrees(math.pi))\n",
    "print(f\"fsum([0.1]*10):\", math.fsum([0.1]*10))\n",
    "print(f\"copysign(5, -10):\", math.copysign(5, -10))\n"
   ]
  },
  {
   "cell_type": "code",
   "execution_count": null,
   "metadata": {},
   "outputs": [],
   "source": []
  },
  {
   "cell_type": "code",
   "execution_count": null,
   "metadata": {},
   "outputs": [],
   "source": []
  },
  {
   "cell_type": "code",
   "execution_count": null,
   "metadata": {},
   "outputs": [],
   "source": []
  },
  {
   "cell_type": "markdown",
   "metadata": {
    "jp-MarkdownHeadingCollapsed": true,
    "tags": []
   },
   "source": [
    "## <b style='color:#FF4500'>Pythonic Concepts</b>"
   ]
  },
  {
   "cell_type": "markdown",
   "metadata": {
    "heading_collapsed": true,
    "jp-MarkdownHeadingCollapsed": true
   },
   "source": [
    "##### Comprehension"
   ]
  },
  {
   "cell_type": "markdown",
   "metadata": {
    "hidden": true
   },
   "source": [
    "Python comprehensions, like decorators, are **syntactic sugar** constructs that help to **build**, **alter** and **filter** lists, dictionaries, or sets from a given list, dictionary, or set."
   ]
  },
  {
   "cell_type": "markdown",
   "metadata": {
    "hidden": true
   },
   "source": [
    "comprehension is a concise way to create collections such as lists, sets, dictionaries, and generators. Comprehensions provide a more readable and compact syntax to generate these collections compared to traditional loops and function calls. Comprehensions can include conditionals, allowing for filtering items before they are added to the collection."
   ]
  },
  {
   "cell_type": "markdown",
   "metadata": {
    "hidden": true
   },
   "source": [
    "- **Advantages of Comprehensions**\n",
    "    - `Concise and Readable`: Comprehensions allow you to write more compact and readable code compared to using traditional loops.\n",
    "    - `Performance`: Comprehensions are generally more efficient than equivalent loops because they are optimized for these use cases.\n",
    "    - `Expressive`: Comprehensions can include conditionals, making it easy to filter items."
   ]
  },
  {
   "cell_type": "markdown",
   "metadata": {
    "heading_collapsed": true,
    "hidden": true,
    "jp-MarkdownHeadingCollapsed": true
   },
   "source": [
    "###### List Comprehension"
   ]
  },
  {
   "cell_type": "code",
   "execution_count": null,
   "metadata": {
    "hidden": true
   },
   "outputs": [],
   "source": [
    "numbers = [1, 2, 3, 4, 5, 6, 7, 8, 9, 10]\n",
    "even_odd = ['Even' if num % 2 == 0 else 'Odd' for num in numbers]\n",
    "even_only = ['Even' for num in numbers if num % 2 == 0]\n",
    "print(even_odd, even_only, sep=\"\\n\")"
   ]
  },
  {
   "cell_type": "code",
   "execution_count": null,
   "metadata": {},
   "outputs": [],
   "source": [
    "# flatten a list using a listcomp with two 'for' \n",
    "vec = [[1,2,3], [4,5,6], [7,8,9]]\n",
    "l = [num for elem in vec for num in elem]   # [1, 2, 3, 4, 5, 6, 7, 8, 9]"
   ]
  },
  {
   "cell_type": "code",
   "execution_count": null,
   "metadata": {},
   "outputs": [],
   "source": [
    "Latitudes = [i for i in range(10, 21, 1)]\n",
    "Longitudes = [i for i in range(10, 21, 1)]\n",
    "\n",
    "L1 = [(Lat, Long) for Lat,Long in [(x,y) for x in Latitudes for y in Longitudes]]\n",
    "L2 = [(Lot, Long) for Lot, Long in zip(Latitudes, Longitudes)]"
   ]
  },
  {
   "cell_type": "code",
   "execution_count": null,
   "metadata": {
    "code_folding": [
     0
    ],
    "hidden": true
   },
   "outputs": [],
   "source": [
    "\n",
    "print([v in 'auntie' for v in vowels])\n",
    "print(all([v in 'auntie' for v in vowels]))\n",
    "print(all([v in 'dialogue' for v in vowels]))\n",
    "\n",
    "print([x for x in states if all([v in x for v in vowels])])\n",
    "print(sorted([(len(x), x) for x in states if ' ' not in x], reverse=True)[:5])\n"
   ]
  },
  {
   "cell_type": "markdown",
   "metadata": {
    "heading_collapsed": true,
    "hidden": true,
    "jp-MarkdownHeadingCollapsed": true
   },
   "source": [
    "###### Dict Comprehension"
   ]
  },
  {
   "cell_type": "code",
   "execution_count": null,
   "metadata": {
    "hidden": true
   },
   "outputs": [],
   "source": [
    "D = {0: 'zero', 1: 'one', 2: 'two', 3: 'three'}\n",
    "D2 = {D[x]: x for x in D}                   # print(D2) --> {'zero': 0, 'one': 1, 'two': 2, 'three': 3}\n",
    "D3 = {x: D2[x] for x in D2 if D2[x] > 1}    # print(D2) --> {'two': 2, 'three': 3}\n",
    "L1 = [(1, 10), (2, 20), (3, 30), (4, 40)]\n",
    "D4 = dict(L1)                               # print(D4) --> {1: 10, 2: 20, 3: 30, 4: 40}\n",
    "\n",
    "L2 = [(4, 180, 21), (5, 90, 10), (3, 270, 8), (4, 0, 7)]\n",
    "D4 = dict([(key, {k, w}) for key, k, w in L2])\n",
    "# print(D4) -> {4: {0, 7}, 5: {90, 10}, 3: {8, 270}} !!!!\n",
    "# Note: first item has been replaced by last item because of having same key\n",
    "\n",
    "\n",
    "# D_error1 = {key: value for (key, value) in D}\n",
    "D_not_error1 = {value: key for (key, value) in D.items()}\n",
    "print(D_not_error1) # -> {'zero': 0, 'one': 1, 'two': 2, 'three': 3}\n",
    "# D_error2 = {key: value for key, value in D}"
   ]
  },
  {
   "cell_type": "markdown",
   "metadata": {
    "heading_collapsed": true,
    "hidden": true,
    "jp-MarkdownHeadingCollapsed": true
   },
   "source": [
    "###### Set Comprehension"
   ]
  },
  {
   "cell_type": "code",
   "execution_count": null,
   "metadata": {
    "hidden": true
   },
   "outputs": [],
   "source": [
    "pairs = {(x, y) for x in range(3) for y in range(3)}\n",
    "print(pairs)  # Output: {(0, 1), (1, 2), (2, 1), (0, 0), (2, 0), (1, 1), (0, 2), (2, 2), (1, 0)}\n",
    " "
   ]
  },
  {
   "cell_type": "code",
   "execution_count": null,
   "metadata": {
    "hidden": true
   },
   "outputs": [],
   "source": [
    "sentence = \"the quick brown fox jumps over the lazy dog\"\n",
    "word_lengths = {len(word) for word in sentence.split()}\n",
    "print(word_lengths)  # Output: {3, 4, 5}"
   ]
  },
  {
   "cell_type": "code",
   "execution_count": null,
   "metadata": {
    "hidden": true
   },
   "outputs": [],
   "source": [
    "large_squares = {x**2 for x in range(10) if x**2 > 10}\n",
    "print(large_squares)  # Output: {16, 81, 49, 64, 25, 36}"
   ]
  },
  {
   "cell_type": "markdown",
   "metadata": {
    "heading_collapsed": true,
    "hidden": true,
    "jp-MarkdownHeadingCollapsed": true
   },
   "source": [
    "###### Python List Comprehension Lambda Closure:\n"
   ]
  },
  {
   "cell_type": "code",
   "execution_count": null,
   "metadata": {
    "hidden": true
   },
   "outputs": [],
   "source": [
    "a = [1, 2, 3 , 4]\n",
    "b = [lambda: _ for _ in a]\n",
    "c = [_() for _ in b]\n",
    "print(a)\n",
    "print(b)\n",
    "print(c)"
   ]
  },
  {
   "cell_type": "markdown",
   "metadata": {
    "heading_collapsed": true,
    "jp-MarkdownHeadingCollapsed": true
   },
   "source": [
    "##### Parameters"
   ]
  },
  {
   "cell_type": "markdown",
   "metadata": {
    "hidden": true
   },
   "source": [
    "- [Parameters](https://docs.python.org/3/glossary.html#term-parameter)\n",
    "- [Positional-only](https://realpython.com/lessons/positional-only-arguments/)\n",
    "- [Positional-only](https://www.educative.io/answers/what-are-positional-only-arguments-in-python)\n",
    "- [PEP 3102 – Keyword-Only Arguments](https://peps.python.org/pep-3102/)"
   ]
  },
  {
   "cell_type": "code",
   "execution_count": null,
   "metadata": {
    "hidden": true
   },
   "outputs": [],
   "source": [
    "import inspect\n",
    "\n",
    "def example_function(param1, param2, *args, kwarg1=\"default1\", kwarg2=\"default2\", **kwargs):\n",
    "    parameters = inspect.signature(example_function).parameters\n",
    "    bound_args = inspect.signature(example_function).bind(param1, param2, *args, kwarg1=kwarg1, kwarg2=kwarg2, **kwargs)\n",
    "    param_values = bound_args.arguments\n",
    "    print(\"All parameters:\", param_values)\n",
    "\n",
    "# Test the function with various arguments\n",
    "example_function(1, 2, 3, kwarg1=\"John\", kwarg2=25)\n"
   ]
  },
  {
   "cell_type": "code",
   "execution_count": null,
   "metadata": {
    "hidden": true
   },
   "outputs": [],
   "source": [
    "def example_function(param1, param2, *args, kwarg1=\"default1\", kwarg2=\"default2\", **kwargs):\n",
    "    all_parameters = locals()\n",
    "    print(\"All parameters:\", all_parameters)\n",
    "\n",
    "# Test the function with various arguments\n",
    "example_function(1, 2, 3, kwarg1=\"John\", kwarg2=25)\n"
   ]
  },
  {
   "cell_type": "markdown",
   "metadata": {
    "hidden": true
   },
   "source": [
    "<b style=\"color:red\">There are five kinds of parameter</b>:"
   ]
  },
  {
   "cell_type": "markdown",
   "metadata": {
    "heading_collapsed": true,
    "hidden": true
   },
   "source": [
    "###### positional-or-keyword parameter"
   ]
  },
  {
   "cell_type": "markdown",
   "metadata": {
    "hidden": true
   },
   "source": [
    "- `positional-or-keyword parameter` specifies an argument that can be passed either positionally or as a keyword argument. This is the default kind of parameter"
   ]
  },
  {
   "cell_type": "code",
   "execution_count": null,
   "metadata": {
    "hidden": true
   },
   "outputs": [],
   "source": [
    "def func1(*args, **kargs): print(args, kargs)\n",
    "func1()\n",
    "func1(1, 2, p1=3, p2=2, p3=3)"
   ]
  },
  {
   "cell_type": "code",
   "execution_count": null,
   "metadata": {
    "hidden": true
   },
   "outputs": [],
   "source": [
    "def func1a(arg1, *args, **kargs): print(args, kargs)\n",
    "# func1a() # Errors: func1a() missing 1 required positional argument: 'arg1'\n",
    "func1a(1, 2, 3, p1=3, p2=2, p3=3)"
   ]
  },
  {
   "cell_type": "markdown",
   "metadata": {
    "heading_collapsed": true,
    "hidden": true
   },
   "source": [
    "###### Variable-positional Parameter"
   ]
  },
  {
   "cell_type": "markdown",
   "metadata": {
    "hidden": true
   },
   "source": [
    "- `Variable-positional Parameter` specifies that an arbitrary sequence of positional arguments can be provided (in addition to any positional arguments already accepted by other parameters)."
   ]
  },
  {
   "cell_type": "code",
   "execution_count": null,
   "metadata": {
    "hidden": true
   },
   "outputs": [],
   "source": [
    "def func2(arg1, *args):\n",
    "    print(arg1, args, \"==\"*30, sep=\"\\n\")\n",
    "\n",
    "func2(1)\n",
    "func2(1, 2)\n",
    "func2(1, 2, 3)\n",
    "# func2()         # Errors: func2() missing 1 required positional argument: 'arg1'\n",
    "# func2(1, p=2)   # Errors: func2() got an unexpected keyword argument 'p'"
   ]
  },
  {
   "cell_type": "markdown",
   "metadata": {
    "heading_collapsed": true,
    "hidden": true
   },
   "source": [
    "###### Variable-keyword Parameter"
   ]
  },
  {
   "cell_type": "markdown",
   "metadata": {
    "hidden": true
   },
   "source": [
    "- `Variable-keyword Parameter` specifies that arbitrarily many keyword arguments can be provided (in addition to any keyword arguments already accepted by other parameters). Such a parameter can be defined by prepending the parameter name with `**`."
   ]
  },
  {
   "cell_type": "code",
   "execution_count": null,
   "metadata": {
    "hidden": true
   },
   "outputs": [],
   "source": [
    "def func3(arg1, **kwargs): \n",
    "    print(arg1, kwargs, \"==\"*30, sep=\"\\n\")\n",
    "\n",
    "func3(1)\n",
    "func3(1, p1=2, p2=2)\n",
    "# func3()         # Errors: func2() missing 1 required positional argument: 'arg1'\n",
    "# func3(1, 2)   # Errors: func3() takes 1 positional argument but 2 were given"
   ]
  },
  {
   "cell_type": "markdown",
   "metadata": {
    "heading_collapsed": true,
    "hidden": true
   },
   "source": [
    "######  <b style=\"color:magenta\">positional-only parameter</b>"
   ]
  },
  {
   "cell_type": "markdown",
   "metadata": {
    "hidden": true
   },
   "source": [
    "- `positional-only parameter`: specifies an argument that can be supplied only by position. Positional-only parameters can be defined by including a `/` character in the parameter list of the function definition **after them**, for example posonly1 and posonly2 in the following:\n",
    "\n",
    "    - `def func(posonly1, posonly2, /, positional_or_keyword): ...`\n",
    "\n",
    "- <b style=\"color:RED;font-size:20px\">/</b> (Positional-Only Marker): This marker specifies that all preceding parameters (in this case, iterable) must be passed positionally.\n",
    "\n",
    "- Introduced in Python 3.8, this syntax ensures that certain arguments are always positional, which can help with clarity and preventing errors.\n"
   ]
  },
  {
   "cell_type": "code",
   "execution_count": null,
   "metadata": {
    "hidden": true
   },
   "outputs": [],
   "source": [
    "def func4(arg, /, kw1=\"Hello\"): print(arg, kw1)\n",
    "func4(1)\n",
    "func4(1,2)\n",
    "func4(1, kw1=2)\n",
    "# func4(arg=1)            # Error: func4() got some positional-only arguments passed as keyword arguments: 'arg'\n",
    "# func4(arg=1, kw1=2)     # Error: func4() got some positional-only arguments passed as keyword arguments: 'arg'\n",
    "# func4(1,2,3)            # Error: func4() takes from 1 to 2 positional arguments but 3 were given\n",
    "# func4(1,2,kw1=3)        # Error: func4() got multiple values for argument 'kw1'"
   ]
  },
  {
   "cell_type": "code",
   "execution_count": null,
   "metadata": {
    "hidden": true,
    "slideshow": {
     "slide_type": ""
    },
    "tags": []
   },
   "outputs": [],
   "source": [
    "def func_pop(arg1, arg2='hello'):\n",
    "    print(arg1, arg2)\n",
    "\n",
    "func_pop(1)\n",
    "func_pop(1,2)"
   ]
  },
  {
   "cell_type": "markdown",
   "metadata": {
    "heading_collapsed": true,
    "hidden": true
   },
   "source": [
    "###### <b style=\"color:magenta\">keyword-only parameter</b>"
   ]
  },
  {
   "cell_type": "markdown",
   "metadata": {
    "hidden": true
   },
   "source": [
    "- <b style=\"\">keyword-only parameter</b>: specifies an argument that can be supplied only by keyword. Keyword-only parameters can be defined by including a single var-positional parameter or bare * in the parameter list of the function definition **before them**. For example kw_only1 and kw_only2 in the following:\n",
    "\n",
    "    - `def func(arg, *, kw_only1, kw_only2): ...`\n",
    "\n",
    "- <b style=\"color:RED;font-size:30px\">\\*</b> (Keyword-Only Marker): The `*` indicates that all parameters following it must be passed as keyword arguments.\n",
    "\n",
    "- This enforces that `kw_only1` and `kw_only2` must be specified using their names when calling the function."
   ]
  },
  {
   "cell_type": "code",
   "execution_count": null,
   "metadata": {
    "hidden": true
   },
   "outputs": [],
   "source": [
    "def func5(arg, *, kw1=\"Hello\"): print(arg, kw1)\n",
    "func5(10)\n",
    "func5(10, kw1=2)\n",
    "# func5(10,2)               # Error: func5() takes 1 positional argument but 2 were given\n",
    "# func5(10, kw1=1, kw2=2)   # Error: func5() got an unexpected keyword argument 'kw2'"
   ]
  },
  {
   "cell_type": "markdown",
   "metadata": {
    "heading_collapsed": true,
    "jp-MarkdownHeadingCollapsed": true
   },
   "source": [
    "##### Decorator"
   ]
  },
  {
   "cell_type": "markdown",
   "metadata": {
    "hidden": true
   },
   "source": [
    "\n",
    "A decorator is a design pattern that allows you to extend or modify the behavior of a callable object (functions, methods, or classes) without modifying its source code. Decorators are applied using the `@decorator` syntax, where decorator is a function or a class that takes a function as an argument and returns a new function.\n",
    "\n",
    "Decorators are commonly used for various purposes, such as logging, authorization, caching, and code instrumentation. They provide a clean and reusable way to extend the functionality of functions or methods. Additionally, Python has some built-in decorators (e.g., `@staticmethod`, `@classmethod`, `@property`) and third-party libraries offer many more for different use cases.\n"
   ]
  },
  {
   "cell_type": "markdown",
   "metadata": {
    "hidden": true
   },
   "source": [
    "- [Corey Scheifer: Decorators - Dynamically Alter The Functionality Of Your Functions](https://www.youtube.com/watch?v=FsAPt_9Bf3U&t=1489s)\n",
    "- [Decorators With Arguments](https://www.youtube.com/watch?v=KlBPCzcQNU8)\n",
    "- [Property Decorators - Getters, Setters, and Deleters](https://www.youtube.com/watch?v=jCzT9XFZ5bw)\n",
    "- [Primer on Python Decorators](https://realpython.com/primer-on-python-decorators/#functions)"
   ]
  },
  {
   "cell_type": "code",
   "execution_count": null,
   "metadata": {
    "hidden": true
   },
   "outputs": [],
   "source": [
    "from functools import wraps"
   ]
  },
  {
   "cell_type": "code",
   "execution_count": null,
   "metadata": {
    "hidden": true
   },
   "outputs": [],
   "source": [
    "def my_decorator(func):\n",
    "    print(\"This is from outside of wraper but inside the my_decorator. We usually don't do anything in this scope\")\n",
    "    \n",
    "    def wrapper(p):\n",
    "        print(\"The beauty of the decorators lies in the fact that besides adding functionality to the output of the method, they can even accept arguments for functions and can further modify those arguments before passing it to the function itself.\")\n",
    "        print(f\"NOTE: How all arguments of the decorating function passed into the 'WRAPPER'\")\n",
    "        func(p)\n",
    "        print(\"Something is happening after the function is called.\")\n",
    "    \n",
    "    return wrapper\n",
    "\n",
    "def greeting(name):\n",
    "    print(f\"Hello {name}\")"
   ]
  },
  {
   "cell_type": "code",
   "execution_count": null,
   "metadata": {
    "hidden": true
   },
   "outputs": [],
   "source": [
    "greeting = my_decorator(greeting)"
   ]
  },
  {
   "cell_type": "code",
   "execution_count": null,
   "metadata": {
    "hidden": true
   },
   "outputs": [],
   "source": [
    "greeting('Sarah')"
   ]
  },
  {
   "cell_type": "markdown",
   "metadata": {
    "hidden": true
   },
   "source": [
    "- The way you decorated `greeting('Sara')` above is a little clunky. First of all, you end up typing the name `greeting` three times. In addition, the decoration gets a bit hidden away below the definition of the function.\n",
    "\n",
    "- Python allows you to use decorators in a simpler way with the `@` symbol, sometimes called the “pie” syntax. The following example does the exact same thing as the first decorator example:"
   ]
  },
  {
   "cell_type": "code",
   "execution_count": null,
   "metadata": {
    "hidden": true
   },
   "outputs": [],
   "source": [
    "# say_hello = my_decorator(greeting)\n",
    "# say_hello('Sara')"
   ]
  },
  {
   "cell_type": "code",
   "execution_count": null,
   "metadata": {
    "hidden": true
   },
   "outputs": [],
   "source": [
    "@my_decorator\n",
    "def greeting(name):\n",
    "    print(f\"Hello {name}\")"
   ]
  },
  {
   "cell_type": "code",
   "execution_count": null,
   "metadata": {
    "hidden": true
   },
   "outputs": [],
   "source": [
    "greeting('Sara')"
   ]
  },
  {
   "cell_type": "code",
   "execution_count": null,
   "metadata": {
    "hidden": true
   },
   "outputs": [],
   "source": [
    "\n",
    "# decorator function to split words\n",
    "def splitter_decorator(function):\n",
    "    print(f\"Started Executing: {splitter_decorator.__name__}\")\n",
    "\n",
    "    def wrapper2(p1, p2):\n",
    "        print(f\"Started Executing: {wrapper2.__name__}\")\n",
    "        print(f\"About to execute: {function.__name__}\")\n",
    "        func = function(p1, p2)\n",
    "        return func.split()\n",
    "    \n",
    "    return wrapper2\n",
    "\n",
    "\n",
    "# decorator function to convert to lowercase\n",
    "def uppercase_decorator(function):\n",
    "    print(f\"Started Executing: {uppercase_decorator.__name__}\")\n",
    "\n",
    "    def wrapper1(p1, p2):\n",
    "        print(f\"Started Executing: {wrapper1.__name__}\")\n",
    "        print(f\"About to execute: {function.__name__}\")\n",
    "        func = function(p1, p2)\n",
    "        return func.upper()\n",
    "    \n",
    "    return wrapper1"
   ]
  },
  {
   "cell_type": "code",
   "execution_count": null,
   "metadata": {
    "hidden": true
   },
   "outputs": [],
   "source": [
    "@splitter_decorator # this is executed first\n",
    "@uppercase_decorator # this is executed next\n",
    "def hello(to_name, from_name):\n",
    "    return f\"hello {to_name}\""
   ]
  },
  {
   "cell_type": "code",
   "execution_count": null,
   "metadata": {
    "hidden": true
   },
   "outputs": [],
   "source": [
    "hello('Sara', 'Shah')   # output => [ 'hello' , 'world' ]"
   ]
  },
  {
   "cell_type": "markdown",
   "metadata": {
    "hidden": true
   },
   "source": [
    "- The beauty of the decorators lies in the fact that besides adding functionality to the output of the method, they can even accept arguments for functions and can further modify those arguments before passing it to the function itself. \n",
    "\n",
    "- The inner nested function, i.e. 'wrapper' function, plays a significant role here. It is implemented to enforce encapsulation and thus, keep itself hidden from the global scope."
   ]
  },
  {
   "cell_type": "code",
   "execution_count": null,
   "metadata": {
    "hidden": true
   },
   "outputs": [],
   "source": [
    "# decorator function to capitalize names\n",
    "def names_decorator(function):\n",
    "    def wrapper(arg1, arg2):\n",
    "        arg1 = arg1.capitalize()\n",
    "        arg2 = arg2.capitalize()\n",
    "        return function(arg1, arg2)\n",
    "    return wrapper"
   ]
  },
  {
   "cell_type": "code",
   "execution_count": null,
   "metadata": {
    "hidden": true
   },
   "outputs": [],
   "source": [
    "@names_decorator\n",
    "def say_hello(name1, name2):\n",
    "    return 'Hello ' + name1 + '! Hello ' + name2 + '!'"
   ]
  },
  {
   "cell_type": "code",
   "execution_count": null,
   "metadata": {
    "hidden": true
   },
   "outputs": [],
   "source": [
    "say_hello('sara', 'ansh')   # output => 'Hello Sara! Hello Ansh!'"
   ]
  },
  {
   "cell_type": "markdown",
   "metadata": {
    "hidden": true
   },
   "source": [
    "The `functools.wraps` decorator in Python is used to preserve the metadata of a wrapped function when creating a decorator. When you create a decorator to modify or enhance the behavior of a function, it's important to maintain information such as the function's name, docstring, and module.\n",
    "\n",
    "Here's how `functools.wraps` works:\n",
    "\n",
    "- `Decorating a Decorator`:\n",
    "    - When you create a decorator using another function, you typically wrap the original function with some additional behavior. However, doing so can result in the loss of the original function's metadata.\n",
    "\n",
    "- `Preserving Metadata`:\n",
    "    - To prevent the loss of metadata, you use the `functools.wraps` decorator to wrap the inner function of your decorator. This ensures that the inner function retains the attributes of the original function."
   ]
  },
  {
   "cell_type": "code",
   "execution_count": null,
   "metadata": {
    "hidden": true
   },
   "outputs": [],
   "source": [
    "def capitalize_input(func):\n",
    "    @functools.wraps(func)\n",
    "    def wraper(*args, **kwargs):\n",
    "        inputs = [val.capitalize() for val in args]\n",
    "        kwargs = {key: val.capitalize() for key,val in kwargs.items()}\n",
    "        return func(*inputs, **kwargs)\n",
    "    return wraper"
   ]
  },
  {
   "cell_type": "code",
   "execution_count": null,
   "metadata": {
    "hidden": true
   },
   "outputs": [],
   "source": [
    "@capitalize_input\n",
    "def say_hello(name1, name2, name3):\n",
    "    return f\"\"\"Hello {name1}! Hello {name2}! Hello {name3}\"\"\""
   ]
  },
  {
   "cell_type": "code",
   "execution_count": null,
   "metadata": {
    "hidden": true
   },
   "outputs": [],
   "source": [
    "say_hello('biden', 'sara', 'clinton')   # output => 'Hello Sara! Hello Ansh!'"
   ]
  },
  {
   "cell_type": "code",
   "execution_count": null,
   "metadata": {
    "hidden": true
   },
   "outputs": [],
   "source": []
  },
  {
   "cell_type": "code",
   "execution_count": null,
   "metadata": {
    "hidden": true
   },
   "outputs": [],
   "source": [
    "# dir(register)"
   ]
  },
  {
   "cell_type": "markdown",
   "metadata": {
    "heading_collapsed": true,
    "hidden": true,
    "jp-MarkdownHeadingCollapsed": true
   },
   "source": [
    "###### Example 1:"
   ]
  },
  {
   "cell_type": "code",
   "execution_count": null,
   "metadata": {
    "hidden": true
   },
   "outputs": [],
   "source": [
    "\n",
    "# Decorator 3\n",
    "def multiply_decorator(factor):\n",
    "    print(f\"Started Executing: {multiply_decorator.__name__}\")\n",
    "    def decorator1(func):\n",
    "        print(f\"Started Executing: {decorator1.__name__}\")\n",
    "        def wrapper1(*args, **kwargs):\n",
    "            print(f\"Started Executing: {wrapper1.__name__}\")\n",
    "            print(args, kwargs) # (3, 4) {}\n",
    "            print(f\"About to execute {func.__name__}\") # About to execute wrapper2\n",
    "\n",
    "            result = func(*args, **kwargs)\n",
    "            return result * factor\n",
    "        return wrapper1\n",
    "    return decorator1\n",
    "\n",
    "# Decorator 2\n",
    "def add_decorator(value):\n",
    "    print(f\"Started Executing: {add_decorator.__name__}\")\n",
    "    def decorator2(func):\n",
    "        print(f\"Started Executing: {decorator2.__name__}\")\n",
    "        def wrapper2(*args, **kwargs):\n",
    "            print(f\"Started Executing: {wrapper2.__name__}\")\n",
    "            print(args, kwargs) # (3, 4) {}\n",
    "            print(f\"About to execute {func.__name__}\") # About to execute wrapper3\n",
    "\n",
    "            result = func(*args, **kwargs)\n",
    "            return result + value\n",
    "        return wrapper2\n",
    "    return decorator2\n",
    "\n",
    "\n",
    "# Decorator 1\n",
    "def stringify_decorator(func):\n",
    "    print(f\"Started Executing: {stringify_decorator.__name__}\")\n",
    "    def wrapper3(*args, **kwargs):\n",
    "        print(f\"Started Executing: {wrapper3.__name__}\")\n",
    "        print(args, kwargs) # (3, 4) {}\n",
    "        print(f\"About to execute {func.__name__}\") # About to execute calculate_sum\n",
    "        result = func(*args, **kwargs)\n",
    "        return str(result)\n",
    "    return wrapper3\n"
   ]
  },
  {
   "cell_type": "code",
   "execution_count": null,
   "metadata": {
    "hidden": true
   },
   "outputs": [],
   "source": [
    "# Applying the decorators in a chain with multiple parameters\n",
    "@stringify_decorator   ##  Observe: `stringify_decorator` function has not been called\n",
    "@add_decorator(5)      ##  Observe: `add_decorator(5)` function has been called\n",
    "@multiply_decorator(2) ##  Observe: `multiply_decorator(2)` function has been called\n",
    "def calculate_sum(a, b):\n",
    "    return a + b"
   ]
  },
  {
   "cell_type": "code",
   "execution_count": null,
   "metadata": {
    "hidden": true
   },
   "outputs": [],
   "source": [
    "# Calling the decorated function\n",
    "result = calculate_sum(3, 4)\n",
    "\n",
    "print(\"Final Result:\", result)"
   ]
  },
  {
   "cell_type": "markdown",
   "metadata": {
    "heading_collapsed": true,
    "hidden": true,
    "jp-MarkdownHeadingCollapsed": true
   },
   "source": [
    "######  Example2 ([Decorator: Corey Scheifer](https://www.youtube.com/watch?v=FsAPt_9Bf3U))"
   ]
  },
  {
   "cell_type": "markdown",
   "metadata": {
    "hidden": true
   },
   "source": [
    "- HOW `functools.wraps` WORKS !!\n",
    "\n",
    "When you define a decorator without using functools.wraps, the decorated function might lose some of its original attributes. The `functools.wraps` decorator is a utility function that is used when creating decorators to ensure that the decorated function maintains its original identity, such as its name, docstring, and other attributes. This helps in preserving the metadata of the original function, making the code more readable and maintaining introspection capabilities."
   ]
  },
  {
   "cell_type": "markdown",
   "metadata": {
    "hidden": true
   },
   "source": [
    "When you use `@functools.wraps(func)` inside a decorator, it essentially does the following:\n",
    "\n",
    "- Copies the relevant attributes from the original function (func) to the wrapper function.\n",
    "- Updates the wrapper function's **\\_\\_wrapped\\_\\_** attribute to reference the original function.\n",
    "Here's a simplified version of what functools.wraps does:"
   ]
  },
  {
   "cell_type": "code",
   "execution_count": null,
   "metadata": {
    "hidden": true
   },
   "outputs": [],
   "source": [
    "\n",
    "def wraps(original_function):\n",
    "    def decorator(wrapper_function):\n",
    "        # Copy attributes from original to wrapper\n",
    "        wrapper_function.__module__ = original_function.__module__\n",
    "        wrapper_function.__name__ = original_function.__name__\n",
    "        wrapper_function.__qualname__ = original_function.__qualname__\n",
    "        wrapper_function.__annotations__ = getattr(original_function, '__annotations__', {})\n",
    "        \n",
    "        # Set __wrapped__ attribute to reference the original function\n",
    "        wrapper_function.__wrapped__ = original_function\n",
    "        \n",
    "        return wrapper_function\n",
    "\n",
    "    return decorator\n",
    "\n",
    "def orig_func():\n",
    "    pass\n",
    "\n",
    "# Example usage:\n",
    "@wraps(orig_func)\n",
    "def my_decorator(func):\n",
    "    def wrapper(*args, **kwargs):\n",
    "        # Custom logic\n",
    "        return func(*args, **kwargs)\n",
    "    return wrapper\n",
    "##############################################################################"
   ]
  },
  {
   "cell_type": "code",
   "execution_count": null,
   "metadata": {
    "hidden": true
   },
   "outputs": [],
   "source": [
    "from functools import wraps\n",
    "\n",
    "def my_logger(orig_func):\n",
    "    import logging\n",
    "    logging.basicConfig(filename='{}.log'.format(orig_func.__name__), level=logging.INFO)\n",
    "\n",
    "    @wraps(orig_func)\n",
    "    def wrapper(*args, **kwargs):\n",
    "        logging.info(\n",
    "            'Ran with args: {}, and kwargs: {}'.format(args, kwargs))\n",
    "        return orig_func(*args, **kwargs)\n",
    "\n",
    "    return wrapper\n",
    "\n",
    "\n",
    "def my_timer(orig_func):\n",
    "    import time\n",
    "\n",
    "    @wraps(orig_func)\n",
    "    def wrapper(*args, **kwargs):\n",
    "        t1 = time.time()\n",
    "        result = orig_func(*args, **kwargs)\n",
    "        t2 = time.time() - t1\n",
    "        print('{} ran in: {} sec'.format(orig_func.__name__, t2))\n",
    "        return result\n",
    "\n",
    "    return wrapper\n",
    "\n",
    "import time\n",
    "\n",
    "\n",
    "# @my_logger\n",
    "# @my_timer\n",
    "def display_info(name, age):\n",
    "    time.sleep(1)\n",
    "    print('display_info ran with arguments ({}, {})'.format(name, age))\n",
    "\n",
    "# display_info('Tom', 22)\n",
    "\n",
    "display_info = my_timer(display_info)\n",
    "print(display_info.__name__)\n"
   ]
  },
  {
   "cell_type": "markdown",
   "metadata": {
    "heading_collapsed": true,
    "hidden": true
   },
   "source": [
    "###### Basic Class Decorator\n",
    "\n",
    "- A simple class decorator that adds a new method to the class."
   ]
  },
  {
   "cell_type": "code",
   "execution_count": null,
   "metadata": {
    "hidden": true
   },
   "outputs": [],
   "source": [
    "def add_greet_method(cls):\n",
    "    cls.greet = lambda self: f\"Hello, {self.name}!\"\n",
    "    return cls\n",
    "\n",
    "@add_greet_method\n",
    "class Person:\n",
    "    def __init__(self, name):\n",
    "        self.name = name\n",
    "\n",
    "person = Person(\"Alice\")\n",
    "print(person.greet())  # Output: Hello, Alice!"
   ]
  },
  {
   "cell_type": "markdown",
   "metadata": {
    "heading_collapsed": true,
    "hidden": true
   },
   "source": [
    "###### Logging Class Decorator\n",
    "\n",
    "- A class decorator that logs the creation of a class instance."
   ]
  },
  {
   "cell_type": "code",
   "execution_count": null,
   "metadata": {
    "hidden": true
   },
   "outputs": [],
   "source": [
    "def log_class(cls):\n",
    "    original_init = cls.__init__\n",
    "\n",
    "    def new_init(self, *args, **kwargs):\n",
    "        print(f\"Creating instance of {cls.__name__}\")\n",
    "        original_init(self, *args, **kwargs)\n",
    "\n",
    "    cls.__init__ = new_init\n",
    "    return cls\n",
    "\n",
    "@log_class\n",
    "class Animal:\n",
    "    def __init__(self, species):\n",
    "        self.species = species\n",
    "\n",
    "dog = Animal(\"Dog\")  # Output: Creating instance of Animal"
   ]
  },
  {
   "cell_type": "markdown",
   "metadata": {
    "heading_collapsed": true,
    "hidden": true
   },
   "source": [
    "###### Singleton Class Decorator\n",
    "\n",
    "- A class decorator that ensures a class has only one instance (singleton pattern)."
   ]
  },
  {
   "cell_type": "code",
   "execution_count": null,
   "metadata": {
    "hidden": true
   },
   "outputs": [],
   "source": [
    "def singleton(cls):\n",
    "    instances = {}\n",
    "\n",
    "    def get_instance(*args, **kwargs):\n",
    "        if cls not in instances:\n",
    "            instances[cls] = cls(*args, **kwargs)\n",
    "        return instances[cls]\n",
    "\n",
    "    return get_instance\n",
    "\n",
    "@singleton\n",
    "class Database:\n",
    "    def __init__(self):\n",
    "        self.connection = \"Connected to database\"\n",
    "\n",
    "db1 = Database()\n",
    "db2 = Database()\n",
    "print(db1 is db2)  # Output: True"
   ]
  },
  {
   "cell_type": "markdown",
   "metadata": {
    "heading_collapsed": true,
    "hidden": true
   },
   "source": [
    "###### Applying Multiple Decorators\n",
    "\n",
    "- Multiple decorators can be applied to a class, just like with functions."
   ]
  },
  {
   "cell_type": "code",
   "execution_count": null,
   "metadata": {
    "hidden": true
   },
   "outputs": [],
   "source": [
    "def decorator1(cls):\n",
    "    cls.decorated1 = True\n",
    "    return cls\n",
    "\n",
    "def decorator2(cls):\n",
    "    cls.decorated2 = True\n",
    "    return cls\n",
    "\n",
    "@decorator1\n",
    "@decorator2\n",
    "class Example:\n",
    "    pass\n",
    "\n",
    "example = Example()\n",
    "print(example.decorated1)  # Output: True\n",
    "print(example.decorated2)  # Output: True"
   ]
  },
  {
   "cell_type": "markdown",
   "metadata": {
    "heading_collapsed": true,
    "hidden": true
   },
   "source": [
    "###### Using a Class as a Decorator\n",
    "\n",
    "- A class itself can be used as a decorator."
   ]
  },
  {
   "cell_type": "code",
   "execution_count": null,
   "metadata": {
    "hidden": true
   },
   "outputs": [],
   "source": [
    "class MyDecorator:\n",
    "    def __init__(self, cls):\n",
    "        self.cls = cls\n",
    "\n",
    "    def __call__(self, *args, **kwargs):\n",
    "        instance = self.cls(*args, **kwargs)\n",
    "        instance.decorated = True\n",
    "        return instance\n",
    "\n",
    "@MyDecorator\n",
    "class Sample:\n",
    "    def __init__(self, value):\n",
    "        self.value = value\n",
    "\n",
    "sample = Sample(42)\n",
    "print(sample.value)     # Output: 42\n",
    "print(sample.decorated) # Output: True"
   ]
  },
  {
   "cell_type": "markdown",
   "metadata": {
    "heading_collapsed": true,
    "jp-MarkdownHeadingCollapsed": true
   },
   "source": [
    "##### Context Manager"
   ]
  },
  {
   "cell_type": "markdown",
   "metadata": {},
   "source": [
    "A context manager in Python is an object that is designed to be used with the **with** statement to <b style=\"color:green\">set up</b> and <b style=\"color:green\">tear down</b> resources, such as opening and closing a file, acquiring and releasing a lock, or connecting and disconnecting from a database. Context managers ensure that certain actions are taken before and after a block of code is executed. It defines two methods `__enter__()` and `__exit__()`. When the **with**-statement is executed, it calls the `__enter__()` method of the context manager, which initializes the setup process of the resources and return it. Then, the block of code inside the **with**-statement is executed. Finally, when the block is exited, the `__exit__()` method is called, which ensures the tear down process of the resources, even if an exception occurred within the block.\n",
    "\n",
    "The **with** statement provides a convenient and readable way to work with resources, and it guarantees that the resources are properly acquired and released even if an exception occurs within the block."
   ]
  },
  {
   "cell_type": "markdown",
   "metadata": {
    "hidden": true
   },
   "source": [
    "- [3 Ways to create Context Managers in Python](https://medium.com/swlh/3-ways-to-create-context-managers-in-python-a88e3ba536f3)\n",
    "- [Corey: Context Managers - Efficiently Managing Resources](https://www.youtube.com/watch?v=-aKFBoZpiqA&list=RDCMUCCezIgC97PvUuR4_gbFUs5g&index=16)\n",
    "- [DOCS: Context Manager In Details](https://www.youtube.com/watch?v=14z_Tf3p2Mw)"
   ]
  },
  {
   "cell_type": "code",
   "execution_count": null,
   "metadata": {
    "hidden": true
   },
   "outputs": [],
   "source": [
    "import os, sqlite3"
   ]
  },
  {
   "cell_type": "markdown",
   "metadata": {
    "hidden": true
   },
   "source": [
    "- `Connect database without Context Manager`"
   ]
  },
  {
   "cell_type": "code",
   "execution_count": null,
   "metadata": {
    "hidden": true
   },
   "outputs": [],
   "source": [
    "path = '/Users/am/mydocs/Software_Development/notes_hub/data'\n",
    "\n",
    "con = sqlite3.connect(path + '/application.db')\n",
    "cur = con.cursor()\n",
    "\n",
    "# Drop table if it already exist\n",
    "cur.execute(\"DROP TABLE blogs\")\n",
    "\n",
    "# Create table\n",
    "cur.execute('''CREATE TABLE blogs (id text not null primary key, date text, title text, content text, public integer)''')\n",
    "\n",
    "# Insert a few rows of data\n",
    "cur.execute(\"INSERT INTO blogs VALUES ('first-blog', '2021-03-07', 'My first blog' ,'Some content', 1)\")\n",
    "cur.execute(\"INSERT INTO blogs VALUES ('private-blog', '2021-03-07', 'Secret blog' ,'This is a secret', 0)\")\n",
    "\n",
    "# Save (commit) the changes\n",
    "con.commit()\n",
    "\n",
    "# We can also close the connection if we are done with it.\n",
    "# Just be sure any changes have been committed or they will be lost.\n",
    "con.close()"
   ]
  },
  {
   "cell_type": "markdown",
   "metadata": {
    "hidden": true
   },
   "source": [
    "- `Alternative way to connect database without Context Manager`"
   ]
  },
  {
   "cell_type": "code",
   "execution_count": null,
   "metadata": {
    "hidden": true
   },
   "outputs": [],
   "source": [
    "def main():\n",
    "    logging.basicConfig(level=logging.INFO)\n",
    "    \n",
    "    connection = sqlite3.connect(path + \"/application.db\")\n",
    "    try:\n",
    "        cursor = connection.cursor()\n",
    "        cursor.execute(\"SELECT * FROM blogs\")\n",
    "        logging.info(cursor.fetchall())\n",
    "    finally:\n",
    "        connection.close()\n",
    "# ===============================\n",
    "main()"
   ]
  },
  {
   "cell_type": "markdown",
   "metadata": {
    "hidden": true
   },
   "source": [
    "- `Class Version of a Context Manager to handle the resource management above`:"
   ]
  },
  {
   "cell_type": "code",
   "execution_count": null,
   "metadata": {
    "hidden": true
   },
   "outputs": [],
   "source": [
    "import logging\n",
    "import sqlite3"
   ]
  },
  {
   "cell_type": "code",
   "execution_count": null,
   "metadata": {
    "hidden": true
   },
   "outputs": [],
   "source": [
    "class SQLite:\n",
    "    def __init__(self, file_name: str):\n",
    "        self.file_name = file_name\n",
    "        self.connection = sqlite3.connect(self.file_name)\n",
    "\n",
    "    def __enter__(self):\n",
    "        logging.info(\"Calling __enter__\")\n",
    "        return self.connection.cursor()\n",
    "\n",
    "    def __exit__(self, error: Exception, value: object, traceback: object):\n",
    "        logging.info(\"Calling __exit__\")\n",
    "        self.connection.commit()\n",
    "        self.connection.close()\n",
    "\n",
    "# ======================================================\n",
    "def main_class_version():\n",
    "    logging.basicConfig(level=logging.INFO)\n",
    "    with SQLite(file_name=path + \"/application.db\") as cursor:\n",
    "        cursor.execute(\"SELECT * FROM blogs\")\n",
    "        logging.info(cursor.fetchall())\n",
    "# ======================================================\n",
    "main_class_version()"
   ]
  },
  {
   "cell_type": "markdown",
   "metadata": {
    "hidden": true
   },
   "source": [
    "- `Decorator Version of a the Context Manager`:"
   ]
  },
  {
   "cell_type": "markdown",
   "metadata": {
    "hidden": true
   },
   "source": [
    "The contextlib module provides a decorator contextmanager that simplifies the creation of context managers. It allows you to define a generator function with a single yield statement, where everything before the yield serves as the \\_\\_enter\\_\\_ method, and everything after the yield serves as the \\_\\_exit\\_\\_ method."
   ]
  },
  {
   "cell_type": "code",
   "execution_count": null,
   "metadata": {
    "hidden": true
   },
   "outputs": [],
   "source": [
    "from contextlib import contextmanager\n",
    "\n",
    "@contextmanager\n",
    "def open_db(file_name: str):\n",
    "    conn = sqlite3.connect(file_name)\n",
    "    try:\n",
    "        logging.info(\"Creating connection\")\n",
    "        yield conn.cursor()\n",
    "    finally:\n",
    "        logging.info(\"Closing connection\")\n",
    "        conn.commit()\n",
    "        conn.close()\n",
    "\n",
    "# ====================================================\n",
    "def main_decorator_version():\n",
    "    logging.basicConfig(level=logging.INFO)\n",
    "    with open_db(file_name=path+\"/application.db\") as cursor:\n",
    "        cursor.execute(\"SELECT * FROM blogs\")\n",
    "        logging.info(cursor.fetchall())\n",
    "# =====================================================\n",
    "main_decorator_version()"
   ]
  },
  {
   "cell_type": "markdown",
   "metadata": {
    "hidden": true
   },
   "source": [
    "- `Async Version of the Context Manager`:"
   ]
  },
  {
   "cell_type": "code",
   "execution_count": null,
   "metadata": {
    "hidden": true
   },
   "outputs": [],
   "source": []
  },
  {
   "cell_type": "markdown",
   "metadata": {
    "heading_collapsed": true,
    "hidden": true
   },
   "source": [
    "###### Asynchronous Context Manager"
   ]
  },
  {
   "cell_type": "markdown",
   "metadata": {
    "hidden": true
   },
   "source": [
    "An Asynchronous Context Manager in Python is an object that supports asynchronous context management protocol. It allows you to define asynchronous resource management logic using the `async with` statement within asynchronous code (coroutines). Asynchronous context managers are used to acquire and release resources in an asynchronous manner, typically in scenarios where resource acquisition or release involves I/O-bound operations.\n",
    "\n",
    "-   An asynchronous context manager is an object that implements `__aenter__()` and `__aexit__()` methods, similar to regular context managers (`__enter__()` and `__exit__()` methods).\n",
    "-   When the `async with` statement is encountered, it calls the `__aenter__()` method of the asynchronous context manager object to acquire the resource asynchronously.\n",
    "-   The result of `__aenter__()` (if any) is assigned to the <variable> specified in the `async with` statement.\n",
    "-   The <statements> within the `async with` block are executed asynchronously.\n",
    "-   After the <statements> are executed or if an exception occurs within the block, the `__aexit__()` method of the asynchronous context manager is called to release the acquired resource asynchronously."
   ]
  },
  {
   "cell_type": "code",
   "execution_count": null,
   "metadata": {
    "collapsed": true,
    "hidden": true,
    "jupyter": {
     "outputs_hidden": true
    }
   },
   "outputs": [],
   "source": [
    "import asyncio\n",
    "import logging\n",
    "import aiosqlite\n",
    "\n",
    "async def main():\n",
    "    logging.basicConfig(level=logging.INFO)\n",
    "    # async with aiosqlite.connect(\"application.db\") as db:\n",
    "    #     async with db.execute(\"SELECT * FROM blogs\") as cursor:\n",
    "    #         logging.info(await cursor.fetchall())\n",
    "    db = await aiosqlite.connect(path+\"/application.db\")\n",
    "    cursor = await db.execute(\"SELECT * FROM blogs\")\n",
    "    logging.info(await cursor.fetchall())\n",
    "\n",
    "# =========================================================\n",
    "# asyncio.run(main())"
   ]
  },
  {
   "cell_type": "code",
   "execution_count": null,
   "metadata": {
    "hidden": true
   },
   "outputs": [],
   "source": [
    "import asyncio\n",
    "\n",
    "class AsyncResource:\n",
    "    async def __aenter__(self):\n",
    "        print(\"Acquiring resource asynchronously\")\n",
    "        await asyncio.sleep(1)  # Simulating asynchronous resource acquisition\n",
    "        return \"Resource\"\n",
    "\n",
    "    async def __aexit__(self, exc_type, exc_value, traceback):\n",
    "        print(\"Releasing resource asynchronously\")\n",
    "        await asyncio.sleep(1)  # Simulating asynchronous resource release\n",
    "\n",
    "async def main():\n",
    "    async with AsyncResource() as resource:\n",
    "        print(\"Using resource:\", resource)\n",
    "        # Perform asynchronous operations with resource\n",
    "\n",
    "# asyncio.run(main())"
   ]
  },
  {
   "cell_type": "markdown",
   "metadata": {
    "hidden": true
   },
   "source": [
    "Asynchronous context managers is particularly useful in asynchronous programming when working with resources that need to be acquired and released in an asynchronous manner, such as database connections, network sockets, or file I/O operations. It helps manage resources efficiently while ensuring proper cleanup even in the presence of exceptions."
   ]
  },
  {
   "cell_type": "markdown",
   "metadata": {
    "heading_collapsed": true,
    "jp-MarkdownHeadingCollapsed": true
   },
   "source": [
    "##### Iterator"
   ]
  },
  {
   "cell_type": "markdown",
   "metadata": {
    "hidden": true
   },
   "source": [
    "\n",
    "An iterator is an object that provide the mechanics to iterate over a stream of data. Iterators are used to traverse through a sequence of elements, one at a time, and they implement two main methods:\n",
    "\n",
    "**\\_\\_iter\\_\\_**: This method returns the iterator object itself. It is required for an object to be considered an iterator.\n",
    "\n",
    "**\\_\\_next\\_\\_**: This method returns the next element from the iterator. When there are no more elements, it should raise the **StopIteration** exception to signal the end of the iteration.\n",
    "\n",
    "To create an iterator in Python, you can define a class with the **\\_\\_iter\\_\\_** and **\\_\\_next\\_\\_** methods. Alternatively, you can use the **iter()** and **next()** functions to create and interact with iterators.\n",
    "\n",
    "**Notes**:\n",
    "\n",
    "-   It remembers its state i.e., where it is during iteration (see code below to see how)\n",
    "-   It is also self-iterable.\n",
    "-   Iterators are objects with which we can iterate over iterable objects like lists, strings, etc.\n"
   ]
  },
  {
   "cell_type": "markdown",
   "metadata": {
    "hidden": true
   },
   "source": [
    "- [Corey: Iterators and Iterables - What Are They and How Do They Work?](https://www.youtube.com/watch?v=jTYiNjvnHZY&list=RDCMUCCezIgC97PvUuR4_gbFUs5g&index=2)"
   ]
  },
  {
   "cell_type": "code",
   "execution_count": null,
   "metadata": {
    "code_folding": [
     5
    ],
    "hidden": true
   },
   "outputs": [],
   "source": [
    "from math import *\n",
    "\n",
    "################ Python3 Doc => Tutorial: 9.8 [Iterator & Generator] ##########\n",
    "\n",
    "# Taken From: https://docs.python.org/3/library/itertools.html#itertools.permutations\n",
    "def permutations(iterable, r=None):\n",
    "    # permutations('ABCD', 2) --> AB AC AD BA BC BD CA CB CD DA DB DC\n",
    "    # permutations(range(3)) --> 012 021 102 120 201 210\n",
    "    pool = tuple(iterable)\n",
    "    n = len(pool)\n",
    "    r = n if r is None else r\n",
    "    if r > n:\n",
    "        return\n",
    "    indices = list(range(n))\n",
    "    cycles = list(range(n, n-r, -1))\n",
    "    yield tuple(pool[i] for i in indices[:r])\n",
    "    while n:\n",
    "        for i in reversed(range(r)):\n",
    "            cycles[i] -= 1\n",
    "            if cycles[i] == 0:\n",
    "                indices[i:] = indices[i+1:] + indices[i:i+1]\n",
    "                cycles[i] = n - i\n",
    "            else:\n",
    "                j = cycles[i]\n",
    "                indices[i], indices[-j] = indices[-j], indices[i]\n",
    "                yield tuple(pool[i] for i in indices[:r])\n",
    "                break\n",
    "        else:\n",
    "            return\n",
    "\n",
    "\n",
    "def permutations(iterable, r=None):\n",
    "    pool = tuple(iterable)\n",
    "    n = len(pool)\n",
    "    r = n if r is None else r\n",
    "    for indices in product(range(n), repeat=r):\n",
    "        if len(set(indices)) == r:\n",
    "            yield tuple(pool[i] for i in indices)"
   ]
  },
  {
   "cell_type": "code",
   "execution_count": null,
   "metadata": {
    "hidden": true
   },
   "outputs": [],
   "source": [
    "class Reverse:\n",
    "    \"\"\"Iterator for looping over a sequence backwards.\"\"\" \n",
    "    def __init__(self, data):\n",
    "            self.data = data\n",
    "            self.index = len(data)\n",
    "    \n",
    "    def __iter__(self): \n",
    "        return self\n",
    "    \n",
    "    def __next__(self):\n",
    "        if self.index == 0: raise StopIteration \n",
    "        self.index = self.index - 1 \n",
    "        return self.data[self.index]"
   ]
  },
  {
   "cell_type": "code",
   "execution_count": null,
   "metadata": {
    "hidden": true
   },
   "outputs": [],
   "source": [
    "rev = Reverse('spam')\n",
    "iter(rev) # <__main__.Reverse object at 0x00A1DB50> \n",
    "\n",
    "\n",
    "for char in rev:\n",
    "    print(char)"
   ]
  },
  {
   "cell_type": "code",
   "execution_count": null,
   "metadata": {
    "hidden": true
   },
   "outputs": [],
   "source": [
    "def reverse(data):\n",
    "    for index in range(len(data)-1, -1, -1):\n",
    "        yield data[index]"
   ]
  },
  {
   "cell_type": "code",
   "execution_count": null,
   "metadata": {
    "hidden": true
   },
   "outputs": [],
   "source": [
    "for char in reverse('golf'):\n",
    "    print(char)"
   ]
  },
  {
   "cell_type": "code",
   "execution_count": null,
   "metadata": {
    "hidden": true
   },
   "outputs": [],
   "source": [
    "print(sum(i*i for i in range(10))) # 285\n",
    "xvec = [10, 20, 30]\n",
    "yvec = [7, 5, 3]\n",
    "print(sum(x*y for x,y in zip(xvec, yvec))) #260\n",
    "# sum of squares\n",
    "# dot product\n",
    "sine_table = {x: sin(x*pi/180) for x in range(0, 91)}\n",
    "# unique_words = set(word for line in page for word in line.split())\n",
    "# valedictorian = max((student.gpa, student.name) for student in graduates)\n",
    "data = 'golf'\n",
    "print(list(data[i] for i in range(len(data)-1, -1, -1))) # ['f', 'l', 'o', 'g']"
   ]
  },
  {
   "cell_type": "code",
   "execution_count": null,
   "metadata": {
    "hidden": true
   },
   "outputs": [],
   "source": [
    "class Node(object):\n",
    "    # left/right pointers are optional since a tree should end somewhere\n",
    "    def __init__(self, data, left=None, right=None):\n",
    "        self.data = data\n",
    "        # Pointer to a left sub-tree\n",
    "        self.left = left\n",
    "        # Pointer to a right sub-tree\n",
    "        self.right = right\n",
    "\n",
    "\n",
    "def inorder(tree):\n",
    "    if tree:\n",
    "        # Recursively iterate over elements in the left sub-tree\n",
    "        for l_child in inorder(tree.left):\n",
    "            # Return left sub-tree data elements one-by-one\n",
    "            yield l_child\n",
    "        # Return data element from current node\n",
    "        yield tree.data\n",
    "        # Recursively iterate over elements in the right sub-tree\n",
    "        for r_child in inorder(tree.right):\n",
    "            # Return right sub-tree data elements one-by-one\n",
    "            yield r_child\n",
    "\n",
    "def inorder2(node): # with the latest version of Python\n",
    "    if node:\n",
    "        yield from inorder2(node.left)\n",
    "        yield node.data\n",
    "        yield from inorder2(node.right)"
   ]
  },
  {
   "cell_type": "code",
   "execution_count": null,
   "metadata": {
    "hidden": true
   },
   "outputs": [],
   "source": [
    "tree = Node(2, left=Node(1), right=Node(3)); \n",
    "print(list(inorder2(tree))) # [1, 2, 3]\n",
    "tree = Node(4, left=Node(2, left=Node(1), right=Node(3)), right=Node(6, left=Node(5), right=Node(7)))\n",
    "print(list(inorder2(tree))) # [1, 2, 3, 4, 5, 6, 7]"
   ]
  },
  {
   "cell_type": "markdown",
   "metadata": {
    "heading_collapsed": true,
    "jp-MarkdownHeadingCollapsed": true
   },
   "source": [
    "##### Generator"
   ]
  },
  {
   "cell_type": "markdown",
   "metadata": {
    "hidden": true
   },
   "source": [
    "\n",
    "Generators are iterable Python object, like lists or tuples, but they generate values on-the-fly instead of storing them in memory. They are implemented using functions that contain one or more `yield` statements. When a generator function is called, it doesn't get executed immediately. Instead, it returns a generator object, which can be iterated over using a for loop or by using the `next()` function. The key characteristics of generators are:\n",
    "\n",
    "-   `Lazy Evaluation`: Generators get lazyly evaluated, meaning they produce values only when requested. Each time a value is requested from the generator, the function execution resumes from where it left off, continuing until it hits the next `yield` statement.\n",
    "\n",
    "-   `Memory Efficiency`: Since generators do not store all the values in memory at once, they are memory-efficient, especially when dealing with large datasets or infinite sequences.\n",
    "\n",
    "-   `Iteration`: Generators are iterable, and you can loop over them using a for loop. They produce values one at a time during iteration.\n",
    "\n",
    "-   `Stateless`: Generators are stateless; they do not retain any information between iterations. Each time you iterate over a generator, it starts execution from the beginning of the iteration.\n",
    "\n",
    "-   `Infinite Sequences`: Generators can be used to create infinite sequences or streams of data, where the values are generated on-the-fly as needed.\n",
    "\n",
    "```python\n",
    "## generate fibonacci numbers upto n\n",
    "def fib(n):\n",
    "    p, q = 0, 1\n",
    "    while (p < n):\n",
    "        yield p\n",
    "        p, q = q, p + q\n",
    "```"
   ]
  },
  {
   "cell_type": "code",
   "execution_count": null,
   "metadata": {
    "hidden": true
   },
   "outputs": [],
   "source": [
    "def truthy(x): return x%2 == 0\n",
    "my_generator = (item for item in range(10) if truthy(item))"
   ]
  },
  {
   "cell_type": "code",
   "execution_count": null,
   "metadata": {
    "hidden": true
   },
   "outputs": [],
   "source": [
    "print(*my_generator), print([*my_generator])"
   ]
  },
  {
   "cell_type": "code",
   "execution_count": null,
   "metadata": {
    "hidden": true
   },
   "outputs": [],
   "source": [
    "def test_yield(x):\n",
    "    for i in range(x):\n",
    "        if i%2 == 0: yield i"
   ]
  },
  {
   "cell_type": "code",
   "execution_count": null,
   "metadata": {
    "hidden": true
   },
   "outputs": [],
   "source": [
    "for i in test_yield(10):\n",
    "    print(i)"
   ]
  },
  {
   "cell_type": "markdown",
   "metadata": {
    "hidden": true,
    "jp-MarkdownHeadingCollapsed": true
   },
   "source": [
    "###### Create a generator of Fibonacci"
   ]
  },
  {
   "cell_type": "code",
   "execution_count": null,
   "metadata": {
    "hidden": true
   },
   "outputs": [],
   "source": [
    "## generate fibonacci numbers upto n\n",
    "def fib(n):\n",
    "    p, q = 0, 1\n",
    "    while (p < n):\n",
    "        yield p\n",
    "        p, q = q, p + q"
   ]
  },
  {
   "cell_type": "code",
   "execution_count": null,
   "metadata": {
    "hidden": true
   },
   "outputs": [],
   "source": [
    "n = 10\n",
    "fibonacci_numbers = fib(n)    # create generator object \n",
    "\n",
    "left = 0\n",
    "while left < n:\n",
    "    \n",
    "    try:\n",
    "        print(fibonacci_numbers.__next__())\n",
    "        left += 1\n",
    "    except:\n",
    "        print(f\"{red('StopIteration')} got raised !!!!!\")\n",
    "        left += 1"
   ]
  },
  {
   "cell_type": "code",
   "execution_count": null,
   "metadata": {
    "hidden": true
   },
   "outputs": [],
   "source": [
    "n_fibbs = [*fib(10)]; n_fibbs"
   ]
  },
  {
   "cell_type": "code",
   "execution_count": null,
   "metadata": {
    "hidden": true
   },
   "outputs": [],
   "source": [
    "n = 10\n",
    "fibonacci_numbers = fib(n)    # create generator object \n",
    "\n",
    "left = 0\n",
    "while left < n:\n",
    "    print(next(fibonacci_numbers, None))\n",
    "    left += 1"
   ]
  },
  {
   "cell_type": "code",
   "execution_count": null,
   "metadata": {
    "hidden": true
   },
   "outputs": [],
   "source": [
    "x = fib(10)    # create generator object "
   ]
  },
  {
   "cell_type": "code",
   "execution_count": null,
   "metadata": {
    "hidden": true
   },
   "outputs": [],
   "source": [
    "## iterating using __next__(), for Python2, use next()\n",
    "print(x.__next__())    # output => 0\n",
    "print(x.__next__())    # output => 1\n",
    "print(x.__next__())    # output => 1\n",
    "print(x.__next__())    # output => 2\n",
    "print(x.__next__())    # output => 3\n",
    "print(x.__next__())    # output => 5\n",
    "print(x.__next__())    # output => 8\n",
    "print(x.__next__())    # error"
   ]
  },
  {
   "cell_type": "code",
   "execution_count": null,
   "metadata": {
    "hidden": true
   },
   "outputs": [],
   "source": [
    "## iterating using loop\n",
    "for i in fib(10):\n",
    "   print(i)    # output => 0 1 1 2 3 5 8"
   ]
  },
  {
   "cell_type": "markdown",
   "metadata": {
    "heading_collapsed": true,
    "hidden": true
   },
   "source": [
    "###### [Corey: Generators - How to use them and the benefits you receive](https://www.youtube.com/watch?v=bD05uGo_sVI&list=RDCMUCCezIgC97PvUuR4_gbFUs5g&start_radio=1&rv=bD05uGo_sVI&t=1)"
   ]
  },
  {
   "cell_type": "code",
   "execution_count": null,
   "metadata": {
    "hidden": true
   },
   "outputs": [],
   "source": [
    "import mem_profile\n",
    "import random\n",
    "import time\n",
    "\n",
    "names = ['John', 'Corey', 'Adam', 'Steve', 'Rick', 'Thomas']\n",
    "majors = ['Math', 'Engineering', 'CompSci', 'Arts', 'Business']\n",
    "\n",
    "print('Memory (Before): {}Mb'.format(mem_profile.memory_usage_psutil()))\n",
    "\n",
    "def people_list(num_people):\n",
    "    result = []\n",
    "    for i in range(num_people):\n",
    "        person = {\n",
    "                    'id': i,\n",
    "                    'name': random.choice(names),\n",
    "                    'major': random.choice(majors)\n",
    "                }\n",
    "        result.append(person)\n",
    "    return result\n",
    "\n",
    "def people_generator(num_people):\n",
    "    for i in range(num_people):\n",
    "        person = {\n",
    "                    'id': i,\n",
    "                    'name': random.choice(names),\n",
    "                    'major': random.choice(majors)\n",
    "                }\n",
    "        yield person"
   ]
  },
  {
   "cell_type": "code",
   "execution_count": null,
   "metadata": {
    "hidden": true
   },
   "outputs": [],
   "source": [
    "# t1 = time.clock()\n",
    "# people = people_list(1000000)\n",
    "# t2 = time.clock()\n",
    "\n",
    "t1 = time.clock()\n",
    "people = people_generator(1000000)\n",
    "t2 = time.clock()\n",
    "\n",
    "print('Memory (After) : {}Mb'.format(mem_profile.memory_usage_psutil()))\n",
    "print('Took {} Seconds'.format(t2-t1))"
   ]
  },
  {
   "cell_type": "code",
   "execution_count": null,
   "metadata": {
    "hidden": true
   },
   "outputs": [],
   "source": [
    "from pympler import summary, muppy\n",
    "import psutil\n",
    "import resource\n",
    "import os\n",
    "import sys\n",
    "\n",
    "def memory_usage_psutil():\n",
    "    # return the memory usage in MB\n",
    "    process = psutil.Process(os.getpid())\n",
    "    mem = process.get_memory_info()[0] / float(2 ** 20)\n",
    "    return mem\n",
    "\n",
    "def memory_usage_resource():\n",
    "    rusage_denom = 1024.\n",
    "    if sys.platform == 'darwin':\n",
    "        # ... it seems that in OSX the output is different units ...\n",
    "        rusage_denom = rusage_denom * rusage_denom\n",
    "    mem = resource.getrusage(resource.RUSAGE_SELF).ru_maxrss / rusage_denom\n",
    "    return mem\n"
   ]
  },
  {
   "cell_type": "markdown",
   "metadata": {
    "hidden": true
   },
   "source": [
    "###### What is Generator expression in Python?"
   ]
  },
  {
   "cell_type": "markdown",
   "metadata": {
    "hidden": true
   },
   "source": [
    "A generator expression is a concise and memory-efficient way to create a generator on-the-fly. It has a similar syntax to a list comprehension, but it returns a generator object instead of a list. Generator expressions are denoted by parentheses `()` instead of square brackets `[]`, which are used for list comprehensions.\n",
    "\n",
    "A generator expression is a concise way to create a generator on-the-fly, similar to how list comprehensions create lists. Generator expressions are more memory efficient than list comprehensions because they produce values lazily, only when needed, instead of storing the entire sequence in memory."
   ]
  },
  {
   "cell_type": "code",
   "execution_count": null,
   "metadata": {},
   "outputs": [],
   "source": [
    "def squares_generator(n):\n",
    "    for i in range(n): yield i**2\n",
    "\n",
    "# Print the generator object\n",
    "print(squares_generator)  # Output: <function squares_generator at 0x10f0913a0>\n",
    "\n",
    "\n",
    "# for square in squares_generator(10): print(square)"
   ]
  },
  {
   "cell_type": "code",
   "execution_count": null,
   "metadata": {},
   "outputs": [],
   "source": [
    "# print(next(squares_generator)) # TypeError: 'function' object is not an iterator"
   ]
  },
  {
   "cell_type": "code",
   "execution_count": null,
   "metadata": {
    "hidden": true
   },
   "outputs": [],
   "source": [
    "# Create a generator expression to generate squares of numbers from 1 to 5\n",
    "squares_generator = (x ** 2 for x in range(10))\n",
    "\n",
    "# Print the generator object\n",
    "print(squares_generator)  # Output: <generator object <genexpr> at 0x7f0fe5c2e7b0>\n",
    "\n",
    "# Iterate over the generator and print each value\n",
    "# for square in squares_generator: print(square)\n"
   ]
  },
  {
   "cell_type": "code",
   "execution_count": null,
   "metadata": {
    "hidden": true
   },
   "outputs": [],
   "source": [
    "squares_generator = (x ** 2 for x in range(1, 6))"
   ]
  },
  {
   "cell_type": "code",
   "execution_count": null,
   "metadata": {},
   "outputs": [],
   "source": [
    "print(next(squares_generator))"
   ]
  },
  {
   "cell_type": "markdown",
   "metadata": {
    "heading_collapsed": true,
    "jp-MarkdownHeadingCollapsed": true
   },
   "source": [
    "##### Itertools, Functools and Operators"
   ]
  },
  {
   "cell_type": "code",
   "execution_count": null,
   "metadata": {
    "hidden": true
   },
   "outputs": [],
   "source": [
    "# groupby() is roughly equivalent to:\n",
    "class groupby:\n",
    "    # [k for k, g in groupby('AAAABBBCCDAABBB')] --> A B C D A B\n",
    "    # [list(g) for k, g in groupby('AAAABBBCCD')] --> AAAA BBB CC D\n",
    "    \n",
    "    def __init__(self, iterable, key=None):\n",
    "        if key is None:\n",
    "            def key(x): return x\n",
    "        self.keyfunc = key\n",
    "        self.it = iter(iterable)\n",
    "        self.tgtkey = self.currkey = self.currvalue = object()\n",
    "\n",
    "    def __iter__(self):\n",
    "        return self\n",
    "\n",
    "    def __next__(self):\n",
    "        self.id = object()\n",
    "        while self.currkey == self.tgtkey:\n",
    "            self.currvalue = next(self.it)    # Exit on StopIteration\n",
    "            self.currkey = self.keyfunc(self.currvalue)\n",
    "        self.tgtkey = self.currkey\n",
    "        return (self.currkey, self._grouper(self.tgtkey, self.id))\n",
    "\n",
    "    def _grouper(self, tgtkey, id):\n",
    "        while self.id is id and self.currkey == tgtkey:\n",
    "            yield self.currvalue\n",
    "            try:\n",
    "                self.currvalue = next(self.it)\n",
    "            except StopIteration:\n",
    "                return\n",
    "            self.currkey = self.keyfunc(self.currvalue)\n",
    "\n",
    "\n",
    "def _test_groupby():\n",
    "    L = [*range(10)]\n",
    "    shuffle(L)\n",
    "    for i in groupby(L):\n",
    "        print(i)\n"
   ]
  },
  {
   "cell_type": "code",
   "execution_count": null,
   "metadata": {
    "hidden": true
   },
   "outputs": [],
   "source": [
    "_test_groupby()"
   ]
  },
  {
   "cell_type": "markdown",
   "metadata": {},
   "source": [
    "## <b style='color:#FF4500'>MISC</b>"
   ]
  },
  {
   "cell_type": "markdown",
   "metadata": {
    "heading_collapsed": true,
    "jp-MarkdownHeadingCollapsed": true
   },
   "source": [
    "#### Exception Handling"
   ]
  },
  {
   "cell_type": "code",
   "execution_count": null,
   "metadata": {
    "hidden": true
   },
   "outputs": [],
   "source": [
    "def divide_numbers(a, b):\n",
    "    try:\n",
    "        result = a / b\n",
    "    except ZeroDivisionError as e: # It only runs if ZeroDivisionError exception is raised.\n",
    "        print(f\"ERROR: {e}\")\n",
    "        result = None\n",
    "    except TypeError:              # It only runs if TypeError exception is raised.\n",
    "        print(\"Error: Invalid types for division!\")\n",
    "        result = None\n",
    "    except:                        # It only runs if none of the two other exceptions is raised.\n",
    "        print(a)\n",
    "    else:                          # It only runs if no exception is raised.\n",
    "        print(\"Division successful!\")\n",
    "    finally:                       # It runs all the time independent of except or else.\n",
    "        print(\"Execution completed.\")\n",
    "    \n",
    "    return result"
   ]
  },
  {
   "cell_type": "code",
   "execution_count": null,
   "metadata": {
    "hidden": true
   },
   "outputs": [],
   "source": [
    "divide_numbers('a',2)"
   ]
  },
  {
   "cell_type": "markdown",
   "metadata": {
    "heading_collapsed": true,
    "jp-MarkdownHeadingCollapsed": true
   },
   "source": [
    "#### Sliceing in Python"
   ]
  },
  {
   "cell_type": "markdown",
   "metadata": {
    "hidden": true
   },
   "source": [
    "Slice notation (`[:]`) creates a new copy of the original list (or any other sliceable object). This is often referred to as a \"shallow copy.\" A shallow copy creates a new object but doesn't create new objects for the elements inside the original object. Instead, it references the same objects as the original.\n",
    "\n",
    "-   Syntax: `[start : stop : step]`\n",
    "-   `start` is the starting index from where to slice a list or tuple\n",
    "-   `stop` is the ending index or where to sop.\n",
    "-   `step` is the number of steps to jump.\n",
    "-   Default value for `start` is `0`, `stop` is `len(items)`, `step` is `1`.\n",
    "-   Slicing can be done on strings, arrays, lists, and tuples.\n"
   ]
  },
  {
   "cell_type": "code",
   "execution_count": null,
   "metadata": {
    "hidden": true
   },
   "outputs": [],
   "source": [
    "numbers = [1, 2, 3, 4, 5, 6, 7, 8, 9, 10]\n",
    "print(numbers[1 : : 2])     # output : [2, 4, 6, 8, 10]\n",
    "print(numbers[-5 : -1: 2])  # output : [2, 4, 6, 8, 10]\n",
    "print(numbers[ : 9: 3])     # output : [1, 4, 7]\n",
    "print(numbers[:9:])         # output : [1, 2, 3, 4, 5, 6, 7, 8, 9]\n",
    "print(numbers[:])           # output : [1, 2, 3, 4, 5, 6, 7, 8, 9, 10]\n",
    "print(numbers[::-1])        # output : [10, 9, 8, 7, 6, 5, 4, 3, 2, 1]\n",
    "print(numbers[-1::-1])      # output : [10, 9, 8, 7, 6, 5, 4, 3, 2, 1]\n",
    "print(numbers[-2::-1])      # output : [9, 8, 7, 6, 5, 4, 3, 2, 1]"
   ]
  },
  {
   "cell_type": "code",
   "execution_count": null,
   "metadata": {
    "hidden": true
   },
   "outputs": [],
   "source": [
    "print(numbers[1:9:-2])\n",
    "print(numbers[1:9:2])\n",
    "print(numbers[1:-9:-1])\n",
    "print(numbers[1:-9:1])\n",
    "print(numbers[-1:-5:-1])"
   ]
  },
  {
   "cell_type": "code",
   "execution_count": null,
   "metadata": {
    "hidden": true
   },
   "outputs": [],
   "source": [
    "print(numbers[-1:-6:-1])\n",
    "print(numbers[-6:-1:-1])"
   ]
  },
  {
   "cell_type": "markdown",
   "metadata": {},
   "source": [
    "#### `global`/`nonlocal`"
   ]
  },
  {
   "cell_type": "markdown",
   "metadata": {},
   "source": [
    "The `nonlocal` keyword is used to declare that a variable inside a nested function refers to a variable in the enclosing (`non-global`) scope. This is typically useful when working with closures or functions defined inside other functions, allowing you to modify the value of a variable in the outer (enclosing) function from within the nested function."
   ]
  },
  {
   "cell_type": "code",
   "execution_count": null,
   "metadata": {},
   "outputs": [],
   "source": [
    "def outer():\n",
    "    x = 10\n",
    "\n",
    "    def inner():\n",
    "        # x += 5      # UnboundLocalError: local variable 'x' referenced before assignment\n",
    "        print(x)      # Can access x from outer scope but cannot modify it\n",
    "\n",
    "    inner()  # Output: 10\n",
    "\n",
    "outer()\n"
   ]
  },
  {
   "cell_type": "code",
   "execution_count": null,
   "metadata": {},
   "outputs": [],
   "source": [
    "y = 20\n",
    "\n",
    "def outer():\n",
    "    x = 10\n",
    "    y = 20\n",
    "\n",
    "    def inner():\n",
    "        global y\n",
    "        nonlocal x  # Declare that we want to modify the x from the outer scope\n",
    "        x += 5      # Modify x\n",
    "        y += 20\n",
    "        print(x)    # Output: 15\n",
    "        print(y+20)    # Output: 15\n",
    "\n",
    "    inner()\n",
    "    print(x)  # Output: 15\n",
    "\n",
    "outer()\n"
   ]
  },
  {
   "cell_type": "markdown",
   "metadata": {
    "heading_collapsed": true
   },
   "source": [
    "#### Randomaization"
   ]
  },
  {
   "cell_type": "code",
   "execution_count": null,
   "metadata": {
    "hidden": true
   },
   "outputs": [],
   "source": [
    "import random"
   ]
  },
  {
   "cell_type": "markdown",
   "metadata": {
    "hidden": true
   },
   "source": [
    "`betavariate(...)`, `choice(...)`, `choices(...)`, `expovariate(...)`, `gammavariate(...)`, `gauss(...)`, `getrandbits(...)`, `getstate(...)`, `lognormvariate(...)`, `normalvariate(...)`, `paretovariate(...)`, `randint(...)`, `random(...)`, `randrange(...)`, `sample(...)`, `seed(...)`, `setstate(...)`, `shuffle(...)`, `triangular(...)`, `uniform(...)`, `vonmisesvariate(...)`, `weibullvariate(...)`, "
   ]
  },
  {
   "cell_type": "code",
   "execution_count": null,
   "metadata": {
    "hidden": true,
    "tags": []
   },
   "outputs": [],
   "source": [
    "# help(random)"
   ]
  },
  {
   "cell_type": "code",
   "execution_count": null,
   "metadata": {
    "hidden": true
   },
   "outputs": [],
   "source": [
    "from random import random, randint, randrange, choice, choices, shuffle, sample"
   ]
  },
  {
   "cell_type": "code",
   "execution_count": null,
   "metadata": {
    "hidden": true
   },
   "outputs": [],
   "source": [
    "L = [*range(10)]"
   ]
  },
  {
   "cell_type": "markdown",
   "metadata": {
    "heading_collapsed": true,
    "hidden": true
   },
   "source": [
    "##### `random.randint(a, b)`\n",
    "- Return random integer in range `[a, b]`, including both end points."
   ]
  },
  {
   "cell_type": "code",
   "execution_count": null,
   "metadata": {
    "hidden": true
   },
   "outputs": [],
   "source": [
    "randint(-10,10)"
   ]
  },
  {
   "cell_type": "markdown",
   "metadata": {
    "heading_collapsed": true,
    "hidden": true
   },
   "source": [
    "##### `random.randrange(start, stop=None, step=1)`\n",
    "- Choose a random item from `range(start, stop[, step])`."
   ]
  },
  {
   "cell_type": "code",
   "execution_count": null,
   "metadata": {
    "hidden": true
   },
   "outputs": [],
   "source": [
    "print(randrange(-5,5))\n",
    "print(randrange(5))"
   ]
  },
  {
   "cell_type": "markdown",
   "metadata": {
    "heading_collapsed": true,
    "hidden": true
   },
   "source": [
    "##### `random.shuffle(population)` ==> None\n",
    "\n",
    "-   Provide inplace shuffling"
   ]
  },
  {
   "cell_type": "code",
   "execution_count": null,
   "metadata": {
    "hidden": true
   },
   "outputs": [],
   "source": [
    "shuffle(L) ## Inplace shuffling\n",
    "L"
   ]
  },
  {
   "cell_type": "markdown",
   "metadata": {},
   "source": [
    "##### `random.choice(seq)`\n",
    "\n",
    "- Choose a random element from a non-empty sequence."
   ]
  },
  {
   "cell_type": "code",
   "execution_count": null,
   "metadata": {},
   "outputs": [],
   "source": [
    "choice(L)"
   ]
  },
  {
   "cell_type": "markdown",
   "metadata": {
    "heading_collapsed": true,
    "hidden": true,
    "jp-MarkdownHeadingCollapsed": true
   },
   "source": [
    "##### `random.choices(population, k)` ==> [...]\n",
    "\n",
    "-   **random.choices(population, k)**: This function returns a k-length list of elements randomly sampled from the given population **with replacement**. This means that the same element can appear multiple times in the result. If k is greater than the length of the population, the elements will be sampled with replacement from the population. For example:"
   ]
  },
  {
   "cell_type": "code",
   "execution_count": null,
   "metadata": {
    "hidden": true
   },
   "outputs": [],
   "source": [
    "choices(L,k=2)"
   ]
  },
  {
   "cell_type": "code",
   "execution_count": null,
   "metadata": {
    "hidden": true
   },
   "outputs": [],
   "source": [
    "L"
   ]
  },
  {
   "cell_type": "markdown",
   "metadata": {
    "heading_collapsed": true,
    "hidden": true,
    "jp-MarkdownHeadingCollapsed": true
   },
   "source": [
    "##### `random.sample(population, k)`==> [...]\n",
    "\n",
    "-   **random.sample(population, k)**: This function is used to return a k-length list of unique elements randomly sampled from the given population **without replacement**. Each element is guaranteed to appear at most once in the result. If k is greater than the length of the population, it will raise a ValueError."
   ]
  },
  {
   "cell_type": "markdown",
   "metadata": {
    "hidden": true
   },
   "source": []
  },
  {
   "cell_type": "code",
   "execution_count": null,
   "metadata": {
    "hidden": true
   },
   "outputs": [],
   "source": [
    "sample(L, 9)"
   ]
  },
  {
   "cell_type": "code",
   "execution_count": null,
   "metadata": {
    "hidden": true
   },
   "outputs": [],
   "source": [
    "L"
   ]
  },
  {
   "cell_type": "code",
   "execution_count": null,
   "metadata": {
    "hidden": true
   },
   "outputs": [],
   "source": [
    "# help(sample)"
   ]
  },
  {
   "cell_type": "code",
   "execution_count": null,
   "metadata": {
    "hidden": true
   },
   "outputs": [],
   "source": [
    "# help(randrange)"
   ]
  },
  {
   "cell_type": "code",
   "execution_count": null,
   "metadata": {
    "hidden": true
   },
   "outputs": [],
   "source": []
  },
  {
   "cell_type": "markdown",
   "metadata": {
    "heading_collapsed": true,
    "jp-MarkdownHeadingCollapsed": true
   },
   "source": [
    "#### operator API"
   ]
  },
  {
   "cell_type": "code",
   "execution_count": null,
   "metadata": {
    "hidden": true
   },
   "outputs": [],
   "source": [
    "import operator"
   ]
  },
  {
   "cell_type": "markdown",
   "metadata": {
    "heading_collapsed": true,
    "hidden": true
   },
   "source": [
    "##### operator.`attrgetter`"
   ]
  },
  {
   "cell_type": "code",
   "execution_count": null,
   "metadata": {
    "hidden": true
   },
   "outputs": [],
   "source": [
    "# Define a list of objects\n",
    "class Person:\n",
    "    def __init__(self, name, age):\n",
    "        self.name = name\n",
    "        self.age = age\n",
    "\n",
    "people = [\n",
    "    Person(\"Alice\", 30),\n",
    "    Person(\"Bob\", 25),\n",
    "    Person(\"Charlie\", 35)\n",
    "]"
   ]
  },
  {
   "cell_type": "code",
   "execution_count": null,
   "metadata": {
    "hidden": true
   },
   "outputs": [],
   "source": [
    "# Create an attrgetter object to get the 'age' attribute\n",
    "get_age = operator.attrgetter('age')\n",
    "\n",
    "# Use the attrgetter to retrieve ages\n",
    "ages = list(map(get_age, people))\n",
    "print(ages)  # Output: [30, 25, 35]"
   ]
  },
  {
   "cell_type": "markdown",
   "metadata": {
    "heading_collapsed": true,
    "hidden": true
   },
   "source": [
    "##### operator.`lt` / operator.`le`"
   ]
  },
  {
   "cell_type": "code",
   "execution_count": null,
   "metadata": {
    "hidden": true
   },
   "outputs": [],
   "source": [
    "dir(operator)"
   ]
  },
  {
   "cell_type": "code",
   "execution_count": null,
   "metadata": {
    "hidden": true
   },
   "outputs": [],
   "source": []
  },
  {
   "cell_type": "markdown",
   "metadata": {
    "heading_collapsed": true,
    "hidden": true
   },
   "source": [
    "##### operator.`gt` / operator.`ge`"
   ]
  },
  {
   "cell_type": "code",
   "execution_count": null,
   "metadata": {
    "hidden": true
   },
   "outputs": [],
   "source": []
  },
  {
   "cell_type": "code",
   "execution_count": null,
   "metadata": {
    "hidden": true
   },
   "outputs": [],
   "source": []
  },
  {
   "cell_type": "code",
   "execution_count": null,
   "metadata": {
    "hidden": true
   },
   "outputs": [],
   "source": []
  }
 ],
 "metadata": {
  "kernelspec": {
   "display_name": "dsnb",
   "language": "python",
   "name": "python3"
  },
  "language_info": {
   "codemirror_mode": {
    "name": "ipython",
    "version": 3
   },
   "file_extension": ".py",
   "mimetype": "text/x-python",
   "name": "python",
   "nbconvert_exporter": "python",
   "pygments_lexer": "ipython3",
   "version": "3.9.6"
  },
  "toc": {
   "base_numbering": 1,
   "nav_menu": {},
   "number_sections": false,
   "sideBar": true,
   "skip_h1_title": false,
   "title_cell": "Table of Contents",
   "title_sidebar": "Contents",
   "toc_cell": true,
   "toc_position": {},
   "toc_section_display": true,
   "toc_window_display": false
  }
 },
 "nbformat": 4,
 "nbformat_minor": 4
}
