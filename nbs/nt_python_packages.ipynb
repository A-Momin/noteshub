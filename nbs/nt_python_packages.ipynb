{
 "cells": [
  {
   "cell_type": "markdown",
   "id": "64fe7c1d",
   "metadata": {
    "jp-MarkdownHeadingCollapsed": true,
    "toc": true
   },
   "source": [
    "<h1>Table of Contents<span class=\"tocSkip\"></span></h1>\n",
    "<div class=\"toc\"><ul class=\"toc-item\"><li><ul class=\"toc-item\"><li><span><a href=\"#How-to-use-inspect-library-to-inspect-Python-object.\" data-toc-modified-id=\"How-to-use-inspect-library-to-inspect-Python-object.-0.1\">How to use <code>inspect</code> library to inspect Python object.</a></span></li></ul></li><li><span><a href=\"#time:\" data-toc-modified-id=\"time:-1\">time:</a></span></li><li><span><a href=\"#datetime\" data-toc-modified-id=\"datetime-2\">datetime</a></span><ul class=\"toc-item\"><li><ul class=\"toc-item\"><li><span><a href=\"#datetime.date\" data-toc-modified-id=\"datetime.date-2.0.1\"><a href=\"https://docs.python.org/3/library/datetime.html#date-objects\" target=\"_blank\"><code>datetime.date</code></a></a></span></li><li><span><a href=\"#-datetime.time\" data-toc-modified-id=\"-datetime.time-2.0.2\"><a href=\"https://docs.python.org/3/library/datetime.html#time-objects\" target=\"_blank\"> <code>datetime.time</code></a></a></span></li><li><span><a href=\"#datetime.datetime\" data-toc-modified-id=\"datetime.datetime-2.0.3\"><a href=\"https://docs.python.org/3/library/datetime.html#datetime-objects\" target=\"_blank\"><code>datetime.datetime</code></a></a></span></li><li><span><a href=\"#datetime.timedelta\" data-toc-modified-id=\"datetime.timedelta-2.0.4\"><a href=\"https://docs.python.org/3/library/datetime.html#timedelta-objects\" target=\"_blank\"><code>datetime.timedelta</code></a></a></span></li><li><span><a href=\"#str-to-date-and-date-to-str\" data-toc-modified-id=\"str-to-date-and-date-to-str-2.0.5\"><code>str</code> to <code>date</code> and <code>date</code> to <code>str</code></a></span></li><li><span><a href=\"#Random-datetime\" data-toc-modified-id=\"Random-datetime-2.0.6\">Random datetime</a></span></li></ul></li></ul></li><li><span><a href=\"#os\" data-toc-modified-id=\"os-3\">os</a></span><ul class=\"toc-item\"><li><ul class=\"toc-item\"><li><span><a href=\"#os.path:\" data-toc-modified-id=\"os.path:-3.0.1\">os.path:</a></span></li><li><span><a href=\"#Metadata-of-File:\" data-toc-modified-id=\"Metadata-of-File:-3.0.2\">Metadata of File:</a></span></li></ul></li></ul></li><li><span><a href=\"#pathlib:\" data-toc-modified-id=\"pathlib:-4\">pathlib:</a></span></li><li><span><a href=\"#shutil-(shell-utilities)\" data-toc-modified-id=\"shutil-(shell-utilities)-5\">shutil (shell utilities)</a></span></li><li><span><a href=\"#glob\" data-toc-modified-id=\"glob-6\">glob</a></span></li><li><span><a href=\"#Shallow-/-Deep-Copy\" data-toc-modified-id=\"Shallow-/-Deep-Copy-7\">Shallow / Deep Copy</a></span></li><li><span><a href=\"#sys\" data-toc-modified-id=\"sys-8\">sys</a></span></li><li><span><a href=\"#subprocess\" data-toc-modified-id=\"subprocess-9\">subprocess</a></span></li><li><span><a href=\"#functools:\" data-toc-modified-id=\"functools:-10\">functools:</a></span></li><li><span><a href=\"#itertools:\" data-toc-modified-id=\"itertools:-11\">itertools:</a></span><ul class=\"toc-item\"><li><ul class=\"toc-item\"><li><span><a href=\"#itertools.accumulate():\" data-toc-modified-id=\"itertools.accumulate():-11.0.1\"><code>itertools.accumulate()</code>:</a></span></li><li><span><a href=\"#itertools.chain():\" data-toc-modified-id=\"itertools.chain():-11.0.2\"><code>itertools.chain()</code>:</a></span></li><li><span><a href=\"#itertools.combinations():\" data-toc-modified-id=\"itertools.combinations():-11.0.3\"><code>itertools.combinations()</code>:</a></span></li><li><span><a href=\"#itertools.combinations_with_replacement():\" data-toc-modified-id=\"itertools.combinations_with_replacement():-11.0.4\"><code>itertools.combinations_with_replacement()</code>:</a></span></li><li><span><a href=\"#itertools.compress():\" data-toc-modified-id=\"itertools.compress():-11.0.5\"><code>itertools.compress()</code>:</a></span></li><li><span><a href=\"#itertools.count():\" data-toc-modified-id=\"itertools.count():-11.0.6\"><code>itertools.count()</code>:</a></span></li><li><span><a href=\"#itertools.cycle():\" data-toc-modified-id=\"itertools.cycle():-11.0.7\"><code>itertools.cycle()</code>:</a></span></li><li><span><a href=\"#itertools.dropwhile():\" data-toc-modified-id=\"itertools.dropwhile():-11.0.8\"><code>itertools.dropwhile()</code>:</a></span></li><li><span><a href=\"#itertools.groupby():\" data-toc-modified-id=\"itertools.groupby():-11.0.9\"><code>itertools.groupby()</code>:</a></span></li><li><span><a href=\"#itertools.slice():\" data-toc-modified-id=\"itertools.slice():-11.0.10\"><code>itertools.slice()</code>:</a></span></li><li><span><a href=\"#itertools.permutations():\" data-toc-modified-id=\"itertools.permutations():-11.0.11\"><code>itertools.permutations()</code>:</a></span></li><li><span><a href=\"#itertools.product():\" data-toc-modified-id=\"itertools.product():-11.0.12\"><code>itertools.product()</code>:</a></span></li></ul></li></ul></li><li><span><a href=\"#setuptools:\" data-toc-modified-id=\"setuptools:-12\">setuptools:</a></span></li><li><span><a href=\"#random:\" data-toc-modified-id=\"random:-13\">random:</a></span><ul class=\"toc-item\"><li><ul class=\"toc-item\"><li><span><a href=\"#random.randint(a,-b)\" data-toc-modified-id=\"random.randint(a,-b)-13.0.1\"><code>random.randint(a, b)</code></a></span></li><li><span><a href=\"#random.randrange(start,-stop=None,-step=1)\" data-toc-modified-id=\"random.randrange(start,-stop=None,-step=1)-13.0.2\"><code>random.randrange(start, stop=None, step=1)</code></a></span></li><li><span><a href=\"#random.shuffle(population,-k)\" data-toc-modified-id=\"random.shuffle(population,-k)-13.0.3\"><code>random.shuffle(population, k)</code></a></span></li><li><span><a href=\"#random.choices(population,-k)\" data-toc-modified-id=\"random.choices(population,-k)-13.0.4\"><code>random.choices(population, k)</code></a></span></li><li><span><a href=\"#random.sample(population,-k)\" data-toc-modified-id=\"random.sample(population,-k)-13.0.5\"><code>random.sample(population, k)</code></a></span></li></ul></li></ul></li><li><span><a href=\"#PIL:\" data-toc-modified-id=\"PIL:-14\">PIL:</a></span></li><li><span><a href=\"#requests:-REST-APIs\" data-toc-modified-id=\"requests:-REST-APIs-15\">requests: <a href=\"https://realpython.com/api-integration-in-python/\" target=\"_blank\">REST APIs</a></a></span><ul class=\"toc-item\"><li><ul class=\"toc-item\"><li><span><a href=\"#Corey:-Python-Requests-Tutorial\" data-toc-modified-id=\"Corey:-Python-Requests-Tutorial-15.0.1\"><a href=\"https://www.youtube.com/watch?v=tb8gHvYlCFs&amp;t=827s\" target=\"_blank\">Corey:-Python Requests Tutorial</a></a></span></li></ul></li></ul></li><li><span><a href=\"#argparse\" data-toc-modified-id=\"argparse-16\">argparse</a></span></li><li><span><a href=\"#typing:\" data-toc-modified-id=\"typing:-17\">typing:</a></span></li><li><span><a href=\"#isort\" data-toc-modified-id=\"isort-18\">isort</a></span></li><li><span><a href=\"#pypdf\" data-toc-modified-id=\"pypdf-19\">pypdf</a></span></li><li><span><a href=\"#Regular-Expression\" data-toc-modified-id=\"Regular-Expression-20\">Regular Expression</a></span><ul class=\"toc-item\"><li><ul class=\"toc-item\"><li><ul class=\"toc-item\"><li><span><a href=\"#Literal-Characters\" data-toc-modified-id=\"Literal-Characters-20.0.0.1\">Literal Characters</a></span></li><li><span><a href=\"#Metacharacters\" data-toc-modified-id=\"Metacharacters-20.0.0.2\">Metacharacters</a></span></li></ul></li></ul></li></ul></li><li><span><a href=\"#Serialization/Pickling-&amp;-Deserialization/Unpickling:\" data-toc-modified-id=\"Serialization/Pickling-&amp;-Deserialization/Unpickling:-21\">Serialization/Pickling &amp; Deserialization/Unpickling:</a></span><ul class=\"toc-item\"><li><ul class=\"toc-item\"><li><ul class=\"toc-item\"><li><span><a href=\"#pickle\" data-toc-modified-id=\"pickle-21.0.0.1\">pickle</a></span></li><li><span><a href=\"#JSON:\" data-toc-modified-id=\"JSON:-21.0.0.2\">JSON:</a></span></li><li><span><a href=\"#YAML:\" data-toc-modified-id=\"YAML:-21.0.0.3\">YAML:</a></span></li></ul></li></ul></li></ul></li><li><span><a href=\"#SQL-in-Python:\" data-toc-modified-id=\"SQL-in-Python:-22\">SQL in Python:</a></span><ul class=\"toc-item\"><li><span><a href=\"#Read-and-Write-to-SQL-Query-or-Database-Table\" data-toc-modified-id=\"Read-and-Write-to-SQL-Query-or-Database-Table-22.1\">Read and Write to SQL Query or Database Table</a></span></li></ul></li><li><span><a href=\"#Excel-in-Python:\" data-toc-modified-id=\"Excel-in-Python:-23\">Excel in Python:</a></span><ul class=\"toc-item\"><li><span><a href=\"#Read-multiple-sheets-from-the-same-file\" data-toc-modified-id=\"Read-multiple-sheets-from-the-same-file-23.1\">Read multiple sheets from the same file</a></span></li><li><span><a href=\"#Read-and-Write-to-Excel\" data-toc-modified-id=\"Read-and-Write-to-Excel-23.2\">Read and Write to Excel</a></span></li></ul></li></ul></div>"
   ]
  },
  {
   "cell_type": "code",
   "execution_count": 4,
   "id": "70856dbf",
   "metadata": {
    "tags": []
   },
   "outputs": [],
   "source": [
    "import os, random, re, pathlib\n",
    "from pathlib import Path\n",
    "import time\n",
    "import inspect"
   ]
  },
  {
   "cell_type": "markdown",
   "id": "43dbe673",
   "metadata": {
    "heading_collapsed": true,
    "jp-MarkdownHeadingCollapsed": true
   },
   "source": [
    "### How to use `inspect` library to inspect Python object."
   ]
  },
  {
   "cell_type": "markdown",
   "id": "dbec3d86",
   "metadata": {
    "hidden": true
   },
   "source": [
    "-   `Get Information About Objects`: Use the inspect functions to retrieve information about objects. Common functions include:\n",
    "\n",
    "    -   `inspect.getmembers(object)`: Returns a list of all attributes and methods of the object.\n",
    "    -   `inspect.getdoc(object)`: Retrieves the docstring of the object.\n",
    "    -   `inspect.getargspec(func)`: Retrieves information about the arguments of a function. (Note: This is deprecated in Python 3.5 and later.)\n",
    "    -   `inspect.signature(func)`: Retrieves the function signature, which includes parameter names, defaults, and annotations.\n",
    "\n",
    "-   `Accessing Function Parameters`: To access the parameters of a function, you can use the signature object. For example:\n",
    "\n",
    "```python\n",
    "def example_function(param1, param2=42):\n",
    "    pass\n",
    "\n",
    "sig = inspect.signature(example_function)\n",
    "params = sig.parameters\n",
    "for param_name, param in params.items():\n",
    "    print(f\"Parameter: {param_name}, Default: {param.default}\")\n",
    "```\n",
    "\n",
    "-   `Source Code Inspection`: You can also inspect the source code of functions or classes:\n",
    "\n",
    "    -   `inspect.getsource(object)`: Retrieves the source code of an object.\n",
    "    -   `inspect.getfile(object)`: Gets the source file location of an object.\n",
    "\n",
    "-   `Type Checking`: You can check the type of an object using inspect:\n",
    "\n",
    "    -   `inspect.ismodule(object)`: Checks if the object is a module.\n",
    "    -   `inspect.isclass(object)`: Checks if the object is a class.\n",
    "    -   `inspect.isfunction(object)`: Checks if the object is a function.\n",
    "    -   `inspect.ismethod(object)`: Checks if the object is a method.\n",
    "\n",
    "-   `Stack Inspection`: The inspect module can be used to access the call stack and frame information:\n",
    "\n",
    "    -   `inspect.currentframe(): `Returns the current frame object.\n",
    "    -   `inspect.getframeinfo(frame)`: Returns information about a frame, such as filename and line number.\n",
    "Here's a simple example that demonstrates some of the capabilities of the inspect module:\n",
    "\n",
    "```python\n",
    "import inspect\n",
    "\n",
    "def example_function(param1, param2=42):\n",
    "    \"\"\"This is an example function.\"\"\"\n",
    "    pass\n",
    "\n",
    "# Retrieve and print the docstring of the function\n",
    "docstring = inspect.getdoc(example_function)\n",
    "print(\"Docstring:\", docstring)\n",
    "\n",
    "# Retrieve and print the function signature\n",
    "sig = inspect.signature(example_function)\n",
    "params = sig.parameters\n",
    "for param_name, param in params.items():\n",
    "    print(f\"Parameter: {param_name}, Default: {param.default}\")\n",
    "```\n",
    "\n",
    "\n",
    "This code will show you the docstring and the function signature of the example_function. The inspect module provides extensive capabilities for working with Python objects at runtime, making it a valuable tool for tasks like debugging, documentation generation, and more.\n",
    "\n",
    "\n",
    "\n",
    "\n"
   ]
  },
  {
   "cell_type": "code",
   "execution_count": null,
   "id": "949b4436",
   "metadata": {
    "hidden": true
   },
   "outputs": [],
   "source": []
  },
  {
   "cell_type": "markdown",
   "id": "433cae45",
   "metadata": {
    "slideshow": {
     "slide_type": ""
    },
    "tags": []
   },
   "source": [
    "# Important Python Packages"
   ]
  },
  {
   "cell_type": "markdown",
   "id": "5178a01a",
   "metadata": {
    "heading_collapsed": true,
    "jp-MarkdownHeadingCollapsed": true,
    "tags": []
   },
   "source": [
    "## time:"
   ]
  },
  {
   "cell_type": "code",
   "execution_count": null,
   "id": "7a14ea22",
   "metadata": {
    "hidden": true
   },
   "outputs": [],
   "source": [
    "# dir(time)"
   ]
  },
  {
   "cell_type": "markdown",
   "id": "0561591b",
   "metadata": {
    "hidden": true
   },
   "source": [
    "`altzone()`\n",
    "`asctime()`\n",
    "`ctime()`\n",
    "`daylight()`\n",
    "`get_clock_info()`\n",
    "`gmtime()`\n",
    "`localtime()`\n",
    "`mktime()`\n",
    "`monotonic()`\n",
    "`monotonic_ns()`\n",
    "`perf_counter()`\n",
    "`perf_counter_ns()`\n",
    "`process_time()`\n",
    "`process_time_ns()`\n",
    "`sleep()`\n",
    "`strftime()`\n",
    "`strptime()`\n",
    "`struct_time()`\n",
    "`time()`\n",
    "`time_ns()`\n",
    "`timezone()`\n",
    "`tzname()`\n",
    "`tzset()`"
   ]
  },
  {
   "cell_type": "code",
   "execution_count": null,
   "id": "0adee1ca",
   "metadata": {
    "hidden": true
   },
   "outputs": [],
   "source": [
    "help(time.sleep)"
   ]
  },
  {
   "cell_type": "code",
   "execution_count": null,
   "id": "c4e22b33",
   "metadata": {
    "hidden": true
   },
   "outputs": [],
   "source": []
  },
  {
   "cell_type": "markdown",
   "id": "7b46b78b",
   "metadata": {
    "heading_collapsed": true,
    "tags": []
   },
   "source": [
    "## datetime"
   ]
  },
  {
   "cell_type": "markdown",
   "id": "5ed5d2e7",
   "metadata": {
    "hidden": true,
    "jp-MarkdownHeadingCollapsed": true,
    "tags": []
   },
   "source": [
    "- [datetime](https://docs.python.org/3/library/datetime.html#strftime-and-strptime-format-codes)"
   ]
  },
  {
   "cell_type": "markdown",
   "id": "0162c6ee",
   "metadata": {
    "hidden": true
   },
   "source": [
    "- Date and time objects may be categorized as “aware” or “naive” depending on whether or not they include timezone information.\n",
    "- The distinction between aware and naive doesn’t apply to timedelta objects.\n",
    "- UTC (Cordinated Universal Time)\n",
    "- ISO (International Organization of Standerization)"
   ]
  },
  {
   "cell_type": "markdown",
   "id": "d0c6cc0f",
   "metadata": {
    "hidden": true
   },
   "source": [
    "- Available Types\n",
    "\n",
    "  - `class datetime.date`:\n",
    "An idealized naive date, assuming the current Gregorian calendar always was, and always will be, in effect. Attributes: year, month, and day.\n",
    "\n",
    "  - `class datetime.time`:\n",
    "An idealized time, independent of any particular day, assuming that every day has exactly 24*60*60 seconds. (There is no notion of “leap seconds” here.) Attributes: hour, minute, second, microsecond, and tzinfo.\n",
    "\n",
    "  - `class datetime.datetime`:\n",
    "A combination of a date and a time. Attributes: year, month, day, hour, minute, second, microsecond, and tzinfo.\n",
    "\n",
    "  - `class datetime.timedelta`:\n",
    "A duration expressing the difference between two date, time, or datetime instances to microsecond resolution.\n",
    "\n",
    "  - `class datetime.tzinfo`:\n",
    "An abstract base class for time zone information objects. These are used by the datetime and time classes to provide a customizable notion of time adjustment (for example, to account for time zone and/or daylight saving time).\n",
    "\n",
    "  - `class datetime.timezone`:\n",
    "A class that implements the tzinfo abstract base class as a fixed offset from the UTC."
   ]
  },
  {
   "cell_type": "markdown",
   "id": "75048265",
   "metadata": {
    "hidden": true
   },
   "source": [
    "- [Corey: Datetime Module - How to work with Dates, Times, Timedeltas, and Timezones](https://www.youtube.com/watch?v=eirjjyP2qcQ&t=1s)\n",
    "- [Corey: Pandas Tutorial (Part 10): Working with Dates and Time Series Data](https://www.youtube.com/watch?v=UFuo7EHI8zc)"
   ]
  },
  {
   "cell_type": "code",
   "execution_count": null,
   "id": "80d39cdf",
   "metadata": {
    "hidden": true
   },
   "outputs": [],
   "source": [
    "import datetime\n",
    "# import pytz"
   ]
  },
  {
   "cell_type": "markdown",
   "id": "5faa8d61",
   "metadata": {
    "hidden": true,
    "jp-MarkdownHeadingCollapsed": true
   },
   "source": [
    "#### [`datetime.date`](https://docs.python.org/3/library/datetime.html#date-objects)"
   ]
  },
  {
   "cell_type": "code",
   "execution_count": null,
   "id": "e72c2b96",
   "metadata": {
    "hidden": true
   },
   "outputs": [],
   "source": [
    "# Naive Date\n",
    "# d = datetime.date(2001, 9, 11)"
   ]
  },
  {
   "cell_type": "code",
   "execution_count": null,
   "id": "db918651",
   "metadata": {
    "hidden": true
   },
   "outputs": [],
   "source": [
    "tday = datetime.date.today()"
   ]
  },
  {
   "cell_type": "code",
   "execution_count": null,
   "id": "b6fe90f5",
   "metadata": {
    "hidden": true
   },
   "outputs": [],
   "source": [
    "tday.weekday()     # Monday is 0 and Sunday is 6"
   ]
  },
  {
   "cell_type": "code",
   "execution_count": null,
   "id": "28e4d565",
   "metadata": {
    "hidden": true
   },
   "outputs": [],
   "source": [
    "tday.isoweekday()  # Monday is 1 and Sunday is 7"
   ]
  },
  {
   "cell_type": "markdown",
   "id": "78e9a438",
   "metadata": {
    "heading_collapsed": true,
    "hidden": true,
    "jp-MarkdownHeadingCollapsed": true
   },
   "source": [
    "#### [ `datetime.time`](https://docs.python.org/3/library/datetime.html#time-objects)"
   ]
  },
  {
   "cell_type": "code",
   "execution_count": null,
   "id": "20a6f875",
   "metadata": {
    "hidden": true
   },
   "outputs": [],
   "source": [
    "t = datetime.time(9, 30, 45, 100000)"
   ]
  },
  {
   "cell_type": "markdown",
   "id": "b60f8801",
   "metadata": {
    "heading_collapsed": true,
    "hidden": true,
    "jp-MarkdownHeadingCollapsed": true
   },
   "source": [
    "#### [`datetime.datetime`](https://docs.python.org/3/library/datetime.html#datetime-objects)"
   ]
  },
  {
   "cell_type": "code",
   "execution_count": null,
   "id": "fee50e04",
   "metadata": {
    "hidden": true
   },
   "outputs": [],
   "source": [
    "# dt = datetime.datetime.today()\n",
    "# dtnow = datetime.datetime.now()\n",
    "# print(dir(datetime.datetime))\n",
    "# print(dt)\n",
    "# print(dtnow)\n",
    "\n",
    "dt = datetime.datetime(2016, 7, 24, 12, 30, 45, tzinfo=pytz.UTC)\n",
    "# print(dir(dt))\n",
    "\n",
    "dt_utcnow = datetime.datetime.now(tz=pytz.UTC)\n",
    "# print(dt_utcnow)\n",
    "\n",
    "dt_utcnow2 = datetime.datetime.utcnow().replace(tzinfo=pytz.UTC)\n",
    "# print(dt_utcnow2)\n",
    "\n",
    "# dt_mtn = dt_utcnow.astimezone(pytz.timezone('US/Mountain'))\n",
    "# print(dt_mtn)\n",
    "\n",
    "dt_mtn = datetime.datetime.now()\n",
    "\n",
    "mtn_tz = pytz.timezone('US/Mountain')\n",
    "dt_mtn = mtn_tz.localize(dt_mtn)\n",
    "\n",
    "# print(dt_mtn)\n",
    "\n",
    "dt_east = dt_mtn.astimezone(pytz.timezone('US/Eastern'))\n",
    "# print(dt_east)"
   ]
  },
  {
   "cell_type": "markdown",
   "id": "7f23c384",
   "metadata": {
    "heading_collapsed": true,
    "hidden": true,
    "jp-MarkdownHeadingCollapsed": true
   },
   "source": [
    "#### [`datetime.timedelta`](https://docs.python.org/3/library/datetime.html#timedelta-objects)"
   ]
  },
  {
   "cell_type": "code",
   "execution_count": null,
   "id": "9f7c8f04",
   "metadata": {
    "hidden": true
   },
   "outputs": [],
   "source": [
    "datetime.timedelta(days=0, seconds=0, microseconds=0, milliseconds=0, minutes=0, hours=0, weeks=0)"
   ]
  },
  {
   "cell_type": "code",
   "execution_count": null,
   "id": "37c52240",
   "metadata": {
    "hidden": true
   },
   "outputs": [],
   "source": [
    "tdelta = datetime.timedelta(hours=12)\n",
    "\n",
    "# print(tday + tdelta)\n",
    "\n",
    "# date2 = date1 + timedelta\n",
    "# timedelta = date1 + date2\n",
    "\n",
    "bday = datetime.date(2016, 9, 24)\n",
    "\n",
    "till_bday = bday - tday\n",
    "\n",
    "# print(till_bday.days)"
   ]
  },
  {
   "cell_type": "markdown",
   "id": "9951e7c3",
   "metadata": {
    "heading_collapsed": true,
    "hidden": true,
    "jp-MarkdownHeadingCollapsed": true
   },
   "source": [
    "#### `str` to `date` and `date` to `str`"
   ]
  },
  {
   "cell_type": "markdown",
   "id": "ea9474ef",
   "metadata": {},
   "source": [
    "- DateTime Placeholder:\n",
    "\n",
    "    - `%Y`: Year with century as a decimal number (e.g., 2022)\n",
    "    - `%m`: Month as a zero-padded decimal number (e.g., 01 to 12)\n",
    "    - `%d`: Day of the month as a zero-padded decimal number (e.g., 01 to 31)\n",
    "    - `%H`: Hour (24-hour clock) as a zero-padded decimal number (e.g., 00 to 23)\n",
    "    - `%M`: Minute as a zero-padded decimal number (e.g., 00 to 59)\n",
    "    - `%S`: Second as a zero-padded decimal number (e.g., 00 to 59)\n",
    "    - `%f`: Microsecond as a decimal number, zero-padded on the left (e.g., 000000 to 999999)\n",
    "    - `%a`: Abbreviated weekday name (e.g., Mon, Tue, etc.)\n",
    "    - `%A`: Full weekday name (e.g., Monday, Tuesday, etc.)\n",
    "    - `%b`: Abbreviated month name (e.g., Jan, Feb, etc.)\n",
    "    - `%B`: Full month name (e.g., January, February, etc.)\n",
    "    - `%c`: Locale's appropriate date and time representation (e.g., Mon Sep 30 07:06:05 2019)"
   ]
  },
  {
   "cell_type": "markdown",
   "id": "2b585184",
   "metadata": {
    "hidden": true
   },
   "source": [
    "- [`strftime()` and `strptime()` Format Codes](https://docs.python.org/3/library/datetime.html#strftime-and-strptime-format-codes)"
   ]
  },
  {
   "cell_type": "code",
   "execution_count": null,
   "id": "159faba9",
   "metadata": {
    "hidden": true
   },
   "outputs": [],
   "source": [
    "dt_mtn = datetime.datetime.now()\n",
    "print(dt_mtn.strftime('%B %d, %Y'))\n",
    "print(dt_mtn.strftime('%m-%d-%Y'))"
   ]
  },
  {
   "cell_type": "code",
   "execution_count": null,
   "id": "2927a93a",
   "metadata": {
    "hidden": true
   },
   "outputs": [],
   "source": [
    "print(datetime.datetime.strptime('July 24, 2016', '%B %d, %Y'))\n",
    "print(datetime.datetime.strptime('11-01-2024', '%m-%d-%Y'))"
   ]
  },
  {
   "cell_type": "code",
   "execution_count": null,
   "id": "93d5d79b",
   "metadata": {
    "hidden": true
   },
   "outputs": [],
   "source": []
  },
  {
   "cell_type": "markdown",
   "id": "fe4983b1",
   "metadata": {
    "heading_collapsed": true,
    "hidden": true
   },
   "source": [
    "#### Random datetime"
   ]
  },
  {
   "cell_type": "code",
   "execution_count": null,
   "id": "523abe0b",
   "metadata": {
    "hidden": true
   },
   "outputs": [],
   "source": [
    "import pytz\n",
    "import random\n",
    "from datetime import datetime, timedelta\n",
    "\n",
    "def random_datetime(timezone=\"cst\"):\n",
    "    tzs = {\"cst\": \"America/Chicago\"}\n",
    "    # Define the CST timezone\n",
    "    zn_timezone = pytz.timezone(tzs[timezone])\n",
    "\n",
    "    # Function to generate a random naive datetime\n",
    "    def generate_random_naive_datetime():\n",
    "        start_date = datetime(2020, 1, 1)\n",
    "        end_date = datetime.now()\n",
    "        random_delta = random.randint(0, int((end_date - start_date).total_seconds()))\n",
    "        return start_date + timedelta(seconds=random_delta)\n",
    "\n",
    "    # Generate a random naive datetime\n",
    "    random_naive_datetime = generate_random_naive_datetime()\n",
    "\n",
    "    # Convert the naive datetime to a zone aware datetime\n",
    "    zn_aware_datetime = zn_timezone.localize(random_naive_datetime)\n",
    "    return zn_aware_datetime\n",
    "\n",
    "# Print the CST aware datetime\n",
    "print(random_datetime())\n"
   ]
  },
  {
   "cell_type": "markdown",
   "id": "9f9a8323",
   "metadata": {
    "heading_collapsed": true,
    "jp-MarkdownHeadingCollapsed": true,
    "tags": []
   },
   "source": [
    "## os"
   ]
  },
  {
   "cell_type": "markdown",
   "id": "a2ff7fe0",
   "metadata": {
    "hidden": true,
    "jp-MarkdownHeadingCollapsed": true,
    "tags": []
   },
   "source": [
    "- [Documentations](https://docs.python.org/3.8/library/os.html):"
   ]
  },
  {
   "cell_type": "markdown",
   "id": "845b9d64",
   "metadata": {
    "hidden": true
   },
   "source": [
    "- all functions from posix or nt, e.g. unlink, stat, etc.\n",
    "- `os.path` is either posixpath or ntpath\n",
    "- `os.name` is either `'posix'` or `'nt'`\n",
    "- `os.curdir` is a string representing the current directory (always `'.'`)\n",
    "- `os.pardir` is a string representing the parent directory (always `'..'`)\n",
    "- `os.sep` is the (or a most common) pathname separator (`'/'` or `'\\\\'`)\n",
    "- `os.extsep` is the extension separator (always `'.'`)\n",
    "- `os.altsep` is the alternate pathname separator (`None` or `'/'`)\n",
    "- `os.pathsep` is the component separator used in `$PATH` etc\n",
    "- `os.linesep` is the line separator in text files (`'\\r'` or `'\\n'` or `'\\r\\n'`)\n",
    "- `os.defpath` is the default search path for executables\n",
    "- `os.devnull` is the file path of the null device (`'/dev/null'`, etc.)"
   ]
  },
  {
   "cell_type": "code",
   "execution_count": null,
   "id": "3b9ab58a",
   "metadata": {
    "hidden": true
   },
   "outputs": [],
   "source": [
    "import os"
   ]
  },
  {
   "cell_type": "code",
   "execution_count": null,
   "id": "5745850a",
   "metadata": {
    "hidden": true,
    "scrolled": true
   },
   "outputs": [],
   "source": [
    "# help(os)"
   ]
  },
  {
   "cell_type": "code",
   "execution_count": null,
   "id": "72d82ea1",
   "metadata": {
    "hidden": true
   },
   "outputs": [],
   "source": [
    "os.listdir"
   ]
  },
  {
   "cell_type": "code",
   "execution_count": null,
   "id": "986605f6",
   "metadata": {
    "collapsed": true,
    "hidden": true,
    "jupyter": {
     "outputs_hidden": true
    }
   },
   "outputs": [],
   "source": [
    "os.path.exists()      ## Returns True if path or directory does exists.\n",
    "os.path.isfile()      ## Returns True if path is File.\n",
    "os.path.isdir()       ## Returns True if path is Directory."
   ]
  },
  {
   "cell_type": "code",
   "execution_count": null,
   "id": "bcf2db47",
   "metadata": {
    "hidden": true
   },
   "outputs": [],
   "source": [
    "# help(os.path)"
   ]
  },
  {
   "cell_type": "code",
   "execution_count": null,
   "id": "919f3079",
   "metadata": {
    "hidden": true
   },
   "outputs": [],
   "source": [
    "print(os.defpath, os.devnull, sep='\\n')"
   ]
  },
  {
   "cell_type": "code",
   "execution_count": null,
   "id": "f49bc0a2",
   "metadata": {
    "hidden": true
   },
   "outputs": [],
   "source": []
  },
  {
   "cell_type": "code",
   "execution_count": null,
   "id": "c97d706b",
   "metadata": {
    "hidden": true
   },
   "outputs": [],
   "source": [
    "import os\n",
    "root_dir = f\"{os.environ['HOME']}/mydocs/Software_Development/\""
   ]
  },
  {
   "cell_type": "code",
   "execution_count": null,
   "id": "2d3db4df",
   "metadata": {
    "code_folding": [],
    "collapsed": true,
    "hidden": true,
    "jupyter": {
     "outputs_hidden": true
    }
   },
   "outputs": [],
   "source": [
    "for root, dirs, files in os.walk(root_dir):\n",
    "    ## print(root, dirs, files, sep=\"\\n\")\n",
    "    for file in files:\n",
    "        if file.endswith('.txt'):\n",
    "            print(os.path.join(root, file))\n"
   ]
  },
  {
   "cell_type": "code",
   "execution_count": null,
   "id": "8554458e",
   "metadata": {
    "hidden": true
   },
   "outputs": [],
   "source": []
  },
  {
   "cell_type": "markdown",
   "id": "a525e795",
   "metadata": {
    "heading_collapsed": true,
    "hidden": true,
    "jp-MarkdownHeadingCollapsed": true
   },
   "source": [
    "#### os.path:\n",
    "\n",
    "Functions and Attributes defined in this packages are shown below."
   ]
  },
  {
   "cell_type": "markdown",
   "id": "d8e54e1f",
   "metadata": {
    "hidden": true
   },
   "source": [
    "**Functions:**\n",
    "\n",
    "`abspath(path)` `basename(p)` `commonpath(paths)` `commonprefix(m)` `dirname(p)` `exists(path)` `expanduser(path)` `expandvars(path)` `getatime(filename)` `getctime(filename)` `getmtime(filename)` `getsize(filename)` `isabs(s)` `isdir(s)` `isfile(path)` `islink(path)` `ismount(path)` `join(a, *p)` `lexists(path)` `normcase(s)` `normpath(path)` `realpath(filename)` `relpath(path, start=None)` `samefile(f1, f2)` `sameopenfile(fp1, fp2)` `samestat(s1, s2)` `split(p)` `splitdrive(p)` `splitext(p)`\n",
    "\n",
    "**Attributes:**\n",
    "\n",
    "`altsep = None` `curdir = '.'` `defpath = '/bin:/usr/bin'` `devnull = '/dev/null'` `extsep = '.'` `pardir = '..'` `pathsep = ':'` `sep = '/'` `supports_unicode_filenames = True` "
   ]
  },
  {
   "cell_type": "code",
   "execution_count": null,
   "id": "7767d148",
   "metadata": {
    "hidden": true
   },
   "outputs": [],
   "source": [
    "# help(os.path)"
   ]
  },
  {
   "cell_type": "code",
   "execution_count": null,
   "id": "2d5bb57e",
   "metadata": {
    "hidden": true
   },
   "outputs": [],
   "source": [
    "??os.path.join"
   ]
  },
  {
   "cell_type": "code",
   "execution_count": null,
   "id": "0c14d4b6",
   "metadata": {
    "hidden": true
   },
   "outputs": [],
   "source": [
    "data_path = '/Users/a.momin/Data/concrete_data/train/negative'\n",
    "data_path2 = '/Users/a.momin/Data'"
   ]
  },
  {
   "cell_type": "code",
   "execution_count": null,
   "id": "ed9d88bc",
   "metadata": {
    "hidden": true
   },
   "outputs": [],
   "source": [
    "dir_content = os.listdir(data_path2); # dir_content"
   ]
  },
  {
   "cell_type": "code",
   "execution_count": null,
   "id": "922bccc1",
   "metadata": {
    "hidden": true,
    "scrolled": true
   },
   "outputs": [],
   "source": [
    "dir_iter = os.scandir(data_path2); dir_iter\n",
    "# list(dir_iter)[0:5]"
   ]
  },
  {
   "cell_type": "code",
   "execution_count": null,
   "id": "a1485399",
   "metadata": {
    "hidden": true
   },
   "outputs": [],
   "source": []
  },
  {
   "cell_type": "code",
   "execution_count": null,
   "id": "c6de721c",
   "metadata": {
    "hidden": true
   },
   "outputs": [],
   "source": [
    "content1 = next(dir_iter); content1"
   ]
  },
  {
   "cell_type": "code",
   "execution_count": null,
   "id": "cdcca9c1",
   "metadata": {
    "hidden": true
   },
   "outputs": [],
   "source": [
    "content1.name"
   ]
  },
  {
   "cell_type": "code",
   "execution_count": null,
   "id": "67c70a6e",
   "metadata": {
    "hidden": true
   },
   "outputs": [],
   "source": [
    "content1.is_dir()"
   ]
  },
  {
   "cell_type": "code",
   "execution_count": null,
   "id": "a7f0ae76",
   "metadata": {
    "hidden": true
   },
   "outputs": [],
   "source": [
    "content1.is_file()"
   ]
  },
  {
   "cell_type": "code",
   "execution_count": null,
   "id": "1d824ff0",
   "metadata": {
    "hidden": true
   },
   "outputs": [],
   "source": []
  },
  {
   "cell_type": "code",
   "execution_count": null,
   "id": "97b347b6",
   "metadata": {
    "hidden": true
   },
   "outputs": [],
   "source": [
    "os.path.splitext(content1)"
   ]
  },
  {
   "cell_type": "code",
   "execution_count": null,
   "id": "f8b88bad",
   "metadata": {
    "hidden": true
   },
   "outputs": [],
   "source": [
    "os.path.splitext('Hellow is it me.mp3')"
   ]
  },
  {
   "cell_type": "code",
   "execution_count": null,
   "id": "c027bd57",
   "metadata": {
    "hidden": true
   },
   "outputs": [],
   "source": [
    "bs_nm = os.path.basename(os.getcwd()); bs_nm"
   ]
  },
  {
   "cell_type": "code",
   "execution_count": null,
   "id": "2423ed49",
   "metadata": {
    "hidden": true,
    "scrolled": true
   },
   "outputs": [],
   "source": [
    "# dir_iter_items = [item for item in dir_iter]; dir_iter_items"
   ]
  },
  {
   "cell_type": "code",
   "execution_count": null,
   "id": "6c91b53b",
   "metadata": {
    "hidden": true
   },
   "outputs": [],
   "source": [
    "# list(os.walk(os.getcwd()))"
   ]
  },
  {
   "cell_type": "code",
   "execution_count": null,
   "id": "ca442d86",
   "metadata": {
    "hidden": true
   },
   "outputs": [],
   "source": [
    "import os\n",
    "\n",
    "for root, dirs, files in os.walk(os.getcwd()):\n",
    "    for filename in files:\n",
    "        filepath = root + os.sep + filename\n",
    "\n",
    "        if filepath.endswith((\".jpg\",\".png\", '.pdf')):\n",
    "            continue\n",
    "            print(filepath)"
   ]
  },
  {
   "cell_type": "code",
   "execution_count": null,
   "id": "305bef0c",
   "metadata": {
    "hidden": true
   },
   "outputs": [],
   "source": [
    "os.path.abspath(\".\")"
   ]
  },
  {
   "cell_type": "code",
   "execution_count": null,
   "id": "9b2f4054",
   "metadata": {
    "hidden": true
   },
   "outputs": [],
   "source": [
    "par_path = os.path.abspath(os.path.join(os.pardir)); par_path"
   ]
  },
  {
   "cell_type": "code",
   "execution_count": null,
   "id": "eeca0117",
   "metadata": {
    "hidden": true
   },
   "outputs": [],
   "source": [
    "os.pardir"
   ]
  },
  {
   "cell_type": "code",
   "execution_count": null,
   "id": "db3d7162",
   "metadata": {
    "hidden": true
   },
   "outputs": [],
   "source": [
    "os.path.abspath(os.pardir)"
   ]
  },
  {
   "cell_type": "code",
   "execution_count": null,
   "id": "5ed14605",
   "metadata": {
    "hidden": true
   },
   "outputs": [],
   "source": [
    "os.path.join(os.path.abspath(os.pardir), 'this_path')"
   ]
  },
  {
   "cell_type": "code",
   "execution_count": null,
   "id": "6f73beeb",
   "metadata": {
    "hidden": true
   },
   "outputs": [],
   "source": [
    "os.path.abspath(os.path.join(os.pardir, 'this'))"
   ]
  },
  {
   "cell_type": "code",
   "execution_count": null,
   "id": "2e75e38d",
   "metadata": {
    "hidden": true
   },
   "outputs": [],
   "source": [
    "os.path.abspath(os.path.join(os.pardir))"
   ]
  },
  {
   "cell_type": "code",
   "execution_count": null,
   "id": "a589c917",
   "metadata": {
    "hidden": true
   },
   "outputs": [],
   "source": [
    "os.path.join(os.pardir, 'this')"
   ]
  },
  {
   "cell_type": "code",
   "execution_count": null,
   "id": "3fe16617",
   "metadata": {
    "hidden": true
   },
   "outputs": [],
   "source": [
    "\n",
    "os.mkdir(os.path.join(os.getcwd(), 'TEST_TO_CREATE_DIR_BY_OS_MKDIR'))\n",
    "\n",
    "# remove only empty dir\n",
    "os.rmdir(os.path.join(os.getcwd(), 'TEST_TO_CREATE_DIR_BY_OS_MKDIR'))"
   ]
  },
  {
   "cell_type": "code",
   "execution_count": null,
   "id": "f4a676fb",
   "metadata": {
    "hidden": true
   },
   "outputs": [],
   "source": [
    "isDirectory = os.path.isdir(fpath)\n",
    "isFile = os.path.isfile(fpath)"
   ]
  },
  {
   "cell_type": "code",
   "execution_count": null,
   "id": "277332a0",
   "metadata": {
    "hidden": true,
    "scrolled": true
   },
   "outputs": [],
   "source": [
    "# os.remove('file.txt')"
   ]
  },
  {
   "cell_type": "code",
   "execution_count": null,
   "id": "5d68bd2c",
   "metadata": {
    "hidden": true
   },
   "outputs": [],
   "source": [
    "# shutil.move('dir1/file.txt', 'dir2/file.txt')"
   ]
  },
  {
   "cell_type": "code",
   "execution_count": null,
   "id": "7e47851d",
   "metadata": {
    "hidden": true
   },
   "outputs": [],
   "source": [
    "import os\n",
    "\n",
    "# Example file path\n",
    "file_path = \"/path/to/your/directory/yourfile.txt\"\n",
    "\n",
    "# Extract the directory name\n",
    "directory_name = os.path.dirname(file_path)\n",
    "\n",
    "# Print the directory name\n",
    "print(directory_name)"
   ]
  },
  {
   "cell_type": "code",
   "execution_count": null,
   "id": "cd117d01",
   "metadata": {
    "hidden": true
   },
   "outputs": [],
   "source": [
    "png_file = os.path.splitext(os.path.basename(file_path))[0]; png_file"
   ]
  },
  {
   "cell_type": "code",
   "execution_count": null,
   "id": "0805458c",
   "metadata": {
    "collapsed": true,
    "hidden": true,
    "jupyter": {
     "outputs_hidden": true
    }
   },
   "outputs": [],
   "source": [
    "!ls ."
   ]
  },
  {
   "cell_type": "markdown",
   "id": "07f20cd8",
   "metadata": {
    "heading_collapsed": true,
    "hidden": true,
    "jp-MarkdownHeadingCollapsed": true
   },
   "source": [
    "#### Metadata of File:"
   ]
  },
  {
   "cell_type": "code",
   "execution_count": null,
   "id": "957cbb09",
   "metadata": {
    "hidden": true
   },
   "outputs": [],
   "source": [
    "# help(os.stat('./03.07-Merge-and-Join.ipynb'))"
   ]
  },
  {
   "cell_type": "code",
   "execution_count": null,
   "id": "ab90b7de",
   "metadata": {
    "hidden": true,
    "scrolled": true,
    "tags": []
   },
   "outputs": [],
   "source": [
    "# help(os.stat)"
   ]
  },
  {
   "cell_type": "code",
   "execution_count": null,
   "id": "75d0394b",
   "metadata": {
    "hidden": true
   },
   "outputs": [],
   "source": [
    "# !touch test_file_creation.txt"
   ]
  },
  {
   "cell_type": "code",
   "execution_count": null,
   "id": "08b33c41",
   "metadata": {
    "hidden": true
   },
   "outputs": [],
   "source": [
    "import os\n",
    "import datetime\n",
    "\n",
    "# Path to the file\n",
    "path = r\"./test_file_creation.txt\"\n",
    "\n",
    "# get file creation time on mac\n",
    "stat = os.stat(path)\n",
    "c_timestamp = stat.st_birthtime\n",
    "c_size = stat.st_size\n",
    "c_time = datetime.datetime.fromtimestamp(c_timestamp)\n",
    "print(c_time, c_size, sep='\\n')"
   ]
  },
  {
   "cell_type": "code",
   "execution_count": null,
   "id": "550e9eec",
   "metadata": {
    "hidden": true
   },
   "outputs": [],
   "source": []
  },
  {
   "cell_type": "code",
   "execution_count": null,
   "id": "9b09120e",
   "metadata": {
    "hidden": true
   },
   "outputs": [],
   "source": [
    "import datetime\n",
    "import pathlib\n",
    "\n",
    "# create a file path\n",
    "f_name = pathlib.Path(r\"./test_file_creation.txt\")\n",
    "\n",
    "# get modification time\n",
    "m_timestamp = f_name.stat().st_mtime\n",
    "\n",
    "# convert ti to dd-mm-yyyy hh:mm:ss\n",
    "m_time = datetime.datetime.fromtimestamp(m_timestamp)\n",
    "print(m_time)\n",
    "\n",
    "# get creation time on windows\n",
    "c_timestamp = f_name.stat().st_ctime\n",
    "c_time = datetime.datetime.fromtimestamp(c_timestamp)\n",
    "print(c_time)"
   ]
  },
  {
   "cell_type": "code",
   "execution_count": null,
   "id": "01f3f4e4",
   "metadata": {
    "hidden": true
   },
   "outputs": [],
   "source": []
  },
  {
   "cell_type": "code",
   "execution_count": null,
   "id": "eb5ac134",
   "metadata": {
    "hidden": true
   },
   "outputs": [],
   "source": []
  },
  {
   "cell_type": "markdown",
   "id": "420e0446",
   "metadata": {},
   "source": [
    "## random:"
   ]
  },
  {
   "cell_type": "code",
   "execution_count": null,
   "id": "53c3ec04",
   "metadata": {},
   "outputs": [],
   "source": [
    "import random"
   ]
  },
  {
   "cell_type": "markdown",
   "id": "c768a022",
   "metadata": {},
   "source": [
    "`betavariate(...)`, `choice(...)`, `choices(...)`, `expovariate(...)`, `gammavariate(...)`, `gauss(...)`, `getrandbits(...)`, `getstate(...)`, `lognormvariate(...)`, `normalvariate(...)`, `paretovariate(...)`, `randint(...)`, `random(...)`, `randrange(...)`, `sample(...)`, `seed(...)`, `setstate(...)`, `shuffle(...)`, `triangular(...)`, `uniform(...)`, `vonmisesvariate(...)`, `weibullvariate(...)`, "
   ]
  },
  {
   "cell_type": "code",
   "execution_count": null,
   "id": "f9795038",
   "metadata": {},
   "outputs": [],
   "source": [
    "# help(random)"
   ]
  },
  {
   "cell_type": "code",
   "execution_count": null,
   "id": "217b28a3",
   "metadata": {},
   "outputs": [],
   "source": [
    "from random import random, randint, randrange, choice, choices, shuffle, sample"
   ]
  },
  {
   "cell_type": "code",
   "execution_count": null,
   "id": "9bee46ac",
   "metadata": {},
   "outputs": [],
   "source": [
    "L = [*range(10)]"
   ]
  },
  {
   "cell_type": "markdown",
   "id": "54926ade",
   "metadata": {},
   "source": [
    "#### `random.randint(a, b)`\n",
    "- Return random integer in range `[a, b]`, including both end points."
   ]
  },
  {
   "cell_type": "code",
   "execution_count": null,
   "id": "99aa3f16",
   "metadata": {},
   "outputs": [],
   "source": [
    "randint(-10,10)"
   ]
  },
  {
   "cell_type": "markdown",
   "id": "73763840",
   "metadata": {},
   "source": [
    "#### `random.randrange(start, stop=None, step=1)`\n",
    "- Choose a random item from `range(start, stop[, step])`."
   ]
  },
  {
   "cell_type": "code",
   "execution_count": null,
   "id": "11a45486",
   "metadata": {},
   "outputs": [],
   "source": [
    "print(randrange(-5,5))\n",
    "print(randrange(5))"
   ]
  },
  {
   "cell_type": "markdown",
   "id": "0421c162",
   "metadata": {},
   "source": [
    "#### `random.shuffle(population, k)`"
   ]
  },
  {
   "cell_type": "code",
   "execution_count": null,
   "id": "7a59ad74",
   "metadata": {},
   "outputs": [],
   "source": [
    "shuffle(L) ## Inplace shuffling\n",
    "L"
   ]
  },
  {
   "cell_type": "markdown",
   "id": "789ddfff",
   "metadata": {},
   "source": [
    "#### `random.choices(population, k)`"
   ]
  },
  {
   "cell_type": "markdown",
   "id": "7b862317",
   "metadata": {},
   "source": [
    "**random.choices(population, k)**: This function returns a k-length list of elements randomly sampled from the given population **with replacement**. This means that the same element can appear multiple times in the result. If k is greater than the length of the population, the elements will be sampled with replacement from the population. For example:"
   ]
  },
  {
   "cell_type": "code",
   "execution_count": null,
   "id": "bb52dfe8",
   "metadata": {},
   "outputs": [],
   "source": [
    "choices(L,k=2)"
   ]
  },
  {
   "cell_type": "code",
   "execution_count": null,
   "id": "55b8c791",
   "metadata": {},
   "outputs": [],
   "source": [
    "L"
   ]
  },
  {
   "cell_type": "markdown",
   "id": "831d23f7",
   "metadata": {},
   "source": [
    "#### `random.sample(population, k)`"
   ]
  },
  {
   "cell_type": "markdown",
   "id": "deaf262a",
   "metadata": {},
   "source": [
    "**random.sample(population, k)**: This function is used to return a k-length list of unique elements randomly sampled from the given population **without replacement**. Each element is guaranteed to appear at most once in the result. If k is greater than the length of the population, it will raise a ValueError."
   ]
  },
  {
   "cell_type": "code",
   "execution_count": null,
   "id": "241424f8",
   "metadata": {},
   "outputs": [],
   "source": [
    "sample(L, 9)"
   ]
  },
  {
   "cell_type": "code",
   "execution_count": null,
   "id": "6601b7fd",
   "metadata": {},
   "outputs": [],
   "source": [
    "L"
   ]
  },
  {
   "cell_type": "code",
   "execution_count": null,
   "id": "3f16787d",
   "metadata": {},
   "outputs": [],
   "source": [
    "# help(sample)"
   ]
  },
  {
   "cell_type": "code",
   "execution_count": null,
   "id": "b6bf5f64",
   "metadata": {},
   "outputs": [],
   "source": [
    "# help(randrange)"
   ]
  },
  {
   "cell_type": "code",
   "execution_count": null,
   "id": "ea0c622f",
   "metadata": {},
   "outputs": [],
   "source": [
    "import random\n",
    "\n",
    "st = {1,2,3,9}\n",
    "\n",
    "# random.choice(st) # ERROR: TypeError: 'set' object is not subscriptable"
   ]
  },
  {
   "cell_type": "markdown",
   "id": "349ab763",
   "metadata": {
    "heading_collapsed": true,
    "jp-MarkdownHeadingCollapsed": true,
    "tags": []
   },
   "source": [
    "## pathlib:"
   ]
  },
  {
   "cell_type": "markdown",
   "id": "8ee4d0f1",
   "metadata": {
    "hidden": true
   },
   "source": [
    "[Object-oriented filesystem paths](https://docs.python.org/3/library/pathlib.html#module-pathlib)"
   ]
  },
  {
   "cell_type": "code",
   "execution_count": 3,
   "id": "dfad630d",
   "metadata": {
    "hidden": true
   },
   "outputs": [],
   "source": [
    "import pathlib\n",
    "from pathlib import Path\n",
    "import os"
   ]
  },
  {
   "cell_type": "code",
   "execution_count": null,
   "id": "1f79ea2c",
   "metadata": {
    "hidden": true
   },
   "outputs": [],
   "source": [
    "# help(pathlib)"
   ]
  },
  {
   "cell_type": "code",
   "execution_count": null,
   "id": "3c75e511",
   "metadata": {
    "hidden": true
   },
   "outputs": [],
   "source": [
    "# help(pathlib.PosixPath)"
   ]
  },
  {
   "cell_type": "code",
   "execution_count": null,
   "id": "010b2e20",
   "metadata": {
    "hidden": true
   },
   "outputs": [],
   "source": [
    "# help(Path)"
   ]
  },
  {
   "cell_type": "markdown",
   "id": "c9e6b7a3",
   "metadata": {
    "hidden": true
   },
   "source": [
    "**Path(PurePath):**\n",
    "\n",
    "`absolute()` → Return an absolute version of this path. This function works\n",
    "even if the path doesn't point to anything. No normalization is done, i.e. all '.' and '..' will be kept along. Use resolve() to get the canonical path to a file.\n",
    "\n",
    "`chmod(mode)` → Change the permissions of the path, like os.chmod().\n",
    "\n",
    "`exists()` → Whether this path exists.\n",
    "\n",
    "`glob(pattern)` → Iterate over this subtree and yield all existing files (of any kind, including directories) matching the given relative pattern.\n",
    "\n",
    "`group()` → Return the group name of the file gid.\n",
    "\n",
    "`is_dir()` → Whether this path is a directory.\n",
    "\n",
    "`is_file()` → Whether this path is a regular file (also True for symlinks pointing to regular files).\n",
    "\n",
    "`is_mount()` → Check if this path is a POSIX mount point\n",
    "\n",
    "`is_socket()` → Whether this path is a socket.\n",
    "\n",
    "`is_symlink()` → Whether this path is a symbolic link.\n",
    "\n",
    "`iterdir()` → Iterate over the files in this directory. Does not yield any result for the special paths '.' and '..'.\n",
    "\n",
    "`lchmod(mode)` → Like chmod(), except if the path points to a symlink, the symlink's permissions are changed, rather than its target's.\n",
    "\n",
    "`link_to(target)` → Make the target path a hard link pointing to this path. Note this function does not make this path a hard link to _target_, despite the implication of the function and argument names. The order of arguments (target, link) is the reverse of Path.symlink_to, but matches that of os.link.\n",
    "\n",
    "`mkdir(mode=511, parents=False, exist_ok=False)` → Create a new directory at this given path.\n",
    "\n",
    "`open(mode='r', buffering=-1, encoding=None, errors=None, newline=None)` → Open the file pointed by this path and return a file object, as the built-in open() function does.\n",
    "\n",
    "`owner()` → Return the login name of the file owner.\n",
    "\n",
    "`rename(target)` → Rename this path to the target path. The target path may be absolute or relative. Relative paths are interpreted relative to the current working, _not_ the directory of the Path object. Returns the new Path instance pointing to the target path.\n",
    "\n",
    "`replace(target)` → Rename this path to the target path, overwriting if that path exists. The target path may be absolute or relative. Relative paths are interpreted relative to the current working directory, _not_ the directory of the Path object. Returns the new Path instance pointing to the target path.\n",
    "\n",
    "`resolve(strict=False)` → Make the path absolute, resolving all symlinks on the way and also\n",
    "normalizing it (for example turning slashes into backslashes under\n",
    "Windows).\n",
    "\n",
    "`rglob(pattern)` → Recursively yield all existing files (of any kind, including directories) matching the given relative pattern, anywhere in this subtree.\n",
    "\n",
    "`rmdir()` → Remove this directory. The directory must be empty.\n",
    "\n",
    "`symlink_to(target, target_is_directory=False)` → Make this path a symlink pointing to the target path. Note the order of arguments (link, target) is the reverse of os.symlink.\n",
    "\n",
    "`unlink(missing_ok=False)` → Remove this file or link.\n",
    "If the path is a directory, use rmdir() instead.\n"
   ]
  },
  {
   "cell_type": "code",
   "execution_count": null,
   "id": "77ab079a",
   "metadata": {
    "hidden": true
   },
   "outputs": [],
   "source": [
    "# help(os.path)"
   ]
  },
  {
   "cell_type": "code",
   "execution_count": null,
   "id": "e4e210e1",
   "metadata": {
    "hidden": true
   },
   "outputs": [],
   "source": []
  },
  {
   "cell_type": "code",
   "execution_count": null,
   "id": "c9de680a",
   "metadata": {
    "hidden": true
   },
   "outputs": [],
   "source": []
  },
  {
   "cell_type": "code",
   "execution_count": 7,
   "id": "83321f0d",
   "metadata": {
    "hidden": true
   },
   "outputs": [],
   "source": [
    "paths = Path('/Users/a.momin/Data/').glob('**/*.mp3')\n",
    "\n",
    "# print(list(paths))\n",
    "# help(list(paths)[0])\n",
    "for path in paths:\n",
    "    # because path is object not string\n",
    "    path_in_str = str(path)\n",
    "    # Do thing with the path\n",
    "    print(path_in_str)"
   ]
  },
  {
   "cell_type": "code",
   "execution_count": 14,
   "id": "864c0470",
   "metadata": {},
   "outputs": [
    {
     "data": {
      "text/plain": [
       "'/Users/am/DATA'"
      ]
     },
     "execution_count": 14,
     "metadata": {},
     "output_type": "execute_result"
    }
   ],
   "source": [
    "data = os.environ['DATA']; data"
   ]
  },
  {
   "cell_type": "code",
   "execution_count": 19,
   "id": "80555595",
   "metadata": {
    "hidden": true
   },
   "outputs": [
    {
     "name": "stdout",
     "output_type": "stream",
     "text": [
      "/Users/am/Data/customers.csv\n",
      "/Users/am/Data/links.csv\n",
      "/Users/am/Data/uspopulation.csv\n",
      "/Users/am/Data/restaurant_violations.csv\n",
      "/Users/am/Data/users_interactions.csv\n",
      "/Users/am/Data/movies.csv\n",
      "/Users/am/Data/shared_articles.csv\n",
      "/Users/am/Data/sales.csv\n"
     ]
    }
   ],
   "source": [
    "paths = Path('/Users/am/Data/')\n",
    "\n",
    "for item in paths.iterdir():\n",
    "        if item.name.endswith(\".csv\"): print(item)\n",
    "        # print(item)\n",
    "        # target = item.name\n",
    "        # print(target)"
   ]
  },
  {
   "cell_type": "markdown",
   "id": "2f353374",
   "metadata": {
    "heading_collapsed": true,
    "jp-MarkdownHeadingCollapsed": true,
    "tags": []
   },
   "source": [
    "## shutil (shell utilities)"
   ]
  },
  {
   "cell_type": "markdown",
   "id": "df9dc471",
   "metadata": {
    "hidden": true,
    "jp-MarkdownHeadingCollapsed": true,
    "tags": []
   },
   "source": [
    "- [Documentations](https://docs.python.org/3/library/shutil.html)"
   ]
  },
  {
   "cell_type": "code",
   "execution_count": null,
   "id": "7ff1b379",
   "metadata": {
    "hidden": true
   },
   "outputs": [],
   "source": [
    "import shutil"
   ]
  },
  {
   "cell_type": "code",
   "execution_count": null,
   "id": "0e4abd2b",
   "metadata": {
    "hidden": true
   },
   "outputs": [],
   "source": [
    "# help(shutil)"
   ]
  },
  {
   "cell_type": "code",
   "execution_count": null,
   "id": "34b8828a",
   "metadata": {
    "hidden": true
   },
   "outputs": [],
   "source": [
    "# shutil.copytree(item, target)\n",
    "# shutil.copy2(item, target)"
   ]
  },
  {
   "cell_type": "markdown",
   "id": "ee93016b",
   "metadata": {
    "heading_collapsed": true,
    "jp-MarkdownHeadingCollapsed": true,
    "tags": []
   },
   "source": [
    "## glob"
   ]
  },
  {
   "cell_type": "markdown",
   "id": "995d0f4d",
   "metadata": {
    "hidden": true,
    "jp-MarkdownHeadingCollapsed": true,
    "tags": []
   },
   "source": [
    "- [Documentations](https://docs.python.org/3.8/library/glob.html):"
   ]
  },
  {
   "cell_type": "markdown",
   "id": "4f783448",
   "metadata": {
    "hidden": true
   },
   "source": [
    "- The glob module finds all the pathnames matching a specified pattern **according to the rules used by the Unix shell**, although results are returned in arbitrary order. \n",
    "- No tilde expansion is done, but `*`, `?`, and character ranges expressed with `[]` will be correctly matched\n",
    "- For a literal match, wrap the meta-characters in brackets. For example, `'[?]'` matches the character `?`"
   ]
  },
  {
   "cell_type": "code",
   "execution_count": null,
   "id": "ad5cbebb",
   "metadata": {
    "hidden": true
   },
   "outputs": [],
   "source": [
    "import glob"
   ]
  },
  {
   "cell_type": "code",
   "execution_count": null,
   "id": "5a995bd8",
   "metadata": {
    "hidden": true
   },
   "outputs": [],
   "source": [
    "# help(glob)\n",
    "# dir(glob)"
   ]
  },
  {
   "cell_type": "code",
   "execution_count": null,
   "id": "0d6246cb",
   "metadata": {
    "hidden": true
   },
   "outputs": [],
   "source": [
    "glob.glob('../../**/*.txt')"
   ]
  },
  {
   "cell_type": "code",
   "execution_count": null,
   "id": "37b626c4",
   "metadata": {
    "hidden": true
   },
   "outputs": [],
   "source": [
    "# glob.glob('../../**/**/*.txt')"
   ]
  },
  {
   "cell_type": "code",
   "execution_count": null,
   "id": "d25e9f37",
   "metadata": {
    "hidden": true
   },
   "outputs": [],
   "source": [
    "root_dir = '~/mydocs/Software_Development/notes_hub/cmds'"
   ]
  },
  {
   "cell_type": "code",
   "execution_count": null,
   "id": "902eebc6",
   "metadata": {
    "hidden": true
   },
   "outputs": [],
   "source": [
    "# Print png images in folder User/a.momin/Desktop/\n",
    "for filepath in glob.iglob(f'{root_dir}/*.md', recursive=True):\n",
    "    print(filepath)"
   ]
  },
  {
   "cell_type": "code",
   "execution_count": null,
   "id": "b9b402db",
   "metadata": {
    "hidden": true
   },
   "outputs": [],
   "source": [
    "# Print pdf files in folder User/a.momin/Desktop/\n",
    "for filepath in glob.iglob(r'/Users/am/Desktop/*.jpg'):\n",
    "    print(filepath)\n",
    "    "
   ]
  },
  {
   "cell_type": "code",
   "execution_count": null,
   "id": "829e1eff",
   "metadata": {
    "hidden": true
   },
   "outputs": [],
   "source": [
    "for filename in glob.iglob('**/*.txt', recursive=True):\n",
    "    print(filename)"
   ]
  },
  {
   "cell_type": "code",
   "execution_count": null,
   "id": "e2084788",
   "metadata": {
    "hidden": true
   },
   "outputs": [],
   "source": [
    "# Recursively print png images in folder User/a.momin/Desktop/\n",
    "for filepath in glob.iglob(r'/Users/am/Desktop/*.png', recursive=True):\n",
    "    print(filepath)"
   ]
  },
  {
   "cell_type": "code",
   "execution_count": null,
   "id": "c40a6183",
   "metadata": {
    "hidden": true
   },
   "outputs": [],
   "source": [
    "# Recursively print pdf files in folder C:\\Users\\admin\\\n",
    "for filepath in glob.iglob('/Users/a.momin/Desktop/*.pdf', recursive=True):\n",
    "    print(filepath)"
   ]
  },
  {
   "cell_type": "code",
   "execution_count": null,
   "id": "7f52397f",
   "metadata": {
    "hidden": true
   },
   "outputs": [],
   "source": [
    "from pathlib import Path"
   ]
  },
  {
   "cell_type": "code",
   "execution_count": null,
   "id": "238529ab",
   "metadata": {
    "hidden": true
   },
   "outputs": [],
   "source": [
    "root_dir = '~/mydocs/Software_Development/'"
   ]
  },
  {
   "cell_type": "code",
   "execution_count": null,
   "id": "abce22c5",
   "metadata": {
    "hidden": true
   },
   "outputs": [],
   "source": [
    "! ls {root_dir}"
   ]
  },
  {
   "cell_type": "code",
   "execution_count": null,
   "id": "5d437073",
   "metadata": {
    "hidden": true
   },
   "outputs": [],
   "source": [
    "paths = Path(root_dir).glob('**/[0-9]*.pdf')"
   ]
  },
  {
   "cell_type": "code",
   "execution_count": null,
   "id": "84a5b332",
   "metadata": {
    "hidden": true
   },
   "outputs": [],
   "source": [
    "type(paths)"
   ]
  },
  {
   "cell_type": "code",
   "execution_count": null,
   "id": "e151eaa8",
   "metadata": {
    "hidden": true
   },
   "outputs": [],
   "source": [
    "print(list(paths)[0:5])"
   ]
  },
  {
   "cell_type": "code",
   "execution_count": null,
   "id": "98bb610a",
   "metadata": {
    "hidden": true
   },
   "outputs": [],
   "source": [
    "for path in paths:\n",
    "    # because path is object not string\n",
    "    path_in_str = str(path)\n",
    "    print(path_in_str, '\\n')"
   ]
  },
  {
   "cell_type": "markdown",
   "id": "e54fb8af",
   "metadata": {
    "heading_collapsed": true,
    "jp-MarkdownHeadingCollapsed": true
   },
   "source": [
    "## Shallow / Deep Copy"
   ]
  },
  {
   "cell_type": "code",
   "execution_count": null,
   "id": "3c43e14d",
   "metadata": {
    "hidden": true
   },
   "outputs": [],
   "source": [
    "import copy\n",
    "\n",
    "original_list = [1, [2, 3], 4]\n",
    "shallow_copy = copy.copy(original_list)\n",
    "\n",
    "shallow_copy[1][0] = 'a'  # Modify nested object in shallow copy\n",
    "print(original_list)  # Output: [1, ['a', 3], 4] - original list is affected\n"
   ]
  },
  {
   "cell_type": "code",
   "execution_count": null,
   "id": "682725aa",
   "metadata": {
    "hidden": true
   },
   "outputs": [],
   "source": [
    "import copy\n",
    "\n",
    "original_list = [1, [2, 3], 4]\n",
    "deep_copy = copy.deepcopy(original_list)\n",
    "\n",
    "deep_copy[1][0] = 'a'  # Modify nested object in deep copy\n",
    "print(original_list)  # Output: [1, [2, 3], 4] - original list remains unchanged\n"
   ]
  },
  {
   "cell_type": "markdown",
   "id": "4ac75348",
   "metadata": {
    "heading_collapsed": true,
    "jp-MarkdownHeadingCollapsed": true,
    "tags": []
   },
   "source": [
    "## sys"
   ]
  },
  {
   "cell_type": "markdown",
   "id": "3957ad71",
   "metadata": {
    "hidden": true,
    "jp-MarkdownHeadingCollapsed": true,
    "tags": []
   },
   "source": [
    "- [Documentations](https://docs.python.org/3.8/library/sys.html):"
   ]
  },
  {
   "cell_type": "markdown",
   "id": "6a9b9374",
   "metadata": {
    "hidden": true
   },
   "source": [
    "[System-specific parameters and functions](https://docs.python.org/3/library/sys.html#module-sys)"
   ]
  },
  {
   "cell_type": "code",
   "execution_count": null,
   "id": "e28db3d1",
   "metadata": {
    "hidden": true
   },
   "outputs": [],
   "source": [
    "import sys"
   ]
  },
  {
   "cell_type": "code",
   "execution_count": null,
   "id": "c62eeadc",
   "metadata": {
    "hidden": true
   },
   "outputs": [],
   "source": [
    "# help(sys)"
   ]
  },
  {
   "cell_type": "code",
   "execution_count": null,
   "id": "23fe1434",
   "metadata": {
    "hidden": true
   },
   "outputs": [],
   "source": []
  },
  {
   "cell_type": "code",
   "execution_count": null,
   "id": "1c8a35f4",
   "metadata": {
    "hidden": true
   },
   "outputs": [],
   "source": []
  },
  {
   "cell_type": "markdown",
   "id": "dd8bccd6",
   "metadata": {
    "heading_collapsed": true,
    "jp-MarkdownHeadingCollapsed": true,
    "tags": []
   },
   "source": [
    "## subprocess"
   ]
  },
  {
   "cell_type": "markdown",
   "id": "eedf8626",
   "metadata": {
    "hidden": true
   },
   "source": [
    "[doc](https://docs.python.org/3.8/library/subprocess.html?highlight=subprocess#popen-objects)"
   ]
  },
  {
   "cell_type": "markdown",
   "id": "a11bf733",
   "metadata": {},
   "source": [
    "\n",
    "\n",
    "```python\n",
    "# Define the path to your shell script\n",
    "script_path = \"/path/to/your/script.sh\"\n",
    "\n",
    "# Run the shell script\n",
    "result = subprocess.run([\"bash\", script_path], capture_output=True, text=True)\n",
    "# Print the output and error (if any)\n",
    "print(f\"Output: {result.stdout}\", f\"Error:{result.stderr}\")\n",
    "```\n",
    "\n",
    "- `[\"bash\", script_path]` specifies that `bash` should run the script located at `script_path`.\n",
    "- `capture_output=True` captures both standard output and standard error so you can access them in `result.stdout` and `result.stderr`.\n",
    "- `text=True` ensures that the output and error are returned as strings (instead of bytes).\n",
    "\n",
    "- **Check for errors**: To raise an exception if the script exits with a non-zero code, use `check=True`.\n",
    "  ```python\n",
    "  result = subprocess.run([\"bash\", script_path], capture_output=True, text=True, check=True)\n",
    "  ```\n",
    "- **Environment Variables**: You can pass environment variables using `env` if needed:\n",
    "  ```python\n",
    "  import os\n",
    "  result = subprocess.run(\n",
    "      [\"bash\", script_path],\n",
    "      capture_output=True,\n",
    "      text=True,\n",
    "      env={\"MY_ENV_VAR\": \"value\", **os.environ}  # Extend existing environment\n",
    "  )\n",
    "  ```"
   ]
  },
  {
   "cell_type": "code",
   "execution_count": null,
   "id": "2725efa5",
   "metadata": {},
   "outputs": [],
   "source": [
    "import subprocess\n",
    "\n",
    "# Define your sequence of commands\n",
    "commands = \"\"\"\n",
    "echo \"Starting process\"\n",
    "mkdir -p /tmp/my_test_directory\n",
    "echo \"Process complete\"\n",
    "\"\"\"\n",
    "\n",
    "# Run the commands as a single shell command\n",
    "result = subprocess.run(commands, shell=True, capture_output=True, text=True)\n",
    "\n",
    "# Print the output and error (if any)\n",
    "print(\"Output:\", result.stdout)\n",
    "print(\"Error:\", result.stderr)\n"
   ]
  },
  {
   "cell_type": "markdown",
   "id": "69d60eb8",
   "metadata": {
    "hidden": true
   },
   "source": [
    "```python\n",
    "class subprocess.Popen(args, bufsize=-1, executable=None, stdin=None, stdout=None, stderr=None, preexec_fn=None, close_fds=True, shell=False, cwd=None, env=None, universal_newlines=None, startupinfo=None, creationflags=0, restore_signals=True, start_new_session=False, pass_fds=(), *, encoding=None, errors=None, text=None)\n",
    "```\n",
    "\n",
    "- `args` should be a sequence of program arguments.\n",
    "    - By default, the program to execute is the first item in args if args is a sequence.\n",
    "    - the first item specifies the command string, and any additional items will be treated as additional arguments to the shell itself. That is to say, Popen does the equivalent of:\n",
    "    ```python\n",
    "    Popen(['/bin/sh', '-c', args[0], args[1], ...])\n",
    "    ```\n",
    "- `args` could be a single string or path-like object.\n",
    "    - If `shell=True`, it is recommended to pass args as a string rather than as a sequence.\n",
    "    - On POSIX with `shell=True`, the shell defaults to /bin/sh\n",
    "    - the string must be formatted exactly as it would be when typed at the shell prompt.\n",
    "\n",
    "- Unless otherwise stated, it is recommended to pass args as a sequence.\n",
    "\n",
    "- if you want to send data to the process’s stdin, you need to create the Popen object with `stdin=PIPE`. Similarly, to get anything other than None in the result tuple, you need to give `stdout=PIPE` and/or `stderr=PIPE` too.\n",
    "\n",
    "- The child process is not killed if the timeout expires, so in order to cleanup properly a well-behaved application should kill the child process and finish communication:\n",
    "    ```python\n",
    "    proc = subprocess.Popen(...)\n",
    "    try:\n",
    "        outs, errs = proc.communicate(timeout=15)\n",
    "    except TimeoutExpired:\n",
    "        proc.kill()\n",
    "        outs, errs = proc.communicate()\n",
    "    ```"
   ]
  },
  {
   "cell_type": "markdown",
   "id": "5a675f56",
   "metadata": {
    "hidden": true
   },
   "source": [
    "- `Popen.communicate(input=None, timeout=None)`:\n",
    "    - Interact with process: \n",
    "        - Send data to stdin. Read data from stdout and stderr, until end-of-file is reached. Wait for process to terminate and set the returncode attribute.\n",
    "    - The optional input argument should be data to be sent to the child process, or `None` if no data should be sent to the child. \n",
    "        - If streams were opened in text mode, input must be a string. Otherwise, it must be bytes.\n",
    "    - returns a tuple (stdout_data, stderr_data). \n",
    "        - The data will be strings if streams were opened in text mode; otherwise, bytes."
   ]
  },
  {
   "cell_type": "markdown",
   "id": "e5bb0295",
   "metadata": {
    "hidden": true
   },
   "source": [
    "- `Popen.wait(timeout=None)`:\n",
    "    - Wait for child process to terminate. Set and return returncode attribute.\n",
    "    - If the process does not terminate after timeout seconds, raise a TimeoutExpired exception. It is safe to catch this exception and retry the wait."
   ]
  },
  {
   "cell_type": "markdown",
   "id": "4cbd188f",
   "metadata": {},
   "source": [
    "```python\n",
    "import subprocess\n",
    "\n",
    "# Define a command or sequence of commands to run\n",
    "commands = \"\"\"\n",
    "echo \"Starting process\"\n",
    "mkdir -p /tmp/my_test_directory\n",
    "echo \"Process complete\"\n",
    "\"\"\"\n",
    "\n",
    "# Initialize Popen with a shell command\n",
    "process = subprocess.Popen(commands, shell=True, stdout=subprocess.PIPE, stderr=subprocess.PIPE, text=True)\n",
    "\n",
    "# Capture the output and error\n",
    "stdout, stderr = process.communicate()\n",
    "\n",
    "# Print the output and error (if any)\n",
    "print(\"Output:\", stdout)\n",
    "print(\"Error:\", stderr)\n",
    "```\n",
    "\n",
    "- `shell=True` allows you to pass the entire command string.\n",
    "- `stdout=subprocess.PIPE` and `stderr=subprocess.PIPE` redirect the standard output and standard error to pipes, which allows capturing the output.\n",
    "- `text=True` ensures that the output and error are returned as strings instead of bytes.\n",
    "- `process.communicate()` waits for the process to complete and returns a tuple with `stdout` and `stderr`.\n",
    "\n",
    "- **Real-time Output**: To get real-time output, you can read from `process.stdout` line-by-line in a loop.\n",
    "- **Error Handling**: Check the process's return code with `process.returncode` after `communicate()` to determine success or failure.\n",
    "\n",
    "\n",
    "```python\n",
    "process = subprocess.Popen(commands, shell=True, stdout=subprocess.PIPE, stderr=subprocess.PIPE, text=True)\n",
    "\n",
    "# Read and print each line of output in real-time\n",
    "for line in process.stdout:\n",
    "    print(\"Output:\", line.strip())\n",
    "\n",
    "# Read and print any error after process completion\n",
    "stderr = process.stderr.read()\n",
    "if stderr:\n",
    "    print(\"Error:\", stderr)\n",
    "```"
   ]
  },
  {
   "cell_type": "markdown",
   "id": "89c2d2ed",
   "metadata": {
    "heading_collapsed": true,
    "jp-MarkdownHeadingCollapsed": true,
    "tags": []
   },
   "source": [
    "## functools:"
   ]
  },
  {
   "cell_type": "markdown",
   "id": "7e2dbdfc",
   "metadata": {
    "hidden": true
   },
   "source": [
    "[Higher-order functions and operations on callable objects](https://docs.python.org/3/library/functools.html#module-functools)"
   ]
  },
  {
   "cell_type": "code",
   "execution_count": null,
   "id": "1707448f",
   "metadata": {
    "hidden": true
   },
   "outputs": [],
   "source": [
    "from functools import *"
   ]
  },
  {
   "cell_type": "code",
   "execution_count": null,
   "id": "31dec150",
   "metadata": {
    "hidden": true
   },
   "outputs": [],
   "source": [
    "# dir(functools)"
   ]
  },
  {
   "cell_type": "code",
   "execution_count": null,
   "id": "e5972f08",
   "metadata": {
    "hidden": true
   },
   "outputs": [],
   "source": [
    "# help(functools)"
   ]
  },
  {
   "cell_type": "markdown",
   "id": "61ab87a8",
   "metadata": {
    "hidden": true
   },
   "source": [
    "\n",
    "`functools.cached_property(...)`,\n",
    "`functools.cmp_to_key(...)`,\n",
    "`functools.get_cache_token(...)`,\n",
    "`functools.lru_cache(maxsize=128, typed=False)`,\n",
    "`functools.namedtuple(...)`,\n",
    "`functools.partial(...)`,\n",
    "`functools.partialmethod(...)`,\n",
    "`functools.recursive_repr(...)`,\n",
    "`functools.reduce(...)`,\n",
    "`functools.singledispatch(...)`,\n",
    "`functools.singledispatchmethod(...)`,\n",
    "`functools.total_ordering(...)`,\n",
    "`functools.update_wrapper(...)`,\n",
    "`functools.wraps(...)`"
   ]
  },
  {
   "cell_type": "code",
   "execution_count": null,
   "id": "4f4ee8f3",
   "metadata": {
    "hidden": true
   },
   "outputs": [],
   "source": [
    "help(lru_cache)"
   ]
  },
  {
   "cell_type": "code",
   "execution_count": null,
   "id": "7bb9bf42",
   "metadata": {
    "hidden": true
   },
   "outputs": [],
   "source": []
  },
  {
   "cell_type": "code",
   "execution_count": null,
   "id": "bd44a009",
   "metadata": {
    "hidden": true
   },
   "outputs": [],
   "source": []
  },
  {
   "cell_type": "markdown",
   "id": "ebe22ee4",
   "metadata": {
    "heading_collapsed": true,
    "jp-MarkdownHeadingCollapsed": true,
    "tags": []
   },
   "source": [
    "## itertools:"
   ]
  },
  {
   "cell_type": "code",
   "execution_count": null,
   "id": "443a1715",
   "metadata": {
    "hidden": true
   },
   "outputs": [],
   "source": [
    "from itertools import *\n",
    "import itertools as it"
   ]
  },
  {
   "cell_type": "markdown",
   "id": "7b635e36",
   "metadata": {
    "hidden": true
   },
   "source": [
    "[Functions creating iterators for efficient looping](https://docs.python.org/3/library/itertools.html#module-itertools)"
   ]
  },
  {
   "cell_type": "markdown",
   "id": "4d3081da",
   "metadata": {
    "hidden": true
   },
   "source": [
    "`itertools.accumulate()`\n",
    "`itertools.chain()`\n",
    "`itertools.combinations()`\n",
    "`itertools.combinations_with_replacement()`\n",
    "`itertools.compress()`\n",
    "`itertools.count()`\n",
    "`itertools.cycle()`\n",
    "`itertools.dropwhile()`\n",
    "`itertools.filterfalse()`\n",
    "`itertools.groupby()`\n",
    "`itertools.islice()`\n",
    "`itertools.permutations()`\n",
    "`itertools.product()`\n",
    "`itertools.repeat()`\n",
    "`itertools.starmap()`\n",
    "`itertools.takewhile()`\n",
    "`itertools.tee()`\n",
    "`itertools.zip_longest()`"
   ]
  },
  {
   "cell_type": "markdown",
   "id": "74e96ac8",
   "metadata": {
    "hidden": true
   },
   "source": [
    "- [Corey: Itertools Module - Iterator Functions for Efficient Looping](https://www.youtube.com/watch?v=Qu3dThVy6KQ&list=RDCMUCCezIgC97PvUuR4_gbFUs5g&index=10)"
   ]
  },
  {
   "cell_type": "markdown",
   "id": "aa43aa54",
   "metadata": {
    "heading_collapsed": true,
    "hidden": true,
    "jp-MarkdownHeadingCollapsed": true
   },
   "source": [
    "#### `itertools.accumulate()`:"
   ]
  },
  {
   "cell_type": "code",
   "execution_count": null,
   "id": "cd496c81",
   "metadata": {
    "hidden": true
   },
   "outputs": [],
   "source": [
    "# help(accumulate)"
   ]
  },
  {
   "cell_type": "code",
   "execution_count": null,
   "id": "bfa76f46",
   "metadata": {
    "hidden": true
   },
   "outputs": [],
   "source": [
    "# dir(it)"
   ]
  },
  {
   "cell_type": "code",
   "execution_count": null,
   "id": "05b299b6",
   "metadata": {
    "hidden": true,
    "scrolled": true
   },
   "outputs": [],
   "source": [
    "A = [*range(5)]; A"
   ]
  },
  {
   "cell_type": "code",
   "execution_count": null,
   "id": "c61f1875",
   "metadata": {
    "hidden": true
   },
   "outputs": [],
   "source": [
    "acc = accumulate(A, initial=10); acc"
   ]
  },
  {
   "cell_type": "code",
   "execution_count": null,
   "id": "1b35ab40",
   "metadata": {
    "hidden": true
   },
   "outputs": [],
   "source": [
    "L = [*acc]; L"
   ]
  },
  {
   "cell_type": "code",
   "execution_count": null,
   "id": "8134740e",
   "metadata": {
    "hidden": true
   },
   "outputs": [],
   "source": [
    "[*accumulate(range(5), initial=50)]"
   ]
  },
  {
   "cell_type": "markdown",
   "id": "81173954",
   "metadata": {
    "heading_collapsed": true,
    "hidden": true,
    "jp-MarkdownHeadingCollapsed": true
   },
   "source": [
    "#### `itertools.chain()`:"
   ]
  },
  {
   "cell_type": "code",
   "execution_count": null,
   "id": "78303505",
   "metadata": {
    "hidden": true
   },
   "outputs": [],
   "source": [
    "chain()"
   ]
  },
  {
   "cell_type": "markdown",
   "id": "b83f6bb5",
   "metadata": {
    "heading_collapsed": true,
    "hidden": true,
    "jp-MarkdownHeadingCollapsed": true
   },
   "source": [
    "#### `itertools.combinations()`:"
   ]
  },
  {
   "cell_type": "code",
   "execution_count": null,
   "id": "ed37fcc7",
   "metadata": {
    "hidden": true
   },
   "outputs": [],
   "source": [
    "# help(combinations)"
   ]
  },
  {
   "cell_type": "code",
   "execution_count": null,
   "id": "f28b3c4a",
   "metadata": {
    "hidden": true
   },
   "outputs": [],
   "source": [
    "[*combinations(list('SHAH'), 3)]"
   ]
  },
  {
   "cell_type": "markdown",
   "id": "9943fc92",
   "metadata": {
    "heading_collapsed": true,
    "hidden": true,
    "jp-MarkdownHeadingCollapsed": true
   },
   "source": [
    "#### `itertools.combinations_with_replacement()`:"
   ]
  },
  {
   "cell_type": "code",
   "execution_count": null,
   "id": "d92ce797",
   "metadata": {
    "hidden": true
   },
   "outputs": [],
   "source": [
    "combinations_with_replacement()"
   ]
  },
  {
   "cell_type": "markdown",
   "id": "9698a236",
   "metadata": {
    "heading_collapsed": true,
    "hidden": true,
    "jp-MarkdownHeadingCollapsed": true
   },
   "source": [
    "#### `itertools.compress()`:"
   ]
  },
  {
   "cell_type": "code",
   "execution_count": null,
   "id": "7e37d4d2",
   "metadata": {
    "hidden": true
   },
   "outputs": [],
   "source": [
    "compress()"
   ]
  },
  {
   "cell_type": "code",
   "execution_count": null,
   "id": "7c74d5c0",
   "metadata": {
    "hidden": true
   },
   "outputs": [],
   "source": [
    "# help(count)"
   ]
  },
  {
   "cell_type": "markdown",
   "id": "f60eb8dd",
   "metadata": {
    "heading_collapsed": true,
    "hidden": true,
    "jp-MarkdownHeadingCollapsed": true
   },
   "source": [
    "#### `itertools.count()`:"
   ]
  },
  {
   "cell_type": "code",
   "execution_count": null,
   "id": "8c5169d6",
   "metadata": {
    "hidden": true
   },
   "outputs": [],
   "source": [
    "count()"
   ]
  },
  {
   "cell_type": "markdown",
   "id": "dc11a2eb",
   "metadata": {
    "heading_collapsed": true,
    "hidden": true,
    "jp-MarkdownHeadingCollapsed": true
   },
   "source": [
    "#### `itertools.cycle()`:"
   ]
  },
  {
   "cell_type": "code",
   "execution_count": null,
   "id": "7c2c2588",
   "metadata": {
    "hidden": true
   },
   "outputs": [],
   "source": [
    "cycle()"
   ]
  },
  {
   "cell_type": "markdown",
   "id": "1687b965",
   "metadata": {
    "heading_collapsed": true,
    "hidden": true,
    "jp-MarkdownHeadingCollapsed": true
   },
   "source": [
    "#### `itertools.dropwhile()`:"
   ]
  },
  {
   "cell_type": "code",
   "execution_count": null,
   "id": "c5735d94",
   "metadata": {
    "hidden": true
   },
   "outputs": [],
   "source": [
    "dropwhile()"
   ]
  },
  {
   "cell_type": "code",
   "execution_count": null,
   "id": "b0f6c44a",
   "metadata": {
    "hidden": true
   },
   "outputs": [],
   "source": [
    "filterfalse()"
   ]
  },
  {
   "cell_type": "markdown",
   "id": "0afebe03",
   "metadata": {
    "heading_collapsed": true,
    "hidden": true,
    "jp-MarkdownHeadingCollapsed": true
   },
   "source": [
    "#### `itertools.groupby()`:"
   ]
  },
  {
   "cell_type": "code",
   "execution_count": null,
   "id": "50987db5",
   "metadata": {
    "hidden": true
   },
   "outputs": [],
   "source": [
    "groupby()"
   ]
  },
  {
   "cell_type": "markdown",
   "id": "7967f638",
   "metadata": {
    "heading_collapsed": true,
    "hidden": true,
    "jp-MarkdownHeadingCollapsed": true
   },
   "source": [
    "#### `itertools.slice()`:"
   ]
  },
  {
   "cell_type": "code",
   "execution_count": null,
   "id": "2c694efe",
   "metadata": {
    "hidden": true
   },
   "outputs": [],
   "source": [
    "islice()"
   ]
  },
  {
   "cell_type": "markdown",
   "id": "3ba0bd51",
   "metadata": {
    "heading_collapsed": true,
    "hidden": true,
    "jp-MarkdownHeadingCollapsed": true
   },
   "source": [
    "#### `itertools.permutations()`:"
   ]
  },
  {
   "cell_type": "code",
   "execution_count": null,
   "id": "62537b16",
   "metadata": {
    "hidden": true
   },
   "outputs": [],
   "source": [
    "# help(permutations)"
   ]
  },
  {
   "cell_type": "code",
   "execution_count": null,
   "id": "db19bb35",
   "metadata": {
    "hidden": true
   },
   "outputs": [],
   "source": [
    "[*permutations(list(\"EAT\"))]"
   ]
  },
  {
   "cell_type": "markdown",
   "id": "a08bcede",
   "metadata": {
    "heading_collapsed": true,
    "hidden": true,
    "jp-MarkdownHeadingCollapsed": true
   },
   "source": [
    "#### `itertools.product()`:"
   ]
  },
  {
   "cell_type": "code",
   "execution_count": null,
   "id": "11bbc599",
   "metadata": {
    "hidden": true
   },
   "outputs": [],
   "source": [
    "# help(product)"
   ]
  },
  {
   "cell_type": "code",
   "execution_count": null,
   "id": "828bb970",
   "metadata": {
    "hidden": true
   },
   "outputs": [],
   "source": [
    "[*product(list(\"SHAH\"), \"1234\")]"
   ]
  },
  {
   "cell_type": "code",
   "execution_count": null,
   "id": "2a0dde44",
   "metadata": {
    "hidden": true
   },
   "outputs": [],
   "source": [
    "repeat()"
   ]
  },
  {
   "cell_type": "code",
   "execution_count": null,
   "id": "c56425eb",
   "metadata": {
    "hidden": true
   },
   "outputs": [],
   "source": [
    "starmap()"
   ]
  },
  {
   "cell_type": "code",
   "execution_count": null,
   "id": "9e918b27",
   "metadata": {
    "hidden": true
   },
   "outputs": [],
   "source": [
    "takewhile()"
   ]
  },
  {
   "cell_type": "code",
   "execution_count": null,
   "id": "ee1bb808",
   "metadata": {
    "hidden": true
   },
   "outputs": [],
   "source": [
    "help(tee)"
   ]
  },
  {
   "cell_type": "code",
   "execution_count": null,
   "id": "8a1e157a",
   "metadata": {
    "hidden": true
   },
   "outputs": [],
   "source": [
    "tee()"
   ]
  },
  {
   "cell_type": "code",
   "execution_count": null,
   "id": "f6f0fc0f",
   "metadata": {
    "hidden": true
   },
   "outputs": [],
   "source": [
    "zip_longest()"
   ]
  },
  {
   "cell_type": "code",
   "execution_count": null,
   "id": "ed30e9cc",
   "metadata": {
    "hidden": true
   },
   "outputs": [],
   "source": []
  },
  {
   "cell_type": "code",
   "execution_count": null,
   "id": "0a49504a",
   "metadata": {
    "hidden": true
   },
   "outputs": [],
   "source": []
  },
  {
   "cell_type": "code",
   "execution_count": null,
   "id": "8198906f",
   "metadata": {
    "hidden": true
   },
   "outputs": [],
   "source": [
    "L = [randrange(-5,5) for _ in range(10)]; L"
   ]
  },
  {
   "cell_type": "code",
   "execution_count": null,
   "id": "4eb02eed",
   "metadata": {
    "hidden": true
   },
   "outputs": [],
   "source": [
    "# help(itertools.groupby)"
   ]
  },
  {
   "cell_type": "code",
   "execution_count": null,
   "id": "0671f463",
   "metadata": {
    "hidden": true
   },
   "outputs": [],
   "source": [
    "[*groupby(L)]"
   ]
  },
  {
   "cell_type": "code",
   "execution_count": null,
   "id": "6d163861",
   "metadata": {
    "hidden": true
   },
   "outputs": [],
   "source": [
    "L = sorted(L)"
   ]
  },
  {
   "cell_type": "code",
   "execution_count": null,
   "id": "14b9336e",
   "metadata": {
    "hidden": true
   },
   "outputs": [],
   "source": [
    "[*groupby(L)]"
   ]
  },
  {
   "cell_type": "markdown",
   "id": "1333aa47",
   "metadata": {
    "heading_collapsed": true,
    "jp-MarkdownHeadingCollapsed": true,
    "tags": []
   },
   "source": [
    "## setuptools:"
   ]
  },
  {
   "cell_type": "code",
   "execution_count": null,
   "id": "e016a5fd",
   "metadata": {
    "hidden": true
   },
   "outputs": [],
   "source": [
    "import setuptools"
   ]
  },
  {
   "cell_type": "code",
   "execution_count": null,
   "id": "59bf939f",
   "metadata": {
    "hidden": true
   },
   "outputs": [],
   "source": [
    "# dir(setuptools)"
   ]
  },
  {
   "cell_type": "code",
   "execution_count": null,
   "id": "ac0b157d",
   "metadata": {
    "hidden": true
   },
   "outputs": [],
   "source": []
  },
  {
   "cell_type": "code",
   "execution_count": null,
   "id": "8b6f0b77",
   "metadata": {
    "hidden": true
   },
   "outputs": [],
   "source": []
  },
  {
   "cell_type": "code",
   "execution_count": null,
   "id": "1ce32674",
   "metadata": {
    "hidden": true
   },
   "outputs": [],
   "source": []
  },
  {
   "cell_type": "code",
   "execution_count": null,
   "id": "3343f80b",
   "metadata": {
    "hidden": true
   },
   "outputs": [],
   "source": []
  },
  {
   "cell_type": "markdown",
   "id": "964f89cf",
   "metadata": {
    "heading_collapsed": true,
    "jp-MarkdownHeadingCollapsed": true,
    "tags": []
   },
   "source": [
    "## PIL:"
   ]
  },
  {
   "cell_type": "code",
   "execution_count": null,
   "id": "0a04adee",
   "metadata": {
    "hidden": true
   },
   "outputs": [],
   "source": [
    "from PIL import Image\n",
    "from matplotlib import pyplot as plt\n",
    "import PIL"
   ]
  },
  {
   "cell_type": "code",
   "execution_count": null,
   "id": "60547604",
   "metadata": {
    "hidden": true
   },
   "outputs": [],
   "source": [
    "# help(Image)"
   ]
  },
  {
   "cell_type": "code",
   "execution_count": null,
   "id": "7607fb5e",
   "metadata": {
    "hidden": true
   },
   "outputs": [],
   "source": [
    "# !ls /Users/a.momin/Data/"
   ]
  },
  {
   "cell_type": "code",
   "execution_count": null,
   "id": "089c6b5c",
   "metadata": {
    "hidden": true
   },
   "outputs": [],
   "source": [
    "image_path = '/Users/a.momin/Data/bird.jpg'"
   ]
  },
  {
   "cell_type": "code",
   "execution_count": null,
   "id": "b92d4644",
   "metadata": {
    "hidden": true
   },
   "outputs": [],
   "source": [
    "image_data = plt.imread(image_path); image_data.shape"
   ]
  },
  {
   "cell_type": "code",
   "execution_count": null,
   "id": "1d1cdd64",
   "metadata": {
    "hidden": true
   },
   "outputs": [],
   "source": [
    "plt.imshow(image_data);"
   ]
  },
  {
   "cell_type": "code",
   "execution_count": null,
   "id": "792087de",
   "metadata": {
    "hidden": true
   },
   "outputs": [],
   "source": [
    "image_A = Image.open(flower)\n",
    "plt.imshow(image_A);"
   ]
  },
  {
   "cell_type": "code",
   "execution_count": null,
   "id": "0cc7b5f0",
   "metadata": {
    "hidden": true
   },
   "outputs": [],
   "source": []
  },
  {
   "cell_type": "code",
   "execution_count": null,
   "id": "309d2f7b",
   "metadata": {
    "hidden": true
   },
   "outputs": [],
   "source": []
  },
  {
   "cell_type": "markdown",
   "id": "e2d21e57",
   "metadata": {
    "heading_collapsed": true,
    "jp-MarkdownHeadingCollapsed": true,
    "tags": []
   },
   "source": [
    "## requests: [REST APIs](https://realpython.com/api-integration-in-python/)"
   ]
  },
  {
   "cell_type": "markdown",
   "id": "c0f77805",
   "metadata": {
    "heading_collapsed": true,
    "hidden": true,
    "jp-MarkdownHeadingCollapsed": true
   },
   "source": [
    "#### [Corey:-Python Requests Tutorial](https://www.youtube.com/watch?v=tb8gHvYlCFs&t=827s)"
   ]
  },
  {
   "cell_type": "code",
   "execution_count": null,
   "id": "c01ad166",
   "metadata": {
    "hidden": true
   },
   "outputs": [],
   "source": [
    "import requests\n",
    "from urllib.request import Request, urlopen\n"
   ]
  },
  {
   "cell_type": "code",
   "execution_count": null,
   "id": "78b58d53",
   "metadata": {
    "hidden": true
   },
   "outputs": [],
   "source": [
    "payload = {'page':2, 'count':25}\n",
    "res = requests.get('https://httpbin.org/get', params='HonestyIsTheBestPolicy')\n",
    "print(res.text, res.headers, res.url, sep='\\n\\n')"
   ]
  },
  {
   "cell_type": "code",
   "execution_count": null,
   "id": "2361c37c",
   "metadata": {
    "hidden": true
   },
   "outputs": [],
   "source": [
    "payload = {'username': 'Shah', 'password': 'testing'}\n",
    "res = requests.post('https://httpbin.org/post', data=payload)\n",
    "res_dict = res.json()\n",
    "print(res.text, res.headers, res.url, sep='\\n\\n')"
   ]
  },
  {
   "cell_type": "code",
   "execution_count": null,
   "id": "89e2dd53",
   "metadata": {
    "hidden": true
   },
   "outputs": [],
   "source": [
    "res = requests.get('https://httpbin.org/basic-auth/Shah/testing', auth=('Shah','testing'))\n",
    "res_dict = res.json()\n",
    "print(res.text, res.headers, res.url, res_dict, sep='\\n\\n')\n",
    "# print(res.text)"
   ]
  },
  {
   "cell_type": "code",
   "execution_count": null,
   "id": "42b735cc",
   "metadata": {
    "hidden": true
   },
   "outputs": [],
   "source": [
    "res = requests.get('http://httpbin.org/delay/5')\n",
    "print(res.text)"
   ]
  },
  {
   "cell_type": "code",
   "execution_count": null,
   "id": "39f73000",
   "metadata": {
    "hidden": true
   },
   "outputs": [],
   "source": [
    "res = requests.get('http://httpbin.org/anything')\n",
    "print(res.text) # Expected Results"
   ]
  },
  {
   "cell_type": "code",
   "execution_count": null,
   "id": "88d7de91",
   "metadata": {
    "hidden": true
   },
   "outputs": [],
   "source": [
    "# res = requests.get('http://httpbin.org/delay/3', timeout=2)\n",
    "# print(res) # Expected Results is ERROR !!"
   ]
  },
  {
   "cell_type": "code",
   "execution_count": null,
   "id": "a483e239",
   "metadata": {
    "hidden": true
   },
   "outputs": [],
   "source": [
    "res = requests.get('http://httpbin.org/status/200')\n",
    "print(res) # Expected Results"
   ]
  },
  {
   "cell_type": "markdown",
   "id": "267cc505",
   "metadata": {
    "heading_collapsed": true,
    "jp-MarkdownHeadingCollapsed": true,
    "tags": []
   },
   "source": [
    "## argparse"
   ]
  },
  {
   "cell_type": "markdown",
   "id": "656c15b3",
   "metadata": {
    "hidden": true
   },
   "source": [
    "[argparse](https://docs.python.org/3/library/argparse.html#module-argparse) || [Argparse Tutorial](https://docs.python.org/3/howto/argparse.html)"
   ]
  },
  {
   "cell_type": "code",
   "execution_count": null,
   "id": "4336101e",
   "metadata": {
    "hidden": true
   },
   "outputs": [],
   "source": []
  },
  {
   "cell_type": "code",
   "execution_count": null,
   "id": "40c2729f",
   "metadata": {
    "hidden": true
   },
   "outputs": [],
   "source": []
  },
  {
   "cell_type": "code",
   "execution_count": null,
   "id": "8af86202",
   "metadata": {
    "hidden": true
   },
   "outputs": [],
   "source": []
  },
  {
   "cell_type": "markdown",
   "id": "fcbf8ed2",
   "metadata": {
    "heading_collapsed": true,
    "jp-MarkdownHeadingCollapsed": true,
    "tags": []
   },
   "source": [
    "## typing:"
   ]
  },
  {
   "cell_type": "code",
   "execution_count": null,
   "id": "b7325dfd",
   "metadata": {
    "hidden": true
   },
   "outputs": [],
   "source": [
    "import typing"
   ]
  },
  {
   "cell_type": "code",
   "execution_count": null,
   "id": "46dfc1f4",
   "metadata": {
    "hidden": true
   },
   "outputs": [],
   "source": [
    "# help(typing)"
   ]
  },
  {
   "cell_type": "code",
   "execution_count": null,
   "id": "becb2139",
   "metadata": {
    "hidden": true
   },
   "outputs": [],
   "source": [
    "# dir(typing)"
   ]
  },
  {
   "cell_type": "markdown",
   "id": "ea991cf8",
   "metadata": {
    "heading_collapsed": true,
    "jp-MarkdownHeadingCollapsed": true
   },
   "source": [
    "## isort"
   ]
  },
  {
   "cell_type": "markdown",
   "id": "51d34d42",
   "metadata": {
    "hidden": true
   },
   "source": [
    "`isort` is a Python utility / library to sort imports alphabetically, and automatically separated into sections and by type. It provides a command line utility, Python library and plugins for various editors to quickly sort all your imports. It requires Python 3.7+ to run but supports formatting Python 2 code too."
   ]
  },
  {
   "cell_type": "markdown",
   "id": "fe51965f",
   "metadata": {
    "hidden": true
   },
   "source": [
    "By default, `isort` only displays the changes it would make. To apply the changes in-place, use the `-w` (or `--write`) option"
   ]
  },
  {
   "cell_type": "markdown",
   "id": "34e5d256",
   "metadata": {
    "hidden": true
   },
   "source": [
    "```bash\n",
    "pip install isort\n",
    "isort your_file.py\n",
    "isort file1.py file2.py\n",
    "isort -w your_file.py\n",
    "```"
   ]
  },
  {
   "cell_type": "markdown",
   "id": "2c54b298",
   "metadata": {
    "hidden": true
   },
   "source": [
    "You can customize isort behavior by creating a configuration file (commonly named `.isort.cfg` or `pyproject.toml`). Here's an example:"
   ]
  },
  {
   "cell_type": "markdown",
   "id": "50ca24fa",
   "metadata": {
    "hidden": true
   },
   "source": [
    "```toml\n",
    "# .isort.cfg or pyproject.toml\n",
    "\n",
    "[isort]\n",
    "profile = \"black\"\n",
    "line_length = 88\n",
    "known_third_party = [\"flask\", \"numpy\"]\n",
    "known_first_party = [\"your_package\"]\n",
    "```"
   ]
  },
  {
   "cell_type": "markdown",
   "id": "3cbc61fa",
   "metadata": {
    "jp-MarkdownHeadingCollapsed": true
   },
   "source": [
    "## pypdf"
   ]
  },
  {
   "cell_type": "code",
   "execution_count": null,
   "id": "86df19bf",
   "metadata": {
    "collapsed": true,
    "jupyter": {
     "outputs_hidden": true
    }
   },
   "outputs": [],
   "source": [
    "import pypdf"
   ]
  },
  {
   "cell_type": "markdown",
   "id": "1c9c799e",
   "metadata": {
    "jp-MarkdownHeadingCollapsed": true
   },
   "source": [
    "## Regular Expression"
   ]
  },
  {
   "cell_type": "markdown",
   "id": "5cefa18e",
   "metadata": {},
   "source": [
    "| Special Sequences | Meaning                              |\n",
    "| ----------------- | ------------------------------------ |\n",
    "| `.`               | Any Character Except New Line        |\n",
    "| `\\d`              | Digit `(0-9)`                        |\n",
    "| `\\D`              | Not a Digit `(0-9)`                  |\n",
    "| `\\w`              | Word Character `(a-z, A-Z, 0-9, _)`  |\n",
    "| `\\W`              | Not a Word Character                 |\n",
    "| `\\s`              | Whitespace (space, tab, newline)     |\n",
    "| `\\S`              | Not Whitespace (space, tab, newline) |\n",
    "\n",
    "| Anchore | Meaning               |\n",
    "| ------- | --------------------- |\n",
    "| `\\b`    | Word Boundary         |\n",
    "| `\\B`    | Not a Word Boundary   |\n",
    "| `^`     | Beginning of a String |\n",
    "| `$`     | End of a String       |\n"
   ]
  },
  {
   "cell_type": "markdown",
   "id": "c893b89a",
   "metadata": {
    "jp-MarkdownHeadingCollapsed": true
   },
   "source": [
    "Sure! Regular expressions (regex) in Python utilize a specific syntax to define patterns for searching, matching, and manipulating text. Here are some terms and concepts commonly used in regular expressions in Python:\n",
    "\n",
    "\n",
    "##### Literal Characters\n",
    "\n",
    "Characters that match themselves. For example, the regex pattern hello matches the exact string \"hello\".\n",
    "\n",
    "##### Metacharacters\n",
    "\n",
    "Special characters in regex with a predefined meaning. Some common metacharacters include:\n",
    "\n",
    "-   `.` (dot): Matches any single character except newline.\n",
    "-   `^` (caret): Matches the start of the string.\n",
    "-   `$` (dollar): Matches the end of the string.\n",
    "-   `*`, `+`, `?`, `{}`, `[]`, `()`, `\\`, `|`: These are used for repetition, optional matches, character classes, grouping, and escaping, respectively.\n",
    "\n",
    "\n",
    "| Characterset | Meaning                            |\n",
    "| ------------ | ---------------------------------- |\n",
    "| `[]`         | Matches Characters in brackets     |\n",
    "| `[^ ]`       | Matches Characters NOT in brackets |\n",
    "| `\\|`         | Either Or                          |\n",
    "| `( )`        | Group                              |\n"
   ]
  },
  {
   "cell_type": "markdown",
   "id": "fcbfb182",
   "metadata": {},
   "source": [
    "-   <b style=\"font-size:18px;color:#C71585\">Anchors</b>: Metacharacters used to specify the position in the string where a match should occur. Common anchors include ^ (start of the string) and $ (end of the string)."
   ]
  },
  {
   "cell_type": "code",
   "execution_count": null,
   "id": "611f7e29",
   "metadata": {},
   "outputs": [],
   "source": [
    "import re\n",
    "\n",
    "text = \"apple, orange, apple, banana, Mango\"\n",
    "pattern = r'^apple'  # Matches 'apple' at the start of the string\n",
    "\n",
    "matches = re.findall(pattern, text)\n",
    "print(matches)  # Output: ['apple']\n"
   ]
  },
  {
   "cell_type": "markdown",
   "id": "5cda0ada",
   "metadata": {},
   "source": [
    "-   <b style=\"font-size:18px;color:#C71585\">Modifiers</b>: Additional flags that can be added to the regex pattern to modify the matching behavior. Common modifiers include:\n",
    "    -   `re.IGNORECASE` or `re.I`: Ignore case when matching.\n",
    "    -   `re.MULTILINE` or `re.M`: Allow `^` and `$` to match the start and end of each line within a multi-line string."
   ]
  },
  {
   "cell_type": "markdown",
   "id": "aa77d00e",
   "metadata": {},
   "source": [
    "-   <b style=\"font-size:18px;color:#C71585\">Quantifiers</b>: Metacharacters used to specify the quantity of characters or groups to match. Some common quantifiers include:\n",
    "\n",
    "| Quantifiers | Meaning                                      |\n",
    "| :---------: | :------------------------------------------- |\n",
    "| `.` (dot)   | Matches any single character except newline  |\n",
    "| `*`         | 0 or More                                    |\n",
    "| `+`         | 1 or More                                    |\n",
    "| `?`         | 0 or One                                     |\n",
    "| `{3}`       | Exact Number                                 |\n",
    "| `{3,4}`     | Range of Numbers `(Min, Max)`                |\n",
    "\n",
    "    -   `.` (dot): Matches any single character except newline.\n",
    "    -   `*`: Matches zero or more occurrences.\n",
    "    -   `+`: Matches one or more occurrences.\n",
    "    -   `?`: Matches zero or one occurrence.\n",
    "    -   `{m}`, `{m,n}`: Matches exactly m occurrences, or between m and n occurrences."
   ]
  },
  {
   "cell_type": "markdown",
   "id": "6b0ab810",
   "metadata": {},
   "source": [
    "-   <b style=\"font-size:18px;color:#C71585\">Character Classes</b>: A set of characters enclosed within square brackets `[]`, representing a single character that can match any of the characters in the set. For example, `[abc]` matches either 'a', 'b', or 'c'."
   ]
  },
  {
   "cell_type": "markdown",
   "id": "5148ad11",
   "metadata": {},
   "source": [
    "-   <b style=\"font-size:18px;color:#C71585\">Groups and Capturing</b>: Parentheses `()` are used to group parts of a regex pattern together. Additionally, they can be used for capturing substrings that match specific parts of the pattern."
   ]
  },
  {
   "cell_type": "code",
   "execution_count": null,
   "id": "eea17069",
   "metadata": {},
   "outputs": [],
   "source": [
    "import re\n",
    "\n",
    "text = \"apple, orange, banana\"\n",
    "pattern = r'(apple|banana)'  # Matches either 'apple' or 'banana'\n",
    "\n",
    "matches = re.findall(pattern, text)\n",
    "print(matches)  # Output: ['apple', 'banana']\n"
   ]
  },
  {
   "cell_type": "markdown",
   "id": "e25d2bf0",
   "metadata": {},
   "source": [
    "-   <b style=\"font-size:18px;color:#C71585\">Escape Sequences</b>: Backslashes `\\` are used to escape special characters or to introduce special character classes. For example, `\\d` matches any digit, `\\s` matches any whitespace character."
   ]
  },
  {
   "cell_type": "code",
   "execution_count": null,
   "id": "af2a9985",
   "metadata": {},
   "outputs": [],
   "source": [
    "import re\n",
    "\n",
    "text = \"apple, orange, banana\"\n",
    "pattern = r'\\b\\w{5}\\b'  # Matches words with 5 characters\n",
    "\n",
    "matches = re.findall(pattern, text)\n",
    "print(matches)  # Output: ['apple', 'orange']\n"
   ]
  },
  {
   "cell_type": "markdown",
   "id": "34e06151",
   "metadata": {},
   "source": [
    "-   <b style=\"font-size:18px;color:#C71585\">Boundary Matchers</b>: Special constructs to match specific positions in the text, such as word boundaries (`\\b`) or non-word boundaries (`\\B`)."
   ]
  },
  {
   "cell_type": "code",
   "execution_count": null,
   "id": "5ece1bac",
   "metadata": {},
   "outputs": [],
   "source": [
    "import re\n",
    "\n",
    "text = \"apple, orange, banana\"\n",
    "pattern = r'\\b\\w+\\b'  # Matches whole words\n",
    "\n",
    "matches = re.findall(pattern, text)\n",
    "print(matches)  # Output: ['apple', 'orange', 'banana']\n"
   ]
  },
  {
   "cell_type": "code",
   "execution_count": null,
   "id": "cdd26b0f",
   "metadata": {},
   "outputs": [],
   "source": [
    "import re\n",
    "\n",
    "text = \"apple, orange, banana\"\n",
    "pattern = r'(apple|banana)'  # Matches either 'apple' or 'banana'\n",
    "\n",
    "matches = re.findall(pattern, text)\n",
    "print(matches)  # Output: ['apple', 'banana']\n"
   ]
  },
  {
   "cell_type": "code",
   "execution_count": null,
   "id": "cc69c195",
   "metadata": {},
   "outputs": [],
   "source": []
  },
  {
   "cell_type": "code",
   "execution_count": null,
   "id": "fba6ebe6",
   "metadata": {},
   "outputs": [],
   "source": [
    "text = '''\n",
    "    abcdefghijklmnopqurtuvwxyz\n",
    "    ABCDEFGHIJKLMNOPQRSTUVWXYZ\n",
    "    1234567890\n",
    "    Ha HaHa\n",
    "    MetaCharacters (Need to be escaped):\n",
    "    . ^ $ * + ? { } [ ] \\ | ( )\n",
    "    coreyms.com\n",
    "    321-555-4321\n",
    "    123.555.1234\n",
    "    123*555*1234\n",
    "    800--555--1234\n",
    "    900-555-1234\n",
    "    Mr. Schafer\n",
    "    Mr Smith\n",
    "    Ms Davis\n",
    "    Mrs. Robinson\n",
    "    Mr. T\n",
    "    CoreyMSchafer@gmail.com\n",
    "    corey.schafer@university.edu\n",
    "    corey-321-schafer@my-work.net\n",
    "    shah...Momin@gmail.com\n",
    "    The quick brown fox jumps over the lazy cat. The cat barks.\n",
    "'''\n",
    "\n",
    "sentence = 'Start a sentence and then bring it to an end'"
   ]
  },
  {
   "cell_type": "code",
   "execution_count": null,
   "id": "96803636",
   "metadata": {},
   "outputs": [],
   "source": [
    "# print(text)"
   ]
  },
  {
   "cell_type": "code",
   "execution_count": null,
   "id": "f765e59c",
   "metadata": {},
   "outputs": [],
   "source": [
    "phone_pattern = re.compile(r'\\d{3}[.-]\\d{3}[.-]\\d{4}')\n",
    "email_pattern = re.compile(r'[a-zA-Z0-9_.+-]+@[a-zA-Z0-9-]+\\.[a-zA-Z0-9-.]+')\n",
    "name_pattern = re.compile(r'Mr\\.? [A-Z]\\w*')\n",
    "\n",
    "patterns = [phone_pattern, email_pattern, name_pattern]\n",
    "\n",
    "for pattern in patterns:\n",
    "    matches = pattern.finditer(text)\n",
    "    for match in matches:\n",
    "        idxs = (match.start(), match.end())\n",
    "        matched_text = match.group()\n",
    "\n",
    "#         print(f\"\"\"\\n Matched: \\n\\t{matched_text} \\n Indices: \\n\\t{idxs} \"\"\")\n",
    "#         print('='*60)"
   ]
  },
  {
   "cell_type": "code",
   "execution_count": null,
   "id": "078eb520",
   "metadata": {
    "scrolled": true
   },
   "outputs": [],
   "source": [
    "match = re.search(r'[a-zA-Z0-9_.+-]+@[a-zA-Z0-9-]+\\.[a-zA-Z0-9-.]+',  text)\n",
    "idxs = (match.start(), match.end())\n",
    "matched_text = match.group()\n",
    "print(f\"\"\"\\n Matched: \\n\\t{matched_text} \\n Indices: \\n\\t{idxs} \"\"\")"
   ]
  },
  {
   "cell_type": "code",
   "execution_count": null,
   "id": "4fadee6f",
   "metadata": {},
   "outputs": [],
   "source": [
    "def _regex():\n",
    "    L1 = [x for x in states if re.search(r'i.?a$', x)]\n",
    "    print(L1)\n",
    "    L2 = [x for x in states if re.search(r'a[^aeiou]*$', x)]\n",
    "    print(L2)\n",
    "   \n",
    "    len([x for x in states if re.search(r'a[^aeiou]*$', x)])\n",
    "\n",
    "    \n",
    "# _regex()\n"
   ]
  },
  {
   "cell_type": "markdown",
   "id": "b563aa20",
   "metadata": {
    "heading_collapsed": true
   },
   "source": [
    "######   <b style=\"color:#C71585\">re.compile(pattern, flags=0)</b> ==> [...]\n",
    "\n",
    "-   Compiles a regular expression pattern into a regex object for efficient reuse.\n",
    "-   The flags parameter allows you to specify options like case-insensitive matching, multiline matching, and more.\n"
   ]
  },
  {
   "cell_type": "code",
   "execution_count": null,
   "id": "4a1e0359",
   "metadata": {
    "hidden": true
   },
   "outputs": [],
   "source": [
    "text = \"The quick brown fox jumps over the lazy cat. The cat barks.\""
   ]
  },
  {
   "cell_type": "code",
   "execution_count": null,
   "id": "c31333b6",
   "metadata": {
    "hidden": true
   },
   "outputs": [],
   "source": [
    "# 1. re.compile(pattern, flags=0)\n",
    "pattern = re.compile(r\"\\b\\w{3}\\b\", flags=re.IGNORECASE)\n",
    "matches = pattern.findall(text)\n",
    "print(matches)  # Output: ['The', 'fox', 'the', 'The', 'dog', 'barks']"
   ]
  },
  {
   "cell_type": "code",
   "execution_count": null,
   "id": "1bfee7e9",
   "metadata": {
    "hidden": true
   },
   "outputs": [],
   "source": [
    "# 1. re.compile(pattern, flags=0)\n",
    "pattern = re.compile(r\"fox\", flags=re.IGNORECASE)\n",
    "matches = pattern.findall(text)\n",
    "print(matches)  # Output: ['fox']"
   ]
  },
  {
   "cell_type": "markdown",
   "id": "51c616d5",
   "metadata": {
    "heading_collapsed": true
   },
   "source": [
    "######   <b style=\"color:#C71585\">re.search(pattern, string, flags=0)</b> ==> re.Match\n",
    "\n",
    "-   Searches for the first occurrence of the pattern in the given string.\n",
    "-   Returns a match object if a match is found, None otherwise."
   ]
  },
  {
   "cell_type": "code",
   "execution_count": null,
   "id": "8aeeaae0",
   "metadata": {
    "hidden": true
   },
   "outputs": [],
   "source": [
    "# 2. re.search(pattern, string, flags=0)\n",
    "text = \"The quick brown fox jumps over the lazy cat. The cat barks.\"\n",
    "match = re.search(r\"fox\", text)\n",
    "if match:\n",
    "    print(type(match))  \n",
    "    print(match.group()) # Output: fox\n",
    "\n",
    "print([method for method in dir(match) if not method.startswith('_')])"
   ]
  },
  {
   "cell_type": "code",
   "execution_count": null,
   "id": "a157c2c3",
   "metadata": {
    "hidden": true
   },
   "outputs": [],
   "source": [
    "match = re.search(r\"\\b\\w{3}\\b\", text)\n",
    "print(match.group())"
   ]
  },
  {
   "cell_type": "markdown",
   "id": "d3fff58d",
   "metadata": {
    "heading_collapsed": true
   },
   "source": [
    "###### <b style=\"color:#C71585\">re.match(pattern, string, flags=0)</b> ==> re.Match\n",
    "\n",
    "-   Matches the pattern at the beginning of the string.\n",
    "-   Returns a match object if a match is found at the start of the string, None otherwise."
   ]
  },
  {
   "cell_type": "code",
   "execution_count": null,
   "id": "be0f2a1b",
   "metadata": {
    "hidden": true
   },
   "outputs": [],
   "source": [
    "# 3. re.match(pattern, string, flags=0)\n",
    "text = \"The quick brown fox jumps over the lazy cat. The cat barks.\"\n",
    "match = re.match(r\"fox\", text)\n",
    "print(type(match))  \n",
    "if match:\n",
    "    print(type(match))  \n",
    "    print(match.group())"
   ]
  },
  {
   "cell_type": "code",
   "execution_count": null,
   "id": "cd21bde9",
   "metadata": {
    "hidden": true
   },
   "outputs": [],
   "source": [
    "# 3. re.match(pattern, string, flags=0)\n",
    "text = \"The quick brown fox jumps over the lazy cat. The cat barks.\"\n",
    "match = re.match(r\"The\", text)\n",
    "if match:\n",
    "    print(type(match))  \n",
    "    print(match.group())"
   ]
  },
  {
   "cell_type": "markdown",
   "id": "f5f1722b",
   "metadata": {
    "heading_collapsed": true
   },
   "source": [
    "###### <b style=\"color:#C71585\">re.findall(pattern, string, flags=0)</b> ==> [...]\n",
    "\n",
    "-   Finds all non-overlapping occurrences of the pattern in the string.\n",
    "-   Returns a list of matched strings."
   ]
  },
  {
   "cell_type": "code",
   "execution_count": null,
   "id": "0e088921",
   "metadata": {
    "hidden": true
   },
   "outputs": [],
   "source": [
    "# 4. re.findall(pattern, string, flags=0)\n",
    "matches = re.findall(r\"\\b\\w{3}\\b\", text, flags=re.IGNORECASE)\n",
    "print(matches)  # Output: ['The', 'fox', 'the', 'The', 'dog', 'barks']"
   ]
  },
  {
   "cell_type": "markdown",
   "id": "5629c6e3",
   "metadata": {
    "heading_collapsed": true
   },
   "source": [
    "###### <b style=\"color:#C71585\">re.finditer(pattern, string, flags=0)</b> ==> callable_iterator\n",
    "\n",
    "-   Similar to re.findall(), but returns an iterator of match objects instead of strings."
   ]
  },
  {
   "cell_type": "code",
   "execution_count": null,
   "id": "84d236f3",
   "metadata": {
    "hidden": true
   },
   "outputs": [],
   "source": [
    "# 5. re.finditer(pattern, string, flags=0)\n",
    "matches = re.finditer(r\"\\b\\w{3}\\b\", text, flags=re.IGNORECASE)\n",
    "print(type(matches))\n",
    "for match in matches:\n",
    "    print(match.group())  # Output: The, fox, the, The, dog, barks"
   ]
  },
  {
   "cell_type": "code",
   "execution_count": null,
   "id": "0303c535",
   "metadata": {
    "hidden": true
   },
   "outputs": [],
   "source": [
    "# 5. re.finditer(pattern, string, flags=0)\n",
    "matches = re.finditer(r\"find\", text, flags=re.IGNORECASE)\n",
    "print(type(matches))"
   ]
  },
  {
   "cell_type": "markdown",
   "id": "b9861714",
   "metadata": {
    "heading_collapsed": true
   },
   "source": [
    "###### <b style=\"color:#C71585\">re.sub(pattern, replacement, string, count=0, flags=0)</b> ==> str\n",
    "\n",
    "-   Used for performing regular expression-based substitutions in strings.\n",
    "-   Replaces occurrences of the pattern in the string with the specified replacement.\n",
    "-   The count parameter limits the number of replacements (0 means replace all)."
   ]
  },
  {
   "cell_type": "code",
   "execution_count": null,
   "id": "d954e5bd",
   "metadata": {
    "hidden": true
   },
   "outputs": [],
   "source": [
    "help(re.sub)"
   ]
  },
  {
   "cell_type": "code",
   "execution_count": null,
   "id": "1bb06118",
   "metadata": {
    "hidden": true
   },
   "outputs": [],
   "source": [
    "# 6. re.sub(pattern, replacement, string, count=0, flags=0)\n",
    "new_text = re.sub(r\"dog\", \"cat\", text)\n",
    "print(new_text)  # Output: \"The quick brown fox jumps over the lazy cat. The cat barks.\""
   ]
  },
  {
   "cell_type": "markdown",
   "id": "2a40f9bb",
   "metadata": {
    "heading_collapsed": true
   },
   "source": [
    "######  <b style=\"color:#C71585\">re.split(pattern, string, maxsplit=0, flags=0)</b> ==> [...]\n",
    "\n",
    "- Splits the string by occurrences of the pattern.\n",
    "- The maxsplit parameter limits the number of splits (0 means no limit)."
   ]
  },
  {
   "cell_type": "code",
   "execution_count": null,
   "id": "ff56a34e",
   "metadata": {
    "hidden": true
   },
   "outputs": [],
   "source": [
    "# 7. re.split(pattern, string, maxsplit=0, flags=0)\n",
    "words = re.split(r\"\\W+\", text)\n",
    "print(words)  # Output: ['The', 'quick', 'brown', 'fox', 'jumps', 'over', 'the', 'lazy', 'dog', 'The', 'dog', 'barks']"
   ]
  },
  {
   "cell_type": "code",
   "execution_count": null,
   "id": "f1567039",
   "metadata": {
    "hidden": true
   },
   "outputs": [],
   "source": [
    "# 7. re.split(pattern, string, maxsplit=0, flags=0)\n",
    "words = re.split(\"\\w\", text)\n",
    "print(words)  # Output: ['The', 'quick', 'brown', 'fox', 'jumps', 'over', 'the', 'lazy', 'dog', 'The', 'dog', 'barks']"
   ]
  },
  {
   "cell_type": "markdown",
   "id": "a7e4fb42",
   "metadata": {
    "hidden": true
   },
   "source": [
    "- <b style=\"color:#C71585\">re.escape(string)</b>:\n",
    "\n",
    "    -   Escapes special characters in a string to use as a literal pattern.\n",
    "\n",
    "- <b style=\"color:#C71585\">match.group([group1, ...])</b>:\n",
    "\n",
    "    -   Returns one or more matched groups from a match object.\n",
    "    -   Useful when capturing subpatterns in regular expressions.\n",
    "\n",
    "- <b style=\"color:#C71585\">match.start([group]) and match.end([group])</b>:\n",
    "\n",
    "    -   Returns the start and end positions of a matched group within the string.\n",
    "\n",
    "- <b style=\"color:#C71585\">match.span([group])</b>:\n",
    "\n",
    "    -   Returns a tuple of the start and end positions of a matched group.\n",
    "\n",
    "- <b style=\"color:#C71585\">re.IGNORECASE, re.MULTILINE, re.DOTALL, etc.</b>:\n",
    "\n"
   ]
  },
  {
   "cell_type": "markdown",
   "id": "6fcee6a4",
   "metadata": {
    "jp-MarkdownHeadingCollapsed": true
   },
   "source": [
    "###### Write a Program to match a string that has the letter ‘a’ followed by 4 to 8 'b’s."
   ]
  },
  {
   "cell_type": "code",
   "execution_count": null,
   "id": "e2d3ce1f",
   "metadata": {},
   "outputs": [],
   "source": [
    "import re\n",
    "def match_text(txt_data):\n",
    "       pattern = 'ab{4,8}'\n",
    "       if re.search(pattern,  txt_data):    #search for pattern in txt_data\n",
    "           return 'Match found'\n",
    "       else:\n",
    "           return('Match not found')"
   ]
  },
  {
   "cell_type": "code",
   "execution_count": null,
   "id": "3d482e17",
   "metadata": {},
   "outputs": [],
   "source": [
    "print(match_text(\"abc\"))         #prints Match not found\n",
    "print(match_text(\"aabbbbbc\"))    #prints Match found"
   ]
  },
  {
   "cell_type": "code",
   "execution_count": null,
   "id": "58f57ea7",
   "metadata": {},
   "outputs": [],
   "source": [
    "#### Write a Program to match a string that has the letter ‘a’ followed by 4 to 8 'b’s.\n",
    "\n",
    "import re\n",
    "def match_text(txt_data):\n",
    "       pattern = 'ab{4,8}'\n",
    "       if re.search(pattern,  txt_data):    #search for pattern in txt_data\n",
    "           return 'Match found'\n",
    "       else:\n",
    "           return('Match not found')\n",
    "\n",
    "print(match_text(\"abc\"))         #prints Match not found\n",
    "print(match_text(\"aabbbbbc\"))    #prints Match found"
   ]
  },
  {
   "cell_type": "code",
   "execution_count": null,
   "id": "3bf6794e",
   "metadata": {},
   "outputs": [],
   "source": []
  },
  {
   "cell_type": "markdown",
   "id": "d098169e",
   "metadata": {
    "jp-MarkdownHeadingCollapsed": true
   },
   "source": [
    "## Serialization/Pickling & Deserialization/Unpickling:"
   ]
  },
  {
   "cell_type": "markdown",
   "id": "9c73d055",
   "metadata": {},
   "source": [
    "\n",
    "Serialization in Python refers to the process of converting complex data structures, such as objects or data collections, into a format that can be easily stored, transmitted, or reconstructed later. This allows data to be saved to a file, sent over a network, or shared between different applications and programming languages. Python provides several modules and libraries to perform serialization, with the most commonly used being pickle, json, and yaml.\n",
    "\n",
    "-   `Serialization`/`Pickling`:\n",
    "\n",
    "    -   Pickling is the name of the serialization process in Python. Any object in Python can be serialized into a byte stream and dumped as a file in the memory. The process of pickling is compact but pickle objects can be compressed further. Moreover, pickle keeps track of the objects it has serialized and the serialization is portable across versions.\n",
    "    -   The function used for the above process is `pickle.dump()`.\n",
    "\n",
    "-   `Deserialization`/`Unpickling`:\n",
    "\n",
    "    -   Deserialization is the complete inverse of Serialization. It deserializes the byte stream to recreate the objects stored in the file and loads the object to memory.\n",
    "    -   The function used for the above process is `pickle.load()`.\n",
    "\n",
    "-   `Note`: Python has another, more primitive, serialization module called marshall, which exists primarily to support `.pyc` files in Python and differs significantly from the pickle.\n"
   ]
  },
  {
   "cell_type": "code",
   "execution_count": null,
   "id": "61845e96",
   "metadata": {},
   "outputs": [],
   "source": [
    "import json, pickle"
   ]
  },
  {
   "cell_type": "code",
   "execution_count": null,
   "id": "b68943bb",
   "metadata": {},
   "outputs": [],
   "source": [
    "PATH = os.environ[\"DATA\"]"
   ]
  },
  {
   "cell_type": "code",
   "execution_count": null,
   "id": "cf82f834",
   "metadata": {},
   "outputs": [],
   "source": [
    "dict_data = {'name': 'John', 'age': 30, 'city': 'New York'}\n",
    "list_data = [*range(10)]\n",
    "str_data = \"pickling\""
   ]
  },
  {
   "cell_type": "markdown",
   "id": "5a265249",
   "metadata": {},
   "source": [
    "##### pickle"
   ]
  },
  {
   "cell_type": "markdown",
   "id": "8604878e",
   "metadata": {},
   "source": [
    "\n",
    "-   <b style=\"font-size:18px;color:#C71585\">pickle.dump(obj, file, protocol=None, *, fix_imports=True)</b>:\n",
    "\n",
    "    -   This function is used to serialize a `Python object` obj and save it to a `file-like object` file.\n",
    "    -   The protocol parameter specifies the protocol version to use for serialization (0, 1, 2, 3, 4, or 5). If not specified, the highest protocol available will be used.\n",
    "    -   fix_imports controls whether Python 2 imports in pickled data should be fixed (set to True by default).\n",
    "\n",
    "-   <b style=\"font-size:18px;color:#C71585\">pickle.dumps(obj, protocol=None, *, fix_imports=True)</b>:\n",
    "\n",
    "    -   This function serializes a `Python object` obj to a `bytes object`. It returns the serialized data as a `bytes object`.\n",
    "    -   The protocol parameter specifies the protocol version to use for serialization (0, 1, 2, 3, 4, or 5).\n",
    "\n",
    "-   <b style=\"font-size:18px;color:#C71585\">pickle.load(file, *, fix_imports=True, encoding=\"ASCII\", errors=\"strict\")</b>:\n",
    "\n",
    "    -   This function is used to deserialize a `Python object` from a `file-like object` file.\n",
    "    -   fix_imports controls whether Python 2 imports in the pickled data should be fixed (set to True by default).\n",
    "    -   encoding and errors parameters control the encoding of the file.\n",
    "\n",
    "-   <b style=\"font-size:18px;color:#C71585\">pickle.loads(bytes_object, *, fix_imports=True, encoding=\"ASCII\", errors=\"strict\")</b>:\n",
    "\n",
    "    -   This function deserializes a `Python object` from a `bytes object` bytes_object.\n",
    "    -   fix_imports controls whether Python 2 imports in the pickled data should be fixed (set to True by default).\n",
    "    -   encoding and errors parameters control the encoding of the `bytes object`."
   ]
  },
  {
   "cell_type": "markdown",
   "id": "2296116d",
   "metadata": {
    "heading_collapsed": true,
    "jp-MarkdownHeadingCollapsed": true
   },
   "source": [
    "###### Serialization/Pickling (Dumping):"
   ]
  },
  {
   "cell_type": "code",
   "execution_count": null,
   "id": "ba3976d8",
   "metadata": {
    "hidden": true
   },
   "outputs": [],
   "source": [
    "import pickle"
   ]
  },
  {
   "cell_type": "code",
   "execution_count": null,
   "id": "32460fcc",
   "metadata": {
    "hidden": true
   },
   "outputs": [],
   "source": [
    "# Serialize to a string\n",
    "serialized_data = pickle.dumps(str_data)\n",
    "type(serialized_data), serialized_data"
   ]
  },
  {
   "cell_type": "code",
   "execution_count": null,
   "id": "74423b1e",
   "metadata": {
    "hidden": true
   },
   "outputs": [],
   "source": [
    "# Serialize to a file\n",
    "with open('str_data.pickle', 'wb') as f:\n",
    "    pickle.dump(str_data, f)"
   ]
  },
  {
   "cell_type": "code",
   "execution_count": null,
   "id": "92d256ed",
   "metadata": {
    "hidden": true
   },
   "outputs": [],
   "source": [
    "# Serialize list into a json file\n",
    "with open(PATH +'/rough/list_data.pickle', 'wb') as f:\n",
    "    pickle.dump(list_data, f)"
   ]
  },
  {
   "cell_type": "code",
   "execution_count": null,
   "id": "19d0d3e3",
   "metadata": {
    "hidden": true
   },
   "outputs": [],
   "source": [
    "# Serialize dict into a json file\n",
    "with open(PATH +'/rough/dict_data.pickle', 'wb') as f:\n",
    "    pickle.dump(dict_data, f)"
   ]
  },
  {
   "cell_type": "code",
   "execution_count": null,
   "id": "a629c764",
   "metadata": {
    "hidden": true
   },
   "outputs": [],
   "source": [
    "# Deserialize from a file\n",
    "with open(PATH +'/rough/dict_data.pickle', 'rb') as f:\n",
    "    loaded_data = pickle.load(f)\n",
    "\n",
    "print(loaded_data)\n",
    "type(loaded_data)\n"
   ]
  },
  {
   "cell_type": "code",
   "execution_count": null,
   "id": "545a1d6c",
   "metadata": {
    "hidden": true
   },
   "outputs": [],
   "source": [
    "# Deserialize from a file\n",
    "with open(PATH +'/rough/list_data.pickle', 'rb') as f:\n",
    "    loaded_data = pickle.load(f)\n",
    "\n",
    "print(loaded_data)\n",
    "type(loaded_data)\n"
   ]
  },
  {
   "cell_type": "code",
   "execution_count": null,
   "id": "acf8a6dd",
   "metadata": {
    "hidden": true
   },
   "outputs": [],
   "source": [
    "# Serialize into a string\n",
    "serialized_str_data = pickle.dumps(list_data)\n",
    "print(serialized_data)\n",
    "type(serialized_data)"
   ]
  },
  {
   "cell_type": "code",
   "execution_count": null,
   "id": "a2049705",
   "metadata": {
    "hidden": true
   },
   "outputs": [],
   "source": [
    "# Deserialize from string\n",
    "lst = pickle.loads(serialized_str_data)\n",
    "print(lst)\n",
    "type(lst)"
   ]
  },
  {
   "cell_type": "markdown",
   "id": "1c9cfedc",
   "metadata": {
    "heading_collapsed": true,
    "jp-MarkdownHeadingCollapsed": true
   },
   "source": [
    "###### Deserialization/Unpickling (Loading):\n",
    "To deserialize a pickled object, you can use `pickle.load()` to read from a file or pickle.loads() to load from a bytes:"
   ]
  },
  {
   "cell_type": "code",
   "execution_count": null,
   "id": "63e13012",
   "metadata": {
    "hidden": true
   },
   "outputs": [],
   "source": [
    "# Deserialize from a file\n",
    "with open('data.pickle', 'rb') as f:\n",
    "    loaded_data = pickle.load(f)\n",
    "\n",
    "# Deserialize from a string\n",
    "loaded_data = pickle.loads(serialized_data)"
   ]
  },
  {
   "cell_type": "markdown",
   "id": "83b88013",
   "metadata": {
    "heading_collapsed": true,
    "jp-MarkdownHeadingCollapsed": true
   },
   "source": [
    "##### JSON:"
   ]
  },
  {
   "cell_type": "markdown",
   "id": "77f26716",
   "metadata": {
    "hidden": true
   },
   "source": [
    "**json** is another built-in module in Python that provides serialization and deserialization to/from JSON format. JSON is a lightweight and widely used data interchange format, making it more suitable for communication between different platforms."
   ]
  },
  {
   "cell_type": "markdown",
   "id": "b56cf6bb",
   "metadata": {
    "hidden": true
   },
   "source": [
    "-   <b style=\"font-size:18px;color:#C71585\">json.loads(s, *, cls=None, object_hook=None, parse_float=None, parse_int=None, parse_constant=None, object_pairs_hook=None, **kw)</b>: This method is used to parse a `JSON-formatted string` and convert it into a Python data structure (`dictionary` or a `list`).\n",
    "\n",
    "-   <b style=\"font-size:18px;color:#C71585\">json.load(fp, *, cls=None, object_hook=None, parse_float=None, parse_int=None, parse_constant=None, object_pairs_hook=None, **kw)\n",
    "</b>: This method is used to read JSON data from a `file-like object` (a file opened in read mode) and parse it into a Python data structure (Usually `dictionary` or a `list`).\n",
    "\n",
    "-   <b style=\"font-size:18px;color:#C71585\">json.dumps(obj, *, skipkeys=False, ensure_ascii=True, check_circular=True, allow_nan=True, cls=None, indent=None, separators=None, default=None, sort_keys=False, **kw)</b>: This method is used to serialize a Python data structure (`dictionary` or a `list`) into a `JSON-formatted string`.\n",
    "\n",
    "-   <b style=\"font-size:18px;color:#C71585\">json.dump(obj, fp, *, skipkeys=False, ensure_ascii=True, check_circular=True, allow_nan=True, cls=None, indent=None, separators=None, default=None, sort_keys=False, **kw)</b>: This method is used to write a Python data structure (`dictionary` or a `list`) to a `file-like object` as JSON-formatted text.\n",
    "\n",
    "-   `json.dump() with default parameter`: You can use the default parameter of `json.dump()` to provide a custom function for encoding non-serializable objects into a JSON-serializable format."
   ]
  },
  {
   "cell_type": "code",
   "execution_count": null,
   "id": "12f79ab6",
   "metadata": {
    "hidden": true
   },
   "outputs": [],
   "source": [
    "help(json.dumps)"
   ]
  },
  {
   "cell_type": "markdown",
   "id": "9756c7ee",
   "metadata": {
    "heading_collapsed": true,
    "hidden": true,
    "jp-MarkdownHeadingCollapsed": true
   },
   "source": [
    "###### JSON Serialization (Dumping):\n",
    "To serialize a Python object to JSON, you can use `json.dump()` to write to a file or `json.dumps()` to get the serialized JSON as a string:"
   ]
  },
  {
   "cell_type": "code",
   "execution_count": null,
   "id": "6304d5cb",
   "metadata": {
    "hidden": true
   },
   "outputs": [],
   "source": [
    "# Serialize dict into a json file\n",
    "with open(PATH +'/rough/dict_data.json', 'w') as f:\n",
    "    json.dump(dict_data, f)"
   ]
  },
  {
   "cell_type": "code",
   "execution_count": null,
   "id": "3c94c2c1",
   "metadata": {
    "hidden": true
   },
   "outputs": [],
   "source": [
    "# Serialize list into a json file\n",
    "with open(PATH +'/rough/list_data.json', 'w') as f:\n",
    "    json.dump(list_data, f)"
   ]
  },
  {
   "cell_type": "code",
   "execution_count": null,
   "id": "b24a8ba8",
   "metadata": {
    "hidden": true
   },
   "outputs": [],
   "source": [
    "# Deserialize from a file\n",
    "with open(PATH +'/rough/dict_data.json', 'r') as f:\n",
    "    loaded_data = json.load(f)\n",
    "\n",
    "print(loaded_data)\n",
    "type(loaded_data)\n"
   ]
  },
  {
   "cell_type": "code",
   "execution_count": null,
   "id": "c3142a29",
   "metadata": {
    "hidden": true
   },
   "outputs": [],
   "source": [
    "# Deserialize from a file\n",
    "with open(PATH +'/rough/list_data.json', 'r') as f:\n",
    "    loaded_data = json.load(f)\n",
    "\n",
    "print(loaded_data)\n",
    "type(loaded_data)\n"
   ]
  },
  {
   "cell_type": "code",
   "execution_count": null,
   "id": "f0efa27a",
   "metadata": {
    "hidden": true
   },
   "outputs": [],
   "source": [
    "# Serialize into a string\n",
    "serialized_str_data = json.dumps(list_data)\n",
    "print(serialized_str_data)\n",
    "type(serialized_str_data)"
   ]
  },
  {
   "cell_type": "code",
   "execution_count": null,
   "id": "d14251ac",
   "metadata": {
    "hidden": true
   },
   "outputs": [],
   "source": [
    "# Deserialize from string\n",
    "lst = json.loads(serialized_str_data)\n",
    "print(lst)\n",
    "type(lst)"
   ]
  },
  {
   "cell_type": "code",
   "execution_count": null,
   "id": "34c99506",
   "metadata": {
    "hidden": true
   },
   "outputs": [],
   "source": []
  },
  {
   "cell_type": "markdown",
   "id": "ad4f777b",
   "metadata": {
    "heading_collapsed": true,
    "hidden": true,
    "jp-MarkdownHeadingCollapsed": true
   },
   "source": [
    "###### JSON Deserialization (Loading):\n",
    "To deserialize JSON data, you can use json.load() to read from a file or `json.loads()` to load from a string:"
   ]
  },
  {
   "cell_type": "code",
   "execution_count": null,
   "id": "98c725f2",
   "metadata": {
    "hidden": true
   },
   "outputs": [],
   "source": [
    "# Deserialize from a file\n",
    "with open(PATH +'/rough/data.json', 'r') as f:\n",
    "    loaded_data = json.load(f)"
   ]
  },
  {
   "cell_type": "code",
   "execution_count": null,
   "id": "870c1a20",
   "metadata": {
    "hidden": true
   },
   "outputs": [],
   "source": [
    "# Deserialize from a string\n",
    "loaded_data = json.loads(serialized_data)\n",
    "print(loaded_data)\n",
    "type(loaded_data)"
   ]
  },
  {
   "cell_type": "code",
   "execution_count": null,
   "id": "e5089ea3",
   "metadata": {
    "hidden": true
   },
   "outputs": [],
   "source": [
    "s = b'{\"order_key\":\"pi_3OgqrlIWOQLWrTPE09rIZfzC_secret_RLz2UtRb1xZIyaTna0X5G1lCf\"}'\n",
    "data = json.loads(s)\n",
    "data"
   ]
  },
  {
   "cell_type": "markdown",
   "id": "2417fa36",
   "metadata": {
    "heading_collapsed": true,
    "jp-MarkdownHeadingCollapsed": true
   },
   "source": [
    "##### YAML:"
   ]
  },
  {
   "cell_type": "markdown",
   "id": "2a8703af",
   "metadata": {
    "hidden": true,
    "jp-MarkdownHeadingCollapsed": true
   },
   "source": [
    "YAML stands for YAML Ain't Markup Language. The yaml library is not part of the Python standard library, but it is commonly used for human-readable data serialization. YAML is similar to JSON but has a more user-friendly syntax. To use YAML serialization, you need to install the pyyaml package using pip install pyyaml."
   ]
  },
  {
   "cell_type": "code",
   "execution_count": null,
   "id": "b58c866a",
   "metadata": {
    "hidden": true
   },
   "outputs": [],
   "source": [
    "# dir(yaml)"
   ]
  },
  {
   "cell_type": "markdown",
   "id": "f40d80fe",
   "metadata": {
    "heading_collapsed": true,
    "hidden": true,
    "jp-MarkdownHeadingCollapsed": true
   },
   "source": [
    "###### YAML Serialization:\n",
    "To serialize a Python object to YAML, you can use the `yaml.dump()` function:"
   ]
  },
  {
   "cell_type": "code",
   "execution_count": null,
   "id": "88e07051",
   "metadata": {
    "hidden": true
   },
   "outputs": [],
   "source": [
    "import yaml"
   ]
  },
  {
   "cell_type": "code",
   "execution_count": null,
   "id": "e9551f3c",
   "metadata": {
    "hidden": true
   },
   "outputs": [],
   "source": [
    "# Serialize to a file\n",
    "with open(PATH +'/rough/data.yaml', 'w') as f:\n",
    "    yaml.dump(data, f)\n",
    "\n",
    "# Serialize to a string\n",
    "serialized_data = yaml.dump(data)"
   ]
  },
  {
   "cell_type": "code",
   "execution_count": null,
   "id": "3030ea87",
   "metadata": {
    "hidden": true
   },
   "outputs": [],
   "source": [
    "# Serialize list into a json file\n",
    "with open(PATH +'/rough/dict_data.yaml', 'w') as f:\n",
    "    yaml.dump(dict_data, f)"
   ]
  },
  {
   "cell_type": "code",
   "execution_count": null,
   "id": "a22ee23f",
   "metadata": {
    "hidden": true
   },
   "outputs": [],
   "source": [
    "# Serialize dict into a json file\n",
    "with open(PATH +'/rough/list_data.yaml', 'w') as f:\n",
    "    yaml.dump(list_data, f)"
   ]
  },
  {
   "cell_type": "code",
   "execution_count": null,
   "id": "0ab662db",
   "metadata": {
    "hidden": true
   },
   "outputs": [],
   "source": [
    "# Deserialize from a file\n",
    "with open(PATH +'/rough/dict_data.yaml', 'r') as f:\n",
    "    loaded_data = yaml.load(f, Loader=yaml.Loader)\n",
    "\n",
    "print(loaded_data)\n",
    "type(loaded_data)\n"
   ]
  },
  {
   "cell_type": "code",
   "execution_count": null,
   "id": "199baa8c",
   "metadata": {
    "hidden": true
   },
   "outputs": [],
   "source": [
    "# Deserialize from a file\n",
    "with open(PATH +'/rough/list_data.yaml', 'r') as f:\n",
    "    loaded_data = yaml.load(f, Loader=yaml.Loader)\n",
    "\n",
    "print(loaded_data)\n",
    "type(loaded_data)\n"
   ]
  },
  {
   "cell_type": "markdown",
   "id": "7a839c90",
   "metadata": {
    "heading_collapsed": true,
    "hidden": true,
    "jp-MarkdownHeadingCollapsed": true
   },
   "source": [
    "###### YAML Deserialization:\n",
    "To deserialize YAML data, you can use the `yaml.load()` function:"
   ]
  },
  {
   "cell_type": "code",
   "execution_count": null,
   "id": "7069fede",
   "metadata": {
    "hidden": true
   },
   "outputs": [],
   "source": []
  },
  {
   "cell_type": "markdown",
   "id": "5b548bc2",
   "metadata": {
    "heading_collapsed": true,
    "jp-MarkdownHeadingCollapsed": true,
    "tags": []
   },
   "source": [
    "## SQL in Python:"
   ]
  },
  {
   "cell_type": "markdown",
   "id": "b999e220",
   "metadata": {
    "hidden": true
   },
   "source": [
    "- [Connecting to MySQL Using Connector/Python](https://dev.mysql.com/doc/connector-python/en/connector-python-example-connecting.html)"
   ]
  },
  {
   "cell_type": "code",
   "execution_count": null,
   "id": "4e6590a3",
   "metadata": {
    "hidden": true
   },
   "outputs": [],
   "source": [
    "from sqlalchemy import create_engine"
   ]
  },
  {
   "cell_type": "code",
   "execution_count": null,
   "id": "f31daaf5",
   "metadata": {
    "hidden": true
   },
   "outputs": [],
   "source": [
    "import mysql.connector"
   ]
  },
  {
   "cell_type": "code",
   "execution_count": null,
   "id": "63619b09",
   "metadata": {
    "hidden": true
   },
   "outputs": [],
   "source": [
    "config = {\n",
    "    'user': 'root',\n",
    "    'password': 'AMs#1300',\n",
    "    'host': 'localhost',\n",
    "    'database': 'mysql',\n",
    "    'raise_on_warnings': True\n",
    "}\n",
    "\n",
    "cnx = mysql.connector.connect(**config)\n",
    "\n",
    "cnx.close()"
   ]
  },
  {
   "cell_type": "code",
   "execution_count": null,
   "id": "624ec0fb",
   "metadata": {
    "hidden": true
   },
   "outputs": [],
   "source": []
  },
  {
   "cell_type": "markdown",
   "id": "47984fc7",
   "metadata": {
    "hidden": true,
    "jp-MarkdownHeadingCollapsed": true
   },
   "source": [
    "### Read and Write to SQL Query or Database Table"
   ]
  },
  {
   "cell_type": "markdown",
   "id": "d059acd5",
   "metadata": {
    "hidden": true
   },
   "source": [
    "- `read_sql()`is a convenience wrapper around `read_sql_table()` and `read_sql_query()`"
   ]
  },
  {
   "cell_type": "code",
   "execution_count": null,
   "id": "9f4b9419",
   "metadata": {
    "hidden": true
   },
   "outputs": [],
   "source": [
    "engine = create_engine('sqlite:///:memory:')\n",
    "pd.read_sql(SELECT * FROM my_table;, engine)\n",
    "pd.read_sql_table('my_table', engine)\n",
    "pd.read_sql_query(SELECT * FROM my_table;', engine)\n",
    "df.to_sql('myDf', engine)"
   ]
  },
  {
   "cell_type": "code",
   "execution_count": null,
   "id": "08ac8bef",
   "metadata": {
    "hidden": true
   },
   "outputs": [],
   "source": []
  },
  {
   "cell_type": "code",
   "execution_count": null,
   "id": "11695465",
   "metadata": {
    "hidden": true
   },
   "outputs": [],
   "source": []
  },
  {
   "cell_type": "markdown",
   "id": "349eda35",
   "metadata": {
    "heading_collapsed": true,
    "jp-MarkdownHeadingCollapsed": true
   },
   "source": [
    "## Excel in Python:"
   ]
  },
  {
   "cell_type": "code",
   "execution_count": null,
   "id": "73136437",
   "metadata": {
    "hidden": true
   },
   "outputs": [],
   "source": [
    "import datetime\n",
    "# from openpyxl import Workbook\n",
    "import os\n",
    "import openpyxl  # this module needed to be downloaded"
   ]
  },
  {
   "cell_type": "code",
   "execution_count": null,
   "id": "66ef26b1",
   "metadata": {
    "hidden": true
   },
   "outputs": [],
   "source": [
    "wb = openpyxl.load_workbook('./data/mpdb.xlsx')\n",
    "shts = wb.get_sheet_names()\n",
    "print(shts)\n",
    "sheet1 = wb.get_sheet_by_name('EducationCites')\n",
    "print(sheet1)\n",
    "\n",
    "\n",
    "wb = openpyxl.Workbook()\n",
    "\n",
    "# grab the active worksheet\n",
    "ws = wb.active\n",
    "\n",
    "# Data can be assigned directly to cells\n",
    "ws['A1'] = 42\n",
    "\n",
    "# Rows can also be appended\n",
    "ws.append([1, 2, 3])\n",
    "\n",
    "# Python types will automatically be converted\n",
    "ws['A2'] = datetime.datetime.now()\n",
    "\n",
    "# Save the file\n",
    "wb.save(\"sample.xlsx\")"
   ]
  },
  {
   "cell_type": "markdown",
   "id": "a46c6e5a",
   "metadata": {
    "hidden": true,
    "jp-MarkdownHeadingCollapsed": true
   },
   "source": [
    "### Read multiple sheets from the same file"
   ]
  },
  {
   "cell_type": "code",
   "execution_count": null,
   "id": "e1d9638c",
   "metadata": {
    "hidden": true
   },
   "outputs": [],
   "source": [
    "xlsx = pd.ExcelFile('file.xls')\n",
    "df = pd.read_excel(xlsx,  'Sheet1')"
   ]
  },
  {
   "cell_type": "markdown",
   "id": "f1999947",
   "metadata": {
    "hidden": true,
    "jp-MarkdownHeadingCollapsed": true
   },
   "source": [
    "### Read and Write to Excel"
   ]
  },
  {
   "cell_type": "code",
   "execution_count": null,
   "id": "a4e59725",
   "metadata": {
    "hidden": true
   },
   "outputs": [],
   "source": [
    "pd.read_excel('file.xlsx')\n",
    "df.to_excel('dir/myDataFrame.xlsx',  sheet_name='Sheet1')"
   ]
  },
  {
   "cell_type": "code",
   "execution_count": null,
   "id": "799e870a",
   "metadata": {
    "hidden": true
   },
   "outputs": [],
   "source": [
    "df.to_excel('pandas_to_excel.xlsx', sheet_name='new_sheet_name')"
   ]
  },
  {
   "cell_type": "code",
   "execution_count": null,
   "id": "52aceb5c",
   "metadata": {
    "hidden": true,
    "id": "IRgvJ16EPKAG"
   },
   "outputs": [],
   "source": [
    "path = 'pandas_to_excel.xlsx'\n",
    "\n",
    "with pd.ExcelWriter(path) as writer:\n",
    "    writer.book = openpyxl.load_workbook(path)\n",
    "    df.to_excel(writer, sheet_name='new_sheet1')\n",
    "    df2.to_excel(writer, sheet_name='new_sheet2')"
   ]
  },
  {
   "cell_type": "code",
   "execution_count": null,
   "id": "91ca750e",
   "metadata": {
    "hidden": true
   },
   "outputs": [],
   "source": []
  },
  {
   "cell_type": "code",
   "execution_count": null,
   "id": "764ffc74",
   "metadata": {
    "hidden": true
   },
   "outputs": [],
   "source": []
  },
  {
   "cell_type": "markdown",
   "id": "8a720961",
   "metadata": {
    "heading_collapsed": true,
    "jp-MarkdownHeadingCollapsed": true,
    "tags": []
   },
   "source": [
    "# [Google Sheet with Python](https://developers.google.com/sheets/api/quickstart/python):"
   ]
  },
  {
   "cell_type": "markdown",
   "id": "e72fe5e6",
   "metadata": {
    "hidden": true
   },
   "source": [
    "- [Google Sheets API Tutorial - 2019](https://www.youtube.com/watch?v=cnPlKLEGR7E)\n",
    "- [Google Sheets - Python API, Read & Write Data](https://www.youtube.com/watch?v=4ssigWmExak)"
   ]
  },
  {
   "cell_type": "code",
   "execution_count": null,
   "id": "4a21b081",
   "metadata": {
    "hidden": true
   },
   "outputs": [],
   "source": [
    "# import gspread\n",
    "# from oauth2client.service_account import ServiceAccountCredentials\n",
    "# from pprint import pprint"
   ]
  },
  {
   "cell_type": "code",
   "execution_count": null,
   "id": "f2155cbb",
   "metadata": {
    "hidden": true
   },
   "outputs": [],
   "source": [
    "scope = [\"https://spreadsheets.google.com/feeds\",'https://www.googleapis.com/auth/spreadsheets',\"https://www.googleapis.com/auth/drive.file\",\"https://www.googleapis.com/auth/drive\"]\n",
    "\n",
    "creds = ServiceAccountCredentials.from_json_keyfile_name(\"creds.json\", scope)\n",
    "\n",
    "client = gspread.authorize(creds)\n",
    "\n",
    "sheet = client.open(\"tutorial\").sheet1  # Open the spreadhseet\n",
    "\n",
    "data = sheet.get_all_records()          # Get a list of all records\n",
    "\n",
    "row = sheet.row_values(3)               # Get a specific row\n",
    "col = sheet.col_values(3)               # Get a specific column\n",
    "cell = sheet.cell(1,2).value            # Get the value of a specific cell\n",
    "\n",
    "insertRow = [\"hello\", 5, \"red\", \"blue\"]\n",
    "sheet.add_rows(insertRow, 4)            # Insert the list as a row at index 4\n",
    "\n",
    "sheet.update_cell(2,2, \"CHANGED\")       # Update one cell\n",
    "\n",
    "numRows = sheet.row_count               # Get the number of rows in the sheet"
   ]
  },
  {
   "cell_type": "code",
   "execution_count": null,
   "id": "ca0738e5",
   "metadata": {
    "hidden": true
   },
   "outputs": [],
   "source": []
  },
  {
   "cell_type": "code",
   "execution_count": null,
   "id": "42aaffb7",
   "metadata": {
    "hidden": true
   },
   "outputs": [],
   "source": [
    "from googleapiclient.discovery import build\n",
    "from google.oauth2 import service_account\n",
    "\n",
    "SCOPES = ['https://www.googleapis.com/auth/spreadsheets']\n",
    "SERVICE_ACCOUNT_FILE = '/Users/a.momin/Data/google_sheet_processing_key.json'\n",
    "\n",
    "creds = service_account.Credentials.from_service_account_file(\n",
    "        SERVICE_ACCOUNT_FILE, scopes=SCOPES)\n",
    "\n",
    "\n",
    "\n",
    "\n",
    "# If modifying these scopes, delete the file token.pickle.\n",
    "SCOPES = ['https://www.googleapis.com/auth/spreadsheets']\n",
    "\n",
    "# The ID and range of a sample spreadsheet.\n",
    "SAMPLE_SPREADSHEET_ID = '14vicD-Y-0zy2pVkjdHBLwIg-UOskL1mW9IXaD_AUcI8'\n",
    "\n",
    "\n",
    "service = build('sheets', 'v4', credentials=creds)\n",
    "\n",
    "sheet = service.spreadsheets()\n",
    "result = sheet.values().get(\n",
    "    spreadsheetId=SAMPLE_SPREADSHEET_ID,\n",
    "    range='SocialMedia!A1:C18').execute()\n",
    "\n",
    "values = result.get('values', [])\n",
    "# print(values)"
   ]
  },
  {
   "cell_type": "code",
   "execution_count": null,
   "id": "1e77323e",
   "metadata": {
    "hidden": true
   },
   "outputs": [],
   "source": [
    "L = [['Shah', 'Farzana', 'Momin']]"
   ]
  },
  {
   "cell_type": "code",
   "execution_count": null,
   "id": "d8109695",
   "metadata": {
    "hidden": true
   },
   "outputs": [],
   "source": [
    "request = sheet.values().update(\n",
    "    spreadsheetId=SAMPLE_SPREADSHEET_ID, \n",
    "    range='gsheet_proc!B5', \n",
    "    valueInputOption='USER_ENTERED', \n",
    "    body={'values': L}\n",
    ").execute()"
   ]
  },
  {
   "cell_type": "code",
   "execution_count": null,
   "id": "78faff97",
   "metadata": {
    "hidden": true
   },
   "outputs": [],
   "source": []
  },
  {
   "cell_type": "code",
   "execution_count": null,
   "id": "186c7037",
   "metadata": {
    "hidden": true
   },
   "outputs": [],
   "source": []
  },
  {
   "cell_type": "code",
   "execution_count": null,
   "id": "f52cb815",
   "metadata": {
    "hidden": true
   },
   "outputs": [],
   "source": []
  }
 ],
 "metadata": {
  "kernelspec": {
   "display_name": "dsnb",
   "language": "python",
   "name": "python3"
  },
  "language_info": {
   "codemirror_mode": {
    "name": "ipython",
    "version": 3
   },
   "file_extension": ".py",
   "mimetype": "text/x-python",
   "name": "python",
   "nbconvert_exporter": "python",
   "pygments_lexer": "ipython3",
   "version": "3.9.6"
  },
  "toc": {
   "base_numbering": 1,
   "nav_menu": {},
   "number_sections": false,
   "sideBar": true,
   "skip_h1_title": true,
   "title_cell": "Table of Contents",
   "title_sidebar": "Contents",
   "toc_cell": true,
   "toc_position": {},
   "toc_section_display": true,
   "toc_window_display": false
  }
 },
 "nbformat": 4,
 "nbformat_minor": 5
}
