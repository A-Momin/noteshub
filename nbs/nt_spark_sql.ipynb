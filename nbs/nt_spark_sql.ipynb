{
 "cells": [
  {
   "cell_type": "markdown",
   "metadata": {},
   "source": [
    "#### Imports:"
   ]
  },
  {
   "cell_type": "code",
   "execution_count": 92,
   "metadata": {},
   "outputs": [],
   "source": [
    "from pyspark.sql import SparkSession\n",
    "from pyspark.context import SparkContext\n",
    "\n",
    "from pyspark.sql.functions import (\n",
    "    udf, col, when, asc, desc, lit, coalesce,\n",
    "    mean, sum, avg, rand, stddev,\n",
    "    count, countDistinct,\n",
    "    format_number, isnan,\n",
    "    asc, desc, mean, \n",
    "    rank, lag, lead,\n",
    ")\n",
    "from pyspark.sql.window import Window\n",
    "\n",
    "from pyspark.sql.types import (\n",
    "    StructField, StructType, LongType, TimestampType,\n",
    "    StringType, IntegerType, \n",
    "    FloatType, BooleanType,\n",
    "    DateType,\n",
    ")"
   ]
  },
  {
   "cell_type": "code",
   "execution_count": 93,
   "metadata": {},
   "outputs": [],
   "source": [
    "import pyspark, datetime, os\n",
    "import numpy as np, pandas as pd, matplotlib.pyplot as plt\n",
    "%matplotlib inline"
   ]
  },
  {
   "cell_type": "code",
   "execution_count": 96,
   "metadata": {},
   "outputs": [],
   "source": [
    "# dir(pyspark.sql)"
   ]
  },
  {
   "cell_type": "code",
   "execution_count": 83,
   "metadata": {},
   "outputs": [],
   "source": [
    "\n",
    "# pyspark.__version__"
   ]
  },
  {
   "cell_type": "code",
   "execution_count": 84,
   "metadata": {},
   "outputs": [],
   "source": [
    "# JDBC URL format: jdbc:mysql://<host>:<port>/<db-name>\n",
    "# jdbc_url = \"jdbc:mysql://localhost:3306/interview_questions\"\n",
    "jdbc_url = \"jdbc:mysql://localhost:3306\"\n",
    "mysql_driver = f\"{os.environ['SPARK_HOME']}/jars/mysql-connector-j-8.0.32.jar\"\n",
    "\n",
    "# Connection properties\n",
    "connection_properties = {\n",
    "    \"user\": \"Shah\",\n",
    "    \"password\": \"shah711409\",\n",
    "    \"driver\": \"com.mysql.cj.jdbc.Driver\"\n",
    "}"
   ]
  },
  {
   "cell_type": "code",
   "execution_count": 85,
   "metadata": {},
   "outputs": [],
   "source": [
    "# Initialize Spark Session\n",
    "spark = SparkSession.builder \\\n",
    "    .appName(\"Data Ingestion from MySQL into  Spark\") \\\n",
    "    .config(\"spark.sql.shuffle.partitions\", \"2\") \\\n",
    "    .config(\"spark.driver.memory\", \"4g\") \\\n",
    "    .config(\"spark.executor.memory\", \"2g\") \\\n",
    "    .config(\"spark.jars\", mysql_driver) \\\n",
    "    .getOrCreate()"
   ]
  },
  {
   "cell_type": "code",
   "execution_count": 86,
   "metadata": {},
   "outputs": [
    {
     "name": "stdout",
     "output_type": "stream",
     "text": [
      "+---+----------+---------+--------------------+--------------------+----------+------+\n",
      "| id|first_name|last_name|        joining_date|               email|department|salary|\n",
      "+---+----------+---------+--------------------+--------------------+----------+------+\n",
      "|  0|     Scott|     NULL|                    |                  na|        IT|123286|\n",
      "|  6|   Michael|  Edwards|java.util.Gregori...|rmccarthy@example...|     Sales|111785|\n",
      "|  1|          |       na|java.util.Gregori...|melanieporter@exa...|      NULL| 60983|\n",
      "|  7|    Robert|  Stewart|java.util.Gregori...|                    |   Finance|107104|\n",
      "|  8|     Julie|       na|java.util.Gregori...|johnnymoran@examp...|          |135630|\n",
      "|  2|    George|    Nunez|                NULL|                    |   Finance| 90512|\n",
      "|  9|  Kimberly|   Weaver|java.util.Gregori...|gjenkins@example.com| Marketing| 91549|\n",
      "|  3|    Brenda|         |                    |diazdavid@example...|      NULL| 68834|\n",
      "|  4|   Zachary|  Simmons|java.util.Gregori...|                NULL|      NULL|142072|\n",
      "|  5|   Abigail|    Perez|java.util.Gregori...|                    |   Finance|      |\n",
      "+---+----------+---------+--------------------+--------------------+----------+------+\n",
      "\n"
     ]
    }
   ],
   "source": [
    "# # Reading table from MySQL\n",
    "emp_df = spark.read.jdbc(url=jdbc_url+'/IQ', table=\"Employees\", properties=connection_properties)\n",
    "# dept_df = spark.read.jdbc(url=jdbc_url, table=\"Department\", properties=connection_properties)\n",
    "\n",
    "# # Show the DataFrame content\n",
    "emp_df.show()"
   ]
  },
  {
   "cell_type": "code",
   "execution_count": 87,
   "metadata": {},
   "outputs": [],
   "source": [
    "# emp_df.toPandas()"
   ]
  },
  {
   "cell_type": "markdown",
   "metadata": {},
   "source": [
    "#### Create a View And Run Queries"
   ]
  },
  {
   "cell_type": "code",
   "execution_count": 88,
   "metadata": {},
   "outputs": [],
   "source": [
    "emp_df.createOrReplaceTempView(\"emp_df_view\")"
   ]
  },
  {
   "cell_type": "code",
   "execution_count": 89,
   "metadata": {},
   "outputs": [
    {
     "name": "stdout",
     "output_type": "stream",
     "text": [
      "+---+----------+---------+--------------------+--------------------+----------+------+\n",
      "| id|first_name|last_name|        joining_date|               email|department|salary|\n",
      "+---+----------+---------+--------------------+--------------------+----------+------+\n",
      "|  0|     Scott|     NULL|                    |                  na|        IT|123286|\n",
      "|  6|   Michael|  Edwards|java.util.Gregori...|rmccarthy@example...|     Sales|111785|\n",
      "+---+----------+---------+--------------------+--------------------+----------+------+\n",
      "\n"
     ]
    }
   ],
   "source": [
    "spark.sql(\"SELECT * FROM emp_df_view LIMIT 2\").show()"
   ]
  },
  {
   "cell_type": "markdown",
   "metadata": {},
   "source": [
    "# `Stop` SparkSession"
   ]
  },
  {
   "cell_type": "code",
   "execution_count": 90,
   "metadata": {},
   "outputs": [],
   "source": [
    "# Stop Spark Session\n",
    "spark.stop()"
   ]
  },
  {
   "cell_type": "code",
   "execution_count": null,
   "metadata": {},
   "outputs": [],
   "source": []
  }
 ],
 "metadata": {
  "kernelspec": {
   "display_name": "dsnb",
   "language": "python",
   "name": "python3"
  },
  "language_info": {
   "codemirror_mode": {
    "name": "ipython",
    "version": 3
   },
   "file_extension": ".py",
   "mimetype": "text/x-python",
   "name": "python",
   "nbconvert_exporter": "python",
   "pygments_lexer": "ipython3",
   "version": "3.9.6"
  }
 },
 "nbformat": 4,
 "nbformat_minor": 2
}
