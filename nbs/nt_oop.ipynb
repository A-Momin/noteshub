{
 "cells": [
  {
   "cell_type": "markdown",
   "id": "b682801f",
   "metadata": {
    "toc": true
   },
   "source": [
    "<h1>Table of Contents<span class=\"tocSkip\"></span></h1>\n",
    "<div class=\"toc\"><ul class=\"toc-item\"><li><span><a href=\"#Object-oriented-Programming-(OOP):\" data-toc-modified-id=\"Object-oriented-Programming-(OOP):-1\">Object oriented Programming (OOP):</a></span><ul class=\"toc-item\"><li><ul class=\"toc-item\"><li><span><a href=\"#OOP\" data-toc-modified-id=\"OOP-1.0.1\">OOP</a></span><ul class=\"toc-item\"><li><span><a href=\"#classmethod(...)-vs-staticmethod(...)\" data-toc-modified-id=\"classmethod(...)-vs-staticmethod(...)-1.0.1.1\"><code>classmethod(...)</code> vs <code>staticmethod(...)</code></a></span></li></ul></li><li><span><a href=\"#Special-Function\" data-toc-modified-id=\"Special-Function-1.0.2\">Special Function</a></span><ul class=\"toc-item\"><li><span><a href=\"#__setstate__,-__getstate__-and-__dict__:\" data-toc-modified-id=\"__setstate__,-__getstate__-and-__dict__:-1.0.2.1\"><code>__setstate__</code>, <code>__getstate__</code> and <code>__dict__</code>:</a></span></li><li><span><a href=\"#__call__:--Enables-the-instance-to-be-called-as-a-function.\" data-toc-modified-id=\"__call__:--Enables-the-instance-to-be-called-as-a-function.-1.0.2.2\"><code>__call__</code>:  Enables the instance to be called as a function.</a></span></li><li><span><a href=\"#__annotations__:\" data-toc-modified-id=\"__annotations__:-1.0.2.3\"><code>__annotations__</code>:</a></span></li></ul></li><li><span><a href=\"#Name-Mangling\" data-toc-modified-id=\"Name-Mangling-1.0.3\">Name Mangling</a></span></li><li><span><a href=\"#Variable-Overloading-(global)\" data-toc-modified-id=\"Variable-Overloading-(global)-1.0.4\">Variable Overloading (<code>global</code>)</a></span></li><li><span><a href=\"#Class-Hierarchy-Analysis\" data-toc-modified-id=\"Class-Hierarchy-Analysis-1.0.5\">Class Hierarchy Analysis</a></span></li><li><span><a href=\"#Metaclasses\" data-toc-modified-id=\"Metaclasses-1.0.6\">Metaclasses</a></span></li><li><span><a href=\"#Python-Builtin-Classes-Hierarchy:\" data-toc-modified-id=\"Python-Builtin-Classes-Hierarchy:-1.0.7\">Python Builtin Classes Hierarchy:</a></span></li></ul></li></ul></li><li><span><a href=\"#Design-Pattern\" data-toc-modified-id=\"Design-Pattern-2\"><a href=\"https://www.youtube.com/playlist?list=PLC0nd42SBTaNuP4iB4L6SJlMaHE71FG6N\" target=\"_blank\">Design Pattern</a></a></span></li><li><span><a href=\"#Publishing-on-PyPI\" data-toc-modified-id=\"Publishing-on-PyPI-3\">Publishing on PyPI</a></span></li></ul></div>"
   ]
  },
  {
   "cell_type": "markdown",
   "id": "1e72d390",
   "metadata": {},
   "source": [
    "## Object oriented Programming (OOP):"
   ]
  },
  {
   "cell_type": "code",
   "execution_count": 1,
   "id": "49b81451",
   "metadata": {},
   "outputs": [],
   "source": [
    "import numbers"
   ]
  },
  {
   "cell_type": "markdown",
   "id": "e35ef88d",
   "metadata": {},
   "source": [
    "#### OOP"
   ]
  },
  {
   "cell_type": "markdown",
   "id": "ad941ee5",
   "metadata": {},
   "source": [
    "In Python, class definitions can include various arguments and features. Below is a list of commonly used arguments with examples:\n",
    "\n",
    "-   **Class Body**: The class body contains attributes and methods.\n",
    "\n",
    "    ```python\n",
    "    class MyClass:\n",
    "        attribute = \"value\"\n",
    "        \n",
    "        def method(self):\n",
    "            return \"Hello, world!\"\n",
    "    ```\n",
    "\n",
    "-   **Inheritance**: You can inherit from one or more classes.\n",
    "\n",
    "    ```python\n",
    "    class ChildClass(ParentClass):\n",
    "        pass\n",
    "    ```\n",
    "\n",
    "-   **Metaclasses**: You can specify a metaclass for customizing class creation.\n",
    "\n",
    "    ```python\n",
    "    class MyClass(metaclass=MyMetaclass):\n",
    "        pass\n",
    "    ```\n",
    "\n",
    "-   **Class Attributes**: Class attributes are shared among all instances of a class.\n",
    "\n",
    "    ```python\n",
    "    class MyClass:\n",
    "        class_attribute = \"shared\"\n",
    "    ```\n",
    "\n",
    "-   **Constructor (\\_\\_init\\_\\_)**: The constructor initializes instance attributes.\n",
    "\n",
    "    ```python\n",
    "    class MyClass:\n",
    "        def __init__(self, arg1, arg2):\n",
    "            self.arg1 = arg1\n",
    "            self.arg2 = arg2\n",
    "    ```\n",
    "\n",
    "-   **Docstring**: A docstring provides documentation for the class.\n",
    "\n",
    "    ```python\n",
    "    class MyClass:\n",
    "        \"\"\"This is a docstring.\"\"\"\n",
    "    ```\n",
    "\n",
    "-   **Decorator**: You can use decorators to modify class behavior.\n",
    "\n",
    "    ```python\n",
    "    @my_decorator\n",
    "    class MyClass:\n",
    "        pass\n",
    "    ```\n",
    "\n",
    "-   **Slots**: Slots restrict the attributes a class can have.\n",
    "\n",
    "    ```python\n",
    "    class MyClass:\n",
    "        __slots__ = (\"attr1\", \"attr2\")\n",
    "    ```\n",
    "\n",
    "-   **Property**: Properties allow you to use methods as attributes.\n",
    "\n",
    "    ```python\n",
    "    class MyClass:\n",
    "        @property\n",
    "        def my_property(self):\n",
    "            return \"This is a property.\"\n",
    "    ```\n",
    "\n",
    "-   **Classmethod**: The `classmethod()` decorator is used to define class methods, which are methods that operate on the class itself rather than instances of the class. Class methods receive the class itself as the first argument (cls by convention), rather than the instance (self).\n",
    "\n",
    "    ```python\n",
    "    class MyClass:\n",
    "        @classmethod\n",
    "        def my_class_method(cls):\n",
    "            return \"Class method.\"\n",
    "    ```\n",
    "\n",
    "-   **Staticmethod**: The `staticmethod()` decorator is used to define static methods, which are methods that do not operate on instances or class variables. They are similar to regular functions but are defined within a class for organization purposes.\n",
    "\n",
    "    ```python\n",
    "    class MyClass:\n",
    "        @staticmethod\n",
    "        def my_static_method():\n",
    "            return \"Static method.\"\n",
    "    ```\n",
    " \n",
    "-   **Abstractmethod**: The `abstractmethod()` decorator is used to define abstract methods within abstract base classes. Abstract methods are methods that must be implemented by concrete subclasses. Abstract base classes cannot be instantiated directly.\n",
    "\n",
    "    ```python\n",
    "    from abc import ABC, abstractmethod\n",
    "\n",
    "    class Shape(ABC):\n",
    "        @abstractmethod\n",
    "        def area(self):\n",
    "            pass\n",
    "\n",
    "    class Rectangle(Shape):\n",
    "        def __init__(self, length, width):\n",
    "            self.length = length\n",
    "            self.width = width\n",
    "\n",
    "        def area(self):\n",
    "            return self.length * self.width\n",
    "\n",
    "    rect = Rectangle(5, 4)\n",
    "    print(\"Area of rectangle:\", rect.area())  # Output: 20\n",
    "    ```\n",
    "\n",
    "-   **Abstract Classes (abc module)**: Abstract classes define abstract methods that must be implemented by subclasses.\n"
   ]
  },
  {
   "cell_type": "code",
   "execution_count": null,
   "id": "9aa2d964",
   "metadata": {},
   "outputs": [],
   "source": []
  },
  {
   "cell_type": "markdown",
   "id": "f1298828",
   "metadata": {},
   "source": [
    "- Everything in Python is an object or an instance. Classes, functions, and even simple data types, such as integer and float, are also objects of some class in Python. Each object has a class from which it is instantiated. \n",
    "- To get the class or the type of object, Python provides us with the <font color='red'>type(...)</font> function and <font color='red'> \\_\\_class\\_\\_ </font> property defined on the object itself.\n",
    "- <font color='orange'>The first argument of a method, passed explicitly in method definition, always refer to the instance of the class it's invoked upon; except, when `@classmethod` decorator is applied in which case it refer to the class itself.</font>\n",
    "- When `@staticmethod` decorator is applied to a method, the first argument of the method doesn't refer to the instances or the class. The method act as a regular function; it's kept inside the class in order to be only accessible through the class (`Human.my_func(...)`) because the operations it performs is logically related to that class somehow."
   ]
  },
  {
   "cell_type": "code",
   "execution_count": null,
   "id": "fd0a13f4",
   "metadata": {},
   "outputs": [],
   "source": []
  },
  {
   "cell_type": "code",
   "execution_count": 67,
   "id": "bcbb7cdc",
   "metadata": {},
   "outputs": [],
   "source": [
    "import abc\n",
    "from abc import abstractmethod\n",
    "\n",
    "class Creature(abc.ABC):\n",
    "    \"\"\" defining abstract base classes\n",
    "    \"\"\"\n",
    "\n",
    "    @abstractmethod\n",
    "    def set_ssn(self, ssn):\n",
    "        pass\n",
    "\n",
    "class Mammal(Creature):\n",
    "    living_planet = ''\n",
    "    country = 'USA'\n",
    "    \n",
    "    def __init__(self, name: str, country='UK'):\n",
    "        self.name = name\n",
    "        country = country\n",
    "    \n",
    "    def set_country(self, country):\n",
    "        self.country = country\n",
    "\n",
    "    # Raise error if not defined since it's a abstract method.\n",
    "    def set_ssn(self, ssn):\n",
    "        self.ssn = ssn\n",
    "    \n",
    "    @classmethod\n",
    "    def set_planet(cls, planet):\n",
    "        '''\n",
    "        1) 'cls' is not a key word\n",
    "        2) using 'self' instead of 'cls' doesn't make any difference since neither of them \n",
    "           are key words as long as `@classmethod` is applied.\n",
    "        '''\n",
    "        cls.living_planet = planet\n",
    "        print(\"Class method called from Parent\")\n",
    "    \n",
    "    def __eq__(self, other):\n",
    "        return self.name == other.name and self.ssn == other.ssn"
   ]
  },
  {
   "cell_type": "code",
   "execution_count": 68,
   "id": "0d4a0752",
   "metadata": {},
   "outputs": [],
   "source": [
    "m = Mammal('shah')"
   ]
  },
  {
   "cell_type": "code",
   "execution_count": 69,
   "id": "93e472d7",
   "metadata": {},
   "outputs": [
    {
     "name": "stdout",
     "output_type": "stream",
     "text": [
      "Class method called from Parent\n"
     ]
    }
   ],
   "source": [
    "m.set_planet('Earth')"
   ]
  },
  {
   "cell_type": "code",
   "execution_count": 70,
   "id": "481f963e",
   "metadata": {},
   "outputs": [
    {
     "data": {
      "text/plain": [
       "('Earth', 'USA')"
      ]
     },
     "execution_count": 70,
     "metadata": {},
     "output_type": "execute_result"
    }
   ],
   "source": [
    "m.living_planet, m.country"
   ]
  },
  {
   "cell_type": "code",
   "execution_count": 54,
   "id": "0697927d",
   "metadata": {},
   "outputs": [],
   "source": [
    "m1 = Mammal('Juan')\n",
    "m2 = Mammal('Orfeo')"
   ]
  },
  {
   "cell_type": "code",
   "execution_count": 55,
   "id": "44979694",
   "metadata": {},
   "outputs": [
    {
     "data": {
      "text/plain": [
       "('Earth', 'Earth', 'USA')"
      ]
     },
     "execution_count": 55,
     "metadata": {},
     "output_type": "execute_result"
    }
   ],
   "source": [
    "m1.living_planet, Mammal.living_planet, m1.country"
   ]
  },
  {
   "cell_type": "code",
   "execution_count": 56,
   "id": "0d4b3649",
   "metadata": {},
   "outputs": [],
   "source": [
    "class Human(Mammal):\n",
    "    pass"
   ]
  },
  {
   "cell_type": "code",
   "execution_count": 57,
   "id": "970bc5c8",
   "metadata": {},
   "outputs": [],
   "source": [
    "h1 = Human('Juan', 1001)\n",
    "h1.country = \"Canada\""
   ]
  },
  {
   "cell_type": "code",
   "execution_count": 58,
   "id": "4566c57e",
   "metadata": {},
   "outputs": [
    {
     "data": {
      "text/plain": [
       "('Earth', 'Canada', 'Earth', 'USA')"
      ]
     },
     "execution_count": 58,
     "metadata": {},
     "output_type": "execute_result"
    }
   ],
   "source": [
    "h1.living_planet, h1.country, Human.living_planet, Mammal.country"
   ]
  },
  {
   "cell_type": "code",
   "execution_count": 59,
   "id": "8738217d",
   "metadata": {},
   "outputs": [],
   "source": [
    "class Person(Human):\n",
    "\n",
    "    @staticmethod\n",
    "    def static_method():\n",
    "        print(\"Static method called from Parent\")\n",
    "\n",
    "class Child(Person):\n",
    "    def __init__(self, name, age):\n",
    "        super().__init__(name)  # Call parent class constructor\n",
    "        self.age = age"
   ]
  },
  {
   "cell_type": "code",
   "execution_count": 60,
   "id": "95d2237f",
   "metadata": {},
   "outputs": [
    {
     "name": "stdout",
     "output_type": "stream",
     "text": [
      "Class method called from Parent\n",
      "Static method called from Parent\n"
     ]
    }
   ],
   "source": [
    "# Calling the class method and static method from the parent class directly\n",
    "Person.set_planet('Earth')  # Output: Class method called from Parent\n",
    "Child.static_method()  # Output: Static method called from Parent\n"
   ]
  },
  {
   "cell_type": "code",
   "execution_count": null,
   "id": "d88599e7",
   "metadata": {},
   "outputs": [],
   "source": []
  },
  {
   "cell_type": "code",
   "execution_count": null,
   "id": "49583336",
   "metadata": {},
   "outputs": [],
   "source": []
  },
  {
   "cell_type": "code",
   "execution_count": null,
   "id": "92793e1a",
   "metadata": {},
   "outputs": [],
   "source": []
  },
  {
   "cell_type": "code",
   "execution_count": null,
   "id": "08293cd9",
   "metadata": {},
   "outputs": [],
   "source": []
  },
  {
   "cell_type": "markdown",
   "id": "5145c455",
   "metadata": {
    "jp-MarkdownHeadingCollapsed": true
   },
   "source": [
    "##### `classmethod(...)` vs `staticmethod(...)`"
   ]
  },
  {
   "cell_type": "code",
   "execution_count": null,
   "id": "e109654f",
   "metadata": {},
   "outputs": [],
   "source": [
    "class A(object):\n",
    "    def foo(self, x):\n",
    "        self.given_int = x\n",
    "        print(f\"executing foo({self}, {x})\")\n",
    "\n",
    "    @classmethod\n",
    "    def class_foo(cls, x):\n",
    "        print(f\"executing class_foo({cls}, {x})\")\n",
    "\n",
    "    @staticmethod\n",
    "    def static_foo(x):\n",
    "        print(f\"executing static_foo({x})\")"
   ]
  },
  {
   "cell_type": "code",
   "execution_count": 7,
   "id": "d0031511",
   "metadata": {},
   "outputs": [],
   "source": [
    "a = A()"
   ]
  },
  {
   "cell_type": "code",
   "execution_count": 8,
   "id": "dec21f6f",
   "metadata": {},
   "outputs": [
    {
     "name": "stdout",
     "output_type": "stream",
     "text": [
      "executing foo(<__main__.A object at 0x10a9fc0a0>, 1)\n"
     ]
    }
   ],
   "source": [
    "a.foo(1) # executing foo(<__main__.A object at 0xb7dbef0c>, 1)"
   ]
  },
  {
   "cell_type": "code",
   "execution_count": 9,
   "id": "7a9ad1f6",
   "metadata": {},
   "outputs": [
    {
     "name": "stdout",
     "output_type": "stream",
     "text": [
      "executing class_foo(<class '__main__.A'>, 1)\n"
     ]
    }
   ],
   "source": [
    "a.class_foo(1) # executing class_foo(<class '__main__.A'>, 1)"
   ]
  },
  {
   "cell_type": "markdown",
   "id": "4ac4da8b",
   "metadata": {},
   "source": [
    "- With classmethods, the class of the object instance is implicitly passed as the first argument instead of self.\n",
    "- <font color='orange'>If you define something to be a classmethod, it is probably because you intend to call it from the class rather than from a class instance</font>. `A.foo(1)` would have raised a TypeError, but `A.class_foo(1)` works just fine."
   ]
  },
  {
   "cell_type": "code",
   "execution_count": 10,
   "id": "f5b22213",
   "metadata": {},
   "outputs": [
    {
     "name": "stdout",
     "output_type": "stream",
     "text": [
      "executing class_foo(<class '__main__.A'>, 1)\n"
     ]
    }
   ],
   "source": [
    "A.class_foo(1) # executing class_foo(<class '__main__.A'>, 1)"
   ]
  },
  {
   "cell_type": "markdown",
   "id": "6c34f9eb",
   "metadata": {},
   "source": [
    "- With staticmethods, neither `self` (the object instance) nor `cls` (the class) is implicitly passed as the first argument. They behave like plain functions except that you can call them from an instance or the class:"
   ]
  },
  {
   "cell_type": "code",
   "execution_count": 11,
   "id": "58de4a50",
   "metadata": {},
   "outputs": [
    {
     "name": "stdout",
     "output_type": "stream",
     "text": [
      "executing static_foo(1)\n"
     ]
    }
   ],
   "source": [
    "a.static_foo(1) # executing static_foo(1)"
   ]
  },
  {
   "cell_type": "code",
   "execution_count": 12,
   "id": "f05869b5",
   "metadata": {},
   "outputs": [
    {
     "name": "stdout",
     "output_type": "stream",
     "text": [
      "executing static_foo(hi)\n"
     ]
    }
   ],
   "source": [
    "A.static_foo('hi') # executing static_foo(hi)"
   ]
  },
  {
   "cell_type": "markdown",
   "id": "fbb22a1b",
   "metadata": {},
   "source": [
    "`foo` is just a function, but when you call `a.foo` you don't just get the function, you get a \"partially applied\" version of the function with the object instance a bound as the first argument to the function. `foo` expects 2 arguments, while `a.foo` only expects 1 argument.\n",
    "\n",
    "`a` is bound to `foo`. That is what it meant by the term \"bound\" below:\n",
    "\n"
   ]
  },
  {
   "cell_type": "code",
   "execution_count": 13,
   "id": "8793c661",
   "metadata": {},
   "outputs": [
    {
     "name": "stdout",
     "output_type": "stream",
     "text": [
      "<bound method A.foo of <__main__.A object at 0x10a9fc0a0>>\n"
     ]
    }
   ],
   "source": [
    "print(a.foo) # <bound method A.foo of <__main__.A object at 0xb7d52f0c>>"
   ]
  },
  {
   "cell_type": "code",
   "execution_count": 14,
   "id": "02f11ec8",
   "metadata": {},
   "outputs": [
    {
     "name": "stdout",
     "output_type": "stream",
     "text": [
      "<bound method A.class_foo of <class '__main__.A'>>\n"
     ]
    }
   ],
   "source": [
    "print(a.class_foo) # <bound method type.class_foo of <class '__main__.A'>>"
   ]
  },
  {
   "cell_type": "markdown",
   "id": "3ccd55d9",
   "metadata": {},
   "source": [
    "With a staticmethod, even though it is a method, `a.static_foo` just returns a good 'ole function with no arguments bound. `static_foo` expects 1 argument, and `a.static_foo` expects 1 argument too."
   ]
  },
  {
   "cell_type": "code",
   "execution_count": null,
   "id": "95b82c8b",
   "metadata": {},
   "outputs": [],
   "source": [
    "print(a.static_foo) # <function static_foo at 0xb7d479cc>"
   ]
  },
  {
   "cell_type": "markdown",
   "id": "10e52821",
   "metadata": {},
   "source": [
    "And of course the same thing happens when you call `static_foo` with the class `A` instead."
   ]
  },
  {
   "cell_type": "code",
   "execution_count": 15,
   "id": "a992ddaf",
   "metadata": {},
   "outputs": [
    {
     "name": "stdout",
     "output_type": "stream",
     "text": [
      "<function A.static_foo at 0x10a60fe50>\n"
     ]
    }
   ],
   "source": [
    "print(A.static_foo) # <function static_foo at 0xb7d479cc>"
   ]
  },
  {
   "cell_type": "code",
   "execution_count": null,
   "id": "5d00ea2a",
   "metadata": {},
   "outputs": [],
   "source": []
  },
  {
   "cell_type": "markdown",
   "id": "2c856d31",
   "metadata": {
    "heading_collapsed": true,
    "jp-MarkdownHeadingCollapsed": true
   },
   "source": [
    "#### Special Function"
   ]
  },
  {
   "cell_type": "markdown",
   "id": "7c208633",
   "metadata": {
    "hidden": true
   },
   "source": [
    "- [\\_\\_new\\_\\_ vs \\_\\_init\\_\\_ in Python](https://www.youtube.com/watch?v=-zsV0_QrfTw)"
   ]
  },
  {
   "cell_type": "markdown",
   "id": "839835f1",
   "metadata": {
    "hidden": true
   },
   "source": [
    "In Python, `__new__()` and `__init__()` are two special methods used for object creation and initialization. They play different roles in the process of instantiating a new object.\n",
    "\n",
    "- `__new__()`:\n",
    "    -   `Purpose`: `__new__()` is responsible for creating a new instance of a class.\n",
    "    -   `Usage`: It's called before `__init__()` and is responsible for returning a new instance of the class. If `__new__()` returns an instance of the class, then `__init__()` will be called to initialize the instance.\n",
    "    -   `Signature`: __new__(cls, *args, **kwargs) where cls is the class itself and *args, **kwargs are arguments passed to the constructor.\n",
    "    -   `Return`: It must return an instance of the class. If it returns something other than an instance of the class, then `__init__()` will not be called.\n",
    "\n",
    "- `__init__()`:\n",
    "    -   `Purpose`: `__init__()` is responsible for initializing an instance of a class.\n",
    "    -   `Usage`: It's called after `__new__()` and is used to set up the initial state of the object. It doesn't return anything; it just modifies the instance.\n",
    "    -   `Signature`: __init__(self, *args, **kwargs) where self is the instance of the class and *args, **kwargs are arguments passed to the constructor.\n",
    "    -   `Return`: It returns None. Its purpose is to initialize the state of the object."
   ]
  },
  {
   "cell_type": "code",
   "execution_count": 5,
   "id": "61e0f4ff",
   "metadata": {
    "hidden": true
   },
   "outputs": [
    {
     "name": "stdout",
     "output_type": "stream",
     "text": [
      "Creating instance\n",
      "Initializing instance\n",
      "10\n"
     ]
    }
   ],
   "source": [
    "class MyClass:\n",
    "    def __new__(cls, *args, **kwargs):\n",
    "        print(\"Creating instance\")\n",
    "        instance = super().__new__(cls)\n",
    "        return instance\n",
    "\n",
    "    def __init__(self, value):\n",
    "        print(\"Initializing instance\")\n",
    "        self.value = value\n",
    "\n",
    "# Instantiating the class\n",
    "obj = MyClass(10)\n",
    "\n",
    "# Output:\n",
    "# Creating instance\n",
    "# Initializing instance\n",
    "\n",
    "print(obj.value)  # Output: 10\n"
   ]
  },
  {
   "cell_type": "code",
   "execution_count": 1,
   "id": "2eec4983",
   "metadata": {
    "hidden": true
   },
   "outputs": [],
   "source": [
    "class Person():\n",
    "    def __init__(self, name: str, ssn:int):\n",
    "        self.name = name\n",
    "        self.ssn = ssn\n",
    "#     def __eq__(self, other):\n",
    "#         return self.name == other.name and self.ssn == other.ssn"
   ]
  },
  {
   "cell_type": "code",
   "execution_count": 6,
   "id": "3dcd7b72",
   "metadata": {
    "hidden": true
   },
   "outputs": [],
   "source": [
    "p1 = Person('James', 1000)\n",
    "p2 = Person('Jim', 2000)\n",
    "p3 = Person('Jim', 2000)"
   ]
  },
  {
   "cell_type": "code",
   "execution_count": 1,
   "id": "b00b4fc3",
   "metadata": {
    "hidden": true
   },
   "outputs": [],
   "source": [
    "# dir(Person)"
   ]
  },
  {
   "cell_type": "code",
   "execution_count": 8,
   "id": "63c36390",
   "metadata": {
    "hidden": true
   },
   "outputs": [
    {
     "name": "stdout",
     "output_type": "stream",
     "text": [
      "{'__module__': '__main__', '__init__': <function Person.__init__ at 0x7fe0e0c3da20>, '__dict__': <attribute '__dict__' of 'Person' objects>, '__weakref__': <attribute '__weakref__' of 'Person' objects>, '__doc__': None}\n"
     ]
    }
   ],
   "source": [
    "print(Person.__dict__)"
   ]
  },
  {
   "cell_type": "code",
   "execution_count": 9,
   "id": "a32d2a06",
   "metadata": {
    "hidden": true
   },
   "outputs": [
    {
     "name": "stdout",
     "output_type": "stream",
     "text": [
      "False\n",
      "False\n",
      "NotImplemented\n"
     ]
    }
   ],
   "source": [
    "print(p1 == p2); print(p1 is p2); print(p1.__eq__(p2))"
   ]
  },
  {
   "cell_type": "code",
   "execution_count": 10,
   "id": "ce725ee1",
   "metadata": {
    "hidden": true
   },
   "outputs": [
    {
     "name": "stdout",
     "output_type": "stream",
     "text": [
      "False\n",
      "False\n",
      "NotImplemented\n"
     ]
    }
   ],
   "source": [
    "print(p2 == p3); print(p2 is p3); print(p2.__eq__(p3))"
   ]
  },
  {
   "cell_type": "markdown",
   "id": "9d5b0aea",
   "metadata": {
    "heading_collapsed": true,
    "hidden": true
   },
   "source": [
    "##### `__setstate__`, `__getstate__` and `__dict__`:\n",
    "\n",
    "[Simple example of use of __setstate__ and __getstate__\n",
    "](https://stackoverflow.com/questions/1939058/simple-example-of-use-of-setstate-and-getstate)"
   ]
  },
  {
   "cell_type": "markdown",
   "id": "a61733ba",
   "metadata": {
    "heading_collapsed": true,
    "hidden": true
   },
   "source": [
    "##### `__call__`:  Enables the instance to be called as a function.\n"
   ]
  },
  {
   "cell_type": "code",
   "execution_count": 3,
   "id": "4c6e043c",
   "metadata": {
    "hidden": true
   },
   "outputs": [
    {
     "data": {
      "text/plain": [
       "6"
      ]
     },
     "execution_count": 3,
     "metadata": {},
     "output_type": "execute_result"
    }
   ],
   "source": [
    "class MyClass:\n",
    "    def __call__(self, x):\n",
    "        return x * 2\n",
    "\n",
    "obj = MyClass()\n",
    "obj(3)  # Output: 6"
   ]
  },
  {
   "cell_type": "code",
   "execution_count": 4,
   "id": "11001c3c",
   "metadata": {
    "hidden": true
   },
   "outputs": [
    {
     "name": "stdout",
     "output_type": "stream",
     "text": [
      "20\n",
      "30\n"
     ]
    }
   ],
   "source": [
    "class Multiplier:\n",
    "    def __init__(self, factor):\n",
    "        self.factor = factor\n",
    "\n",
    "    def __call__(self, value):\n",
    "        return value * self.factor\n",
    "\n",
    "# Creating an instance of Multiplier\n",
    "double = Multiplier(2)\n",
    "triple = Multiplier(3)\n",
    "\n",
    "# Calling the instance like a function\n",
    "print(double(10))  # Output: 20\n",
    "print(triple(10))  # Output: 30\n"
   ]
  },
  {
   "cell_type": "markdown",
   "id": "3c108a73",
   "metadata": {
    "hidden": true
   },
   "source": [
    "##### `__annotations__`:"
   ]
  },
  {
   "cell_type": "code",
   "execution_count": 22,
   "id": "22b74d20",
   "metadata": {
    "hidden": true
   },
   "outputs": [],
   "source": [
    "def f(ham: str, eggs: str = 'eggs') -> str:\n",
    "    print(\"Annotations:\", f.__annotations__)\n",
    "    print(\"Arguments:\", ham, eggs)\n",
    "    return ham + ' and ' + eggs"
   ]
  },
  {
   "cell_type": "code",
   "execution_count": 24,
   "id": "492220d5",
   "metadata": {
    "hidden": true
   },
   "outputs": [
    {
     "name": "stdout",
     "output_type": "stream",
     "text": [
      "Annotations: {'ham': <class 'str'>, 'eggs': <class 'str'>, 'return': <class 'str'>}\n",
      "Arguments: spam eggs\n"
     ]
    },
    {
     "data": {
      "text/plain": [
       "'spam and eggs'"
      ]
     },
     "execution_count": 24,
     "metadata": {},
     "output_type": "execute_result"
    }
   ],
   "source": [
    "f('spam')"
   ]
  },
  {
   "cell_type": "code",
   "execution_count": 1,
   "id": "53b27a83",
   "metadata": {
    "hidden": true
   },
   "outputs": [],
   "source": [
    "# dir(\"__main__\")"
   ]
  },
  {
   "cell_type": "code",
   "execution_count": null,
   "id": "1229fdcd",
   "metadata": {
    "hidden": true
   },
   "outputs": [],
   "source": []
  },
  {
   "cell_type": "code",
   "execution_count": null,
   "id": "3f65f6ab",
   "metadata": {
    "hidden": true
   },
   "outputs": [],
   "source": []
  },
  {
   "cell_type": "code",
   "execution_count": null,
   "id": "b3e2f3a1",
   "metadata": {
    "hidden": true
   },
   "outputs": [],
   "source": []
  },
  {
   "cell_type": "markdown",
   "id": "9e663a03",
   "metadata": {
    "heading_collapsed": true,
    "jp-MarkdownHeadingCollapsed": true
   },
   "source": [
    "#### Name Mangling"
   ]
  },
  {
   "cell_type": "code",
   "execution_count": null,
   "id": "2c44d597",
   "metadata": {
    "hidden": true
   },
   "outputs": [],
   "source": []
  },
  {
   "cell_type": "code",
   "execution_count": 29,
   "id": "faedea4d",
   "metadata": {
    "hidden": true
   },
   "outputs": [],
   "source": [
    "class MyClass:\n",
    "    def __init__(self):\n",
    "        self._private_var_1 = 42\n",
    "        self.__private_var_2 = 420"
   ]
  },
  {
   "cell_type": "code",
   "execution_count": 30,
   "id": "5d771638",
   "metadata": {
    "hidden": true
   },
   "outputs": [],
   "source": [
    "obj = MyClass()\n",
    "# Attempting to access obj.__my_private_variable will result in an AttributeError."
   ]
  },
  {
   "cell_type": "code",
   "execution_count": 31,
   "id": "d416f84c",
   "metadata": {
    "hidden": true
   },
   "outputs": [
    {
     "name": "stdout",
     "output_type": "stream",
     "text": [
      "42\n",
      "420\n"
     ]
    }
   ],
   "source": [
    "print(obj._private_var_1)\n",
    "print(obj._MyClass__private_var_2)  # Accesses the name-mangled attribute."
   ]
  },
  {
   "cell_type": "code",
   "execution_count": null,
   "id": "244d9a65",
   "metadata": {
    "hidden": true
   },
   "outputs": [],
   "source": []
  },
  {
   "cell_type": "markdown",
   "id": "de88a06a",
   "metadata": {
    "heading_collapsed": true,
    "jp-MarkdownHeadingCollapsed": true
   },
   "source": [
    "#### Variable Overloading (`global`)"
   ]
  },
  {
   "cell_type": "code",
   "execution_count": 5,
   "id": "e9781932",
   "metadata": {
    "hidden": true
   },
   "outputs": [],
   "source": [
    "# Define a global variable\n",
    "my_global_variable = 0\n",
    "my_global_variable_2 = 10"
   ]
  },
  {
   "cell_type": "code",
   "execution_count": 11,
   "id": "b328bd88",
   "metadata": {
    "hidden": true
   },
   "outputs": [],
   "source": [
    "def update_global_variable():\n",
    "    global my_global_variable  # Declare the variable as global\n",
    "    my_global_variable += 1\n",
    "    # my_global_variable_2 += 100 # UnboundLocalError: local variable 'my_global_variable_2' referenced before assignment\n",
    "    global my_global_var # define a global variable\n",
    "    my_global_var = 40"
   ]
  },
  {
   "cell_type": "code",
   "execution_count": 12,
   "id": "045b41ff",
   "metadata": {
    "hidden": true
   },
   "outputs": [
    {
     "name": "stdout",
     "output_type": "stream",
     "text": [
      "40\n"
     ]
    }
   ],
   "source": [
    "# Call the function to update the global variable\n",
    "update_global_variable()\n",
    "print(my_global_var)"
   ]
  },
  {
   "cell_type": "code",
   "execution_count": 17,
   "id": "af971cbd",
   "metadata": {
    "hidden": true
   },
   "outputs": [
    {
     "name": "stdout",
     "output_type": "stream",
     "text": [
      "Local Namespace:\n",
      "['built_in_namespace', 'global_namespace', 'local_namespace', 'local_var']\n",
      "Local Namespace:\n",
      "['local_var', 'global_namespace']\n",
      "\n",
      "Global Namespace:\n",
      "['__name__', '__doc__', '__package__', '__loader__', '__spec__', '__builtin__', '__builtins__', '_ih', '_oh', '_dh', 'In', 'Out', 'get_ipython', 'exit', 'quit', 'open', '_', '__', '___', '_i', '_ii', '_iii', '_i1', 'numbers', '_i2', 'my_global_variable', 'my_global_variable_2', '_i3', 'update_global_variable', '_i4', '_i5', '_i6', '_i7', 'my_global_var', '_i8', '_i9', '_i10', '_i11', '_i12', '_i13', 'global_var_1', 'global_var_2', 'check_global_namespace', '_i14', 'check_local_namespace', '_i15', 'check_namespace', '_i16', '_i17']\n",
      "\n",
      "Built-in Namespace:\n",
      "['ArithmeticError', 'AssertionError', 'AttributeError', 'BaseException', 'BlockingIOError', 'BrokenPipeError', 'BufferError', 'BytesWarning', 'ChildProcessError', 'ConnectionAbortedError', 'ConnectionError', 'ConnectionRefusedError', 'ConnectionResetError', 'DeprecationWarning', 'EOFError', 'Ellipsis', 'EncodingWarning', 'EnvironmentError', 'Exception', 'False', 'FileExistsError', 'FileNotFoundError', 'FloatingPointError', 'FutureWarning', 'GeneratorExit', 'IOError', 'ImportError', 'ImportWarning', 'IndentationError', 'IndexError', 'InterruptedError', 'IsADirectoryError', 'KeyError', 'KeyboardInterrupt', 'LookupError', 'MemoryError', 'ModuleNotFoundError', 'NameError', 'None', 'NotADirectoryError', 'NotImplemented', 'NotImplementedError', 'OSError', 'OverflowError', 'PendingDeprecationWarning', 'PermissionError', 'ProcessLookupError', 'RecursionError', 'ReferenceError', 'ResourceWarning', 'RuntimeError', 'RuntimeWarning', 'StopAsyncIteration', 'StopIteration', 'SyntaxError', 'SyntaxWarning', 'SystemError', 'SystemExit', 'TabError', 'TimeoutError', 'True', 'TypeError', 'UnboundLocalError', 'UnicodeDecodeError', 'UnicodeEncodeError', 'UnicodeError', 'UnicodeTranslateError', 'UnicodeWarning', 'UserWarning', 'ValueError', 'Warning', 'ZeroDivisionError', '__IPYTHON__', '__build_class__', '__debug__', '__doc__', '__import__', '__loader__', '__name__', '__package__', '__spec__', 'abs', 'aiter', 'all', 'anext', 'any', 'ascii', 'bin', 'bool', 'breakpoint', 'bytearray', 'bytes', 'callable', 'chr', 'classmethod', 'compile', 'complex', 'copyright', 'credits', 'delattr', 'dict', 'dir', 'display', 'divmod', 'enumerate', 'eval', 'exec', 'execfile', 'filter', 'float', 'format', 'frozenset', 'get_ipython', 'getattr', 'globals', 'hasattr', 'hash', 'help', 'hex', 'id', 'input', 'int', 'isinstance', 'issubclass', 'iter', 'len', 'license', 'list', 'locals', 'map', 'max', 'memoryview', 'min', 'next', 'object', 'oct', 'open', 'ord', 'pow', 'print', 'property', 'range', 'repr', 'reversed', 'round', 'runfile', 'set', 'setattr', 'slice', 'sorted', 'staticmethod', 'str', 'sum', 'super', 'tuple', 'type', 'vars', 'zip']\n"
     ]
    }
   ],
   "source": [
    "def check_namespace():\n",
    "    # Define a variable in the local (function) namespace\n",
    "    local_var = \"I am in the local (function) namespace\"\n",
    "\n",
    "    # Use globals() to get a list of names in the global namespace\n",
    "    global_namespace = list(globals().keys())\n",
    "\n",
    "    # Use locals() to get a list of names in the global namespace\n",
    "    local_namespace = list(locals().keys())\n",
    "\n",
    "    # Use dir(__builtins__) to get a list of names in the built-in namespace\n",
    "    built_in_namespace = dir(__builtins__)\n",
    "\n",
    "    # Print the names in the local, global, and built-in namespaces\n",
    "    print(\"Local Namespace:\")\n",
    "    print(dir())\n",
    "\n",
    "    print(\"Local Namespace:\")\n",
    "    print(local_namespace)\n",
    "\n",
    "    print(\"\\nGlobal Namespace:\")\n",
    "    print(global_namespace)\n",
    "\n",
    "    print(\"\\nBuilt-in Namespace:\")\n",
    "    print(built_in_namespace)\n",
    "\n",
    "# Call the function to check namespaces\n",
    "check_namespace()\n"
   ]
  },
  {
   "cell_type": "markdown",
   "id": "1923ad10",
   "metadata": {
    "heading_collapsed": true,
    "jp-MarkdownHeadingCollapsed": true
   },
   "source": [
    "#### Class Hierarchy Analysis"
   ]
  },
  {
   "cell_type": "markdown",
   "id": "068217f6",
   "metadata": {
    "hidden": true
   },
   "source": [
    "- [Data Model](https://docs.python.org/3/reference/datamodel.html)"
   ]
  },
  {
   "cell_type": "code",
   "execution_count": null,
   "id": "3043bda4",
   "metadata": {
    "hidden": true
   },
   "outputs": [],
   "source": [
    "integer = 5\n",
    "s = Human('shah', 1000)\n",
    "o = object()"
   ]
  },
  {
   "cell_type": "code",
   "execution_count": 10,
   "id": "ae1b704a",
   "metadata": {
    "hidden": true
   },
   "outputs": [
    {
     "data": {
      "text/plain": [
       "(int, int, function, function, __main__.Human, __main__.Human, object, object)"
      ]
     },
     "execution_count": 10,
     "metadata": {},
     "output_type": "execute_result"
    }
   ],
   "source": [
    "type(integer), integer.__class__, type(square), square.__class__, type(s), s.__class__"
   ]
  },
  {
   "cell_type": "code",
   "execution_count": 147,
   "id": "54bc9c87",
   "metadata": {
    "hidden": true
   },
   "outputs": [
    {
     "data": {
      "text/plain": [
       "(object, object, type, True, True)"
      ]
     },
     "execution_count": 147,
     "metadata": {},
     "output_type": "execute_result"
    }
   ],
   "source": [
    "type(o), o.__class__, type(object), isinstance(object, type), isinstance(Human, type)"
   ]
  },
  {
   "cell_type": "markdown",
   "id": "2d336ada",
   "metadata": {
    "hidden": true
   },
   "source": [
    "The Human class and every other class in Python are objects (instance) of the class <font color='magenta'>type</font>. This type is a class and is different from the <font color='red'>type(...)</font> function that returns the type of object. The type class, from which all the classes are created, is called the **Metaclass** in Python."
   ]
  },
  {
   "cell_type": "code",
   "execution_count": 17,
   "id": "5bd82863",
   "metadata": {
    "hidden": true
   },
   "outputs": [
    {
     "data": {
      "text/plain": [
       "(True, True, True, True, True)"
      ]
     },
     "execution_count": 17,
     "metadata": {},
     "output_type": "execute_result"
    }
   ],
   "source": [
    "isinstance(integer, object), isinstance(integer, int), isinstance(int, object), isinstance(s, object), isinstance(type, object)"
   ]
  },
  {
   "cell_type": "code",
   "execution_count": 6,
   "id": "dd5e0bb5",
   "metadata": {
    "hidden": true
   },
   "outputs": [],
   "source": [
    "# dir(object)"
   ]
  },
  {
   "cell_type": "code",
   "execution_count": 5,
   "id": "42573067",
   "metadata": {
    "hidden": true
   },
   "outputs": [],
   "source": [
    "# help(object)"
   ]
  },
  {
   "cell_type": "code",
   "execution_count": null,
   "id": "c8a8882d",
   "metadata": {
    "hidden": true
   },
   "outputs": [],
   "source": []
  },
  {
   "cell_type": "code",
   "execution_count": null,
   "id": "fdde127b",
   "metadata": {
    "hidden": true
   },
   "outputs": [],
   "source": []
  },
  {
   "cell_type": "markdown",
   "id": "6fe9f276",
   "metadata": {
    "heading_collapsed": true,
    "jp-MarkdownHeadingCollapsed": true
   },
   "source": [
    "#### Metaclasses"
   ]
  },
  {
   "cell_type": "markdown",
   "id": "a9374826",
   "metadata": {
    "hidden": true
   },
   "source": [
    "- [Metaclasses & How Classes Really Work](https://www.youtube.com/watch?v=NAQEj-c2CI8)\n",
    "- [Understanding Object Instantiation and Metaclasses in Python](https://www.honeybadger.io/blog/python-instantiation-metaclass/#:~:text=We%20can%20also%20use%20the,which%20the%20object%20was%20created.&text=The%20above%20code%20creates%20an%20instance%20human_obj%20of%20the%20Human%20class.)\n",
    "- [RealPyhon(Youtube): Metaclasses in Python](https://www.youtube.com/watch?v=yWzMiaqnpkI)\n",
    "    - [RealPyhon: Python Metaclasses](https://realpython.com/python-metaclasses/)"
   ]
  },
  {
   "cell_type": "markdown",
   "id": "8136c286",
   "metadata": {
    "hidden": true
   },
   "source": [
    "Metaclasses in Python are a concept that allows you to customize the behavior of classes. In Python, everything is an object, including classes. A metaclass is a class of a class. It defines how a class behaves, just like a class defines how an instance of that class behaves.\n",
    "\n",
    "-   **Metaclass Definition**:\n",
    "    -   A metaclass is a class whose instances are classes.\n",
    "    -   In Python, the default metaclass is `type`.\n",
    "\n",
    "-   **Metaclass Usage**:\n",
    "    -   You can specify a metaclass for a class by setting the metaclass attribute in the class definition.\n",
    "    -   The metaclass can customize the creation and behavior of instances of the class."
   ]
  },
  {
   "cell_type": "code",
   "execution_count": 24,
   "id": "24800208",
   "metadata": {
    "hidden": true
   },
   "outputs": [],
   "source": [
    "class AttributeEnforcer(type):\n",
    "    def __new__(cls, name, bases, dct):\n",
    "        print(\"Creating class:\", name)\n",
    "        dct['created_by'] = 'AttributeEnforcer'\n",
    "        if 'required_attribute' not in dct:\n",
    "            raise TypeError(f\"{name} is missing the required 'required_attribute' attribute\")\n",
    "        return super().__new__(cls, name, bases, dct)"
   ]
  },
  {
   "cell_type": "code",
   "execution_count": 25,
   "id": "ed55825c",
   "metadata": {
    "hidden": true
   },
   "outputs": [
    {
     "name": "stdout",
     "output_type": "stream",
     "text": [
      "Creating class: MyClassEnforced\n"
     ]
    }
   ],
   "source": [
    "# Use the metaclass to create a new class\n",
    "class MyClassEnforced(metaclass=AttributeEnforcer):\n",
    "    required_attribute = \"This is required\""
   ]
  },
  {
   "cell_type": "code",
   "execution_count": 17,
   "id": "b3b244b4",
   "metadata": {
    "hidden": true
   },
   "outputs": [],
   "source": [
    "clsa = MyClassEnforced()"
   ]
  },
  {
   "cell_type": "markdown",
   "id": "fd03f5ec",
   "metadata": {
    "hidden": true
   },
   "source": [
    "```python\n",
    "# This will raise an error\n",
    "class MyInvalidClass(metaclass=AttributeEnforcer):\n",
    "    pass  # Missing 'required_attribute'\n",
    "```"
   ]
  },
  {
   "cell_type": "code",
   "execution_count": null,
   "id": "d51da8a8",
   "metadata": {
    "hidden": true
   },
   "outputs": [],
   "source": [
    "# Step 1: Define the class name, base classes, and attributes/methods\n",
    "class_name = \"Person\"\n",
    "base_classes = (object,)  # Using `object` as the base class\n",
    "\n",
    "# Define the class attributes and methods, including __init__\n",
    "class_attributes = {\n",
    "    '__init__': lambda self, name, age: setattr(self, 'name', name) or setattr(self, 'age', age),\n",
    "    'greet': lambda self: f'Hello, my name is {self.name} and I am {self.age} years old.'\n",
    "}\n",
    "\n",
    "# Step 2: Create the class dynamically using `type()`\n",
    "Person = type(class_name, base_classes, class_attributes)\n",
    "\n",
    "# Step 3: Instantiate the class and access attributes/methods\n",
    "person1 = Person(\"Alice\", 30)\n",
    "person2 = Person(\"Bob\", 40)\n",
    "\n",
    "print(person1.name)       # Output: Alice\n",
    "print(person2.age)        # Output: 40\n",
    "print(person1.greet())    # Output: Hello, my name is Alice and I am 30 years old."
   ]
  },
  {
   "cell_type": "code",
   "execution_count": null,
   "id": "320a3931",
   "metadata": {
    "hidden": true
   },
   "outputs": [],
   "source": []
  },
  {
   "cell_type": "markdown",
   "id": "c3a12262",
   "metadata": {
    "heading_collapsed": true,
    "jp-MarkdownHeadingCollapsed": true
   },
   "source": [
    "#### Python Builtin Classes Hierarchy:"
   ]
  },
  {
   "cell_type": "code",
   "execution_count": 10,
   "id": "2d317e0b",
   "metadata": {
    "hidden": true
   },
   "outputs": [],
   "source": [
    "# dir(__builtins__)"
   ]
  },
  {
   "cell_type": "code",
   "execution_count": 8,
   "id": "d47f9c9c",
   "metadata": {
    "hidden": true
   },
   "outputs": [],
   "source": [
    "# help(__builtins__)"
   ]
  },
  {
   "cell_type": "markdown",
   "id": "370eb8d9",
   "metadata": {
    "hidden": true
   },
   "source": [
    "```python\n",
    "object\n",
    "    BaseException\n",
    "        Exception\n",
    "            ArithmeticError\n",
    "                FloatingPointError\n",
    "                OverflowError\n",
    "                ZeroDivisionError\n",
    "            AssertionError\n",
    "            AttributeError\n",
    "            BufferError\n",
    "            EOFError\n",
    "            ImportError\n",
    "                ModuleNotFoundError\n",
    "            LookupError\n",
    "                IndexError\n",
    "                KeyError\n",
    "            MemoryError\n",
    "            NameError\n",
    "                UnboundLocalError\n",
    "            OSError\n",
    "                BlockingIOError\n",
    "                ChildProcessError\n",
    "                ConnectionError\n",
    "                    BrokenPipeError\n",
    "                    ConnectionAbortedError\n",
    "                    ConnectionRefusedError\n",
    "                    ConnectionResetError\n",
    "                FileExistsError\n",
    "                FileNotFoundError\n",
    "                InterruptedError\n",
    "                IsADirectoryError\n",
    "                NotADirectoryError\n",
    "                PermissionError\n",
    "                ProcessLookupError\n",
    "                TimeoutError\n",
    "            ReferenceError\n",
    "            RuntimeError\n",
    "                NotImplementedError\n",
    "                RecursionError\n",
    "            StopAsyncIteration\n",
    "            StopIteration\n",
    "            SyntaxError\n",
    "                IndentationError\n",
    "                    TabError\n",
    "            SystemError\n",
    "            TypeError\n",
    "            ValueError\n",
    "                UnicodeError\n",
    "                    UnicodeDecodeError\n",
    "                    UnicodeEncodeError\n",
    "                    UnicodeTranslateError\n",
    "            Warning\n",
    "                BytesWarning\n",
    "                DeprecationWarning\n",
    "                FutureWarning\n",
    "                ImportWarning\n",
    "                PendingDeprecationWarning\n",
    "                ResourceWarning\n",
    "                RuntimeWarning\n",
    "                SyntaxWarning\n",
    "                UnicodeWarning\n",
    "                UserWarning\n",
    "        GeneratorExit\n",
    "        KeyboardInterrupt\n",
    "        SystemExit\n",
    "    bytearray\n",
    "    bytes\n",
    "    classmethod\n",
    "    complex\n",
    "    dict\n",
    "    enumerate\n",
    "    filter\n",
    "    float\n",
    "    frozenset\n",
    "    int\n",
    "        bool\n",
    "    list\n",
    "    map\n",
    "    memoryview\n",
    "    property\n",
    "    range\n",
    "    reversed\n",
    "    set\n",
    "    slice\n",
    "    staticmethod\n",
    "    str\n",
    "    super\n",
    "    tuple\n",
    "    type\n",
    "    zip\n",
    "```"
   ]
  },
  {
   "cell_type": "code",
   "execution_count": null,
   "id": "c4ffe266",
   "metadata": {
    "hidden": true
   },
   "outputs": [],
   "source": []
  },
  {
   "cell_type": "markdown",
   "id": "3180f19b",
   "metadata": {
    "heading_collapsed": true,
    "jp-MarkdownHeadingCollapsed": true
   },
   "source": [
    "## [Design Pattern](https://www.youtube.com/playlist?list=PLC0nd42SBTaNuP4iB4L6SJlMaHE71FG6N)"
   ]
  },
  {
   "cell_type": "markdown",
   "id": "9551cbce",
   "metadata": {
    "jp-MarkdownHeadingCollapsed": true
   },
   "source": [
    "## Publishing on PyPI"
   ]
  },
  {
   "cell_type": "markdown",
   "id": "0f1c6ddc",
   "metadata": {},
   "source": [
    "- [Packaging Python Projects](https://packaging.python.org/tutorials/packaging-projects/)\n",
    "- [python packaging](https://www.youtube.com/watch?v=bfyIrX4_yL8)\n",
    "\n",
    "- [Introduction to Makefiles](https://www.youtube.com/watch?v=_r7i5X0rXJk)"
   ]
  },
  {
   "cell_type": "markdown",
   "id": "0b9bfd25",
   "metadata": {},
   "source": [
    "- setuptools\n",
    "- distutils"
   ]
  },
  {
   "cell_type": "markdown",
   "id": "fd34cea2",
   "metadata": {},
   "source": [
    "- [Building and Distributing Packages with Setuptools](https://setuptools.pypa.io/en/latest/userguide/)\n",
    "    - [entry_point](https://setuptools.pypa.io/en/latest/userguide/entry_point.html)\n",
    " \n",
    "- [Command Line Scripts](https://python-packaging.readthedocs.io/en/latest/command-line-scripts.html)"
   ]
  },
  {
   "cell_type": "code",
   "execution_count": null,
   "id": "aaf3e023",
   "metadata": {},
   "outputs": [],
   "source": []
  },
  {
   "cell_type": "code",
   "execution_count": 4,
   "id": "a7398c64",
   "metadata": {},
   "outputs": [],
   "source": [
    "from distutils.core import setup\n",
    "from setuptools import find_packages, setup\n",
    "# from Cython.Build import cythonize"
   ]
  },
  {
   "cell_type": "code",
   "execution_count": null,
   "id": "fe9382dd",
   "metadata": {},
   "outputs": [],
   "source": [
    "pip install PyYAML"
   ]
  },
  {
   "cell_type": "code",
   "execution_count": null,
   "id": "b517ba04",
   "metadata": {},
   "outputs": [],
   "source": []
  },
  {
   "cell_type": "code",
   "execution_count": null,
   "id": "aaf08d89",
   "metadata": {},
   "outputs": [],
   "source": []
  }
 ],
 "metadata": {
  "kernelspec": {
   "display_name": "Python 3 (ipykernel)",
   "language": "python",
   "name": "python3"
  },
  "language_info": {
   "codemirror_mode": {
    "name": "ipython",
    "version": 3
   },
   "file_extension": ".py",
   "mimetype": "text/x-python",
   "name": "python",
   "nbconvert_exporter": "python",
   "pygments_lexer": "ipython3",
   "version": "3.9.6"
  },
  "toc": {
   "base_numbering": 1,
   "nav_menu": {},
   "number_sections": false,
   "sideBar": true,
   "skip_h1_title": true,
   "title_cell": "Table of Contents",
   "title_sidebar": "Contents",
   "toc_cell": true,
   "toc_position": {},
   "toc_section_display": true,
   "toc_window_display": false
  }
 },
 "nbformat": 4,
 "nbformat_minor": 5
}
