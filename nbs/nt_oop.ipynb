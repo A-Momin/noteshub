{
 "cells": [
  {
   "cell_type": "markdown",
   "id": "2ec40323",
   "metadata": {
    "toc": true
   },
   "source": [
    "<h1>Table of Contents<span class=\"tocSkip\"></span></h1>\n",
    "<div class=\"toc\"><ul class=\"toc-item\"><li><span><a href=\"#Object-oriented-Programming-(OOP):\" data-toc-modified-id=\"Object-oriented-Programming-(OOP):-1\">Object oriented Programming (OOP):</a></span><ul class=\"toc-item\"><li><ul class=\"toc-item\"><li><span><a href=\"#OOP\" data-toc-modified-id=\"OOP-1.0.1\">OOP</a></span></li><li><span><a href=\"#Inheritance-Analysis\" data-toc-modified-id=\"Inheritance-Analysis-1.0.2\">Inheritance Analysis</a></span></li><li><span><a href=\"#classmethod(...)-vs-staticmethod(...)-vs-abstractmethod()\" data-toc-modified-id=\"classmethod(...)-vs-staticmethod(...)-vs-abstractmethod()-1.0.3\"><code>classmethod(...)</code> vs <code>staticmethod(...) vs abstractmethod()</code></a></span></li><li><span><a href=\"#Special-Function\" data-toc-modified-id=\"Special-Function-1.0.4\">Special Function</a></span><ul class=\"toc-item\"><li><span><a href=\"#__new__-vs-__init__-in-Python\" data-toc-modified-id=\"__new__-vs-__init__-in-Python-1.0.4.1\"><a href=\"https://www.youtube.com/watch?v=-zsV0_QrfTw\" target=\"_blank\">__new__ vs __init__ in Python</a></a></span></li><li><span><a href=\"#__setstate__,-__getstate__-and-__dict__:\" data-toc-modified-id=\"__setstate__,-__getstate__-and-__dict__:-1.0.4.2\"><code>__setstate__</code>, <code>__getstate__</code> and <code>__dict__</code>:</a></span></li><li><span><a href=\"#__call__:--Enables-the-instance-to-be-called-as-a-function.\" data-toc-modified-id=\"__call__:--Enables-the-instance-to-be-called-as-a-function.-1.0.4.3\"><code>__call__</code>:  Enables the instance to be called as a function.</a></span></li><li><span><a href=\"#__annotations__:\" data-toc-modified-id=\"__annotations__:-1.0.4.4\"><code>__annotations__</code>:</a></span></li><li><span><a href=\"#__slots__-and-__weakref__\" data-toc-modified-id=\"__slots__-and-__weakref__-1.0.4.5\"><code>__slots__</code> and <code>__weakref__</code></a></span></li></ul></li><li><span><a href=\"#Class-and-Private-Attributes-and-Name-Mangling\" data-toc-modified-id=\"Class-and-Private-Attributes-and-Name-Mangling-1.0.5\">Class and Private Attributes and Name Mangling</a></span><ul class=\"toc-item\"><li><span><a href=\"#Name-Mangling-for-&quot;Private&quot;-Class-Attributes\" data-toc-modified-id=\"Name-Mangling-for-&quot;Private&quot;-Class-Attributes-1.0.5.1\">Name Mangling for \"Private\" Class Attributes</a></span></li></ul></li><li><span><a href=\"#Variable-Overloading-(global)\" data-toc-modified-id=\"Variable-Overloading-(global)-1.0.6\">Variable Overloading (<code>global</code>)</a></span></li><li><span><a href=\"#Class-Hierarchy-Analysis\" data-toc-modified-id=\"Class-Hierarchy-Analysis-1.0.7\">Class Hierarchy Analysis</a></span></li><li><span><a href=\"#Metaclasses\" data-toc-modified-id=\"Metaclasses-1.0.8\">Metaclasses</a></span></li><li><span><a href=\"#Python-Builtin-Classes-Hierarchy:\" data-toc-modified-id=\"Python-Builtin-Classes-Hierarchy:-1.0.9\">Python Builtin Classes Hierarchy:</a></span></li></ul></li></ul></li><li><span><a href=\"#Design-Pattern\" data-toc-modified-id=\"Design-Pattern-2\"><a href=\"https://www.youtube.com/playlist?list=PLC0nd42SBTaNuP4iB4L6SJlMaHE71FG6N\" target=\"_blank\">Design Pattern</a></a></span></li><li><span><a href=\"#Publishing-on-PyPI\" data-toc-modified-id=\"Publishing-on-PyPI-3\">Publishing on PyPI</a></span></li></ul></div>"
   ]
  },
  {
   "cell_type": "markdown",
   "id": "aeeed186",
   "metadata": {},
   "source": [
    "## Object oriented Programming (OOP):"
   ]
  },
  {
   "cell_type": "code",
   "execution_count": null,
   "id": "52d666e7",
   "metadata": {},
   "outputs": [],
   "source": [
    "import numbers"
   ]
  },
  {
   "cell_type": "markdown",
   "id": "e03f7e43",
   "metadata": {},
   "source": [
    "#### OOP"
   ]
  },
  {
   "cell_type": "markdown",
   "id": "0a3a22ec",
   "metadata": {},
   "source": [
    "-   **Metaclasses**: You can specify a metaclass for customizing class creation."
   ]
  },
  {
   "cell_type": "code",
   "execution_count": null,
   "id": "22bd2940",
   "metadata": {},
   "outputs": [],
   "source": [
    "class MyClass(metaclass=MyMetaclass):\n",
    "    pass"
   ]
  },
  {
   "cell_type": "markdown",
   "id": "86a2cd2c",
   "metadata": {},
   "source": [
    "-   **Class Attributes**: Class attributes are shared among all instances of a class."
   ]
  },
  {
   "cell_type": "code",
   "execution_count": null,
   "id": "6e512ebe",
   "metadata": {},
   "outputs": [],
   "source": [
    "class MyClass:\n",
    "    class_attribute = \"shared\""
   ]
  },
  {
   "cell_type": "markdown",
   "id": "c89478f9",
   "metadata": {},
   "source": [
    "-   **Constructor (\\_\\_init\\_\\_)**: The constructor initializes instance attributes."
   ]
  },
  {
   "cell_type": "code",
   "execution_count": null,
   "id": "a2ce1871",
   "metadata": {},
   "outputs": [],
   "source": [
    "class MyClass:\n",
    "    def __init__(self, arg1, arg2):\n",
    "        self.arg1 = arg1\n",
    "        self.arg2 = arg2"
   ]
  },
  {
   "cell_type": "markdown",
   "id": "c671aef5",
   "metadata": {},
   "source": [
    "-   **Docstring**: A docstring provides documentation for the class."
   ]
  },
  {
   "cell_type": "code",
   "execution_count": null,
   "id": "b7c5adf1",
   "metadata": {},
   "outputs": [],
   "source": [
    "class MyClass:\n",
    "    \"\"\"This is a docstring.\"\"\""
   ]
  },
  {
   "cell_type": "markdown",
   "id": "3a691f71",
   "metadata": {},
   "source": [
    "-   **Decorator**: You can use decorators to modify class behavior."
   ]
  },
  {
   "cell_type": "markdown",
   "id": "e9b53e0a",
   "metadata": {},
   "source": [
    "```python\n",
    "@my_decorator\n",
    "class MyClass:\n",
    "    pass\n",
    "```"
   ]
  },
  {
   "cell_type": "markdown",
   "id": "e6501286",
   "metadata": {},
   "source": [
    "-   **Slots**: Slots restrict the attributes a class can have."
   ]
  },
  {
   "cell_type": "code",
   "execution_count": null,
   "id": "b26c6474",
   "metadata": {},
   "outputs": [],
   "source": [
    "class MyClass:\n",
    "    __slots__ = (\"attr1\", \"attr2\")"
   ]
  },
  {
   "cell_type": "markdown",
   "id": "39000d7b",
   "metadata": {},
   "source": [
    "-   **Property**: Properties allow you to use methods as attributes."
   ]
  },
  {
   "cell_type": "code",
   "execution_count": null,
   "id": "ea8e6f8d",
   "metadata": {},
   "outputs": [],
   "source": [
    "class MyClass:\n",
    "    @property\n",
    "    def my_property(self):\n",
    "        return \"This is a property.\""
   ]
  },
  {
   "cell_type": "markdown",
   "id": "61ad4974",
   "metadata": {},
   "source": [
    "-   **Abstract Classes (abc module)**: Abstract classes define abstract methods that must be implemented by subclasses."
   ]
  },
  {
   "cell_type": "code",
   "execution_count": null,
   "id": "67f925c7",
   "metadata": {},
   "outputs": [],
   "source": [
    "from abc import ABC, abstractmethod\n",
    "class AbstractShape(ABC):\n",
    "    @abstractmethod\n",
    "    def area(self):\n",
    "        pass\n",
    "\n",
    "    @abstractmethod\n",
    "    def perimeter(self):\n",
    "        pass\n",
    "\n",
    "class Rectangle(AbstractShape):\n",
    "    def __init__(self, width, height):\n",
    "        self.width = width\n",
    "        self.height = height\n",
    "\n",
    "    def area(self):\n",
    "        return self.width * self.height\n",
    "\n",
    "    def perimeter(self):\n",
    "        return 2 * (self.width + self.height)\n",
    "\n",
    "# Instantiate the concrete class\n",
    "rect = Rectangle(4, 5)\n",
    "print(f\"Area: {rect.area()}\")  # Output: Area: 20\n",
    "print(f\"Perimeter: {rect.perimeter()}\")  # Output: Perimeter: 18"
   ]
  },
  {
   "cell_type": "code",
   "execution_count": null,
   "id": "2924c1d3",
   "metadata": {},
   "outputs": [],
   "source": [
    "from abc import ABC, abstractmethod\n",
    "class AbstractWithProperty(ABC):\n",
    "    @property\n",
    "    @abstractmethod\n",
    "    def abstract_property(self):\n",
    "        pass\n",
    "\n",
    "class ConcreteWithProperty(AbstractWithProperty):\n",
    "    @property\n",
    "    def abstract_property(self):\n",
    "        return \"Concrete property value\"\n",
    "\n",
    "# Instantiate the concrete class\n",
    "concrete = ConcreteWithProperty()\n",
    "print(concrete.abstract_property)  # Output: Concrete property value"
   ]
  },
  {
   "cell_type": "markdown",
   "id": "259d582e",
   "metadata": {
    "heading_collapsed": true
   },
   "source": [
    "#### Inheritance Analysis"
   ]
  },
  {
   "cell_type": "code",
   "execution_count": null,
   "id": "aacc9690",
   "metadata": {
    "hidden": true
   },
   "outputs": [],
   "source": [
    "import abc\n",
    "from abc import abstractmethod\n",
    "\n",
    "class Creature(abc.ABC):\n",
    "    \"\"\" defining abstract base classes\n",
    "    \"\"\"\n",
    "\n",
    "    @abstractmethod\n",
    "    def set_ssn(self, ssn):\n",
    "        pass\n",
    "\n",
    "class Mammal(Creature):\n",
    "    living_planet = ''\n",
    "    country = 'USA'\n",
    "    \n",
    "    def __init__(self, name: str, country='UK'):\n",
    "        self.name = name\n",
    "        country = country\n",
    "    \n",
    "    def set_country(self, country):\n",
    "        self.country = country\n",
    "\n",
    "    # Raise error if not defined since it's a abstract method.\n",
    "    def set_ssn(self, ssn):\n",
    "        self.ssn = ssn\n",
    "    \n",
    "    @classmethod\n",
    "    def set_planet(cls, planet):\n",
    "        '''\n",
    "        1) 'cls' is not a key word\n",
    "        2) using 'self' instead of 'cls' doesn't make any difference since neither of them \n",
    "           are key words as long as `@classmethod` is applied.\n",
    "        '''\n",
    "        cls.living_planet = planet\n",
    "        print(\"Class method called from Parent\")\n",
    "    \n",
    "    def __eq__(self, other):\n",
    "        return self.name == other.name and self.ssn == other.ssn"
   ]
  },
  {
   "cell_type": "code",
   "execution_count": null,
   "id": "83a12149",
   "metadata": {
    "hidden": true
   },
   "outputs": [],
   "source": [
    "m = Mammal('shah')"
   ]
  },
  {
   "cell_type": "code",
   "execution_count": null,
   "id": "e9e2a6b8",
   "metadata": {
    "hidden": true
   },
   "outputs": [],
   "source": [
    "m.set_planet('Earth')"
   ]
  },
  {
   "cell_type": "code",
   "execution_count": null,
   "id": "d9af0434",
   "metadata": {
    "hidden": true
   },
   "outputs": [],
   "source": [
    "m.living_planet, m.country"
   ]
  },
  {
   "cell_type": "code",
   "execution_count": null,
   "id": "c99ef6bf",
   "metadata": {
    "hidden": true
   },
   "outputs": [],
   "source": [
    "m1 = Mammal('Juan')\n",
    "m2 = Mammal('Orfeo')"
   ]
  },
  {
   "cell_type": "code",
   "execution_count": null,
   "id": "98600bfc",
   "metadata": {
    "hidden": true
   },
   "outputs": [],
   "source": [
    "m1.living_planet, Mammal.living_planet, m1.country"
   ]
  },
  {
   "cell_type": "code",
   "execution_count": null,
   "id": "d886dd12",
   "metadata": {
    "hidden": true
   },
   "outputs": [],
   "source": [
    "class Human(Mammal):\n",
    "    pass"
   ]
  },
  {
   "cell_type": "code",
   "execution_count": null,
   "id": "e93063ec",
   "metadata": {
    "hidden": true
   },
   "outputs": [],
   "source": [
    "h1 = Human('Juan', 1001)\n",
    "h1.country = \"Canada\""
   ]
  },
  {
   "cell_type": "code",
   "execution_count": null,
   "id": "016a3f89",
   "metadata": {
    "hidden": true
   },
   "outputs": [],
   "source": [
    "h1.living_planet, h1.country, Human.living_planet, Mammal.country"
   ]
  },
  {
   "cell_type": "code",
   "execution_count": null,
   "id": "59461159",
   "metadata": {
    "hidden": true
   },
   "outputs": [],
   "source": [
    "class Person(Human):\n",
    "\n",
    "    @staticmethod\n",
    "    def static_method():\n",
    "        print(\"Static method called from Parent\")\n",
    "\n",
    "class Child(Person):\n",
    "    def __init__(self, name, age):\n",
    "        super().__init__(name)  # Call parent class constructor\n",
    "        self.age = age"
   ]
  },
  {
   "cell_type": "code",
   "execution_count": null,
   "id": "dcc7d19b",
   "metadata": {
    "hidden": true
   },
   "outputs": [],
   "source": [
    "# Calling the class method and static method from the parent class directly\n",
    "Person.set_planet('Earth')  # Output: Class method called from Parent\n",
    "Child.static_method()  # Output: Static method called from Parent\n"
   ]
  },
  {
   "cell_type": "code",
   "execution_count": null,
   "id": "c6bb10d1",
   "metadata": {
    "hidden": true
   },
   "outputs": [],
   "source": []
  },
  {
   "cell_type": "code",
   "execution_count": null,
   "id": "186912d6",
   "metadata": {
    "hidden": true
   },
   "outputs": [],
   "source": []
  },
  {
   "cell_type": "markdown",
   "id": "ff3aad54",
   "metadata": {
    "heading_collapsed": true,
    "jp-MarkdownHeadingCollapsed": true
   },
   "source": [
    "#### `classmethod()` vs `staticmethod()` vs `abstractmethod()`"
   ]
  },
  {
   "cell_type": "markdown",
   "id": "d22c7426",
   "metadata": {
    "hidden": true
   },
   "source": [
    "- Everything in Python is an object or an instance. Classes, functions, and even simple data types, such as `int` and `float`, are also objects of some class in Python. Each class or object has a class from which it is instantiated. To get the class or the type of object, Python provides us with the <font color='red'>type(...)</font> function and <font color='red'> \\_\\_class\\_\\_ </font> property defined on the object itself.\n",
    "- <font color='orange'>The first argument of a method, passed explicitly in method definition, always refer to the instance of the class it's invoked upon; except, when `@classmethod` decorator is applied in which case it refer to the class itself.</font>\n",
    "- When `@staticmethod` decorator is applied to a method, the first argument of the method doesn't refer to the instances or the class. The method act as a regular function; it's kept inside the class in order to be only accessible through the class (`Human.my_func(...)`) because the operations it performs is logically related to that class somehow."
   ]
  },
  {
   "cell_type": "markdown",
   "id": "5aafe33a",
   "metadata": {
    "heading_collapsed": true,
    "hidden": true
   },
   "source": [
    "###### Classmethod: "
   ]
  },
  {
   "cell_type": "markdown",
   "id": "7d15e409",
   "metadata": {
    "hidden": true
   },
   "source": [
    "- The `classmethod()` decorator is used to define class methods, which are methods that operate on the class itself rather than instances of the class. Class methods receive the class itself as the first argument (cls by convention), rather than the instance (`self`)."
   ]
  },
  {
   "cell_type": "markdown",
   "id": "acef9800",
   "metadata": {
    "hidden": true
   },
   "source": [
    "- With classmethods, the class of the object instance is implicitly passed as the first argument instead of self.\n",
    "- <font color='orange'>If you define something to be a classmethod, it is probably because you intend to call it from the class rather than from a class instance</font>. `A.foo(1)` would have raised a TypeError, but `A.class_foo(1)` works just fine."
   ]
  },
  {
   "cell_type": "code",
   "execution_count": null,
   "id": "6828db54",
   "metadata": {
    "hidden": true
   },
   "outputs": [],
   "source": [
    "class MyClass:\n",
    "    @classmethod\n",
    "    def my_class_method(cls):\n",
    "        return \"Class method.\""
   ]
  },
  {
   "cell_type": "markdown",
   "id": "33aa0e37",
   "metadata": {
    "heading_collapsed": true,
    "hidden": true
   },
   "source": [
    "###### Staticmethod"
   ]
  },
  {
   "cell_type": "markdown",
   "id": "bb9a5d90",
   "metadata": {
    "hidden": true
   },
   "source": [
    "The `staticmethod()` decorator is used to define static methods, which are methods that do not operate on instances or class variables. They are similar to regular functions but are defined within a class for organization purposes."
   ]
  },
  {
   "cell_type": "markdown",
   "id": "118c7952",
   "metadata": {
    "hidden": true
   },
   "source": [
    "- With staticmethods, neither `self` (the object instance) nor `cls` (the class) is implicitly passed as the first argument. They behave like plain functions except that you can call them from an instance or the class:"
   ]
  },
  {
   "cell_type": "code",
   "execution_count": null,
   "id": "98156268",
   "metadata": {
    "hidden": true
   },
   "outputs": [],
   "source": [
    "class MyClass:\n",
    "    @staticmethod\n",
    "    def my_static_method():\n",
    "        return \"Static method.\""
   ]
  },
  {
   "cell_type": "markdown",
   "id": "30f338e7",
   "metadata": {
    "hidden": true
   },
   "source": [
    "###### Abstractmethod"
   ]
  },
  {
   "cell_type": "markdown",
   "id": "0b870cc8",
   "metadata": {
    "hidden": true
   },
   "source": [
    "The `abstractmethod()` decorator is used to define abstract methods within abstract base classes. Abstract methods are methods that must be implemented by concrete subclasses. Abstract base classes cannot be instantiated directly."
   ]
  },
  {
   "cell_type": "code",
   "execution_count": null,
   "id": "85c35488",
   "metadata": {
    "hidden": true
   },
   "outputs": [],
   "source": [
    "from abc import ABC, abstractmethod\n",
    "\n",
    "class Shape(ABC):\n",
    "    @abstractmethod\n",
    "    def area(self):\n",
    "        pass\n",
    "\n",
    "class Rectangle(Shape):\n",
    "    def __init__(self, length, width):\n",
    "        self.length = length\n",
    "        self.width = width\n",
    "\n",
    "    def area(self):\n",
    "        return self.length * self.width\n",
    "\n",
    "rect = Rectangle(5, 4)\n",
    "print(\"Area of rectangle:\", rect.area())  # Output: 20"
   ]
  },
  {
   "cell_type": "code",
   "execution_count": null,
   "id": "a7d97181",
   "metadata": {
    "hidden": true
   },
   "outputs": [],
   "source": [
    "class A(object):\n",
    "    def foo(self, x):\n",
    "        self.given_int = x\n",
    "        print(f\"executing foo({self}, {x})\")\n",
    "\n",
    "    @classmethod\n",
    "    def class_foo(cls, x):\n",
    "        print(f\"executing class_foo({cls}, {x})\")\n",
    "\n",
    "    @staticmethod\n",
    "    def static_foo(x):\n",
    "        print(f\"executing static_foo({x})\")"
   ]
  },
  {
   "cell_type": "code",
   "execution_count": null,
   "id": "a3a08fe9",
   "metadata": {
    "hidden": true
   },
   "outputs": [],
   "source": [
    "a = A()"
   ]
  },
  {
   "cell_type": "code",
   "execution_count": null,
   "id": "6f104c76",
   "metadata": {
    "hidden": true
   },
   "outputs": [],
   "source": [
    "a.foo(1) # executing foo(<__main__.A object at 0xb7dbef0c>, 1)"
   ]
  },
  {
   "cell_type": "code",
   "execution_count": null,
   "id": "faac540d",
   "metadata": {
    "hidden": true
   },
   "outputs": [],
   "source": [
    "a.class_foo(1) # executing class_foo(<class '__main__.A'>, 1)"
   ]
  },
  {
   "cell_type": "code",
   "execution_count": null,
   "id": "f22aae7b",
   "metadata": {
    "hidden": true
   },
   "outputs": [],
   "source": [
    "A.class_foo(1) # executing class_foo(<class '__main__.A'>, 1)"
   ]
  },
  {
   "cell_type": "code",
   "execution_count": null,
   "id": "dfc3165e",
   "metadata": {
    "hidden": true
   },
   "outputs": [],
   "source": [
    "a.static_foo(1) # executing static_foo(1)"
   ]
  },
  {
   "cell_type": "code",
   "execution_count": null,
   "id": "2939d41b",
   "metadata": {
    "hidden": true
   },
   "outputs": [],
   "source": [
    "A.static_foo('hi') # executing static_foo(hi)"
   ]
  },
  {
   "cell_type": "markdown",
   "id": "21864930",
   "metadata": {
    "hidden": true
   },
   "source": [
    "`foo` is just a function, but when you call `a.foo` you don't just get the function, you get a \"partially applied\" version of the function with the object instance a bound as the first argument to the function. `foo` expects 2 arguments, while `a.foo` only expects 1 argument.\n",
    "\n",
    "`a` is bound to `foo`. That is what it meant by the term \"bound\" below:\n",
    "\n"
   ]
  },
  {
   "cell_type": "code",
   "execution_count": null,
   "id": "79824d18",
   "metadata": {
    "hidden": true
   },
   "outputs": [],
   "source": [
    "print(a.foo) # <bound method A.foo of <__main__.A object at 0xb7d52f0c>>"
   ]
  },
  {
   "cell_type": "code",
   "execution_count": null,
   "id": "5b388df7",
   "metadata": {
    "hidden": true
   },
   "outputs": [],
   "source": [
    "print(a.class_foo) # <bound method type.class_foo of <class '__main__.A'>>"
   ]
  },
  {
   "cell_type": "markdown",
   "id": "bae58337",
   "metadata": {
    "hidden": true
   },
   "source": [
    "With a staticmethod, even though it is a method, `a.static_foo` just returns a good 'ole function with no arguments bound. `static_foo` expects 1 argument, and `a.static_foo` expects 1 argument too."
   ]
  },
  {
   "cell_type": "code",
   "execution_count": null,
   "id": "55add879",
   "metadata": {
    "hidden": true
   },
   "outputs": [],
   "source": [
    "print(a.static_foo) # <function static_foo at 0xb7d479cc>"
   ]
  },
  {
   "cell_type": "markdown",
   "id": "e7dc6929",
   "metadata": {
    "hidden": true
   },
   "source": [
    "And of course the same thing happens when you call `static_foo` with the class `A` instead."
   ]
  },
  {
   "cell_type": "code",
   "execution_count": null,
   "id": "8a8d656e",
   "metadata": {
    "hidden": true
   },
   "outputs": [],
   "source": [
    "print(A.static_foo) # <function static_foo at 0xb7d479cc>"
   ]
  },
  {
   "cell_type": "code",
   "execution_count": null,
   "id": "c3780edd",
   "metadata": {
    "hidden": true
   },
   "outputs": [],
   "source": []
  },
  {
   "cell_type": "markdown",
   "id": "5f5af450",
   "metadata": {
    "jp-MarkdownHeadingCollapsed": true
   },
   "source": [
    "#### Special Function"
   ]
  },
  {
   "cell_type": "markdown",
   "id": "41f147ea",
   "metadata": {
    "heading_collapsed": true
   },
   "source": [
    "##### [\\_\\_new\\_\\_ vs \\_\\_init\\_\\_](https://www.youtube.com/watch?v=-zsV0_QrfTw)"
   ]
  },
  {
   "cell_type": "markdown",
   "id": "c665d080",
   "metadata": {
    "hidden": true
   },
   "source": [
    "In Python, `__new__()` and `__init__()` are two special methods used for object creation and initialization. They play different roles in the process of instantiating a new object.\n",
    "\n",
    "- `__new__()`:\n",
    "    -   `Purpose`: `__new__()` is responsible for creating a new instance of a class.\n",
    "    -   `Usage`: It's called before `__init__()` and is responsible for returning a new instance of the class. If `__new__()` returns an instance of the class, then `__init__()` will be called to initialize the instance.\n",
    "    -   `Signature`: `__new__(cls, *args, **kwargs)` where `cls` is the class itself and *args, **kwargs are arguments passed to the constructor.\n",
    "    -   `Return`: It must return an instance of the class. If it returns something other than an instance of the class, then `__init__()` will not be called.\n",
    "\n",
    "- `__init__()`:\n",
    "    -   `Purpose`: `__init__()` is responsible for initializing an instance of a class.\n",
    "    -   `Usage`: It's called after `__new__()` and is used to set up the initial state of the object. It doesn't return anything; it just modifies the instance.\n",
    "    -   `Signature`: `__init__(self, *args, **kwargs)` where `self` is the instance of the class and *args, **kwargs are arguments passed to the constructor.\n",
    "    -   `Return`: It returns None. Its purpose is to initialize the state of the object."
   ]
  },
  {
   "cell_type": "code",
   "execution_count": null,
   "id": "b505fce1",
   "metadata": {
    "hidden": true
   },
   "outputs": [],
   "source": [
    "class MyClass:\n",
    "    def __new__(cls, *args, **kwargs):\n",
    "        print(\"Creating instance\")\n",
    "        instance = super().__new__(cls)\n",
    "        return instance\n",
    "\n",
    "    def __init__(self, value):\n",
    "        print(\"Initializing instance\")\n",
    "        self.value = value\n",
    "\n",
    "# Instantiating the class\n",
    "obj = MyClass(10)\n",
    "\n",
    "# Output:\n",
    "# Creating instance\n",
    "# Initializing instance\n",
    "\n",
    "print(obj.value)  # Output: 10\n"
   ]
  },
  {
   "cell_type": "code",
   "execution_count": null,
   "id": "1a34c7d2",
   "metadata": {
    "hidden": true
   },
   "outputs": [],
   "source": [
    "class Person():\n",
    "    def __init__(self, name: str, ssn:int):\n",
    "        self.name = name\n",
    "        self.ssn = ssn\n",
    "#     def __eq__(self, other):\n",
    "#         return self.name == other.name and self.ssn == other.ssn"
   ]
  },
  {
   "cell_type": "code",
   "execution_count": null,
   "id": "1c6dbb01",
   "metadata": {
    "hidden": true
   },
   "outputs": [],
   "source": [
    "p1 = Person('James', 1000)\n",
    "p2 = Person('Jim', 2000)\n",
    "p3 = Person('Jim', 2000)"
   ]
  },
  {
   "cell_type": "code",
   "execution_count": null,
   "id": "7d861c75",
   "metadata": {
    "hidden": true
   },
   "outputs": [],
   "source": [
    "# dir(Person)"
   ]
  },
  {
   "cell_type": "code",
   "execution_count": null,
   "id": "0a18a3b1",
   "metadata": {
    "hidden": true
   },
   "outputs": [],
   "source": [
    "print(Person.__dict__)"
   ]
  },
  {
   "cell_type": "code",
   "execution_count": null,
   "id": "a84d7fba",
   "metadata": {
    "hidden": true
   },
   "outputs": [],
   "source": [
    "print(p1 == p2); print(p1 is p2); print(p1.__eq__(p2))"
   ]
  },
  {
   "cell_type": "code",
   "execution_count": null,
   "id": "5a0ec8b4",
   "metadata": {
    "hidden": true
   },
   "outputs": [],
   "source": [
    "print(p2 == p3); print(p2 is p3); print(p2.__eq__(p3))"
   ]
  },
  {
   "cell_type": "markdown",
   "id": "66d1efb0",
   "metadata": {
    "heading_collapsed": true
   },
   "source": [
    "##### `__setstate__`, `__getstate__` and `__dict__`:"
   ]
  },
  {
   "cell_type": "markdown",
   "id": "d1f31cee",
   "metadata": {},
   "source": [
    "\n",
    "[Simple example of use of __setstate__ and __getstate__\n",
    "](https://stackoverflow.com/questions/1939058/simple-example-of-use-of-setstate-and-getstate)"
   ]
  },
  {
   "cell_type": "markdown",
   "id": "3f702acc",
   "metadata": {
    "heading_collapsed": true
   },
   "source": [
    "##### `__call__`:  Enables the instance to be called as a function.\n"
   ]
  },
  {
   "cell_type": "code",
   "execution_count": null,
   "id": "4fe6396f",
   "metadata": {
    "hidden": true
   },
   "outputs": [],
   "source": [
    "class Multiplier:\n",
    "    def __init__(self, factor):\n",
    "        self.factor = factor\n",
    "\n",
    "    def __call__(self, value):\n",
    "        return value * self.factor"
   ]
  },
  {
   "cell_type": "code",
   "execution_count": null,
   "id": "774df6d3",
   "metadata": {},
   "outputs": [],
   "source": [
    "\n",
    "# Creating an instance of Multiplier\n",
    "double = Multiplier(2)\n",
    "triple = Multiplier(3)\n",
    "\n",
    "# Calling the instance like a function\n",
    "print(double(10))  # Output: 20\n",
    "print(triple(10))  # Output: 30\n"
   ]
  },
  {
   "cell_type": "markdown",
   "id": "c48e1960",
   "metadata": {
    "heading_collapsed": true
   },
   "source": [
    "##### `__annotations__`:"
   ]
  },
  {
   "cell_type": "code",
   "execution_count": 6,
   "id": "e80ffb9f",
   "metadata": {
    "hidden": true
   },
   "outputs": [],
   "source": [
    "def f(ham: str, eggs: str = 'eggs') -> str:\n",
    "    print(\"Annotations:\", f.__annotations__)\n",
    "    print(\"Arguments:\", ham, eggs)\n",
    "    return ham + ' and ' + eggs"
   ]
  },
  {
   "cell_type": "code",
   "execution_count": 7,
   "id": "f79aef69",
   "metadata": {
    "hidden": true
   },
   "outputs": [
    {
     "name": "stdout",
     "output_type": "stream",
     "text": [
      "Annotations: {'ham': <class 'str'>, 'eggs': <class 'str'>, 'return': <class 'str'>}\n",
      "Arguments: spam eggs\n"
     ]
    },
    {
     "data": {
      "text/plain": [
       "'spam and eggs'"
      ]
     },
     "execution_count": 7,
     "metadata": {},
     "output_type": "execute_result"
    }
   ],
   "source": [
    "f('spam')"
   ]
  },
  {
   "cell_type": "markdown",
   "id": "42d7283a",
   "metadata": {
    "heading_collapsed": true
   },
   "source": [
    "##### `__slots__` and `__weakref__`"
   ]
  },
  {
   "cell_type": "markdown",
   "id": "8ef71392",
   "metadata": {
    "hidden": true
   },
   "source": [
    "The `__weakref__` attribute in Python is a special attribute of objects that supports weak references. Weak references are references to an object that do not prevent the object from being garbage collected. \n",
    "\n",
    "- What are Weak References?\n",
    "\n",
    "In Python, when you create a reference to an object, it increases the reference count of that object. The object will not be garbage collected as long as there is at least one strong reference to it. However, there are scenarios where you might want to reference an object without preventing its garbage collection. This is where weak references come in.\n",
    "\n",
    "- `__weakref__`: The `__weakref__` attribute is a list of weak references to the object. It is automatically managed by Python's garbage collector. Here are some key points:\n",
    "\n",
    "    - **Presence**: The `__weakref__` attribute is present in an instance of a class if the class is defined with a `__slots__` attribute that includes `__weakref__`, or if the class does not define `__slots__` at all. \n",
    "    - **Purpose**: It allows weak references to the object. These weak references do not increase the reference count of the object, allowing it to be garbage collected if there are no strong references to it.\n",
    "    - **Use Case**: It is useful in caching and other applications where you want to keep a reference to an object without preventing its collection.\n",
    "\n",
    "- Example Usage\n",
    "\n",
    "Here is a simple example demonstrating the use of weak references and the `__weakref__` attribute:\n",
    "\n",
    "```python\n",
    "import weakref\n",
    "\n",
    "class MyClass:\n",
    "    pass\n",
    "\n",
    "obj = MyClass()\n",
    "weak_ref = weakref.ref(obj)\n",
    "\n",
    "print(weak_ref())  # Outputs: <__main__.MyClass object at 0x...>\n",
    "print(obj.__weakref__)  # Outputs: <weakref at 0x...; to 'MyClass' at 0x...>\n",
    "\n",
    "# Deleting the strong reference\n",
    "del obj\n",
    "\n",
    "print(weak_ref())  # Outputs: None (obj has been garbage collected)\n",
    "```\n",
    "\n",
    "- `__slots__` and `__weakref__`\n",
    "\n",
    "If you use `__slots__` to save memory by preventing the creation of `__dict__` and `__weakref__` by default, you can still enable weak references by explicitly including `__weakref__` in `__slots__`:\n",
    "\n",
    "```python\n",
    "class MyClassWithSlots:\n",
    "    __slots__ = ['attr1', '__weakref__']\n",
    "\n",
    "    def __init__(self, attr1):\n",
    "        self.attr1 = attr1\n",
    "\n",
    "obj_with_slots = MyClassWithSlots('value')\n",
    "weak_ref_with_slots = weakref.ref(obj_with_slots)\n",
    "\n",
    "print(weak_ref_with_slots())  # Outputs: <__main__.MyClassWithSlots object at 0x...>\n",
    "print(obj_with_slots.__weakref__)  # Outputs: <weakref at 0x...; to 'MyClassWithSlots' at 0x...>\n",
    "```\n",
    "\n",
    "- **Summary**\n",
    "\n",
    "    - The `__weakref__` attribute supports weak references to an object.\n",
    "    - Weak references allow referencing an object without preventing its garbage collection.\n",
    "    - It is automatically present unless explicitly removed using `__slots__` without `__weakref__`.\n",
    "    - Useful for caching and other memory-efficient applications."
   ]
  },
  {
   "cell_type": "markdown",
   "id": "2c1ffa1d",
   "metadata": {
    "heading_collapsed": true,
    "jp-MarkdownHeadingCollapsed": true
   },
   "source": [
    "#### Class and Private Attributes and Name Mangling"
   ]
  },
  {
   "cell_type": "code",
   "execution_count": null,
   "id": "7843308b",
   "metadata": {
    "hidden": true
   },
   "outputs": [],
   "source": [
    "class MyClass:\n",
    "    __class_attr = None\n",
    "    def __init__(self):\n",
    "        self._private_var_1 = 42\n",
    "        self.__private_var_2 = 420"
   ]
  },
  {
   "cell_type": "code",
   "execution_count": null,
   "id": "29e984ee",
   "metadata": {
    "hidden": true
   },
   "outputs": [],
   "source": [
    "obj = MyClass()\n",
    "# Attempting to access obj.__my_private_variable will result in an AttributeError."
   ]
  },
  {
   "cell_type": "code",
   "execution_count": null,
   "id": "50b427d6",
   "metadata": {
    "hidden": true
   },
   "outputs": [],
   "source": [
    "print(obj._private_var_1)\n",
    "print(obj._MyClass__private_var_2)  # Accesses the name-mangled attribute."
   ]
  },
  {
   "cell_type": "code",
   "execution_count": null,
   "id": "2318fe82",
   "metadata": {
    "hidden": true
   },
   "outputs": [],
   "source": [
    "print(obj._MyClass__class_attr)"
   ]
  },
  {
   "cell_type": "code",
   "execution_count": null,
   "id": "84416a6a",
   "metadata": {
    "hidden": true
   },
   "outputs": [],
   "source": [
    "print(MyClass._MyClass__class_attr)"
   ]
  },
  {
   "cell_type": "markdown",
   "id": "2bd0448e",
   "metadata": {
    "hidden": true
   },
   "source": [
    "##### Name Mangling for \"Private\" Class Attributes"
   ]
  },
  {
   "cell_type": "markdown",
   "id": "c589ecc0",
   "metadata": {
    "hidden": true
   },
   "source": [
    "Name mangling in Python can be used to make attributes private to a class. This is done by prefixing the attribute name with two underscores (`__`)."
   ]
  },
  {
   "cell_type": "code",
   "execution_count": null,
   "id": "783e5f98",
   "metadata": {
    "hidden": true
   },
   "outputs": [],
   "source": [
    "class MyClass:\n",
    "    __private_class_attribute = \"I am a private class attribute\"\n",
    "\n",
    "    @classmethod\n",
    "    def get_private_class_attribute(cls):\n",
    "        return cls.__private_class_attribute\n",
    "\n",
    "    @classmethod\n",
    "    def set_private_class_attribute(cls, value):\n",
    "        cls.__private_class_attribute = value"
   ]
  },
  {
   "cell_type": "code",
   "execution_count": null,
   "id": "6a39f460",
   "metadata": {
    "hidden": true
   },
   "outputs": [],
   "source": [
    "# Accessing private class attribute using class method\n",
    "print(MyClass.get_private_class_attribute())  # Output: I am a private class attribute\n",
    "\n",
    "# Modifying private class attribute using class method\n",
    "MyClass.set_private_class_attribute(\"Private class attribute modified\")\n",
    "print(MyClass.get_private_class_attribute())  # Output: Private class attribute modified\n",
    "\n",
    "# Attempting to access private class attribute directly will raise an AttributeError\n",
    "# print(MyClass.__private_class_attribute)  # Uncommenting this will raise an AttributeError\n",
    "\n",
    "# Accessing private class attribute directly using name mangling\n",
    "print(MyClass._MyClass__private_class_attribute)  # Output: Private class attribute modified"
   ]
  },
  {
   "cell_type": "markdown",
   "id": "a2b396f5",
   "metadata": {
    "hidden": true
   },
   "source": [
    "1. **Defining a Private Class Attribute**: The line `__private_class_attribute = \"I am a private class attribute\"` defines a class attribute with name mangling. The attribute name is prefixed with two underscores to indicate that it is intended to be private.\n",
    "  \n",
    "2. **Accessing Private Class Attribute Using Class Methods**: \n",
    "   - The `get_private_class_attribute` class method returns the value of the private class attribute.\n",
    "   - The `set_private_class_attribute` class method sets a new value for the private class attribute.\n",
    "\n",
    "3. **Direct Access Using Name Mangling**: Even though the attribute is intended to be private, it can still be accessed using the mangled name (`_MyClass__private_class_attribute`).\n",
    "\n",
    "4. **Attempting Direct Access Without Name Mangling**: Uncommenting `print(MyClass.__private_class_attribute)` will raise an `AttributeError` because the attribute name has been mangled."
   ]
  },
  {
   "cell_type": "markdown",
   "id": "df64a693",
   "metadata": {
    "heading_collapsed": true,
    "jp-MarkdownHeadingCollapsed": true
   },
   "source": [
    "#### Variable Overloading (`global`)"
   ]
  },
  {
   "cell_type": "code",
   "execution_count": 12,
   "id": "965934d0",
   "metadata": {
    "hidden": true
   },
   "outputs": [],
   "source": [
    "# Define a global variable\n",
    "my_global_variable = 0\n",
    "my_global_variable_2 = 10"
   ]
  },
  {
   "cell_type": "code",
   "execution_count": 13,
   "id": "63d6c7e1",
   "metadata": {
    "hidden": true
   },
   "outputs": [],
   "source": [
    "def update_global_variable():\n",
    "    global my_global_variable  # Declare the variable as global\n",
    "    my_global_variable += 1\n",
    "    # my_global_variable_2 += 100 # UnboundLocalError: local variable 'my_global_variable_2' referenced before assignment\n",
    "    global my_global_var # define a global variable\n",
    "    my_global_var = 40"
   ]
  },
  {
   "cell_type": "code",
   "execution_count": 14,
   "id": "5b3f5334",
   "metadata": {
    "hidden": true
   },
   "outputs": [
    {
     "name": "stdout",
     "output_type": "stream",
     "text": [
      "40 1\n"
     ]
    }
   ],
   "source": [
    "# Call the function to update the global variable\n",
    "update_global_variable()\n",
    "print(my_global_var, my_global_variable)"
   ]
  },
  {
   "cell_type": "code",
   "execution_count": 19,
   "id": "3f18e991",
   "metadata": {},
   "outputs": [],
   "source": [
    "def outer_func():\n",
    "    outer_var = 5\n",
    "\n",
    "    def nested_func():\n",
    "        outer_var += 5\n",
    "\n",
    "        global nested_var\n",
    "        nested_var = 10\n",
    "    print(f\"OUTER_VAR: {outer_var}\")"
   ]
  },
  {
   "cell_type": "code",
   "execution_count": 24,
   "id": "86891878",
   "metadata": {},
   "outputs": [
    {
     "name": "stdout",
     "output_type": "stream",
     "text": [
      "OUTER_VAR: 5\n"
     ]
    }
   ],
   "source": [
    "outer_func()\n",
    "# print(outer_var)  # NameError: name 'outer_var' is not defined\n",
    "# print(nested_var)   # NameError: name 'nested_var' is not defined"
   ]
  },
  {
   "cell_type": "code",
   "execution_count": 26,
   "id": "8a51f448",
   "metadata": {
    "hidden": true
   },
   "outputs": [],
   "source": [
    "def check_namespace():\n",
    "    # Define a variable in the local (function) namespace\n",
    "    local_var = \"I am in the local (function) namespace\"\n",
    "\n",
    "    # Use globals() to get a list of names in the global namespace\n",
    "    global_namespace = list(globals().keys())\n",
    "\n",
    "    # Use locals() to get a list of names in the global namespace\n",
    "    local_namespace = list(locals().keys())\n",
    "\n",
    "    # Use dir(__builtins__) to get a list of names in the built-in namespace\n",
    "    built_in_namespace = dir(__builtins__)\n",
    "\n",
    "    # Print the names in the local, global, and built-in namespaces\n",
    "    print(\"Local Namespace:\")\n",
    "    print(dir())\n",
    "\n",
    "    print(\"Local Namespace:\")\n",
    "    print(local_namespace)\n",
    "\n",
    "    print(\"\\nGlobal Namespace:\")\n",
    "    print(global_namespace)\n",
    "\n",
    "    print(\"\\nBuilt-in Namespace:\")\n",
    "    print(built_in_namespace)"
   ]
  },
  {
   "cell_type": "code",
   "execution_count": 27,
   "id": "2feb976d",
   "metadata": {},
   "outputs": [
    {
     "name": "stdout",
     "output_type": "stream",
     "text": [
      "Local Namespace:\n",
      "['built_in_namespace', 'global_namespace', 'local_namespace', 'local_var']\n",
      "Local Namespace:\n",
      "['local_var', 'global_namespace']\n",
      "\n",
      "Global Namespace:\n",
      "['__name__', '__doc__', '__package__', '__loader__', '__spec__', '__builtin__', '__builtins__', '_ih', '_oh', '_dh', 'In', 'Out', 'get_ipython', 'exit', 'quit', 'open', '_', '__', '___', '__vsc_ipynb_file__', '_i', '_ii', '_iii', '_i1', '_i2', 'ABC', '_i3', 'abstractmethod', 'AbstractShape', 'Rectangle', 'rect', '_i4', 'Multiplier', '_i5', 'double', 'triple', '_i6', 'f', '_i7', '_7', '_i8', 'my_global_variable', 'my_global_variable_2', '_i9', 'update_global_variable', '_i10', 'my_global_var', '_i11', '_i12', '_i13', '_i14', '_i15', 'outer_func', '_i16', '_i17', '_i18', '_i19', '_i20', '_i21', '_i22', '_i23', '_i24', '_i25', '_i26', 'check_namespace', '_i27']\n",
      "\n",
      "Built-in Namespace:\n",
      "['ArithmeticError', 'AssertionError', 'AttributeError', 'BaseException', 'BlockingIOError', 'BrokenPipeError', 'BufferError', 'BytesWarning', 'ChildProcessError', 'ConnectionAbortedError', 'ConnectionError', 'ConnectionRefusedError', 'ConnectionResetError', 'DeprecationWarning', 'EOFError', 'Ellipsis', 'EnvironmentError', 'Exception', 'False', 'FileExistsError', 'FileNotFoundError', 'FloatingPointError', 'FutureWarning', 'GeneratorExit', 'IOError', 'ImportError', 'ImportWarning', 'IndentationError', 'IndexError', 'InterruptedError', 'IsADirectoryError', 'KeyError', 'KeyboardInterrupt', 'LookupError', 'MemoryError', 'ModuleNotFoundError', 'NameError', 'None', 'NotADirectoryError', 'NotImplemented', 'NotImplementedError', 'OSError', 'OverflowError', 'PendingDeprecationWarning', 'PermissionError', 'ProcessLookupError', 'RecursionError', 'ReferenceError', 'ResourceWarning', 'RuntimeError', 'RuntimeWarning', 'StopAsyncIteration', 'StopIteration', 'SyntaxError', 'SyntaxWarning', 'SystemError', 'SystemExit', 'TabError', 'TimeoutError', 'True', 'TypeError', 'UnboundLocalError', 'UnicodeDecodeError', 'UnicodeEncodeError', 'UnicodeError', 'UnicodeTranslateError', 'UnicodeWarning', 'UserWarning', 'ValueError', 'Warning', 'ZeroDivisionError', '__IPYTHON__', '__build_class__', '__debug__', '__doc__', '__import__', '__loader__', '__name__', '__package__', '__spec__', 'abs', 'all', 'any', 'ascii', 'bin', 'bool', 'breakpoint', 'bytearray', 'bytes', 'callable', 'chr', 'classmethod', 'compile', 'complex', 'copyright', 'credits', 'delattr', 'dict', 'dir', 'display', 'divmod', 'enumerate', 'eval', 'exec', 'execfile', 'filter', 'float', 'format', 'frozenset', 'get_ipython', 'getattr', 'globals', 'hasattr', 'hash', 'help', 'hex', 'id', 'input', 'int', 'isinstance', 'issubclass', 'iter', 'len', 'license', 'list', 'locals', 'map', 'max', 'memoryview', 'min', 'next', 'object', 'oct', 'open', 'ord', 'pow', 'print', 'property', 'range', 'repr', 'reversed', 'round', 'runfile', 'set', 'setattr', 'slice', 'sorted', 'staticmethod', 'str', 'sum', 'super', 'tuple', 'type', 'vars', 'zip']\n"
     ]
    }
   ],
   "source": [
    "# Call the function to check namespaces\n",
    "check_namespace()"
   ]
  },
  {
   "cell_type": "markdown",
   "id": "1073ae57",
   "metadata": {
    "heading_collapsed": true,
    "jp-MarkdownHeadingCollapsed": true
   },
   "source": [
    "#### Class Hierarchy Analysis"
   ]
  },
  {
   "cell_type": "markdown",
   "id": "89ac1107",
   "metadata": {
    "hidden": true
   },
   "source": [
    "- [Data Model](https://docs.python.org/3/reference/datamodel.html)"
   ]
  },
  {
   "cell_type": "code",
   "execution_count": null,
   "id": "5e63ceb9",
   "metadata": {
    "hidden": true
   },
   "outputs": [],
   "source": [
    "integer = 5\n",
    "s = Human('shah', 1000)\n",
    "o = object()"
   ]
  },
  {
   "cell_type": "code",
   "execution_count": null,
   "id": "5c30a0c3",
   "metadata": {
    "hidden": true
   },
   "outputs": [],
   "source": [
    "type(integer), integer.__class__, type(square), square.__class__, type(s), s.__class__"
   ]
  },
  {
   "cell_type": "code",
   "execution_count": null,
   "id": "e842dec4",
   "metadata": {
    "hidden": true
   },
   "outputs": [],
   "source": [
    "type(o), o.__class__, type(object), isinstance(object, type), isinstance(Human, type)"
   ]
  },
  {
   "cell_type": "markdown",
   "id": "927fcd07",
   "metadata": {
    "hidden": true
   },
   "source": [
    "The Human class and every other class in Python are objects (instance) of the class <font color='magenta'>type</font>. This type is a class and is different from the <font color='red'>type(...)</font> function that returns the type of object. The type class, from which all the classes are created, is called the **Metaclass** in Python."
   ]
  },
  {
   "cell_type": "code",
   "execution_count": null,
   "id": "0a0f4f5d",
   "metadata": {
    "hidden": true
   },
   "outputs": [],
   "source": [
    "isinstance(integer, object), isinstance(integer, int), isinstance(int, object), isinstance(s, object), isinstance(type, object)"
   ]
  },
  {
   "cell_type": "code",
   "execution_count": null,
   "id": "f4ad0e0a",
   "metadata": {
    "hidden": true
   },
   "outputs": [],
   "source": [
    "# dir(object)"
   ]
  },
  {
   "cell_type": "code",
   "execution_count": null,
   "id": "686b2cd6",
   "metadata": {
    "hidden": true
   },
   "outputs": [],
   "source": [
    "# help(object)"
   ]
  },
  {
   "cell_type": "code",
   "execution_count": null,
   "id": "72d0c8c3",
   "metadata": {
    "hidden": true
   },
   "outputs": [],
   "source": []
  },
  {
   "cell_type": "code",
   "execution_count": null,
   "id": "3bb8cfd8",
   "metadata": {
    "hidden": true
   },
   "outputs": [],
   "source": []
  },
  {
   "cell_type": "markdown",
   "id": "b44a4dfb",
   "metadata": {
    "heading_collapsed": true,
    "jp-MarkdownHeadingCollapsed": true
   },
   "source": [
    "#### Metaclasses"
   ]
  },
  {
   "cell_type": "markdown",
   "id": "e324ce4a",
   "metadata": {
    "hidden": true
   },
   "source": [
    "- [Metaclasses & How Classes Really Work](https://www.youtube.com/watch?v=NAQEj-c2CI8)\n",
    "- [Understanding Object Instantiation and Metaclasses in Python](https://www.honeybadger.io/blog/python-instantiation-metaclass/#:~:text=We%20can%20also%20use%20the,which%20the%20object%20was%20created.&text=The%20above%20code%20creates%20an%20instance%20human_obj%20of%20the%20Human%20class.)\n",
    "- [RealPyhon(Youtube): Metaclasses in Python](https://www.youtube.com/watch?v=yWzMiaqnpkI)\n",
    "    - [RealPyhon: Python Metaclasses](https://realpython.com/python-metaclasses/)"
   ]
  },
  {
   "cell_type": "markdown",
   "id": "fc0721de",
   "metadata": {
    "hidden": true
   },
   "source": [
    "Metaclasses in Python are a concept that allows you to customize the behavior of classes. In Python, everything is an object, including classes. A metaclass is a class of a class. It defines how a class behaves, just like a class defines how an instance of that class behaves.\n",
    "\n",
    "-   **Metaclass Definition**:\n",
    "    -   A metaclass is a class whose instances are classes.\n",
    "    -   In Python, the default metaclass is `type`.\n",
    "\n",
    "-   **Metaclass Usage**:\n",
    "    -   You can specify a metaclass for a class by setting the metaclass attribute in the class definition.\n",
    "    -   The metaclass can customize the creation and behavior of instances of the class."
   ]
  },
  {
   "cell_type": "code",
   "execution_count": null,
   "id": "8c8905cb",
   "metadata": {
    "hidden": true
   },
   "outputs": [],
   "source": [
    "class AttributeEnforcer(type):\n",
    "    def __new__(cls, name, bases, dct):\n",
    "        print(\"Creating class:\", name)\n",
    "        dct['created_by'] = 'AttributeEnforcer'\n",
    "        if 'required_attribute' not in dct:\n",
    "            raise TypeError(f\"{name} is missing the required 'required_attribute' attribute\")\n",
    "        return super().__new__(cls, name, bases, dct)"
   ]
  },
  {
   "cell_type": "code",
   "execution_count": null,
   "id": "cfe4ee8d",
   "metadata": {
    "hidden": true
   },
   "outputs": [],
   "source": [
    "# Use the metaclass to create a new class\n",
    "class MyClassEnforced(metaclass=AttributeEnforcer):\n",
    "    required_attribute = \"This is required\""
   ]
  },
  {
   "cell_type": "code",
   "execution_count": null,
   "id": "cdbc3371",
   "metadata": {
    "hidden": true
   },
   "outputs": [],
   "source": [
    "clsa = MyClassEnforced()"
   ]
  },
  {
   "cell_type": "markdown",
   "id": "b464ad09",
   "metadata": {
    "hidden": true
   },
   "source": [
    "```python\n",
    "# This will raise an error\n",
    "class MyInvalidClass(metaclass=AttributeEnforcer):\n",
    "    pass  # Missing 'required_attribute'\n",
    "```"
   ]
  },
  {
   "cell_type": "code",
   "execution_count": null,
   "id": "59709bb6",
   "metadata": {
    "hidden": true
   },
   "outputs": [],
   "source": [
    "# Step 1: Define the class name, base classes, and attributes/methods\n",
    "class_name = \"Person\"\n",
    "base_classes = (object,)  # Using `object` as the base class\n",
    "\n",
    "# Define the class attributes and methods, including __init__\n",
    "class_attributes = {\n",
    "    '__init__': lambda self, name, age: setattr(self, 'name', name) or setattr(self, 'age', age),\n",
    "    'greet': lambda self: f'Hello, my name is {self.name} and I am {self.age} years old.'\n",
    "}\n",
    "\n",
    "# Step 2: Create the class dynamically using `type()`\n",
    "Person = type(class_name, base_classes, class_attributes)\n",
    "\n",
    "# Step 3: Instantiate the class and access attributes/methods\n",
    "person1 = Person(\"Alice\", 30)\n",
    "person2 = Person(\"Bob\", 40)\n",
    "\n",
    "print(person1.name)       # Output: Alice\n",
    "print(person2.age)        # Output: 40\n",
    "print(person1.greet())    # Output: Hello, my name is Alice and I am 30 years old."
   ]
  },
  {
   "cell_type": "code",
   "execution_count": null,
   "id": "45897d9f",
   "metadata": {
    "hidden": true
   },
   "outputs": [],
   "source": []
  },
  {
   "cell_type": "markdown",
   "id": "5ca6d96b",
   "metadata": {
    "heading_collapsed": true,
    "jp-MarkdownHeadingCollapsed": true
   },
   "source": [
    "#### Python Builtin Classes Hierarchy:"
   ]
  },
  {
   "cell_type": "code",
   "execution_count": null,
   "id": "6db36de1",
   "metadata": {
    "hidden": true
   },
   "outputs": [],
   "source": [
    "# dir(__builtins__)"
   ]
  },
  {
   "cell_type": "code",
   "execution_count": null,
   "id": "bd7c76bc",
   "metadata": {
    "hidden": true
   },
   "outputs": [],
   "source": [
    "# help(__builtins__)"
   ]
  },
  {
   "cell_type": "markdown",
   "id": "63ec9f58",
   "metadata": {
    "hidden": true
   },
   "source": [
    "```python\n",
    "object\n",
    "    BaseException\n",
    "        Exception\n",
    "            ArithmeticError\n",
    "                FloatingPointError\n",
    "                OverflowError\n",
    "                ZeroDivisionError\n",
    "            AssertionError\n",
    "            AttributeError\n",
    "            BufferError\n",
    "            EOFError\n",
    "            ImportError\n",
    "                ModuleNotFoundError\n",
    "            LookupError\n",
    "                IndexError\n",
    "                KeyError\n",
    "            MemoryError\n",
    "            NameError\n",
    "                UnboundLocalError\n",
    "            OSError\n",
    "                BlockingIOError\n",
    "                ChildProcessError\n",
    "                ConnectionError\n",
    "                    BrokenPipeError\n",
    "                    ConnectionAbortedError\n",
    "                    ConnectionRefusedError\n",
    "                    ConnectionResetError\n",
    "                FileExistsError\n",
    "                FileNotFoundError\n",
    "                InterruptedError\n",
    "                IsADirectoryError\n",
    "                NotADirectoryError\n",
    "                PermissionError\n",
    "                ProcessLookupError\n",
    "                TimeoutError\n",
    "            ReferenceError\n",
    "            RuntimeError\n",
    "                NotImplementedError\n",
    "                RecursionError\n",
    "            StopAsyncIteration\n",
    "            StopIteration\n",
    "            SyntaxError\n",
    "                IndentationError\n",
    "                    TabError\n",
    "            SystemError\n",
    "            TypeError\n",
    "            ValueError\n",
    "                UnicodeError\n",
    "                    UnicodeDecodeError\n",
    "                    UnicodeEncodeError\n",
    "                    UnicodeTranslateError\n",
    "            Warning\n",
    "                BytesWarning\n",
    "                DeprecationWarning\n",
    "                FutureWarning\n",
    "                ImportWarning\n",
    "                PendingDeprecationWarning\n",
    "                ResourceWarning\n",
    "                RuntimeWarning\n",
    "                SyntaxWarning\n",
    "                UnicodeWarning\n",
    "                UserWarning\n",
    "        GeneratorExit\n",
    "        KeyboardInterrupt\n",
    "        SystemExit\n",
    "    bytearray\n",
    "    bytes\n",
    "    classmethod\n",
    "    complex\n",
    "    dict\n",
    "    enumerate\n",
    "    filter\n",
    "    float\n",
    "    frozenset\n",
    "    int\n",
    "        bool\n",
    "    list\n",
    "    map\n",
    "    memoryview\n",
    "    property\n",
    "    range\n",
    "    reversed\n",
    "    set\n",
    "    slice\n",
    "    staticmethod\n",
    "    str\n",
    "    super\n",
    "    tuple\n",
    "    type\n",
    "    zip\n",
    "```"
   ]
  },
  {
   "cell_type": "code",
   "execution_count": null,
   "id": "63c0b8b1",
   "metadata": {
    "hidden": true
   },
   "outputs": [],
   "source": []
  },
  {
   "cell_type": "markdown",
   "id": "d7ed6862",
   "metadata": {
    "heading_collapsed": true,
    "jp-MarkdownHeadingCollapsed": true
   },
   "source": [
    "## [Design Pattern](https://www.youtube.com/playlist?list=PLC0nd42SBTaNuP4iB4L6SJlMaHE71FG6N)"
   ]
  },
  {
   "cell_type": "markdown",
   "id": "15f0540a",
   "metadata": {
    "heading_collapsed": true,
    "jp-MarkdownHeadingCollapsed": true
   },
   "source": [
    "## Publishing on PyPI"
   ]
  },
  {
   "cell_type": "markdown",
   "id": "a6d37bd4",
   "metadata": {
    "hidden": true
   },
   "source": [
    "- [Packaging Python Projects](https://packaging.python.org/tutorials/packaging-projects/)\n",
    "- [python packaging](https://www.youtube.com/watch?v=bfyIrX4_yL8)\n",
    "\n",
    "- [Introduction to Makefiles](https://www.youtube.com/watch?v=_r7i5X0rXJk)"
   ]
  },
  {
   "cell_type": "markdown",
   "id": "fce3cd37",
   "metadata": {
    "hidden": true
   },
   "source": [
    "- setuptools\n",
    "- distutils"
   ]
  },
  {
   "cell_type": "markdown",
   "id": "dbbcc91f",
   "metadata": {
    "hidden": true
   },
   "source": [
    "- [Building and Distributing Packages with Setuptools](https://setuptools.pypa.io/en/latest/userguide/)\n",
    "    - [entry_point](https://setuptools.pypa.io/en/latest/userguide/entry_point.html)\n",
    " \n",
    "- [Command Line Scripts](https://python-packaging.readthedocs.io/en/latest/command-line-scripts.html)"
   ]
  },
  {
   "cell_type": "code",
   "execution_count": null,
   "id": "0df80fe0",
   "metadata": {
    "hidden": true
   },
   "outputs": [],
   "source": [
    "from distutils.core import setup\n",
    "from setuptools import find_packages, setup\n",
    "# from Cython.Build import cythonize"
   ]
  },
  {
   "cell_type": "code",
   "execution_count": null,
   "id": "aa2f2616",
   "metadata": {
    "hidden": true
   },
   "outputs": [],
   "source": []
  }
 ],
 "metadata": {
  "kernelspec": {
   "display_name": "Python 3 (ipykernel)",
   "language": "python",
   "name": "python3"
  },
  "language_info": {
   "codemirror_mode": {
    "name": "ipython",
    "version": 3
   },
   "file_extension": ".py",
   "mimetype": "text/x-python",
   "name": "python",
   "nbconvert_exporter": "python",
   "pygments_lexer": "ipython3",
   "version": "3.9.6"
  },
  "toc": {
   "base_numbering": 1,
   "nav_menu": {},
   "number_sections": false,
   "sideBar": true,
   "skip_h1_title": true,
   "title_cell": "Table of Contents",
   "title_sidebar": "Contents",
   "toc_cell": true,
   "toc_position": {},
   "toc_section_display": true,
   "toc_window_display": false
  }
 },
 "nbformat": 4,
 "nbformat_minor": 5
}
